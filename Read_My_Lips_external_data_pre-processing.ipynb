{
  "nbformat": 4,
  "nbformat_minor": 0,
  "metadata": {
    "colab": {
      "provenance": [],
      "collapsed_sections": [
        "jtCMrvDhTd1F",
        "NnE1KN6NTc94"
      ],
      "machine_shape": "hm",
      "gpuType": "A100"
    },
    "kernelspec": {
      "name": "python3",
      "display_name": "Python 3"
    },
    "language_info": {
      "name": "python"
    },
    "accelerator": "GPU"
  },
  "cells": [
    {
      "cell_type": "markdown",
      "source": [
        "# Pre Training"
      ],
      "metadata": {
        "id": "ZZBy6hxrRbNt"
      }
    },
    {
      "cell_type": "markdown",
      "source": [
        "## Install Dependencies"
      ],
      "metadata": {
        "id": "m5WYoaX3Ronb"
      }
    },
    {
      "cell_type": "code",
      "source": [
        "import locale\n",
        "def getpreferredencoding(do_setlocale = True):\n",
        "    return \"UTF-8\"\n",
        "locale.getpreferredencoding = getpreferredencoding"
      ],
      "metadata": {
        "id": "CZOEfzfh-3Xa"
      },
      "execution_count": null,
      "outputs": []
    },
    {
      "cell_type": "code",
      "source": [
        "! pip install -q Levenshtein\n",
        "! python -q -m spacy download en_core_web_trf"
      ],
      "metadata": {
        "colab": {
          "base_uri": "https://localhost:8080/"
        },
        "id": "V_WLZvKL-4Dz",
        "outputId": "962a1aa1-2d00-4164-df06-779488fa914c"
      },
      "execution_count": null,
      "outputs": [
        {
          "output_type": "stream",
          "name": "stdout",
          "text": [
            "2023-07-15 15:10:09.637950: I tensorflow/core/util/port.cc:110] oneDNN custom operations are on. You may see slightly different numerical results due to floating-point round-off errors from different computation orders. To turn them off, set the environment variable `TF_ENABLE_ONEDNN_OPTS=0`.\n",
            "2023-07-15 15:10:09.695559: I tensorflow/core/platform/cpu_feature_guard.cc:182] This TensorFlow binary is optimized to use available CPU instructions in performance-critical operations.\n",
            "To enable the following instructions: AVX2 AVX512F AVX512_VNNI FMA, in other operations, rebuild TensorFlow with the appropriate compiler flags.\n",
            "2023-07-15 15:10:10.756104: W tensorflow/compiler/tf2tensorrt/utils/py_utils.cc:38] TF-TRT Warning: Could not find TensorRT\n",
            "Collecting en-core-web-trf==3.5.0\n",
            "  Downloading https://github.com/explosion/spacy-models/releases/download/en_core_web_trf-3.5.0/en_core_web_trf-3.5.0-py3-none-any.whl (460.3 MB)\n",
            "\u001b[2K     \u001b[90m━━━━━━━━━━━━━━━━━━━━━━━━━━━━━━━━━━━━━━━\u001b[0m \u001b[32m460.3/460.3 MB\u001b[0m \u001b[31m2.2 MB/s\u001b[0m eta \u001b[36m0:00:00\u001b[0m\n",
            "\u001b[?25hRequirement already satisfied: spacy<3.6.0,>=3.5.0 in /usr/local/lib/python3.10/dist-packages (from en-core-web-trf==3.5.0) (3.5.4)\n",
            "Requirement already satisfied: spacy-transformers<1.3.0,>=1.2.0.dev0 in /usr/local/lib/python3.10/dist-packages (from en-core-web-trf==3.5.0) (1.2.5)\n",
            "Requirement already satisfied: spacy-legacy<3.1.0,>=3.0.11 in /usr/local/lib/python3.10/dist-packages (from spacy<3.6.0,>=3.5.0->en-core-web-trf==3.5.0) (3.0.12)\n",
            "Requirement already satisfied: spacy-loggers<2.0.0,>=1.0.0 in /usr/local/lib/python3.10/dist-packages (from spacy<3.6.0,>=3.5.0->en-core-web-trf==3.5.0) (1.0.4)\n",
            "Requirement already satisfied: murmurhash<1.1.0,>=0.28.0 in /usr/local/lib/python3.10/dist-packages (from spacy<3.6.0,>=3.5.0->en-core-web-trf==3.5.0) (1.0.9)\n",
            "Requirement already satisfied: cymem<2.1.0,>=2.0.2 in /usr/local/lib/python3.10/dist-packages (from spacy<3.6.0,>=3.5.0->en-core-web-trf==3.5.0) (2.0.7)\n",
            "Requirement already satisfied: preshed<3.1.0,>=3.0.2 in /usr/local/lib/python3.10/dist-packages (from spacy<3.6.0,>=3.5.0->en-core-web-trf==3.5.0) (3.0.8)\n",
            "Requirement already satisfied: thinc<8.2.0,>=8.1.8 in /usr/local/lib/python3.10/dist-packages (from spacy<3.6.0,>=3.5.0->en-core-web-trf==3.5.0) (8.1.10)\n",
            "Requirement already satisfied: wasabi<1.2.0,>=0.9.1 in /usr/local/lib/python3.10/dist-packages (from spacy<3.6.0,>=3.5.0->en-core-web-trf==3.5.0) (1.1.2)\n",
            "Requirement already satisfied: srsly<3.0.0,>=2.4.3 in /usr/local/lib/python3.10/dist-packages (from spacy<3.6.0,>=3.5.0->en-core-web-trf==3.5.0) (2.4.6)\n",
            "Requirement already satisfied: catalogue<2.1.0,>=2.0.6 in /usr/local/lib/python3.10/dist-packages (from spacy<3.6.0,>=3.5.0->en-core-web-trf==3.5.0) (2.0.8)\n",
            "Requirement already satisfied: typer<0.10.0,>=0.3.0 in /usr/local/lib/python3.10/dist-packages (from spacy<3.6.0,>=3.5.0->en-core-web-trf==3.5.0) (0.9.0)\n",
            "Requirement already satisfied: pathy>=0.10.0 in /usr/local/lib/python3.10/dist-packages (from spacy<3.6.0,>=3.5.0->en-core-web-trf==3.5.0) (0.10.2)\n",
            "Requirement already satisfied: smart-open<7.0.0,>=5.2.1 in /usr/local/lib/python3.10/dist-packages (from spacy<3.6.0,>=3.5.0->en-core-web-trf==3.5.0) (6.3.0)\n",
            "Requirement already satisfied: tqdm<5.0.0,>=4.38.0 in /usr/local/lib/python3.10/dist-packages (from spacy<3.6.0,>=3.5.0->en-core-web-trf==3.5.0) (4.65.0)\n",
            "Requirement already satisfied: numpy>=1.15.0 in /usr/local/lib/python3.10/dist-packages (from spacy<3.6.0,>=3.5.0->en-core-web-trf==3.5.0) (1.22.4)\n",
            "Requirement already satisfied: requests<3.0.0,>=2.13.0 in /usr/local/lib/python3.10/dist-packages (from spacy<3.6.0,>=3.5.0->en-core-web-trf==3.5.0) (2.27.1)\n",
            "Requirement already satisfied: pydantic!=1.8,!=1.8.1,<1.11.0,>=1.7.4 in /usr/local/lib/python3.10/dist-packages (from spacy<3.6.0,>=3.5.0->en-core-web-trf==3.5.0) (1.10.11)\n",
            "Requirement already satisfied: jinja2 in /usr/local/lib/python3.10/dist-packages (from spacy<3.6.0,>=3.5.0->en-core-web-trf==3.5.0) (3.1.2)\n",
            "Requirement already satisfied: setuptools in /usr/local/lib/python3.10/dist-packages (from spacy<3.6.0,>=3.5.0->en-core-web-trf==3.5.0) (67.7.2)\n",
            "Requirement already satisfied: packaging>=20.0 in /usr/local/lib/python3.10/dist-packages (from spacy<3.6.0,>=3.5.0->en-core-web-trf==3.5.0) (23.1)\n",
            "Requirement already satisfied: langcodes<4.0.0,>=3.2.0 in /usr/local/lib/python3.10/dist-packages (from spacy<3.6.0,>=3.5.0->en-core-web-trf==3.5.0) (3.3.0)\n",
            "Requirement already satisfied: transformers<4.31.0,>=3.4.0 in /usr/local/lib/python3.10/dist-packages (from spacy-transformers<1.3.0,>=1.2.0.dev0->en-core-web-trf==3.5.0) (4.30.2)\n",
            "Requirement already satisfied: torch>=1.8.0 in /usr/local/lib/python3.10/dist-packages (from spacy-transformers<1.3.0,>=1.2.0.dev0->en-core-web-trf==3.5.0) (2.0.1+cu118)\n",
            "Requirement already satisfied: spacy-alignments<1.0.0,>=0.7.2 in /usr/local/lib/python3.10/dist-packages (from spacy-transformers<1.3.0,>=1.2.0.dev0->en-core-web-trf==3.5.0) (0.9.0)\n",
            "Requirement already satisfied: typing-extensions>=4.2.0 in /usr/local/lib/python3.10/dist-packages (from pydantic!=1.8,!=1.8.1,<1.11.0,>=1.7.4->spacy<3.6.0,>=3.5.0->en-core-web-trf==3.5.0) (4.7.1)\n",
            "Requirement already satisfied: urllib3<1.27,>=1.21.1 in /usr/local/lib/python3.10/dist-packages (from requests<3.0.0,>=2.13.0->spacy<3.6.0,>=3.5.0->en-core-web-trf==3.5.0) (1.26.16)\n",
            "Requirement already satisfied: certifi>=2017.4.17 in /usr/local/lib/python3.10/dist-packages (from requests<3.0.0,>=2.13.0->spacy<3.6.0,>=3.5.0->en-core-web-trf==3.5.0) (2023.5.7)\n",
            "Requirement already satisfied: charset-normalizer~=2.0.0 in /usr/local/lib/python3.10/dist-packages (from requests<3.0.0,>=2.13.0->spacy<3.6.0,>=3.5.0->en-core-web-trf==3.5.0) (2.0.12)\n",
            "Requirement already satisfied: idna<4,>=2.5 in /usr/local/lib/python3.10/dist-packages (from requests<3.0.0,>=2.13.0->spacy<3.6.0,>=3.5.0->en-core-web-trf==3.5.0) (3.4)\n",
            "Requirement already satisfied: blis<0.8.0,>=0.7.8 in /usr/local/lib/python3.10/dist-packages (from thinc<8.2.0,>=8.1.8->spacy<3.6.0,>=3.5.0->en-core-web-trf==3.5.0) (0.7.9)\n",
            "Requirement already satisfied: confection<1.0.0,>=0.0.1 in /usr/local/lib/python3.10/dist-packages (from thinc<8.2.0,>=8.1.8->spacy<3.6.0,>=3.5.0->en-core-web-trf==3.5.0) (0.1.0)\n",
            "Requirement already satisfied: filelock in /usr/local/lib/python3.10/dist-packages (from torch>=1.8.0->spacy-transformers<1.3.0,>=1.2.0.dev0->en-core-web-trf==3.5.0) (3.12.2)\n",
            "Requirement already satisfied: sympy in /usr/local/lib/python3.10/dist-packages (from torch>=1.8.0->spacy-transformers<1.3.0,>=1.2.0.dev0->en-core-web-trf==3.5.0) (1.11.1)\n",
            "Requirement already satisfied: networkx in /usr/local/lib/python3.10/dist-packages (from torch>=1.8.0->spacy-transformers<1.3.0,>=1.2.0.dev0->en-core-web-trf==3.5.0) (3.1)\n",
            "Requirement already satisfied: triton==2.0.0 in /usr/local/lib/python3.10/dist-packages (from torch>=1.8.0->spacy-transformers<1.3.0,>=1.2.0.dev0->en-core-web-trf==3.5.0) (2.0.0)\n",
            "Requirement already satisfied: cmake in /usr/local/lib/python3.10/dist-packages (from triton==2.0.0->torch>=1.8.0->spacy-transformers<1.3.0,>=1.2.0.dev0->en-core-web-trf==3.5.0) (3.25.2)\n",
            "Requirement already satisfied: lit in /usr/local/lib/python3.10/dist-packages (from triton==2.0.0->torch>=1.8.0->spacy-transformers<1.3.0,>=1.2.0.dev0->en-core-web-trf==3.5.0) (16.0.6)\n",
            "Requirement already satisfied: huggingface-hub<1.0,>=0.14.1 in /usr/local/lib/python3.10/dist-packages (from transformers<4.31.0,>=3.4.0->spacy-transformers<1.3.0,>=1.2.0.dev0->en-core-web-trf==3.5.0) (0.16.4)\n",
            "Requirement already satisfied: pyyaml>=5.1 in /usr/local/lib/python3.10/dist-packages (from transformers<4.31.0,>=3.4.0->spacy-transformers<1.3.0,>=1.2.0.dev0->en-core-web-trf==3.5.0) (6.0)\n",
            "Requirement already satisfied: regex!=2019.12.17 in /usr/local/lib/python3.10/dist-packages (from transformers<4.31.0,>=3.4.0->spacy-transformers<1.3.0,>=1.2.0.dev0->en-core-web-trf==3.5.0) (2022.10.31)\n",
            "Requirement already satisfied: tokenizers!=0.11.3,<0.14,>=0.11.1 in /usr/local/lib/python3.10/dist-packages (from transformers<4.31.0,>=3.4.0->spacy-transformers<1.3.0,>=1.2.0.dev0->en-core-web-trf==3.5.0) (0.13.3)\n",
            "Requirement already satisfied: safetensors>=0.3.1 in /usr/local/lib/python3.10/dist-packages (from transformers<4.31.0,>=3.4.0->spacy-transformers<1.3.0,>=1.2.0.dev0->en-core-web-trf==3.5.0) (0.3.1)\n",
            "Requirement already satisfied: click<9.0.0,>=7.1.1 in /usr/local/lib/python3.10/dist-packages (from typer<0.10.0,>=0.3.0->spacy<3.6.0,>=3.5.0->en-core-web-trf==3.5.0) (8.1.4)\n",
            "Requirement already satisfied: MarkupSafe>=2.0 in /usr/local/lib/python3.10/dist-packages (from jinja2->spacy<3.6.0,>=3.5.0->en-core-web-trf==3.5.0) (2.1.3)\n",
            "Requirement already satisfied: fsspec in /usr/local/lib/python3.10/dist-packages (from huggingface-hub<1.0,>=0.14.1->transformers<4.31.0,>=3.4.0->spacy-transformers<1.3.0,>=1.2.0.dev0->en-core-web-trf==3.5.0) (2023.6.0)\n",
            "Requirement already satisfied: mpmath>=0.19 in /usr/local/lib/python3.10/dist-packages (from sympy->torch>=1.8.0->spacy-transformers<1.3.0,>=1.2.0.dev0->en-core-web-trf==3.5.0) (1.3.0)\n",
            "\u001b[38;5;2m✔ Download and installation successful\u001b[0m\n",
            "You can now load the package via spacy.load('en_core_web_trf')\n"
          ]
        }
      ]
    },
    {
      "cell_type": "code",
      "source": [
        "import os\n",
        "import cv2\n",
        "import tensorflow as tf\n",
        "import numpy as np\n",
        "from typing import List\n",
        "from matplotlib import pyplot as plt\n",
        "import imageio\n",
        "import gdown\n",
        "import tempfile\n",
        "import shutil\n",
        "\n",
        "from keras.models import Sequential\n",
        "from keras.layers import Conv3D, LSTM, Dense, Dropout, Bidirectional, MaxPool3D, Activation, Reshape, SpatialDropout3D, BatchNormalization, TimeDistributed, Flatten\n",
        "from keras.optimizers import Adam\n",
        "from keras.callbacks import ModelCheckpoint, LearningRateScheduler\n",
        "\n",
        "from sklearn.metrics import accuracy_score\n",
        "from scipy import spatial\n",
        "import en_core_web_sm\n",
        "import Levenshtein\n",
        "import nltk\n",
        "import dlib\n",
        "from datetime import datetime\n",
        "\n",
        "from skimage import exposure\n",
        "\n"
      ],
      "metadata": {
        "id": "3zrmc7hG-eg7"
      },
      "execution_count": null,
      "outputs": []
    },
    {
      "cell_type": "markdown",
      "source": [
        "## Import the Data"
      ],
      "metadata": {
        "id": "f13BhtCxRi10"
      }
    },
    {
      "cell_type": "code",
      "source": [
        "! gdown 16ievG8aYUBMbn-6_docyrPD_4bLrJqtJ"
      ],
      "metadata": {
        "colab": {
          "base_uri": "https://localhost:8080/"
        },
        "id": "vnCsEVB5Mjoq",
        "outputId": "f8dd4acf-acbc-47ff-c1d4-58687361a54d"
      },
      "execution_count": null,
      "outputs": [
        {
          "output_type": "stream",
          "name": "stdout",
          "text": [
            "Downloading...\n",
            "From: https://drive.google.com/uc?id=16ievG8aYUBMbn-6_docyrPD_4bLrJqtJ\n",
            "To: /content/processed_data_with_alignments.zip\n",
            "100% 639M/639M [00:06<00:00, 99.3MB/s]\n"
          ]
        }
      ]
    },
    {
      "cell_type": "code",
      "source": [
        "! unzip -q processed_data_with_alignments -d /content/data"
      ],
      "metadata": {
        "id": "tPRSI_07MsLG",
        "colab": {
          "base_uri": "https://localhost:8080/"
        },
        "outputId": "5b3132e2-93af-4813-b8a9-c7888699f643"
      },
      "execution_count": null,
      "outputs": [
        {
          "output_type": "stream",
          "name": "stdout",
          "text": [
            "replace /content/data/alignments/s17/lrbq1a.align? [y]es, [n]o, [A]ll, [N]one, [r]ename: "
          ]
        }
      ]
    },
    {
      "cell_type": "markdown",
      "source": [
        "## Define Variables"
      ],
      "metadata": {
        "id": "pDAlqrVARzfh"
      }
    },
    {
      "cell_type": "code",
      "source": [
        "selected_speakers = np.arange(30, 35)"
      ],
      "metadata": {
        "id": "jCuMQgikARq8"
      },
      "execution_count": null,
      "outputs": []
    },
    {
      "cell_type": "code",
      "source": [
        "invalid_speakers = [21,8,28]"
      ],
      "metadata": {
        "id": "upiPT_aiNHfI"
      },
      "execution_count": null,
      "outputs": []
    },
    {
      "cell_type": "code",
      "source": [
        "speakers = [speaker for speaker in range(1, 36) if speaker in selected_speakers and speaker not in invalid_speakers]"
      ],
      "metadata": {
        "id": "Wk1a-hEmNC8r"
      },
      "execution_count": null,
      "outputs": []
    },
    {
      "cell_type": "code",
      "source": [
        "print(speakers)"
      ],
      "metadata": {
        "colab": {
          "base_uri": "https://localhost:8080/"
        },
        "id": "4ciYNiH4NM3C",
        "outputId": "13589944-b388-4f14-f7ed-cd94e4f5822b"
      },
      "execution_count": null,
      "outputs": [
        {
          "output_type": "stream",
          "name": "stdout",
          "text": [
            "[30, 31, 32, 33, 34]\n"
          ]
        }
      ]
    },
    {
      "cell_type": "code",
      "source": [
        "cache_dir = '/content/data'\n",
        "alignment_dir = f'{cache_dir}/alignments'\n",
        "videos_dir = f'{cache_dir}/videos'"
      ],
      "metadata": {
        "id": "wAYMeOHyAZJp"
      },
      "execution_count": null,
      "outputs": []
    },
    {
      "cell_type": "code",
      "source": [
        "vocab = [x for x in \"abcdefghijklmnopqrstuvwxyz'?!123456789 \"]"
      ],
      "metadata": {
        "id": "hU2ktXqBAZs2"
      },
      "execution_count": null,
      "outputs": []
    },
    {
      "cell_type": "code",
      "source": [
        "char_to_num = tf.keras.layers.StringLookup(vocabulary=vocab, oov_token=\"\")\n",
        "\n",
        "num_to_char = tf.keras.layers.StringLookup(\n",
        "    vocabulary=char_to_num.get_vocabulary(), oov_token=\"\", invert=True\n",
        ")\n",
        "\n",
        "print(\n",
        "    f\"The vocabulary is: {char_to_num.get_vocabulary()} \"\n",
        "    f\"(size ={char_to_num.vocabulary_size()})\"\n",
        ")"
      ],
      "metadata": {
        "colab": {
          "base_uri": "https://localhost:8080/"
        },
        "id": "U1z10mO3Akqb",
        "outputId": "43023f40-8f09-4776-f0f1-f2a61af1f8ed"
      },
      "execution_count": null,
      "outputs": [
        {
          "output_type": "stream",
          "name": "stdout",
          "text": [
            "The vocabulary is: ['', 'a', 'b', 'c', 'd', 'e', 'f', 'g', 'h', 'i', 'j', 'k', 'l', 'm', 'n', 'o', 'p', 'q', 'r', 's', 't', 'u', 'v', 'w', 'x', 'y', 'z', \"'\", '?', '!', '1', '2', '3', '4', '5', '6', '7', '8', '9', ' '] (size =40)\n"
          ]
        }
      ]
    },
    {
      "cell_type": "code",
      "source": [
        "bad_videos = []"
      ],
      "metadata": {
        "id": "WXnpLANmPgd5"
      },
      "execution_count": null,
      "outputs": []
    },
    {
      "cell_type": "markdown",
      "source": [
        "## Load the Data and Alignments"
      ],
      "metadata": {
        "id": "dBHQVUiyR73t"
      }
    },
    {
      "cell_type": "code",
      "source": [
        "def load_video(path):\n",
        "  cap = cv2.VideoCapture(path)\n",
        "  frames_count = int(cap.get(cv2.CAP_PROP_FRAME_COUNT))\n",
        "\n",
        "  frames = []\n",
        "\n",
        "  try:\n",
        "    for _ in range(frames_count):\n",
        "        ret, frame = cap.read()\n",
        "        frame = tf.image.rgb_to_grayscale(frame)\n",
        "        frames.append(frame)\n",
        "  except:\n",
        "    bad_videos.append(path)\n",
        "    print(\"error loading video\")\n",
        "    raise\n",
        "\n",
        "  cap.release()\n",
        "  mean = tf.math.reduce_mean(frames)\n",
        "  std = tf.math.reduce_std(tf.cast(frames, tf.float32))\n",
        "\n",
        "  return tf.cast((frames - mean), tf.float32) / std"
      ],
      "metadata": {
        "id": "ze6SPrgWPVnN"
      },
      "execution_count": null,
      "outputs": []
    },
    {
      "cell_type": "code",
      "source": [
        "def load_alignment(path):\n",
        "    with open(path, 'r') as f:\n",
        "        lines = f.readlines()\n",
        "    tokens = []\n",
        "    for line in lines:\n",
        "        line = line.split()\n",
        "        if line[2] != 'sil':\n",
        "            tokens = [*tokens,' ',line[2]]\n",
        "    return char_to_num(tf.reshape(tf.strings.unicode_split(tokens, input_encoding='UTF-8'), (-1)))[1:]"
      ],
      "metadata": {
        "id": "cUMhTsQcPl_E"
      },
      "execution_count": null,
      "outputs": []
    },
    {
      "cell_type": "code",
      "source": [
        "def load_data(video_path):\n",
        "    video_path = bytes.decode(video_path.numpy())\n",
        "    frames = load_video(video_path)\n",
        "    alignment_path = video_path.replace(\"videos\",\"alignments\").replace(\"mp4\",\"align\")\n",
        "    alignments = load_alignment(alignment_path)\n",
        "\n",
        "    return frames, alignments"
      ],
      "metadata": {
        "id": "rttmwG5RP1yS"
      },
      "execution_count": null,
      "outputs": []
    },
    {
      "cell_type": "code",
      "source": [
        "def mappable_function(path):\n",
        "    result = tf.py_function(load_data, [path], (tf.float32, tf.int64))\n",
        "    return result"
      ],
      "metadata": {
        "id": "d36P-QyUPywO"
      },
      "execution_count": null,
      "outputs": []
    },
    {
      "cell_type": "markdown",
      "source": [
        "## Define Generic Functions"
      ],
      "metadata": {
        "id": "APMczji2V5cQ"
      }
    },
    {
      "cell_type": "markdown",
      "source": [
        "### Functions For Metrics"
      ],
      "metadata": {
        "id": "Plg4M0-pWCXc"
      }
    },
    {
      "cell_type": "markdown",
      "source": [
        "**`tensors_to_strings`** - A function which converts tensors to a string"
      ],
      "metadata": {
        "id": "yCbajK_WWJZj"
      }
    },
    {
      "cell_type": "code",
      "source": [
        "def tensors_to_strings(tensor_list):\n",
        "    string_list = []\n",
        "    for tensor in tensor_list:\n",
        "        # Convert tensor to string using K.eval()\n",
        "        string_value = tf.keras.backend.eval(tensor).decode('utf-8')  # Assuming UTF-8 encoding\n",
        "        string_list.append(string_value)\n",
        "\n",
        "    return string_list"
      ],
      "metadata": {
        "id": "JSzLmAXcWHMi"
      },
      "execution_count": null,
      "outputs": []
    },
    {
      "cell_type": "markdown",
      "source": [
        "**`nlp_accuracy`** - A function which calculates the accuracy using nlp"
      ],
      "metadata": {
        "id": "kYI0UlacWsl-"
      }
    },
    {
      "cell_type": "code",
      "source": [
        "def nlp_accuracy(y_true_string, y_pred_string):\n",
        "  nlp = en_core_web_sm.load()\n",
        "  result = 0\n",
        "\n",
        "  for true, pred in zip(y_true_string, y_pred_string):\n",
        "    true_doc, pred_doc = nlp(true).vector, nlp(pred).vector\n",
        "    result += (1 - spatial.distance.cosine(true_doc, pred_doc))\n",
        "\n",
        "  avg_accuracy = result / len(y_true_string)\n",
        "  return avg_accuracy"
      ],
      "metadata": {
        "id": "ifTFAvAbWsR1"
      },
      "execution_count": null,
      "outputs": []
    },
    {
      "cell_type": "markdown",
      "source": [
        "**`levenstein_accuracy`** - A function which calculates and prints the accuracy using Levenstein"
      ],
      "metadata": {
        "id": "Taxc24-rXnS3"
      }
    },
    {
      "cell_type": "code",
      "source": [
        "def levenstein_accuracy(y_true_string, y_pred_string):\n",
        "  similarity = 0\n",
        "\n",
        "  for true, pred in zip(y_true_string, y_pred_string):\n",
        "    distance = Levenshtein.distance(true, pred)\n",
        "    max_length = max(len(true), len(pred))\n",
        "    similarity += (1 - (distance / max_length))\n",
        "    threshold = 0.8\n",
        "\n",
        "  avg_accuracy = similarity / len(y_true_string)\n",
        "  return avg_accuracy"
      ],
      "metadata": {
        "id": "pzuPzQfLXnlY"
      },
      "execution_count": null,
      "outputs": []
    },
    {
      "cell_type": "markdown",
      "source": [
        "*Wer and Cer accuracy*\n",
        "\n",
        "**`calculate_wer`** - A function which calculates the wer accuracy for a single sentence\n",
        "\n",
        "**`calculate_cer`** - A function which calculates the cer accuracy for a single sentence\n",
        "\n",
        "**`wer_and_cer_accuracy`** - A function which calculates the average wer Cer accuracy"
      ],
      "metadata": {
        "id": "MjBbp5_LYPhl"
      }
    },
    {
      "cell_type": "code",
      "source": [
        "def calculate_wer(reference, hypothesis):\n",
        "    reference_tokens = reference.lower().split()\n",
        "    hypothesis_tokens = hypothesis.lower().split()\n",
        "\n",
        "    distance = nltk.edit_distance(reference_tokens, hypothesis_tokens)\n",
        "    wer = distance / len(reference_tokens)\n",
        "    return wer\n",
        "\n",
        "def calculate_cer(reference, hypothesis):\n",
        "    reference_chars = list(reference.lower())\n",
        "    hypothesis_chars = list(hypothesis.lower())\n",
        "\n",
        "    distance = nltk.edit_distance(reference_chars, hypothesis_chars)\n",
        "    cer = distance / len(reference_chars)\n",
        "    return cer\n",
        "\n",
        "def wer_and_cer_accuracy(y_true_string, y_pred_string):\n",
        "  wer_score, cer_score = 0, 0\n",
        "  for true, pred in zip(y_true_string, y_pred_string):\n",
        "    wer_score += calculate_wer(true, pred)\n",
        "    cer_score += calculate_cer(true, pred)\n",
        "\n",
        "  avg_wer = wer_score / len(y_true_string)\n",
        "  avg_cer = cer_score / len(y_true_string)\n",
        "\n",
        "  return avg_wer, avg_cer"
      ],
      "metadata": {
        "id": "YNOY_mXAYQAZ"
      },
      "execution_count": null,
      "outputs": []
    },
    {
      "cell_type": "markdown",
      "source": [
        "## Create Train and Test Datasets"
      ],
      "metadata": {
        "id": "NGs5mGlgA5K9"
      }
    },
    {
      "cell_type": "markdown",
      "source": [
        "### Augmentation functions"
      ],
      "metadata": {
        "id": "lOcQJaUzRUUx"
      }
    },
    {
      "cell_type": "code",
      "source": [
        "def apply_brightness_augmentation(frames):\n",
        "    brightness_factor = np.random.uniform(0.7, 1.3)\n",
        "    return frames * brightness_factor"
      ],
      "metadata": {
        "trusted": true,
        "id": "J3BTvoPD6yBD"
      },
      "execution_count": null,
      "outputs": []
    },
    {
      "cell_type": "code",
      "source": [
        "def apply_flipping_augmentation(frames):\n",
        "   return tf.image.flip_left_right(frames)\n"
      ],
      "metadata": {
        "trusted": true,
        "id": "Y42LKtf86yBE"
      },
      "execution_count": null,
      "outputs": []
    },
    {
      "cell_type": "markdown",
      "source": [
        "### Data creation\n"
      ],
      "metadata": {
        "id": "ev5en-R0RcUT"
      }
    },
    {
      "cell_type": "code",
      "source": [
        "batch_size = 1\n",
        "train_percentage = 0.5\n",
        "\n",
        "data = tf.data.Dataset.list_files('./data/videos/*/*.mp4')\n",
        "data_count = len(data)\n",
        "print(data_count)\n",
        "preprocessed_data = data.shuffle(data_count, reshuffle_each_iteration=False).map(mappable_function).prefetch(tf.data.AUTOTUNE)\n",
        "\n",
        "train_count = int(train_percentage * data_count)\n",
        "print(train_count)\n",
        "# Added for split\n",
        "# Batch size is 2 hard coded, bigger batch sizes caused problems\n",
        "train = preprocessed_data.take(train_count).padded_batch(1, padded_shapes=([75,None,None,None],[40])).take(2)\n",
        "test = preprocessed_data.skip(train_count).padded_batch(1, padded_shapes=([75,None,None,None],[40])).take(2)"
      ],
      "metadata": {
        "colab": {
          "base_uri": "https://localhost:8080/"
        },
        "id": "itNwQZ4-BAAD",
        "outputId": "15f9859c-72d3-4628-a2c8-dea953d297b9"
      },
      "execution_count": null,
      "outputs": [
        {
          "output_type": "stream",
          "name": "stdout",
          "text": [
            "30852\n",
            "15426\n"
          ]
        }
      ]
    },
    {
      "cell_type": "code",
      "source": [
        "print('train', len(train), 'test', len(test))"
      ],
      "metadata": {
        "colab": {
          "base_uri": "https://localhost:8080/"
        },
        "id": "tIyU-mmja1Ds",
        "outputId": "b68ee56c-ec16-4015-8340-329d73fb68d0"
      },
      "execution_count": null,
      "outputs": [
        {
          "output_type": "stream",
          "name": "stdout",
          "text": [
            "train 2 test 2\n"
          ]
        }
      ]
    },
    {
      "cell_type": "code",
      "source": [
        "# Take an example\n",
        "batch = train.as_numpy_iterator().next()\n",
        "batch_videos, batch_alignments = batch\n",
        "sample_video = batch_videos[0]\n",
        "sample_alignments = batch_alignments[0]\n",
        "\n",
        "# Save the example video as gif\n",
        "imageio.mimsave('./animation.gif', sample_video, fps=10)"
      ],
      "metadata": {
        "id": "eAXNUr1-Bl1t",
        "colab": {
          "base_uri": "https://localhost:8080/"
        },
        "outputId": "489e0a47-98ce-4c4b-ad7f-7e037d9cb0c9"
      },
      "execution_count": null,
      "outputs": [
        {
          "output_type": "stream",
          "name": "stderr",
          "text": [
            "WARNING:imageio:Lossy conversion from float32 to uint8. Range [0.0, 13.533552169799805]. Convert image to uint8 prior to saving to suppress this warning.\n",
            "WARNING:imageio:Lossy conversion from float32 to uint8. Range [0.0, 13.533552169799805]. Convert image to uint8 prior to saving to suppress this warning.\n",
            "WARNING:imageio:Lossy conversion from float32 to uint8. Range [0.0, 13.533552169799805]. Convert image to uint8 prior to saving to suppress this warning.\n",
            "WARNING:imageio:Lossy conversion from float32 to uint8. Range [0.0, 13.533552169799805]. Convert image to uint8 prior to saving to suppress this warning.\n",
            "WARNING:imageio:Lossy conversion from float32 to uint8. Range [0.0, 13.533552169799805]. Convert image to uint8 prior to saving to suppress this warning.\n",
            "WARNING:imageio:Lossy conversion from float32 to uint8. Range [0.0, 13.533552169799805]. Convert image to uint8 prior to saving to suppress this warning.\n",
            "WARNING:imageio:Lossy conversion from float32 to uint8. Range [0.0, 13.533552169799805]. Convert image to uint8 prior to saving to suppress this warning.\n",
            "WARNING:imageio:Lossy conversion from float32 to uint8. Range [0.0, 13.533552169799805]. Convert image to uint8 prior to saving to suppress this warning.\n",
            "WARNING:imageio:Lossy conversion from float32 to uint8. Range [0.0, 13.533552169799805]. Convert image to uint8 prior to saving to suppress this warning.\n",
            "WARNING:imageio:Lossy conversion from float32 to uint8. Range [0.0, 13.533552169799805]. Convert image to uint8 prior to saving to suppress this warning.\n",
            "WARNING:imageio:Lossy conversion from float32 to uint8. Range [0.0, 13.533552169799805]. Convert image to uint8 prior to saving to suppress this warning.\n",
            "WARNING:imageio:Lossy conversion from float32 to uint8. Range [0.0, 13.533552169799805]. Convert image to uint8 prior to saving to suppress this warning.\n",
            "WARNING:imageio:Lossy conversion from float32 to uint8. Range [0.0, 13.533552169799805]. Convert image to uint8 prior to saving to suppress this warning.\n",
            "WARNING:imageio:Lossy conversion from float32 to uint8. Range [0.0, 13.533552169799805]. Convert image to uint8 prior to saving to suppress this warning.\n",
            "WARNING:imageio:Lossy conversion from float32 to uint8. Range [0.0, 13.533552169799805]. Convert image to uint8 prior to saving to suppress this warning.\n",
            "WARNING:imageio:Lossy conversion from float32 to uint8. Range [0.0, 13.533552169799805]. Convert image to uint8 prior to saving to suppress this warning.\n",
            "WARNING:imageio:Lossy conversion from float32 to uint8. Range [0.0, 13.533552169799805]. Convert image to uint8 prior to saving to suppress this warning.\n",
            "WARNING:imageio:Lossy conversion from float32 to uint8. Range [0.0, 13.533552169799805]. Convert image to uint8 prior to saving to suppress this warning.\n",
            "WARNING:imageio:Lossy conversion from float32 to uint8. Range [0.0, 13.533552169799805]. Convert image to uint8 prior to saving to suppress this warning.\n",
            "WARNING:imageio:Lossy conversion from float32 to uint8. Range [0.0, 13.533552169799805]. Convert image to uint8 prior to saving to suppress this warning.\n",
            "WARNING:imageio:Lossy conversion from float32 to uint8. Range [0.0, 13.533552169799805]. Convert image to uint8 prior to saving to suppress this warning.\n",
            "WARNING:imageio:Lossy conversion from float32 to uint8. Range [0.0, 13.533552169799805]. Convert image to uint8 prior to saving to suppress this warning.\n",
            "WARNING:imageio:Lossy conversion from float32 to uint8. Range [0.0, 13.533552169799805]. Convert image to uint8 prior to saving to suppress this warning.\n",
            "WARNING:imageio:Lossy conversion from float32 to uint8. Range [0.0, 13.533552169799805]. Convert image to uint8 prior to saving to suppress this warning.\n",
            "WARNING:imageio:Lossy conversion from float32 to uint8. Range [0.0, 13.533552169799805]. Convert image to uint8 prior to saving to suppress this warning.\n",
            "WARNING:imageio:Lossy conversion from float32 to uint8. Range [0.0, 13.533552169799805]. Convert image to uint8 prior to saving to suppress this warning.\n",
            "WARNING:imageio:Lossy conversion from float32 to uint8. Range [0.0, 13.533552169799805]. Convert image to uint8 prior to saving to suppress this warning.\n",
            "WARNING:imageio:Lossy conversion from float32 to uint8. Range [0.0, 13.533552169799805]. Convert image to uint8 prior to saving to suppress this warning.\n",
            "WARNING:imageio:Lossy conversion from float32 to uint8. Range [0.0, 13.533552169799805]. Convert image to uint8 prior to saving to suppress this warning.\n",
            "WARNING:imageio:Lossy conversion from float32 to uint8. Range [0.0, 13.533552169799805]. Convert image to uint8 prior to saving to suppress this warning.\n",
            "WARNING:imageio:Lossy conversion from float32 to uint8. Range [0.0, 13.533552169799805]. Convert image to uint8 prior to saving to suppress this warning.\n",
            "WARNING:imageio:Lossy conversion from float32 to uint8. Range [0.0, 13.533552169799805]. Convert image to uint8 prior to saving to suppress this warning.\n",
            "WARNING:imageio:Lossy conversion from float32 to uint8. Range [0.0, 13.533552169799805]. Convert image to uint8 prior to saving to suppress this warning.\n",
            "WARNING:imageio:Lossy conversion from float32 to uint8. Range [0.0, 13.533552169799805]. Convert image to uint8 prior to saving to suppress this warning.\n",
            "WARNING:imageio:Lossy conversion from float32 to uint8. Range [0.0, 13.533552169799805]. Convert image to uint8 prior to saving to suppress this warning.\n",
            "WARNING:imageio:Lossy conversion from float32 to uint8. Range [0.0, 13.533552169799805]. Convert image to uint8 prior to saving to suppress this warning.\n",
            "WARNING:imageio:Lossy conversion from float32 to uint8. Range [0.0, 13.533552169799805]. Convert image to uint8 prior to saving to suppress this warning.\n",
            "WARNING:imageio:Lossy conversion from float32 to uint8. Range [0.0, 13.533552169799805]. Convert image to uint8 prior to saving to suppress this warning.\n",
            "WARNING:imageio:Lossy conversion from float32 to uint8. Range [0.0, 13.533552169799805]. Convert image to uint8 prior to saving to suppress this warning.\n",
            "WARNING:imageio:Lossy conversion from float32 to uint8. Range [0.0, 13.533552169799805]. Convert image to uint8 prior to saving to suppress this warning.\n",
            "WARNING:imageio:Lossy conversion from float32 to uint8. Range [0.0, 13.533552169799805]. Convert image to uint8 prior to saving to suppress this warning.\n",
            "WARNING:imageio:Lossy conversion from float32 to uint8. Range [0.0, 13.533552169799805]. Convert image to uint8 prior to saving to suppress this warning.\n",
            "WARNING:imageio:Lossy conversion from float32 to uint8. Range [0.0, 13.533552169799805]. Convert image to uint8 prior to saving to suppress this warning.\n",
            "WARNING:imageio:Lossy conversion from float32 to uint8. Range [0.0, 13.533552169799805]. Convert image to uint8 prior to saving to suppress this warning.\n",
            "WARNING:imageio:Lossy conversion from float32 to uint8. Range [0.0, 13.533552169799805]. Convert image to uint8 prior to saving to suppress this warning.\n",
            "WARNING:imageio:Lossy conversion from float32 to uint8. Range [0.0, 13.533552169799805]. Convert image to uint8 prior to saving to suppress this warning.\n",
            "WARNING:imageio:Lossy conversion from float32 to uint8. Range [0.0, 13.533552169799805]. Convert image to uint8 prior to saving to suppress this warning.\n",
            "WARNING:imageio:Lossy conversion from float32 to uint8. Range [0.0, 13.533552169799805]. Convert image to uint8 prior to saving to suppress this warning.\n",
            "WARNING:imageio:Lossy conversion from float32 to uint8. Range [0.0, 13.533552169799805]. Convert image to uint8 prior to saving to suppress this warning.\n",
            "WARNING:imageio:Lossy conversion from float32 to uint8. Range [0.0, 13.533552169799805]. Convert image to uint8 prior to saving to suppress this warning.\n",
            "WARNING:imageio:Lossy conversion from float32 to uint8. Range [0.0, 13.533552169799805]. Convert image to uint8 prior to saving to suppress this warning.\n",
            "WARNING:imageio:Lossy conversion from float32 to uint8. Range [0.0, 13.533552169799805]. Convert image to uint8 prior to saving to suppress this warning.\n",
            "WARNING:imageio:Lossy conversion from float32 to uint8. Range [0.0, 13.533552169799805]. Convert image to uint8 prior to saving to suppress this warning.\n",
            "WARNING:imageio:Lossy conversion from float32 to uint8. Range [0.0, 13.533552169799805]. Convert image to uint8 prior to saving to suppress this warning.\n",
            "WARNING:imageio:Lossy conversion from float32 to uint8. Range [0.0, 13.533552169799805]. Convert image to uint8 prior to saving to suppress this warning.\n",
            "WARNING:imageio:Lossy conversion from float32 to uint8. Range [0.0, 13.533552169799805]. Convert image to uint8 prior to saving to suppress this warning.\n",
            "WARNING:imageio:Lossy conversion from float32 to uint8. Range [0.0, 13.533552169799805]. Convert image to uint8 prior to saving to suppress this warning.\n",
            "WARNING:imageio:Lossy conversion from float32 to uint8. Range [0.0, 13.533552169799805]. Convert image to uint8 prior to saving to suppress this warning.\n",
            "WARNING:imageio:Lossy conversion from float32 to uint8. Range [0.0, 13.533552169799805]. Convert image to uint8 prior to saving to suppress this warning.\n",
            "WARNING:imageio:Lossy conversion from float32 to uint8. Range [0.0, 13.533552169799805]. Convert image to uint8 prior to saving to suppress this warning.\n",
            "WARNING:imageio:Lossy conversion from float32 to uint8. Range [0.0, 13.533552169799805]. Convert image to uint8 prior to saving to suppress this warning.\n",
            "WARNING:imageio:Lossy conversion from float32 to uint8. Range [0.0, 13.533552169799805]. Convert image to uint8 prior to saving to suppress this warning.\n",
            "WARNING:imageio:Lossy conversion from float32 to uint8. Range [0.0, 13.533552169799805]. Convert image to uint8 prior to saving to suppress this warning.\n",
            "WARNING:imageio:Lossy conversion from float32 to uint8. Range [0.0, 13.533552169799805]. Convert image to uint8 prior to saving to suppress this warning.\n",
            "WARNING:imageio:Lossy conversion from float32 to uint8. Range [0.0, 13.533552169799805]. Convert image to uint8 prior to saving to suppress this warning.\n",
            "WARNING:imageio:Lossy conversion from float32 to uint8. Range [0.0, 13.533552169799805]. Convert image to uint8 prior to saving to suppress this warning.\n",
            "WARNING:imageio:Lossy conversion from float32 to uint8. Range [0.0, 13.533552169799805]. Convert image to uint8 prior to saving to suppress this warning.\n",
            "WARNING:imageio:Lossy conversion from float32 to uint8. Range [0.0, 13.533552169799805]. Convert image to uint8 prior to saving to suppress this warning.\n",
            "WARNING:imageio:Lossy conversion from float32 to uint8. Range [0.0, 13.533552169799805]. Convert image to uint8 prior to saving to suppress this warning.\n",
            "WARNING:imageio:Lossy conversion from float32 to uint8. Range [0.0, 13.533552169799805]. Convert image to uint8 prior to saving to suppress this warning.\n",
            "WARNING:imageio:Lossy conversion from float32 to uint8. Range [0.0, 13.533552169799805]. Convert image to uint8 prior to saving to suppress this warning.\n",
            "WARNING:imageio:Lossy conversion from float32 to uint8. Range [0.0, 13.533552169799805]. Convert image to uint8 prior to saving to suppress this warning.\n",
            "WARNING:imageio:Lossy conversion from float32 to uint8. Range [0.0, 13.533552169799805]. Convert image to uint8 prior to saving to suppress this warning.\n",
            "WARNING:imageio:Lossy conversion from float32 to uint8. Range [0.0, 13.533552169799805]. Convert image to uint8 prior to saving to suppress this warning.\n",
            "WARNING:imageio:Lossy conversion from float32 to uint8. Range [0.0, 13.533552169799805]. Convert image to uint8 prior to saving to suppress this warning.\n"
          ]
        }
      ]
    },
    {
      "cell_type": "code",
      "source": [
        "# Plot an example frame of the video and the video's alignment\n",
        "tf.strings.reduce_join([num_to_char(word) for word in sample_alignments])\n",
        "plt.imshow(sample_video[70])"
      ],
      "metadata": {
        "colab": {
          "base_uri": "https://localhost:8080/",
          "height": 450
        },
        "id": "3Miil5foWMer",
        "outputId": "be27f053-ae19-4e48-c17d-4da839bd1708"
      },
      "execution_count": null,
      "outputs": [
        {
          "output_type": "execute_result",
          "data": {
            "text/plain": [
              "<matplotlib.image.AxesImage at 0x782fdc1f53c0>"
            ]
          },
          "metadata": {},
          "execution_count": 27
        },
        {
          "output_type": "display_data",
          "data": {
            "text/plain": [
              "<Figure size 640x480 with 1 Axes>"
            ],
            "image/png": "[encoded data removed]"
          },
          "metadata": {}
        }
      ]
    },
    {
      "cell_type": "markdown",
      "source": [
        "# The Model"
      ],
      "metadata": {
        "id": "eEGwLCBgSRak"
      }
    },
    {
      "cell_type": "markdown",
      "source": [
        "## Define the Model Architecture"
      ],
      "metadata": {
        "id": "lccJ99GESTbX"
      }
    },
    {
      "cell_type": "code",
      "source": [
        "input_shape = sample_video.shape\n",
        "input_shape"
      ],
      "metadata": {
        "colab": {
          "base_uri": "https://localhost:8080/"
        },
        "id": "xag7N1WkBdIC",
        "outputId": "5dda3ae9-2f87-4388-a549-0283b21a688f"
      },
      "execution_count": null,
      "outputs": [
        {
          "output_type": "execute_result",
          "data": {
            "text/plain": [
              "(75, 100, 120, 1)"
            ]
          },
          "metadata": {},
          "execution_count": 28
        }
      ]
    },
    {
      "cell_type": "code",
      "source": [
        "def create_model():\n",
        "  model = Sequential()\n",
        "  # Three layers of 3D/spatiotemporal convolutions.\n",
        "  model.add(Conv3D(128, 3, input_shape=input_shape, padding='same'))\n",
        "  model.add(Activation('relu'))\n",
        "  model.add(MaxPool3D((1,2,2)))\n",
        "\n",
        "  model.add(Conv3D(256, 3, padding='same'))\n",
        "  model.add(Activation('relu'))\n",
        "  model.add(MaxPool3D((1,2,2)))\n",
        "\n",
        "  model.add(Conv3D(75, 3, padding='same'))\n",
        "  model.add(Activation('relu'))\n",
        "  model.add(MaxPool3D((1,2,2)))\n",
        "\n",
        "  # Flattens each time slice independently.\n",
        "  model.add(TimeDistributed(Flatten()))\n",
        "\n",
        "  # Two layers of Bi-LSTM's.\n",
        "  # return_sequences=True makes the the network output a sequence of predictions, one for each time step of the input sequence.\n",
        "  model.add(Bidirectional(LSTM(128, kernel_initializer='Orthogonal', return_sequences=True)))\n",
        "  model.add(Dropout(.5))\n",
        "\n",
        "  model.add(Bidirectional(LSTM(128, kernel_initializer='Orthogonal', return_sequences=True)))\n",
        "  model.add(Dropout(.5))\n",
        "\n",
        "  # Linear transformation (dense layer) and output (softmax layer).\n",
        "  model.add(Dense(char_to_num.vocabulary_size()+1, kernel_initializer='he_normal', activation='softmax'))\n",
        "  return model"
      ],
      "metadata": {
        "id": "BZtDo1xVCnX1"
      },
      "execution_count": null,
      "outputs": []
    },
    {
      "cell_type": "code",
      "source": [
        "model_example = create_model()\n",
        "model_example.summary()"
      ],
      "metadata": {
        "colab": {
          "base_uri": "https://localhost:8080/"
        },
        "id": "tg89hwKgCsdZ",
        "outputId": "ab6a5dd2-7e76-4d78-ea8d-8d9232c7edff"
      },
      "execution_count": null,
      "outputs": [
        {
          "output_type": "stream",
          "name": "stdout",
          "text": [
            "Model: \"sequential\"\n",
            "_________________________________________________________________\n",
            " Layer (type)                Output Shape              Param #   \n",
            "=================================================================\n",
            " conv3d (Conv3D)             (None, 75, 100, 120, 128  3584      \n",
            "                             )                                   \n",
            "                                                                 \n",
            " activation (Activation)     (None, 75, 100, 120, 128  0         \n",
            "                             )                                   \n",
            "                                                                 \n",
            " max_pooling3d (MaxPooling3D  (None, 75, 50, 60, 128)  0         \n",
            " )                                                               \n",
            "                                                                 \n",
            " conv3d_1 (Conv3D)           (None, 75, 50, 60, 256)   884992    \n",
            "                                                                 \n",
            " activation_1 (Activation)   (None, 75, 50, 60, 256)   0         \n",
            "                                                                 \n",
            " max_pooling3d_1 (MaxPooling  (None, 75, 25, 30, 256)  0         \n",
            " 3D)                                                             \n",
            "                                                                 \n",
            " conv3d_2 (Conv3D)           (None, 75, 25, 30, 75)    518475    \n",
            "                                                                 \n",
            " activation_2 (Activation)   (None, 75, 25, 30, 75)    0         \n",
            "                                                                 \n",
            " max_pooling3d_2 (MaxPooling  (None, 75, 12, 15, 75)   0         \n",
            " 3D)                                                             \n",
            "                                                                 \n",
            " time_distributed (TimeDistr  (None, 75, 13500)        0         \n",
            " ibuted)                                                         \n",
            "                                                                 \n",
            " bidirectional (Bidirectiona  (None, 75, 256)          13956096  \n",
            " l)                                                              \n",
            "                                                                 \n",
            " dropout (Dropout)           (None, 75, 256)           0         \n",
            "                                                                 \n",
            " bidirectional_1 (Bidirectio  (None, 75, 256)          394240    \n",
            " nal)                                                            \n",
            "                                                                 \n",
            " dropout_1 (Dropout)         (None, 75, 256)           0         \n",
            "                                                                 \n",
            " dense (Dense)               (None, 75, 41)            10537     \n",
            "                                                                 \n",
            "=================================================================\n",
            "Total params: 15,767,924\n",
            "Trainable params: 15,767,924\n",
            "Non-trainable params: 0\n",
            "_________________________________________________________________\n"
          ]
        }
      ]
    },
    {
      "cell_type": "markdown",
      "source": [
        "### Show example"
      ],
      "metadata": {
        "id": "VcpV-3keCwz7"
      }
    },
    {
      "cell_type": "code",
      "source": [
        "yhat = model_example.predict(np.expand_dims(sample_video, axis=0))[0]"
      ],
      "metadata": {
        "colab": {
          "base_uri": "https://localhost:8080/"
        },
        "id": "ZGzHVroRC18i",
        "outputId": "a3381b1e-6d13-4cf1-b6cc-b47ccc774942"
      },
      "execution_count": null,
      "outputs": [
        {
          "output_type": "stream",
          "name": "stdout",
          "text": [
            "1/1 [==============================] - 3s 3s/step\n"
          ]
        }
      ]
    },
    {
      "cell_type": "code",
      "source": [
        "tf.strings.reduce_join([num_to_char(tf.argmax(x)) for x in yhat])"
      ],
      "metadata": {
        "colab": {
          "base_uri": "https://localhost:8080/"
        },
        "id": "CFixvFbNC-IO",
        "outputId": "3c2d54db-c31b-4765-f7af-d7225d8372f0"
      },
      "execution_count": null,
      "outputs": [
        {
          "output_type": "execute_result",
          "data": {
            "text/plain": [
              "<tf.Tensor: shape=(), dtype=string, numpy=b'pppppppppppppppppppppppppppppppppppppppppppppppbbbbbbbbbbbbbbbbbbbbaaa'>"
            ]
          },
          "metadata": {},
          "execution_count": 32
        }
      ]
    },
    {
      "cell_type": "markdown",
      "source": [
        "### Show Shapes"
      ],
      "metadata": {
        "id": "oJXJcUqiDI3K"
      }
    },
    {
      "cell_type": "markdown",
      "source": [
        "Input shape should be (None, 75, 100, 120, 1) because of the pre-processing of the video and reshaping each fram to the size of (100,120)"
      ],
      "metadata": {
        "id": "Mcjapp5SDNo6"
      }
    },
    {
      "cell_type": "code",
      "source": [
        "model_example.input_shape"
      ],
      "metadata": {
        "colab": {
          "base_uri": "https://localhost:8080/"
        },
        "id": "DxT8PQMvDCyT",
        "outputId": "1494bf43-bcbc-4caa-b752-f02202568cda"
      },
      "execution_count": null,
      "outputs": [
        {
          "output_type": "execute_result",
          "data": {
            "text/plain": [
              "(None, 75, 100, 120, 1)"
            ]
          },
          "metadata": {},
          "execution_count": 33
        }
      ]
    },
    {
      "cell_type": "markdown",
      "source": [
        "Output shape should be (None, 75, 41) because of the number of frames in the video (75) and the number of characters in the vocabulary (41)"
      ],
      "metadata": {
        "id": "Dg61vzxhDcxx"
      }
    },
    {
      "cell_type": "code",
      "source": [
        "model_example.output_shape"
      ],
      "metadata": {
        "colab": {
          "base_uri": "https://localhost:8080/"
        },
        "id": "AqrRlTcyDFt8",
        "outputId": "860730b5-a0fa-48dc-cc96-1f5669b80d69"
      },
      "execution_count": null,
      "outputs": [
        {
          "output_type": "execute_result",
          "data": {
            "text/plain": [
              "(None, 75, 41)"
            ]
          },
          "metadata": {},
          "execution_count": 34
        }
      ]
    },
    {
      "cell_type": "markdown",
      "source": [
        "## Define Loss Function"
      ],
      "metadata": {
        "id": "xXObm3PFUdsI"
      }
    },
    {
      "cell_type": "markdown",
      "source": [
        "**CTC (Connectionist Temporal Classification)** is a commonly used technique in automatic speech recognition and other sequence-to-sequence tasks where the alignment between the input sequence and the target sequence is not one-to-one.\n",
        "\n",
        "The `ctc_batch_cost` refers to the loss function and it calculates the CTC loss for a batch of input-output sequence pairs."
      ],
      "metadata": {
        "id": "VuezFsn8FpFm"
      }
    },
    {
      "cell_type": "code",
      "source": [
        "def CTCLoss(y_true, y_pred):\n",
        "    batch_len = tf.cast(tf.shape(y_true)[0], dtype=\"int64\")\n",
        "    input_length = tf.cast(tf.shape(y_pred)[1], dtype=\"int64\")\n",
        "    label_length = tf.cast(tf.shape(y_true)[1], dtype=\"int64\")\n",
        "\n",
        "    input_length = input_length * tf.ones(shape=(batch_len, 1), dtype=\"int64\")\n",
        "    label_length = label_length * tf.ones(shape=(batch_len, 1), dtype=\"int64\")\n",
        "\n",
        "    loss = tf.keras.backend.ctc_batch_cost(y_true, y_pred, input_length, label_length)\n",
        "    return loss"
      ],
      "metadata": {
        "id": "0s7WHUP7FJXb"
      },
      "execution_count": null,
      "outputs": []
    },
    {
      "cell_type": "markdown",
      "source": [
        "## Choose Parameters"
      ],
      "metadata": {
        "id": "0drr-B1rSbVq"
      }
    },
    {
      "cell_type": "markdown",
      "source": [
        "### Optimizer"
      ],
      "metadata": {
        "id": "jD_mWJ1mGn4R"
      }
    },
    {
      "cell_type": "code",
      "source": [
        "optimizer = tf.keras.optimizers.legacy.Adam(learning_rate=0.0001)"
      ],
      "metadata": {
        "id": "eDyRONI8GmqA"
      },
      "execution_count": null,
      "outputs": []
    },
    {
      "cell_type": "markdown",
      "source": [
        "### Scheduler"
      ],
      "metadata": {
        "id": "PR85E4bMEiAP"
      }
    },
    {
      "cell_type": "markdown",
      "source": [
        "We chose the ReduceLROnPlateau scheduler from this list for the base model because tensoflow has a built-in implementation for it unlike CosineAnnealingLR for example.\n",
        "But I think it is a good idea to play with these options when running the experiments"
      ],
      "metadata": {
        "id": "uqyeGLhOJKYn"
      }
    },
    {
      "cell_type": "markdown",
      "source": [
        "\n",
        "\n",
        "1. **StepLR:** This scheduler reduces the learning rate by a factor gamma at specified milestones or epochs. It is commonly used when you want to decrease the learning rate at specific intervals during training.\n",
        "\n",
        "2. **ReduceLROnPlateau:** This scheduler reduces the learning rate when a monitored metric (such as validation loss) has stopped improving. It is useful when you want to dynamically adjust the learning rate based on the model's performance.\n",
        "\n",
        "3. **CosineAnnealingLR:** This scheduler uses a cosine annealing schedule to gradually reduce the learning rate. It is effective in scenarios where you want to gradually decrease the learning rate over a specified number of epochs.\n",
        "\n",
        "4. **CyclicLR:** This scheduler cycles the learning rate between specified minimum and maximum values. It can help the model escape from poor local optima and explore different areas of the loss landscape.\n",
        "\n",
        "\n"
      ],
      "metadata": {
        "id": "_yyUcO6uI0bZ"
      }
    },
    {
      "cell_type": "code",
      "source": [
        "onPlateau_scheduler = tf.keras.callbacks.ReduceLROnPlateau(\n",
        "    monitor='val_loss',  # Which metric to monitor (e.g., validation loss)\n",
        "    factor=0.1,          # Factor by which the learning rate will be reduced (new_lr = lr * factor)\n",
        "    patience=3,          # Number of epochs with no improvement after which learning rate will be reduced\n",
        "    verbose=1,           # Verbosity mode (0 = silent, 1 = update messages)\n",
        "    min_delta=1e-4,      # Minimum change in monitored metric to qualify as an improvement\n",
        "    cooldown=0,          # Number of epochs to wait after reducing learning rate before resuming normal operation\n",
        "    min_lr=0             # Lower bound on the learning rate\n",
        ")"
      ],
      "metadata": {
        "id": "fOvXJfC1EhJQ"
      },
      "execution_count": null,
      "outputs": []
    },
    {
      "cell_type": "code",
      "source": [
        "def step_decay(epoch, epochs_drop = 10):\n",
        "    initial_lr = 0.0001\n",
        "    drop = 0.5       # factor by which the learning rate will be reduced\n",
        "    lr = initial_lr * drop ** (epoch // epochs_drop)\n",
        "    return lr"
      ],
      "metadata": {
        "id": "7-2nIk93wzNe"
      },
      "execution_count": null,
      "outputs": []
    },
    {
      "cell_type": "code",
      "source": [
        "onEpoch_scheduler = LearningRateScheduler(lambda epoch: step_decay(epoch, epochs_drop=2))"
      ],
      "metadata": {
        "id": "h3hTTXhdu_31"
      },
      "execution_count": null,
      "outputs": []
    },
    {
      "cell_type": "markdown",
      "source": [
        "## Define Callbacks"
      ],
      "metadata": {
        "id": "eDb3PbIoKmIa"
      }
    },
    {
      "cell_type": "code",
      "source": [
        "checkpoint_callback = ModelCheckpoint(os.path.join('models','checkpoint'), monitor='loss', save_weights_only=False)"
      ],
      "metadata": {
        "id": "KE0FCpxfKs9G"
      },
      "execution_count": null,
      "outputs": []
    },
    {
      "cell_type": "markdown",
      "source": [
        "## Compile the Model"
      ],
      "metadata": {
        "id": "lG1tp6r9Letx"
      }
    },
    {
      "cell_type": "code",
      "source": [
        "model_example.compile(optimizer=optimizer, loss=CTCLoss)"
      ],
      "metadata": {
        "id": "Zpi0sEOaLYJF"
      },
      "execution_count": null,
      "outputs": []
    },
    {
      "cell_type": "markdown",
      "source": [
        "# Experiments and Training"
      ],
      "metadata": {
        "id": "6RqZpVVnSrUX"
      }
    },
    {
      "cell_type": "markdown",
      "source": [
        "## First Experiment"
      ],
      "metadata": {
        "id": "Dz0iLM98StJI"
      }
    },
    {
      "cell_type": "markdown",
      "source": [
        "The base model without any schedulers"
      ],
      "metadata": {
        "id": "8pdc2jRbO8CN"
      }
    },
    {
      "cell_type": "markdown",
      "source": [
        "### Choose Parameters"
      ],
      "metadata": {
        "id": "FoFKkKBDK1nR"
      }
    },
    {
      "cell_type": "code",
      "source": [
        "epochs = 6"
      ],
      "metadata": {
        "id": "S44DZ8-DK6v0"
      },
      "execution_count": null,
      "outputs": []
    },
    {
      "cell_type": "markdown",
      "source": [
        "### Training"
      ],
      "metadata": {
        "id": "VCeAmG1_ThR8"
      }
    },
    {
      "cell_type": "code",
      "source": [
        "first_model = create_model()\n",
        "first_model.compile(optimizer=optimizer, loss=CTCLoss)"
      ],
      "metadata": {
        "id": "VKqcrMJZuIUz"
      },
      "execution_count": null,
      "outputs": []
    },
    {
      "cell_type": "code",
      "source": [
        "first_model.fit(train, validation_data=test, epochs=epochs, callbacks=[checkpoint_callback])"
      ],
      "metadata": {
        "id": "phrzogEHKuoj",
        "colab": {
          "base_uri": "https://localhost:8080/"
        },
        "outputId": "7d999e96-2a15-4fe9-984e-0f9d585f5ad7"
      },
      "execution_count": null,
      "outputs": [
        {
          "output_type": "stream",
          "name": "stdout",
          "text": [
            "Epoch 1/6\n"
          ]
        }
      ]
    },
    {
      "cell_type": "markdown",
      "source": [
        "### Plot Predictions and Metrics"
      ],
      "metadata": {
        "id": "jtCMrvDhTd1F"
      }
    },
    {
      "cell_type": "markdown",
      "source": [
        "Make a single prediction"
      ],
      "metadata": {
        "id": "xmyfY_B5dRvJ"
      }
    },
    {
      "cell_type": "code",
      "source": [
        "test_data = test.as_numpy_iterator()\n",
        "first_sample = test_data.next()"
      ],
      "metadata": {
        "id": "YJdFwYzxdRbb"
      },
      "execution_count": null,
      "outputs": []
    },
    {
      "cell_type": "code",
      "source": [
        "print('~'*100, 'REAL TEXT')\n",
        "first_y_true = [tf.strings.reduce_join([num_to_char(word) for word in sentence]) for sentence in first_sample[1]]"
      ],
      "metadata": {
        "id": "2J7IqdV-d8Mq"
      },
      "execution_count": null,
      "outputs": []
    },
    {
      "cell_type": "code",
      "source": [
        "first_yhat = first_model.predict(first_sample[0])\n",
        "first_yhat_decoded = tf.keras.backend.ctc_decode(first_yhat, input_length=[75,75], greedy=True)[0][0].numpy()"
      ],
      "metadata": {
        "id": "9HHF__aSeOFF"
      },
      "execution_count": null,
      "outputs": []
    },
    {
      "cell_type": "code",
      "source": [
        "print('~'*100, 'PREDICTIONS')\n",
        "first_y_pred = [tf.strings.reduce_join([num_to_char(word) for word in sentence]) for sentence in first_yhat_decoded]"
      ],
      "metadata": {
        "id": "JaiDukf0eO0-"
      },
      "execution_count": null,
      "outputs": []
    },
    {
      "cell_type": "markdown",
      "source": [
        "Convert the tensors to string for the accuracy calculations"
      ],
      "metadata": {
        "id": "9Tc10s1YN6M8"
      }
    },
    {
      "cell_type": "code",
      "source": [
        "first_y_true_string = tensors_to_strings(first_y_true)\n",
        "first_y_pred_string = tensors_to_strings(first_y_pred)"
      ],
      "metadata": {
        "id": "k-JnlnhDN6ND"
      },
      "execution_count": null,
      "outputs": []
    },
    {
      "cell_type": "code",
      "source": [
        "print(first_y_true_string)\n",
        "print(first_y_pred_string)"
      ],
      "metadata": {
        "id": "cZR4nVMd5BCU"
      },
      "execution_count": null,
      "outputs": []
    },
    {
      "cell_type": "markdown",
      "source": [
        "Accuracy using nlp"
      ],
      "metadata": {
        "id": "F-_4g_sHN6ND"
      }
    },
    {
      "cell_type": "code",
      "source": [
        "print(nlp_accuracy(first_y_true_string, first_y_pred_string))"
      ],
      "metadata": {
        "id": "5OLVyjvkN6ND"
      },
      "execution_count": null,
      "outputs": []
    },
    {
      "cell_type": "markdown",
      "source": [
        "Accuracy using Levenstein"
      ],
      "metadata": {
        "id": "1jiFDB3ZN6ND"
      }
    },
    {
      "cell_type": "code",
      "source": [
        "print(levenstein_accuracy(first_y_true_string, first_y_pred_string))"
      ],
      "metadata": {
        "id": "RemyNk0gN6ND"
      },
      "execution_count": null,
      "outputs": []
    },
    {
      "cell_type": "markdown",
      "source": [
        "Accuracy using wer and cer"
      ],
      "metadata": {
        "id": "VZ6phg_HN6ND"
      }
    },
    {
      "cell_type": "code",
      "source": [
        "wer, cer = wer_and_cer_accuracy(first_y_true_string, first_y_pred_string)\n",
        "print(\"WER: \", wer)\n",
        "print(\"CER: \", cer)"
      ],
      "metadata": {
        "id": "NxG15-ObN6ND"
      },
      "execution_count": null,
      "outputs": []
    },
    {
      "cell_type": "markdown",
      "source": [
        "## Second Experiment"
      ],
      "metadata": {
        "id": "9L9R_-ZrSxoW"
      }
    },
    {
      "cell_type": "markdown",
      "source": [
        "Base model but with \"on-epoch\" scheduler to the same number of epochs"
      ],
      "metadata": {
        "id": "gfodtb7RPBAT"
      }
    },
    {
      "cell_type": "markdown",
      "source": [
        "### Choose Parameters"
      ],
      "metadata": {
        "id": "CjIfdT-4S2py"
      }
    },
    {
      "cell_type": "code",
      "source": [
        "epochs = 6"
      ],
      "metadata": {
        "id": "Cf9_kirGl3mG"
      },
      "execution_count": null,
      "outputs": []
    },
    {
      "cell_type": "code",
      "source": [
        "schedule_callback = onEpoch_scheduler"
      ],
      "metadata": {
        "id": "12D2lFOCx6E7"
      },
      "execution_count": null,
      "outputs": []
    },
    {
      "cell_type": "markdown",
      "source": [
        "### Training"
      ],
      "metadata": {
        "id": "2Huye3rsl3mU"
      }
    },
    {
      "cell_type": "code",
      "source": [
        "second_model = create_model()\n",
        "second_model.compile(optimizer=optimizer, loss=CTCLoss)"
      ],
      "metadata": {
        "id": "mSYOOBn2uaSe"
      },
      "execution_count": null,
      "outputs": []
    },
    {
      "cell_type": "code",
      "source": [
        "second_model.fit(train, validation_data=test, epochs=epochs, callbacks=[checkpoint_callback, schedule_callback])"
      ],
      "metadata": {
        "id": "Az12MjD_l3mU"
      },
      "execution_count": null,
      "outputs": []
    },
    {
      "cell_type": "markdown",
      "source": [
        "### Plot Predictions and Metrics"
      ],
      "metadata": {
        "id": "NnE1KN6NTc94"
      }
    },
    {
      "cell_type": "markdown",
      "source": [
        "Make a single prediction"
      ],
      "metadata": {
        "id": "WDplyHPIelF6"
      }
    },
    {
      "cell_type": "code",
      "source": [
        "test_data = test.as_numpy_iterator()\n",
        "second_sample = test_data.next()"
      ],
      "metadata": {
        "id": "06wZPnfEelF7"
      },
      "execution_count": null,
      "outputs": []
    },
    {
      "cell_type": "code",
      "source": [
        "print('~'*100, 'REAL TEXT')\n",
        "second_y_true = [tf.strings.reduce_join([num_to_char(word) for word in sentence]) for sentence in second_sample[1]]"
      ],
      "metadata": {
        "id": "SCIZkCf9elF7"
      },
      "execution_count": null,
      "outputs": []
    },
    {
      "cell_type": "code",
      "source": [
        "second_yhat = second_model.predict(second_sample[0])\n",
        "second_yhat_decoded = tf.keras.backend.ctc_decode(second_yhat, input_length=[75,75], greedy=True)[0][0].numpy()"
      ],
      "metadata": {
        "id": "dF1RSp2AelF7"
      },
      "execution_count": null,
      "outputs": []
    },
    {
      "cell_type": "code",
      "source": [
        "print('~'*100, 'PREDICTIONS')\n",
        "second_y_pred = [tf.strings.reduce_join([num_to_char(word) for word in sentence]) for sentence in second_yhat_decoded]"
      ],
      "metadata": {
        "id": "RATLtGOxelF7"
      },
      "execution_count": null,
      "outputs": []
    },
    {
      "cell_type": "markdown",
      "source": [
        "Convert the tensors to string for the accuracy calculations"
      ],
      "metadata": {
        "id": "7tBX34qdNZkD"
      }
    },
    {
      "cell_type": "code",
      "source": [
        "second_y_true_string = tensors_to_strings(second_y_true)\n",
        "second_y_pred_string = tensors_to_strings(second_y_pred)"
      ],
      "metadata": {
        "id": "v9tnXiBMNZkD"
      },
      "execution_count": null,
      "outputs": []
    },
    {
      "cell_type": "markdown",
      "source": [
        "Accuracy using nlp"
      ],
      "metadata": {
        "id": "wPiLTKJTNZkD"
      }
    },
    {
      "cell_type": "code",
      "source": [
        "print(nlp_accuracy(second_y_true_string, second_y_pred_string))"
      ],
      "metadata": {
        "id": "3Wt2FWZzNZkD"
      },
      "execution_count": null,
      "outputs": []
    },
    {
      "cell_type": "markdown",
      "source": [
        "Accuracy using Levenstein"
      ],
      "metadata": {
        "id": "LfwkBuHTNZkE"
      }
    },
    {
      "cell_type": "code",
      "source": [
        "print(levenstein_accuracy(second_y_true_string, second_y_pred_string))"
      ],
      "metadata": {
        "id": "C17SMJ3SNZkE"
      },
      "execution_count": null,
      "outputs": []
    },
    {
      "cell_type": "markdown",
      "source": [
        "Accuracy using wer and cer"
      ],
      "metadata": {
        "id": "2EwYB3UCNZkE"
      }
    },
    {
      "cell_type": "code",
      "source": [
        "wer, cer = wer_and_cer_accuracy(second_y_true_string, second_y_pred_string)\n",
        "print(\"WER: \" + wer)\n",
        "print(\"CER: \" + cer)"
      ],
      "metadata": {
        "id": "O78vRtziNZkE"
      },
      "execution_count": null,
      "outputs": []
    },
    {
      "cell_type": "markdown",
      "source": [
        "## Third Experiment"
      ],
      "metadata": {
        "id": "H8Fs_VbDSz83"
      }
    },
    {
      "cell_type": "markdown",
      "source": [
        "Base model but with \"on-plateau\" scheduler to the same number of epochs"
      ],
      "metadata": {
        "id": "EnpsHbgOPSDQ"
      }
    },
    {
      "cell_type": "markdown",
      "source": [
        "### Choose Parameters"
      ],
      "metadata": {
        "id": "htRWo1HZS5jg"
      }
    },
    {
      "cell_type": "code",
      "source": [
        "epochs = 6"
      ],
      "metadata": {
        "id": "Il1z70WiyOhG"
      },
      "execution_count": null,
      "outputs": []
    },
    {
      "cell_type": "code",
      "source": [
        "schedule_callback = onPlateau_scheduler"
      ],
      "metadata": {
        "id": "SaL1L80syOhU"
      },
      "execution_count": null,
      "outputs": []
    },
    {
      "cell_type": "markdown",
      "source": [
        "### Training"
      ],
      "metadata": {
        "id": "lHH2W0QtTPuJ"
      }
    },
    {
      "cell_type": "code",
      "source": [
        "third_model = create_model()\n",
        "third_model.compile(optimizer=optimizer, loss=CTCLoss)"
      ],
      "metadata": {
        "id": "Tlsuw7_puh4B"
      },
      "execution_count": null,
      "outputs": []
    },
    {
      "cell_type": "code",
      "source": [
        "third_model.fit(train, validation_data=test, epochs=epochs, callbacks=[checkpoint_callback, schedule_callback])"
      ],
      "metadata": {
        "id": "0CqD_7YryR4l"
      },
      "execution_count": null,
      "outputs": []
    },
    {
      "cell_type": "markdown",
      "source": [
        "### Plot Predictions and Metrics"
      ],
      "metadata": {
        "id": "cVpFr6piTRtZ"
      }
    },
    {
      "cell_type": "markdown",
      "source": [
        "Make a single prediction"
      ],
      "metadata": {
        "id": "jYD3Jay5e_Vw"
      }
    },
    {
      "cell_type": "code",
      "source": [
        "test_data = test.as_numpy_iterator()\n",
        "third_sample = test_data.next()"
      ],
      "metadata": {
        "id": "Uis5WyY9e_Vx"
      },
      "execution_count": null,
      "outputs": []
    },
    {
      "cell_type": "code",
      "source": [
        "print('~'*100, 'REAL TEXT')\n",
        "third_y_true = [tf.strings.reduce_join([num_to_char(word) for word in sentence]) for sentence in third_sample[1]]"
      ],
      "metadata": {
        "id": "TSYSexkMe_Vx"
      },
      "execution_count": null,
      "outputs": []
    },
    {
      "cell_type": "code",
      "source": [
        "third_yhat = third_model.predict(third_sample[0])\n",
        "third_yhat_decoded = tf.keras.backend.ctc_decode(second_yhat, input_length=[75,75], greedy=True)[0][0].numpy()"
      ],
      "metadata": {
        "id": "KySrFzyie_Vx"
      },
      "execution_count": null,
      "outputs": []
    },
    {
      "cell_type": "code",
      "source": [
        "print('~'*100, 'PREDICTIONS')\n",
        "third_y_pred = [tf.strings.reduce_join([num_to_char(word) for word in sentence]) for sentence in third_yhat_decoded]"
      ],
      "metadata": {
        "id": "kDLjrRxse_Vx"
      },
      "execution_count": null,
      "outputs": []
    },
    {
      "cell_type": "markdown",
      "source": [
        "Convert the tensors to string for the accuracy calculations"
      ],
      "metadata": {
        "id": "6mSA-QC8YIj9"
      }
    },
    {
      "cell_type": "code",
      "source": [
        "third_y_true_string = tensors_to_strings(third_y_true)\n",
        "third_y_pred_string = tensors_to_strings(third_y_pred)"
      ],
      "metadata": {
        "id": "Lfb4GlKvWlMi"
      },
      "execution_count": null,
      "outputs": []
    },
    {
      "cell_type": "markdown",
      "source": [
        "Accuracy using nlp"
      ],
      "metadata": {
        "id": "BR7IWLjWVWmv"
      }
    },
    {
      "cell_type": "code",
      "source": [
        "print(nlp_accuracy(third_y_true_string, third_y_pred_string))"
      ],
      "metadata": {
        "id": "YvItuXLkYz5S"
      },
      "execution_count": null,
      "outputs": []
    },
    {
      "cell_type": "markdown",
      "source": [
        "Accuracy using Levenstein"
      ],
      "metadata": {
        "id": "gQi2rp-IVaYQ"
      }
    },
    {
      "cell_type": "code",
      "source": [
        "print(levenstein_accuracy(third_y_true_string, third_y_pred_string))"
      ],
      "metadata": {
        "id": "MOQN2NsPZB4e"
      },
      "execution_count": null,
      "outputs": []
    },
    {
      "cell_type": "markdown",
      "source": [
        "Accuracy using wer and cer"
      ],
      "metadata": {
        "id": "Q50btmNSVfNj"
      }
    },
    {
      "cell_type": "code",
      "source": [
        "wer, cer = wer_and_cer_accuracy(third_y_true_string, third_y_pred_string)\n",
        "print(\"WER: \" + wer)\n",
        "print(\"CER: \" + cer)"
      ],
      "metadata": {
        "id": "EGCyM8xfMn_I"
      },
      "execution_count": null,
      "outputs": []
    },
    {
      "cell_type": "markdown",
      "source": [
        "# Save the Best Model"
      ],
      "metadata": {
        "id": "4kymxaESTDCX"
      }
    },
    {
      "cell_type": "code",
      "source": [
        "# final_model ="
      ],
      "metadata": {
        "id": "ARPmW5NAupdS"
      },
      "execution_count": null,
      "outputs": []
    },
    {
      "cell_type": "code",
      "source": [
        "# final_model.save('model_40e.h5')"
      ],
      "metadata": {
        "id": "v9XOB1-uNMi0"
      },
      "execution_count": null,
      "outputs": []
    }
  ]
}