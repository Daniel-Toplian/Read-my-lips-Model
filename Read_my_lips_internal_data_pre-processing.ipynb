{
  "cells": [
    {
      "cell_type": "markdown",
      "metadata": {
        "id": "a3573a47-3689-4668-b62f-5c8451b2b4e9"
      },
      "source": [
        "# Install and Import Dependencies"
      ],
      "id": "a3573a47-3689-4668-b62f-5c8451b2b4e9"
    },
    {
      "cell_type": "code",
      "execution_count": 1,
      "metadata": {
        "colab": {
          "base_uri": "https://localhost:8080/"
        },
        "id": "b24af50c-20b8-409d-ad78-30a933fdd669",
        "outputId": "9d0f32b5-6b6c-420d-82ee-e5174f3d702d"
      },
      "outputs": [
        {
          "output_type": "stream",
          "name": "stdout",
          "text": [
            "\u001b[2K     \u001b[90m━━━━━━━━━━━━━━━━━━━━━━━━━━━━━━━━━━━━━━━\u001b[0m \u001b[32m172.5/172.5 kB\u001b[0m \u001b[31m2.8 MB/s\u001b[0m eta \u001b[36m0:00:00\u001b[0m\n",
            "\u001b[2K     \u001b[90m━━━━━━━━━━━━━━━━━━━━━━━━━━━━━━━━━━━━━━━━\u001b[0m \u001b[32m3.1/3.1 MB\u001b[0m \u001b[31m38.4 MB/s\u001b[0m eta \u001b[36m0:00:00\u001b[0m\n",
            "\u001b[?25h2023-07-21 08:16:46.986964: W tensorflow/compiler/tf2tensorrt/utils/py_utils.cc:38] TF-TRT Warning: Could not find TensorRT\n",
            "Collecting en-core-web-trf==3.5.0\n",
            "  Downloading https://github.com/explosion/spacy-models/releases/download/en_core_web_trf-3.5.0/en_core_web_trf-3.5.0-py3-none-any.whl (460.3 MB)\n",
            "\u001b[2K     \u001b[90m━━━━━━━━━━━━━━━━━━━━━━━━━━━━━━━━━━━━━━━\u001b[0m \u001b[32m460.3/460.3 MB\u001b[0m \u001b[31m3.3 MB/s\u001b[0m eta \u001b[36m0:00:00\u001b[0m\n",
            "\u001b[?25hRequirement already satisfied: spacy<3.6.0,>=3.5.0 in /usr/local/lib/python3.10/dist-packages (from en-core-web-trf==3.5.0) (3.5.4)\n",
            "Collecting spacy-transformers<1.3.0,>=1.2.0.dev0 (from en-core-web-trf==3.5.0)\n",
            "  Downloading spacy_transformers-1.2.5-cp310-cp310-manylinux_2_17_x86_64.manylinux2014_x86_64.whl (190 kB)\n",
            "\u001b[2K     \u001b[90m━━━━━━━━━━━━━━━━━━━━━━━━━━━━━━━━━━━━━━━\u001b[0m \u001b[32m190.8/190.8 kB\u001b[0m \u001b[31m3.8 MB/s\u001b[0m eta \u001b[36m0:00:00\u001b[0m\n",
            "\u001b[?25hRequirement already satisfied: spacy-legacy<3.1.0,>=3.0.11 in /usr/local/lib/python3.10/dist-packages (from spacy<3.6.0,>=3.5.0->en-core-web-trf==3.5.0) (3.0.12)\n",
            "Requirement already satisfied: spacy-loggers<2.0.0,>=1.0.0 in /usr/local/lib/python3.10/dist-packages (from spacy<3.6.0,>=3.5.0->en-core-web-trf==3.5.0) (1.0.4)\n",
            "Requirement already satisfied: murmurhash<1.1.0,>=0.28.0 in /usr/local/lib/python3.10/dist-packages (from spacy<3.6.0,>=3.5.0->en-core-web-trf==3.5.0) (1.0.9)\n",
            "Requirement already satisfied: cymem<2.1.0,>=2.0.2 in /usr/local/lib/python3.10/dist-packages (from spacy<3.6.0,>=3.5.0->en-core-web-trf==3.5.0) (2.0.7)\n",
            "Requirement already satisfied: preshed<3.1.0,>=3.0.2 in /usr/local/lib/python3.10/dist-packages (from spacy<3.6.0,>=3.5.0->en-core-web-trf==3.5.0) (3.0.8)\n",
            "Requirement already satisfied: thinc<8.2.0,>=8.1.8 in /usr/local/lib/python3.10/dist-packages (from spacy<3.6.0,>=3.5.0->en-core-web-trf==3.5.0) (8.1.10)\n",
            "Requirement already satisfied: wasabi<1.2.0,>=0.9.1 in /usr/local/lib/python3.10/dist-packages (from spacy<3.6.0,>=3.5.0->en-core-web-trf==3.5.0) (1.1.2)\n",
            "Requirement already satisfied: srsly<3.0.0,>=2.4.3 in /usr/local/lib/python3.10/dist-packages (from spacy<3.6.0,>=3.5.0->en-core-web-trf==3.5.0) (2.4.6)\n",
            "Requirement already satisfied: catalogue<2.1.0,>=2.0.6 in /usr/local/lib/python3.10/dist-packages (from spacy<3.6.0,>=3.5.0->en-core-web-trf==3.5.0) (2.0.8)\n",
            "Requirement already satisfied: typer<0.10.0,>=0.3.0 in /usr/local/lib/python3.10/dist-packages (from spacy<3.6.0,>=3.5.0->en-core-web-trf==3.5.0) (0.9.0)\n",
            "Requirement already satisfied: pathy>=0.10.0 in /usr/local/lib/python3.10/dist-packages (from spacy<3.6.0,>=3.5.0->en-core-web-trf==3.5.0) (0.10.2)\n",
            "Requirement already satisfied: smart-open<7.0.0,>=5.2.1 in /usr/local/lib/python3.10/dist-packages (from spacy<3.6.0,>=3.5.0->en-core-web-trf==3.5.0) (6.3.0)\n",
            "Requirement already satisfied: tqdm<5.0.0,>=4.38.0 in /usr/local/lib/python3.10/dist-packages (from spacy<3.6.0,>=3.5.0->en-core-web-trf==3.5.0) (4.65.0)\n",
            "Requirement already satisfied: numpy>=1.15.0 in /usr/local/lib/python3.10/dist-packages (from spacy<3.6.0,>=3.5.0->en-core-web-trf==3.5.0) (1.22.4)\n",
            "Requirement already satisfied: requests<3.0.0,>=2.13.0 in /usr/local/lib/python3.10/dist-packages (from spacy<3.6.0,>=3.5.0->en-core-web-trf==3.5.0) (2.27.1)\n",
            "Requirement already satisfied: pydantic!=1.8,!=1.8.1,<1.11.0,>=1.7.4 in /usr/local/lib/python3.10/dist-packages (from spacy<3.6.0,>=3.5.0->en-core-web-trf==3.5.0) (1.10.11)\n",
            "Requirement already satisfied: jinja2 in /usr/local/lib/python3.10/dist-packages (from spacy<3.6.0,>=3.5.0->en-core-web-trf==3.5.0) (3.1.2)\n",
            "Requirement already satisfied: setuptools in /usr/local/lib/python3.10/dist-packages (from spacy<3.6.0,>=3.5.0->en-core-web-trf==3.5.0) (67.7.2)\n",
            "Requirement already satisfied: packaging>=20.0 in /usr/local/lib/python3.10/dist-packages (from spacy<3.6.0,>=3.5.0->en-core-web-trf==3.5.0) (23.1)\n",
            "Requirement already satisfied: langcodes<4.0.0,>=3.2.0 in /usr/local/lib/python3.10/dist-packages (from spacy<3.6.0,>=3.5.0->en-core-web-trf==3.5.0) (3.3.0)\n",
            "Collecting transformers<4.31.0,>=3.4.0 (from spacy-transformers<1.3.0,>=1.2.0.dev0->en-core-web-trf==3.5.0)\n",
            "  Downloading transformers-4.30.2-py3-none-any.whl (7.2 MB)\n",
            "\u001b[2K     \u001b[90m━━━━━━━━━━━━━━━━━━━━━━━━━━━━━━━━━━━━━━━━\u001b[0m \u001b[32m7.2/7.2 MB\u001b[0m \u001b[31m79.6 MB/s\u001b[0m eta \u001b[36m0:00:00\u001b[0m\n",
            "\u001b[?25hRequirement already satisfied: torch>=1.8.0 in /usr/local/lib/python3.10/dist-packages (from spacy-transformers<1.3.0,>=1.2.0.dev0->en-core-web-trf==3.5.0) (2.0.1+cu118)\n",
            "Collecting spacy-alignments<1.0.0,>=0.7.2 (from spacy-transformers<1.3.0,>=1.2.0.dev0->en-core-web-trf==3.5.0)\n",
            "  Downloading spacy_alignments-0.9.0-cp310-cp310-manylinux_2_17_x86_64.manylinux2014_x86_64.whl (1.2 MB)\n",
            "\u001b[2K     \u001b[90m━━━━━━━━━━━━━━━━━━━━━━━━━━━━━━━━━━━━━━━━\u001b[0m \u001b[32m1.2/1.2 MB\u001b[0m \u001b[31m73.8 MB/s\u001b[0m eta \u001b[36m0:00:00\u001b[0m\n",
            "\u001b[?25hRequirement already satisfied: typing-extensions>=4.2.0 in /usr/local/lib/python3.10/dist-packages (from pydantic!=1.8,!=1.8.1,<1.11.0,>=1.7.4->spacy<3.6.0,>=3.5.0->en-core-web-trf==3.5.0) (4.7.1)\n",
            "Requirement already satisfied: urllib3<1.27,>=1.21.1 in /usr/local/lib/python3.10/dist-packages (from requests<3.0.0,>=2.13.0->spacy<3.6.0,>=3.5.0->en-core-web-trf==3.5.0) (1.26.16)\n",
            "Requirement already satisfied: certifi>=2017.4.17 in /usr/local/lib/python3.10/dist-packages (from requests<3.0.0,>=2.13.0->spacy<3.6.0,>=3.5.0->en-core-web-trf==3.5.0) (2023.5.7)\n",
            "Requirement already satisfied: charset-normalizer~=2.0.0 in /usr/local/lib/python3.10/dist-packages (from requests<3.0.0,>=2.13.0->spacy<3.6.0,>=3.5.0->en-core-web-trf==3.5.0) (2.0.12)\n",
            "Requirement already satisfied: idna<4,>=2.5 in /usr/local/lib/python3.10/dist-packages (from requests<3.0.0,>=2.13.0->spacy<3.6.0,>=3.5.0->en-core-web-trf==3.5.0) (3.4)\n",
            "Requirement already satisfied: blis<0.8.0,>=0.7.8 in /usr/local/lib/python3.10/dist-packages (from thinc<8.2.0,>=8.1.8->spacy<3.6.0,>=3.5.0->en-core-web-trf==3.5.0) (0.7.9)\n",
            "Requirement already satisfied: confection<1.0.0,>=0.0.1 in /usr/local/lib/python3.10/dist-packages (from thinc<8.2.0,>=8.1.8->spacy<3.6.0,>=3.5.0->en-core-web-trf==3.5.0) (0.1.0)\n",
            "Requirement already satisfied: filelock in /usr/local/lib/python3.10/dist-packages (from torch>=1.8.0->spacy-transformers<1.3.0,>=1.2.0.dev0->en-core-web-trf==3.5.0) (3.12.2)\n",
            "Requirement already satisfied: sympy in /usr/local/lib/python3.10/dist-packages (from torch>=1.8.0->spacy-transformers<1.3.0,>=1.2.0.dev0->en-core-web-trf==3.5.0) (1.11.1)\n",
            "Requirement already satisfied: networkx in /usr/local/lib/python3.10/dist-packages (from torch>=1.8.0->spacy-transformers<1.3.0,>=1.2.0.dev0->en-core-web-trf==3.5.0) (3.1)\n",
            "Requirement already satisfied: triton==2.0.0 in /usr/local/lib/python3.10/dist-packages (from torch>=1.8.0->spacy-transformers<1.3.0,>=1.2.0.dev0->en-core-web-trf==3.5.0) (2.0.0)\n",
            "Requirement already satisfied: cmake in /usr/local/lib/python3.10/dist-packages (from triton==2.0.0->torch>=1.8.0->spacy-transformers<1.3.0,>=1.2.0.dev0->en-core-web-trf==3.5.0) (3.25.2)\n",
            "Requirement already satisfied: lit in /usr/local/lib/python3.10/dist-packages (from triton==2.0.0->torch>=1.8.0->spacy-transformers<1.3.0,>=1.2.0.dev0->en-core-web-trf==3.5.0) (16.0.6)\n",
            "Collecting huggingface-hub<1.0,>=0.14.1 (from transformers<4.31.0,>=3.4.0->spacy-transformers<1.3.0,>=1.2.0.dev0->en-core-web-trf==3.5.0)\n",
            "  Downloading huggingface_hub-0.16.4-py3-none-any.whl (268 kB)\n",
            "\u001b[2K     \u001b[90m━━━━━━━━━━━━━━━━━━━━━━━━━━━━━━━━━━━━━━\u001b[0m \u001b[32m268.8/268.8 kB\u001b[0m \u001b[31m32.6 MB/s\u001b[0m eta \u001b[36m0:00:00\u001b[0m\n",
            "\u001b[?25hRequirement already satisfied: pyyaml>=5.1 in /usr/local/lib/python3.10/dist-packages (from transformers<4.31.0,>=3.4.0->spacy-transformers<1.3.0,>=1.2.0.dev0->en-core-web-trf==3.5.0) (6.0)\n",
            "Requirement already satisfied: regex!=2019.12.17 in /usr/local/lib/python3.10/dist-packages (from transformers<4.31.0,>=3.4.0->spacy-transformers<1.3.0,>=1.2.0.dev0->en-core-web-trf==3.5.0) (2022.10.31)\n",
            "Collecting tokenizers!=0.11.3,<0.14,>=0.11.1 (from transformers<4.31.0,>=3.4.0->spacy-transformers<1.3.0,>=1.2.0.dev0->en-core-web-trf==3.5.0)\n",
            "  Downloading tokenizers-0.13.3-cp310-cp310-manylinux_2_17_x86_64.manylinux2014_x86_64.whl (7.8 MB)\n",
            "\u001b[2K     \u001b[90m━━━━━━━━━━━━━━━━━━━━━━━━━━━━━━━━━━━━━━━━\u001b[0m \u001b[32m7.8/7.8 MB\u001b[0m \u001b[31m106.1 MB/s\u001b[0m eta \u001b[36m0:00:00\u001b[0m\n",
            "\u001b[?25hCollecting safetensors>=0.3.1 (from transformers<4.31.0,>=3.4.0->spacy-transformers<1.3.0,>=1.2.0.dev0->en-core-web-trf==3.5.0)\n",
            "  Downloading safetensors-0.3.1-cp310-cp310-manylinux_2_17_x86_64.manylinux2014_x86_64.whl (1.3 MB)\n",
            "\u001b[2K     \u001b[90m━━━━━━━━━━━━━━━━━━━━━━━━━━━━━━━━━━━━━━━━\u001b[0m \u001b[32m1.3/1.3 MB\u001b[0m \u001b[31m80.4 MB/s\u001b[0m eta \u001b[36m0:00:00\u001b[0m\n",
            "\u001b[?25hRequirement already satisfied: click<9.0.0,>=7.1.1 in /usr/local/lib/python3.10/dist-packages (from typer<0.10.0,>=0.3.0->spacy<3.6.0,>=3.5.0->en-core-web-trf==3.5.0) (8.1.4)\n",
            "Requirement already satisfied: MarkupSafe>=2.0 in /usr/local/lib/python3.10/dist-packages (from jinja2->spacy<3.6.0,>=3.5.0->en-core-web-trf==3.5.0) (2.1.3)\n",
            "Requirement already satisfied: fsspec in /usr/local/lib/python3.10/dist-packages (from huggingface-hub<1.0,>=0.14.1->transformers<4.31.0,>=3.4.0->spacy-transformers<1.3.0,>=1.2.0.dev0->en-core-web-trf==3.5.0) (2023.6.0)\n",
            "Requirement already satisfied: mpmath>=0.19 in /usr/local/lib/python3.10/dist-packages (from sympy->torch>=1.8.0->spacy-transformers<1.3.0,>=1.2.0.dev0->en-core-web-trf==3.5.0) (1.3.0)\n",
            "Installing collected packages: tokenizers, safetensors, spacy-alignments, huggingface-hub, transformers, spacy-transformers, en-core-web-trf\n",
            "Successfully installed en-core-web-trf-3.5.0 huggingface-hub-0.16.4 safetensors-0.3.1 spacy-alignments-0.9.0 spacy-transformers-1.2.5 tokenizers-0.13.3 transformers-4.30.2\n",
            "\u001b[38;5;2m✔ Download and installation successful\u001b[0m\n",
            "You can now load the package via spacy.load('en_core_web_trf')\n"
          ]
        }
      ],
      "source": [
        "import os\n",
        "import cv2\n",
        "import tensorflow as tf\n",
        "import numpy as np\n",
        "from typing import List\n",
        "from matplotlib import pyplot as plt\n",
        "import imageio\n",
        "import gdown\n",
        "import tempfile\n",
        "import shutil\n",
        "\n",
        "from keras.models import Sequential\n",
        "from keras.layers import Conv3D, LSTM, Dense, Dropout, Bidirectional, MaxPool3D, Activation, Reshape, SpatialDropout3D, BatchNormalization, TimeDistributed, Flatten\n",
        "from keras.optimizers import Adam\n",
        "from keras.callbacks import ModelCheckpoint, LearningRateScheduler\n",
        "\n",
        "! pip install -q Levenshtein\n",
        "! python -q -m spacy download en_core_web_trf\n",
        "\n",
        "from sklearn.metrics import accuracy_score\n",
        "from scipy import spatial\n",
        "import en_core_web_sm\n",
        "import Levenshtein\n",
        "import nltk\n",
        "import dlib\n",
        "from datetime import datetime\n",
        "\n",
        "from skimage import exposure\n",
        "\n"
      ],
      "id": "b24af50c-20b8-409d-ad78-30a933fdd669"
    },
    {
      "cell_type": "markdown",
      "metadata": {
        "id": "7a19e88e-c7b9-45c1-ae1e-f2109329c71b"
      },
      "source": [
        "# Build Data Loading Functions"
      ],
      "id": "7a19e88e-c7b9-45c1-ae1e-f2109329c71b"
    },
    {
      "cell_type": "code",
      "execution_count": 2,
      "metadata": {
        "id": "VJap7mC26-hO"
      },
      "outputs": [],
      "source": [
        "selected_speakers = [1,2,3]"
      ],
      "id": "VJap7mC26-hO"
    },
    {
      "cell_type": "code",
      "execution_count": 3,
      "metadata": {
        "colab": {
          "base_uri": "https://localhost:8080/"
        },
        "id": "TPvCc0ST5xs9",
        "outputId": "40fab9e0-4d19-4a89-c04b-47999ffced26"
      },
      "outputs": [
        {
          "output_type": "stream",
          "name": "stdout",
          "text": [
            "Downloading...\n",
            "From: https://drive.google.com/uc?id=1aTA8ZhsRgMZl9R8RfznomuXYxVkgCyz_\n",
            "To: /content/s1.zip\n",
            "100% 423M/423M [00:09<00:00, 42.8MB/s]\n",
            "Downloading...\n",
            "From: https://drive.google.com/uc?id=1h8gmAbmnOKBvzRKypyoGofjKHYAo8jSB\n",
            "To: /content/s1.tar\n",
            "100% 1.03M/1.03M [00:00<00:00, 149MB/s]\n",
            "Downloading...\n",
            "From: https://drive.google.com/uc?id=17N-eJZRRcfdBSvMu1dN4NtLT9TMIOyzx\n",
            "To: /content/s2.tar\n",
            "100% 1.03M/1.03M [00:00<00:00, 174MB/s]\n",
            "Downloading...\n",
            "From: https://drive.google.com/uc?id=1cpcxt0fC_aDeBP_b7p5uopfkZ-Tf_bJF\n",
            "To: /content/s3.tar\n",
            "100% 1.03M/1.03M [00:00<00:00, 142MB/s]\n",
            "Downloading...\n",
            "From: https://drive.google.com/uc?id=1p4Sz_0wpVplejcLZpOuzdX3hcqHxz67i\n",
            "To: /content/s2.zip\n",
            "100% 394M/394M [00:11<00:00, 34.0MB/s]\n",
            "Downloading...\n",
            "From: https://drive.google.com/uc?id=1Lav2IrypyYPkk5eRXiE4g2ODX53kF1Tk\n",
            "To: /content/s3.zip\n",
            "100% 393M/393M [00:12<00:00, 30.4MB/s]\n"
          ]
        }
      ],
      "source": [
        "#change\n",
        "# Download speaker 1 data from drive\n",
        "! gdown 1aTA8ZhsRgMZl9R8RfznomuXYxVkgCyz_\n",
        "! gdown 1h8gmAbmnOKBvzRKypyoGofjKHYAo8jSB\n",
        "# Download speaker 2 data from drive\n",
        "! gdown 17N-eJZRRcfdBSvMu1dN4NtLT9TMIOyzx\n",
        "! gdown 1cpcxt0fC_aDeBP_b7p5uopfkZ-Tf_bJF\n",
        "# Download speaker 3 data from drive\n",
        "! gdown 1p4Sz_0wpVplejcLZpOuzdX3hcqHxz67i\n",
        "! gdown 1Lav2IrypyYPkk5eRXiE4g2ODX53kF1Tk"
      ],
      "id": "TPvCc0ST5xs9"
    },
    {
      "cell_type": "code",
      "execution_count": 4,
      "metadata": {
        "colab": {
          "base_uri": "https://localhost:8080/"
        },
        "id": "gsJ26Umg6RjU",
        "outputId": "476b4ef4-5086-4a7f-eebb-9b3e40d91501"
      },
      "outputs": [
        {
          "output_type": "stream",
          "name": "stdout",
          "text": [
            "Archive:  s1.zip\n",
            "   creating: data/videos/s1/\n",
            "  inflating: data/videos/s1/swio1s.mpg  \n",
            "  inflating: data/videos/s1/prii9a.mpg  \n",
            "  inflating: data/videos/s1/sgwp9s.mpg  \n",
            "  inflating: data/videos/s1/lwws5s.mpg  \n",
            "  inflating: data/videos/s1/bbal8p.mpg  \n",
            "  inflating: data/videos/s1/pwwrzp.mpg  \n",
            "  inflating: data/videos/s1/pwwezn.mpg  \n",
            "  inflating: data/videos/s1/sgivzn.mpg  \n",
            "  inflating: data/videos/s1/swwi9s.mpg  \n",
            "  inflating: data/videos/s1/lgwtzn.mpg  \n",
            "  inflating: data/videos/s1/sgii2n.mpg  \n",
            "  inflating: data/videos/s1/lwwm3a.mpg  \n",
            "  inflating: data/videos/s1/pbio4n.mpg  \n",
            "  inflating: data/videos/s1/pbbc5s.mpg  \n",
            "  inflating: data/videos/s1/sgap2p.mpg  \n",
            "  inflating: data/videos/s1/brwt5s.mpg  \n",
            "  inflating: data/videos/s1/bbbz8n.mpg  \n",
            "  inflating: data/videos/s1/pwip7s.mpg  \n",
            "  inflating: data/videos/s1/lwazzn.mpg  \n",
            "  inflating: data/videos/s1/bgwo5a.mpg  \n",
            "  inflating: data/videos/s1/pbbp5a.mpg  \n",
            "  inflating: data/videos/s1/prap5s.mpg  \n",
            "  inflating: data/videos/s1/bwat5a.mpg  \n",
            "  inflating: data/videos/s1/lbbezn.mpg  \n",
            "  inflating: data/videos/s1/bbwtzp.mpg  \n",
            "  inflating: data/videos/s1/lwar8p.mpg  \n",
            "  inflating: data/videos/s1/pgbr2p.mpg  \n",
            "  inflating: data/videos/s1/bgwizp.mpg  \n",
            "  inflating: data/videos/s1/pbapzp.mpg  \n",
            "  inflating: data/videos/s1/pwix1s.mpg  \n",
            "  inflating: data/videos/s1/lbby5a.mpg  \n",
            "  inflating: data/videos/s1/pbaczn.mpg  \n",
            "  inflating: data/videos/s1/prbx2n.mpg  \n",
            "  inflating: data/videos/s1/sgac3s.mpg  \n",
            "  inflating: data/videos/s1/swih8p.mpg  \n",
            "  inflating: data/videos/s1/sgwq1a.mpg  \n",
            "  inflating: data/videos/s1/pbii2p.mpg  \n",
            "  inflating: data/videos/s1/lrby8n.mpg  \n",
            "  inflating: data/videos/s1/bgwu7s.mpg  \n",
            "  inflating: data/videos/s1/pbwx1s.mpg  \n",
            "  inflating: data/videos/s1/bwbn3s.mpg  \n",
            "  inflating: data/videos/s1/bwwbzp.mpg  \n",
            "  inflating: data/videos/s1/pgbk8p.mpg  \n",
            "  inflating: data/videos/s1/lrie1a.mpg  \n",
            "  inflating: data/videos/s1/lbad9a.mpg  \n",
            "  inflating: data/videos/s1/srihzn.mpg  \n",
            "  inflating: data/videos/s1/pgaezp.mpg  \n",
            "  inflating: data/videos/s1/pwbx8n.mpg  \n",
            "  inflating: data/videos/s1/pgwlzn.mpg  \n",
            "  inflating: data/videos/s1/lwbf4p.mpg  \n",
            "  inflating: data/videos/s1/lgwm6n.mpg  \n",
            "  inflating: data/videos/s1/prbx4p.mpg  \n",
            "  inflating: data/videos/s1/srwo9a.mpg  \n",
            "  inflating: data/videos/s1/sgbp5s.mpg  \n",
            "  inflating: data/videos/s1/bgaa9a.mpg  \n",
            "  inflating: data/videos/s1/bgit7a.mpg  \n",
            "  inflating: data/videos/s1/srwc1a.mpg  \n",
            "  inflating: data/videos/s1/sban3s.mpg  \n",
            "  inflating: data/videos/s1/srin5s.mpg  \n",
            "  inflating: data/videos/s1/sbag9s.mpg  \n",
            "  inflating: data/videos/s1/pbwp8p.mpg  \n",
            "  inflating: data/videos/s1/srab1s.mpg  \n",
            "  inflating: data/videos/s1/bwwu3a.mpg  \n",
            "  inflating: data/videos/s1/swwv6n.mpg  \n",
            "  inflating: data/videos/s1/lbix7a.mpg  \n",
            "  inflating: data/videos/s1/srau2n.mpg  \n",
            "  inflating: data/videos/s1/bbil2n.mpg  \n",
            "  inflating: data/videos/s1/bbbs4n.mpg  \n",
            "  inflating: data/videos/s1/srih2p.mpg  \n",
            "  inflating: data/videos/s1/bginzn.mpg  \n",
            "  inflating: data/videos/s1/swbpzp.mpg  \n",
            "  inflating: data/videos/s1/bwba6p.mpg  \n",
            "  inflating: data/videos/s1/pwbyzp.mpg  \n",
            "  inflating: data/videos/s1/bwwa8n.mpg  \n",
            "  inflating: data/videos/s1/lrwz2n.mpg  \n",
            "  inflating: data/videos/s1/pgwzzp.mpg  \n",
            "  inflating: data/videos/s1/sgac2n.mpg  \n",
            "  inflating: data/videos/s1/bwbhzp.mpg  \n",
            "  inflating: data/videos/s1/sbba8n.mpg  \n",
            "  inflating: data/videos/s1/pwwk4n.mpg  \n",
            "  inflating: data/videos/s1/prwx7s.mpg  \n",
            "  inflating: data/videos/s1/swbczn.mpg  \n",
            "  inflating: data/videos/s1/bras8p.mpg  \n",
            "  inflating: data/videos/s1/bwbn5a.mpg  \n",
            "  inflating: data/videos/s1/lrws1a.mpg  \n",
            "  inflating: data/videos/s1/sgiv3a.mpg  \n",
            "  inflating: data/videos/s1/pgij9s.mpg  \n",
            "  inflating: data/videos/s1/lwie4n.mpg  \n",
            "  inflating: data/videos/s1/bwwn8p.mpg  \n",
            "  inflating: data/videos/s1/prbd2p.mpg  \n",
            "  inflating: data/videos/s1/sban5a.mpg  \n",
            "  inflating: data/videos/s1/bwbg9s.mpg  \n",
            "  inflating: data/videos/s1/swwc6p.mpg  \n",
            "  inflating: data/videos/s1/bbir8p.mpg  \n",
            "  inflating: data/videos/s1/sbwb5a.mpg  \n",
            "  inflating: data/videos/s1/prbj5s.mpg  \n",
            "  inflating: data/videos/s1/sgiczp.mpg  \n",
            "  inflating: data/videos/s1/lgil5s.mpg  \n",
            "  inflating: data/videos/s1/prap7a.mpg  \n",
            "  inflating: data/videos/s1/sgbv8n.mpg  \n",
            "  inflating: data/videos/s1/lbiq3a.mpg  \n",
            "  inflating: data/videos/s1/sgac4p.mpg  \n",
            "  inflating: data/videos/s1/swih7s.mpg  \n",
            "  inflating: data/videos/s1/lwbs3a.mpg  \n",
            "  inflating: data/videos/s1/srab2p.mpg  \n",
            "  inflating: data/videos/s1/bgan4n.mpg  \n",
            "  inflating: data/videos/s1/prwj9s.mpg  \n",
            "  inflating: data/videos/s1/sgwd3a.mpg  \n",
            "  inflating: data/videos/s1/pwaj6n.mpg  \n",
            "  inflating: data/videos/s1/bwis9s.mpg  \n",
            "  inflating: data/videos/s1/bbaz4n.mpg  \n",
            "  inflating: data/videos/s1/sgav4n.mpg  \n",
            "  inflating: data/videos/s1/lbwe6p.mpg  \n",
            "  inflating: data/videos/s1/lrae2n.mpg  \n",
            "  inflating: data/videos/s1/pbwj5a.mpg  \n",
            "  inflating: data/videos/s1/bbbm2p.mpg  \n",
            "  inflating: data/videos/s1/bgwo4p.mpg  \n",
            "  inflating: data/videos/s1/pgwe8p.mpg  \n",
            "  inflating: data/videos/s1/srbu9a.mpg  \n",
            "  inflating: data/videos/s1/bris5a.mpg  \n",
            "  inflating: data/videos/s1/bbwm6p.mpg  \n",
            "  inflating: data/videos/s1/pgwr7a.mpg  \n",
            "  inflating: data/videos/s1/sbbh4p.mpg  \n",
            "  inflating: data/videos/s1/srabzn.mpg  \n",
            "  inflating: data/videos/s1/lrarzn.mpg  \n",
            "  inflating: data/videos/s1/praxzp.mpg  \n",
            "  inflating: data/videos/s1/pgiq2n.mpg  \n",
            "  inflating: data/videos/s1/pwixzn.mpg  \n",
            "  inflating: data/videos/s1/bbwm5s.mpg  \n",
            "  inflating: data/videos/s1/lrbr7a.mpg  \n",
            "  inflating: data/videos/s1/lgamzp.mpg  \n",
            "  inflating: data/videos/s1/pgay2p.mpg  \n",
            "  inflating: data/videos/s1/braf9s.mpg  \n",
            "  inflating: data/videos/s1/bgia4p.mpg  \n",
            "  inflating: data/videos/s1/pgay1s.mpg  \n",
            "  inflating: data/videos/s1/sgii4p.mpg  \n",
            "  inflating: data/videos/s1/srau5a.mpg  \n",
            "  inflating: data/videos/s1/lbbk7a.mpg  \n",
            "  inflating: data/videos/s1/pwad5a.mpg  \n",
            "  inflating: data/videos/s1/bwbt8p.mpg  \n",
            "  inflating: data/videos/s1/pbbc7a.mpg  \n",
            "  inflating: data/videos/s1/pwbk1s.mpg  \n",
            "  inflating: data/videos/s1/bgbu4p.mpg  \n",
            "  inflating: data/videos/s1/bgbh4n.mpg  \n",
            "  inflating: data/videos/s1/lrwl5s.mpg  \n",
            "  inflating: data/videos/s1/pwaqzn.mpg  \n",
            "  inflating: data/videos/s1/lgil4n.mpg  \n",
            "  inflating: data/videos/s1/brbg2n.mpg  \n",
            "  inflating: data/videos/s1/lrbe6n.mpg  \n",
            "  inflating: data/videos/s1/sgai6n.mpg  \n",
            "  inflating: data/videos/s1/pbbi8n.mpg  \n",
            "  inflating: data/videos/s1/praj2p.mpg  \n",
            "  inflating: data/videos/s1/pgaq9a.mpg  \n",
            "  inflating: data/videos/s1/pbbp4p.mpg  \n",
            "  inflating: data/videos/s1/swwp5a.mpg  \n",
            "  inflating: data/videos/s1/pric5a.mpg  \n",
            "  inflating: data/videos/s1/bwwh5a.mpg  \n",
            "  inflating: data/videos/s1/pwwy5a.mpg  \n",
            "  inflating: data/videos/s1/brbm8p.mpg  \n",
            "  inflating: data/videos/s1/sgbj1s.mpg  \n",
            "  inflating: data/videos/s1/brwt6p.mpg  \n",
            "  inflating: data/videos/s1/sgai9a.mpg  \n",
            "  inflating: data/videos/s1/srah4n.mpg  \n",
            "  inflating: data/videos/s1/lgaf6p.mpg  \n",
            "  inflating: data/videos/s1/bwigzn.mpg  \n",
            "  inflating: data/videos/s1/swav1a.mpg  \n",
            "  inflating: data/videos/s1/sbwh8p.mpg  \n",
            "  inflating: data/videos/s1/sria7s.mpg  \n",
            "  inflating: data/videos/s1/bwat3s.mpg  \n",
            "  inflating: data/videos/s1/lrae3s.mpg  \n",
            "  inflating: data/videos/s1/srao1a.mpg  \n",
            "  inflating: data/videos/s1/prip2p.mpg  \n",
            "  inflating: data/videos/s1/bgin2p.mpg  \n",
            "  inflating: data/videos/s1/swib5a.mpg  \n",
            "  inflating: data/videos/s1/lrak9a.mpg  \n",
            "  inflating: data/videos/s1/swbo9s.mpg  \n",
            "  inflating: data/videos/s1/swwv9a.mpg  \n",
            "  inflating: data/videos/s1/lgwg2n.mpg  \n",
            "  inflating: data/videos/s1/prbdzn.mpg  \n",
            "  inflating: data/videos/s1/sbaa6p.mpg  \n",
            "  inflating: data/videos/s1/lwwf9a.mpg  \n",
            "  inflating: data/videos/s1/sran9s.mpg  \n",
            "  inflating: data/videos/s1/bwag4n.mpg  \n",
            "  inflating: data/videos/s1/sbig5s.mpg  \n",
            "  inflating: data/videos/s1/priv5s.mpg  \n",
            "  inflating: data/videos/s1/pwad4p.mpg  \n",
            "  inflating: data/videos/s1/bgbn8n.mpg  \n",
            "  inflating: data/videos/s1/lbwk9s.mpg  \n",
            "  inflating: data/videos/s1/bbiz3a.mpg  \n",
            "  inflating: data/videos/s1/prwx9a.mpg  \n",
            "  inflating: data/videos/s1/lwbf2n.mpg  \n",
            "  inflating: data/videos/s1/lwbf5a.mpg  \n",
            "  inflating: data/videos/s1/pwbd8p.mpg  \n",
            "  inflating: data/videos/s1/lbwr5a.mpg  \n",
            "  inflating: data/videos/s1/pbivzp.mpg  \n",
            "  inflating: data/videos/s1/swiu5s.mpg  \n",
            "  inflating: data/videos/s1/brimzp.mpg  \n",
            "  inflating: data/videos/s1/bgig8p.mpg  \n",
            "  inflating: data/videos/s1/pwby1a.mpg  \n",
            "  inflating: data/videos/s1/pbbc4n.mpg  \n",
            "  inflating: data/videos/s1/swbi5s.mpg  \n",
            "  inflating: data/videos/s1/bbie8n.mpg  \n",
            "  inflating: data/videos/s1/brba1a.mpg  \n",
            "  inflating: data/videos/s1/prbqzp.mpg  \n",
            "  inflating: data/videos/s1/lrid8n.mpg  \n",
            "  inflating: data/videos/s1/lwbz5s.mpg  \n",
            "  inflating: data/videos/s1/bwitzp.mpg  \n",
            "  inflating: data/videos/s1/sgbc9a.mpg  \n",
            "  inflating: data/videos/s1/lrik2n.mpg  \n",
            "  inflating: data/videos/s1/bwbn4p.mpg  \n",
            "  inflating: data/videos/s1/bbbs7a.mpg  \n",
            "  inflating: data/videos/s1/bbas1s.mpg  \n",
            "  inflating: data/videos/s1/brag1a.mpg  \n",
            "  inflating: data/videos/s1/swbv3s.mpg  \n",
            "  inflating: data/videos/s1/sgav5s.mpg  \n",
            "  inflating: data/videos/s1/sbwb2n.mpg  \n",
            "  inflating: data/videos/s1/bbwgzn.mpg  \n",
            "  inflating: data/videos/s1/pwix3a.mpg  \n",
            "  inflating: data/videos/s1/prap6p.mpg  \n",
            "  inflating: data/videos/s1/lrwszp.mpg  \n",
            "  inflating: data/videos/s1/lgiz5a.mpg  \n",
            "  inflating: data/videos/s1/pwip9a.mpg  \n",
            "  inflating: data/videos/s1/sbig4n.mpg  \n",
            "  inflating: data/videos/s1/swao7a.mpg  \n",
            "  inflating: data/videos/s1/pwbkzn.mpg  \n",
            "  inflating: data/videos/s1/sria9a.mpg  \n",
            "  inflating: data/videos/s1/bwig2p.mpg  \n",
            "  inflating: data/videos/s1/bwim5s.mpg  \n",
            "  inflating: data/videos/s1/srwi3s.mpg  \n",
            "  inflating: data/videos/s1/bbbf9a.mpg  \n",
            "  inflating: data/videos/s1/pgiq3s.mpg  \n",
            "  inflating: data/videos/s1/sria6n.mpg  \n",
            "  inflating: data/videos/s1/pwwk5s.mpg  \n",
            "  inflating: data/videos/s1/pwwy3s.mpg  \n",
            "  inflating: data/videos/s1/pgbe4p.mpg  \n",
            "  inflating: data/videos/s1/lbbe2p.mpg  \n",
            "  inflating: data/videos/s1/lrar2p.mpg  \n",
            "  inflating: data/videos/s1/lbwe5s.mpg  \n",
            "  inflating: data/videos/s1/lgaz9a.mpg  \n",
            "  inflating: data/videos/s1/pgbr1s.mpg  \n",
            "  inflating: data/videos/s1/bril9s.mpg  \n",
            "  inflating: data/videos/s1/lrae4p.mpg  \n",
            "  inflating: data/videos/s1/brwa4p.mpg  \n",
            "  inflating: data/videos/s1/lwik8n.mpg  \n",
            "  inflating: data/videos/s1/lbid2n.mpg  \n",
            "  inflating: data/videos/s1/pwbq5s.mpg  \n",
            "  inflating: data/videos/s1/lrwl7a.mpg  \n",
            "  inflating: data/videos/s1/prwd7a.mpg  \n",
            "  inflating: data/videos/s1/srwi5a.mpg  \n",
            "  inflating: data/videos/s1/brwg6n.mpg  \n",
            "  inflating: data/videos/s1/sgapzn.mpg  \n",
            "  inflating: data/videos/s1/lwws4n.mpg  \n",
            "  inflating: data/videos/s1/lray5s.mpg  \n",
            "  inflating: data/videos/s1/pbiu8n.mpg  \n",
            "  inflating: data/videos/s1/lgwa1a.mpg  \n",
            "  inflating: data/videos/s1/lwie5s.mpg  \n",
            "  inflating: data/videos/s1/lgwg5a.mpg  \n",
            "  inflating: data/videos/s1/swbv4p.mpg  \n",
            "  inflating: data/videos/s1/sgio9a.mpg  \n",
            "  inflating: data/videos/s1/lbbk6p.mpg  \n",
            "  inflating: data/videos/s1/bgaa8p.mpg  \n",
            "  inflating: data/videos/s1/lriyzn.mpg  \n",
            "  inflating: data/videos/s1/pbib9a.mpg  \n",
            "  inflating: data/videos/s1/prii7s.mpg  \n",
            "  inflating: data/videos/s1/swab9a.mpg  \n",
            "  inflating: data/videos/s1/lbij6n.mpg  \n",
            "  inflating: data/videos/s1/pgwz1a.mpg  \n",
            "  inflating: data/videos/s1/pbwj2n.mpg  \n",
            "  inflating: data/videos/s1/swio2p.mpg  \n",
            "  inflating: data/videos/s1/brbg5a.mpg  \n",
            "  inflating: data/videos/s1/sbit3s.mpg  \n",
            "  inflating: data/videos/s1/pbib7s.mpg  \n",
            "  inflating: data/videos/s1/bragzp.mpg  \n",
            "  inflating: data/videos/s1/lbid4p.mpg  \n",
            "  inflating: data/videos/s1/lgwm7s.mpg  \n",
            "  inflating: data/videos/s1/pgix8p.mpg  \n",
            "  inflating: data/videos/s1/sbwozn.mpg  \n",
            "  inflating: data/videos/s1/pbwp7s.mpg  \n",
            "  inflating: data/videos/s1/priv7a.mpg  \n",
            "  inflating: data/videos/s1/sbwb3s.mpg  \n",
            "  inflating: data/videos/s1/pgik1a.mpg  \n",
            "  inflating: data/videos/s1/lbby3s.mpg  \n",
            "  inflating: data/videos/s1/briz7s.mpg  \n",
            "  inflating: data/videos/s1/pbwc9s.mpg  \n",
            "  inflating: data/videos/s1/lgal8n.mpg  \n",
            "  inflating: data/videos/s1/swai3a.mpg  \n",
            "  inflating: data/videos/s1/pbbv7s.mpg  \n",
            "  inflating: data/videos/s1/sbwo2p.mpg  \n",
            "  inflating: data/videos/s1/prwj8n.mpg  \n",
            "  inflating: data/videos/s1/lgwg4p.mpg  \n",
            "  inflating: data/videos/s1/bbie9s.mpg  \n",
            "  inflating: data/videos/s1/lwbz4n.mpg  \n",
            "  inflating: data/videos/s1/brwn2p.mpg  \n",
            "  inflating: data/videos/s1/lwwf8p.mpg  \n",
            "  inflating: data/videos/s1/sgap3a.mpg  \n",
            "  inflating: data/videos/s1/sgic1a.mpg  \n",
            "  inflating: data/videos/s1/bwwh2n.mpg  \n",
            "  inflating: data/videos/s1/pbai4n.mpg  \n",
            "  inflating: data/videos/s1/pgix9a.mpg  \n",
            "  inflating: data/videos/s1/swbi7a.mpg  \n",
            "  inflating: data/videos/s1/bgbb3a.mpg  \n",
            "  inflating: data/videos/s1/srbo5a.mpg  \n",
            "  inflating: data/videos/s1/prac8p.mpg  \n",
            "  inflating: data/videos/s1/lwbl6n.mpg  \n",
            "  inflating: data/videos/s1/lrwz4p.mpg  \n",
            "  inflating: data/videos/s1/lgbf9s.mpg  \n",
            "  inflating: data/videos/s1/bbir6n.mpg  \n",
            "  inflating: data/videos/s1/lbid5a.mpg  \n",
            "  inflating: data/videos/s1/bwan1a.mpg  \n",
            "  inflating: data/videos/s1/bram4p.mpg  \n",
            "  inflating: data/videos/s1/swbc1s.mpg  \n",
            "  inflating: data/videos/s1/sbwu6p.mpg  \n",
            "  inflating: data/videos/s1/prwd5s.mpg  \n",
            "  inflating: data/videos/s1/srwi2n.mpg  \n",
            "  inflating: data/videos/s1/brif4n.mpg  \n",
            "  inflating: data/videos/s1/bwag6p.mpg  \n",
            "  inflating: data/videos/s1/pwbq4n.mpg  \n",
            "  inflating: data/videos/s1/lbix5s.mpg  \n",
            "  inflating: data/videos/s1/lgis1a.mpg  \n",
            "  inflating: data/videos/s1/pwwk6p.mpg  \n",
            "  inflating: data/videos/s1/lwbl9a.mpg  \n",
            "  inflating: data/videos/s1/lgas3s.mpg  \n",
            "  inflating: data/videos/s1/lrwfzn.mpg  \n",
            "  inflating: data/videos/s1/bgbh6p.mpg  \n",
            "  inflating: data/videos/s1/prbq1a.mpg  \n",
            "  inflating: data/videos/s1/srih1s.mpg  \n",
            "  inflating: data/videos/s1/bbaf3s.mpg  \n",
            "  inflating: data/videos/s1/lbwlzp.mpg  \n",
            "  inflating: data/videos/s1/pgwl3a.mpg  \n",
            "  inflating: data/videos/s1/lbaq4n.mpg  \n",
            "  inflating: data/videos/s1/lbwr2n.mpg  \n",
            "  inflating: data/videos/s1/lwafzp.mpg  \n",
            "  inflating: data/videos/s1/lbid3s.mpg  \n",
            "  inflating: data/videos/s1/lbay1a.mpg  \n",
            "  inflating: data/videos/s1/swiu4n.mpg  \n",
            "  inflating: data/videos/s1/srbb4n.mpg  \n",
            "  inflating: data/videos/s1/lrik4p.mpg  \n",
            "  inflating: data/videos/s1/lrby9s.mpg  \n",
            "  inflating: data/videos/s1/bgbn9s.mpg  \n",
            "  inflating: data/videos/s1/bwaa2p.mpg  \n",
            "  inflating: data/videos/s1/pbii3a.mpg  \n",
            "  inflating: data/videos/s1/sbwh9a.mpg  \n",
            "  inflating: data/videos/s1/pwwy4p.mpg  \n",
            "  inflating: data/videos/s1/pbio7a.mpg  \n",
            "  inflating: data/videos/s1/sgwx4p.mpg  \n",
            "  inflating: data/videos/s1/lgbg1a.mpg  \n",
            "  inflating: data/videos/s1/srwczp.mpg  \n",
            "  inflating: data/videos/s1/swwp3s.mpg  \n",
            "  inflating: data/videos/s1/swiu6p.mpg  \n",
            "  inflating: data/videos/s1/lwilzp.mpg  \n",
            "  inflating: data/videos/s1/bwim4n.mpg  \n",
            "  inflating: data/videos/s1/bbil5a.mpg  \n",
            "  inflating: data/videos/s1/bbwm7a.mpg  \n",
            "  inflating: data/videos/s1/sbbu1s.mpg  \n",
            "  inflating: data/videos/s1/pwix2p.mpg  \n",
            "  inflating: data/videos/s1/lrwf3a.mpg  \n",
            "  inflating: data/videos/s1/pbwx3a.mpg  \n",
            "  inflating: data/videos/s1/lbbrzp.mpg  \n",
            "  inflating: data/videos/s1/lwir5a.mpg  \n",
            "  inflating: data/videos/s1/sbbuzn.mpg  \n",
            "  inflating: data/videos/s1/brwt4n.mpg  \n",
            "  inflating: data/videos/s1/srih3a.mpg  \n",
            "  inflating: data/videos/s1/lwaz3a.mpg  \n",
            "  inflating: data/videos/s1/srin7a.mpg  \n",
            "  inflating: data/videos/s1/bgah1s.mpg  \n",
            "  inflating: data/videos/s1/pbav4p.mpg  \n",
            "  inflating: data/videos/s1/bbbm1s.mpg  \n",
            "  inflating: data/videos/s1/sgai7s.mpg  \n",
            "  inflating: data/videos/s1/lwaf1a.mpg  \n",
            "  inflating: data/videos/s1/priv4n.mpg  \n",
            "  inflating: data/videos/s1/bgah2p.mpg  \n",
            "  inflating: data/videos/s1/lriy2p.mpg  \n",
            "  inflating: data/videos/s1/lgas2n.mpg  \n",
            "  inflating: data/videos/s1/sgwj6p.mpg  \n",
            "  inflating: data/videos/s1/sgbj3a.mpg  \n",
            "  inflating: data/videos/s1/pgij8n.mpg  \n",
            "  inflating: data/videos/s1/bbbf7s.mpg  \n",
            "  inflating: data/videos/s1/sbbh2n.mpg  \n",
            "  inflating: data/videos/s1/bwwh4p.mpg  \n",
            "  inflating: data/videos/s1/sbiazn.mpg  \n",
            "  inflating: data/videos/s1/bgwb5s.mpg  \n",
            "  inflating: data/videos/s1/pbii1s.mpg  \n",
            "  inflating: data/videos/s1/sbinzp.mpg  \n",
            "  inflating: data/videos/s1/swao5s.mpg  \n",
            "  inflating: data/videos/s1/sbaa5s.mpg  \n",
            "  inflating: data/videos/s1/sbat7s.mpg  \n",
            "  inflating: data/videos/s1/brwa2n.mpg  \n",
            "  inflating: data/videos/s1/pbbv9a.mpg  \n",
            "  inflating: data/videos/s1/swwp4p.mpg  \n",
            "  inflating: data/videos/s1/swab6n.mpg  \n",
            "  inflating: data/videos/s1/lgifzn.mpg  \n",
            "  inflating: data/videos/s1/pwbk2p.mpg  \n",
            "  inflating: data/videos/s1/prwd4n.mpg  \n",
            "  inflating: data/videos/s1/lwws6p.mpg  \n",
            "  inflating: data/videos/s1/lgbm4p.mpg  \n",
            "  inflating: data/videos/s1/bbaz5s.mpg  \n",
            "  inflating: data/videos/s1/swab7s.mpg  \n",
            "  inflating: data/videos/s1/brwn1s.mpg  \n",
            "  inflating: data/videos/s1/srah6p.mpg  \n",
            "  inflating: data/videos/s1/pgikzp.mpg  \n",
            "  inflating: data/videos/s1/lrwr9s.mpg  \n",
            "  inflating: data/videos/s1/bgig6n.mpg  \n",
            "  inflating: data/videos/s1/bgan5s.mpg  \n",
            "  inflating: data/videos/s1/lwbl8p.mpg  \n",
            "  inflating: data/videos/s1/prwx8p.mpg  \n",
            "  inflating: data/videos/s1/sgiv2p.mpg  \n",
            "  inflating: data/videos/s1/lriy1s.mpg  \n",
            "  inflating: data/videos/s1/bbil4p.mpg  \n",
            "  inflating: data/videos/s1/lwiy6n.mpg  \n",
            "  inflating: data/videos/s1/sbbb1a.mpg  \n",
            "  inflating: data/videos/s1/lriq7s.mpg  \n",
            "  inflating: data/videos/s1/bgwb7a.mpg  \n",
            "  inflating: data/videos/s1/lbij9a.mpg  \n",
            "  inflating: data/videos/s1/bbwg3a.mpg  \n",
            "  inflating: data/videos/s1/sban4p.mpg  \n",
            "  inflating: data/videos/s1/lbwk8n.mpg  \n",
            "  inflating: data/videos/s1/bbaf4p.mpg  \n",
            "  inflating: data/videos/s1/bgig9a.mpg  \n",
            "  inflating: data/videos/s1/sbat9a.mpg  \n",
            "  inflating: data/videos/s1/bbil3s.mpg  \n",
            "  inflating: data/videos/s1/prbp9s.mpg  \n",
            "  inflating: data/videos/s1/lgir8n.mpg  \n",
            "  inflating: data/videos/s1/srbo2n.mpg  \n",
            "  inflating: data/videos/s1/sbwo1s.mpg  \n",
            "  inflating: data/videos/s1/swau9s.mpg  \n",
            "  inflating: data/videos/s1/srwo6n.mpg  \n",
            "  inflating: data/videos/s1/bgia3s.mpg  \n",
            "  inflating: data/videos/s1/pgak4p.mpg  \n",
            "  inflating: data/videos/s1/sbig7a.mpg  \n",
            "  inflating: data/videos/s1/bgwi1a.mpg  \n",
            "  inflating: data/videos/s1/lray4n.mpg  \n",
            "  inflating: data/videos/s1/lwwmzn.mpg  \n",
            "  inflating: data/videos/s1/bbizzn.mpg  \n",
            "  inflating: data/videos/s1/bril8n.mpg  \n",
            "  inflating: data/videos/s1/sgbx1a.mpg  \n",
            "  inflating: data/videos/s1/pgbk7s.mpg  \n",
            "  inflating: data/videos/s1/lbaq7a.mpg  \n",
            "  inflating: data/videos/s1/bwaa1s.mpg  \n",
            "  inflating: data/videos/s1/lgaf4n.mpg  \n",
            "  inflating: data/videos/s1/lgbgzp.mpg  \n",
            "  inflating: data/videos/s1/bbbs5s.mpg  \n",
            "  inflating: data/videos/s1/prwq5a.mpg  \n",
            "  inflating: data/videos/s1/bbir9a.mpg  \n",
            "  inflating: data/videos/s1/srwv3a.mpg  \n",
            "  inflating: data/videos/s1/swai1s.mpg  \n",
            "  inflating: data/videos/s1/lwal4p.mpg  \n",
            "  inflating: data/videos/s1/sbia2p.mpg  \n",
            "  inflating: data/videos/s1/lbad7s.mpg  \n",
            "  inflating: data/videos/s1/pbwj3s.mpg  \n",
            "  inflating: data/videos/s1/brbt1s.mpg  \n",
            "  inflating: data/videos/s1/bwwb1a.mpg  \n",
            "  inflating: data/videos/s1/sbwh6n.mpg  \n",
            "  inflating: data/videos/s1/bgbb1s.mpg  \n",
            "  inflating: data/videos/s1/lwws7a.mpg  \n",
            "  inflating: data/videos/s1/bbal9a.mpg  \n",
            "  inflating: data/videos/s1/swao6p.mpg  \n",
            "  inflating: data/videos/s1/lrbe8p.mpg  \n",
            "  inflating: data/videos/s1/prbd1s.mpg  \n",
            "  inflating: data/videos/s1/sgbc6n.mpg  \n",
            "  inflating: data/videos/s1/pgid4n.mpg  \n",
            "  inflating: data/videos/s1/sgbc8p.mpg  \n",
            "  inflating: data/videos/s1/sbag8n.mpg  \n",
            "  inflating: data/videos/s1/pbwdzp.mpg  \n",
            "  inflating: data/videos/s1/lbad6n.mpg  \n",
            "  inflating: data/videos/s1/pgwr4n.mpg  \n",
            "  inflating: data/videos/s1/sgbv9s.mpg  \n",
            "  inflating: data/videos/s1/prip3a.mpg  \n",
            "  inflating: data/videos/s1/lbaq5s.mpg  \n",
            "  inflating: data/videos/s1/lwil1a.mpg  \n",
            "  inflating: data/videos/s1/lwir2n.mpg  \n",
            "  inflating: data/videos/s1/sriu1a.mpg  \n",
            "  inflating: data/videos/s1/pwbd9a.mpg  \n",
            "  inflating: data/videos/s1/bgbozp.mpg  \n",
            "  inflating: data/videos/s1/swib4p.mpg  \n",
            "  inflating: data/videos/s1/swwc5s.mpg  \n",
            "  inflating: data/videos/s1/bwba5s.mpg  \n",
            "  inflating: data/videos/s1/swih9a.mpg  \n",
            "  inflating: data/videos/s1/lbwr3s.mpg  \n",
            "  inflating: data/videos/s1/srbh9s.mpg  \n",
            "  inflating: data/videos/s1/prav8n.mpg  \n",
            "  inflating: data/videos/s1/pgae1a.mpg  \n",
            "  inflating: data/videos/s1/lwwz9s.mpg  \n",
            "  inflating: data/videos/s1/bgwu9a.mpg  \n",
            "  inflating: data/videos/s1/lwwm2p.mpg  \n",
            "  inflating: data/videos/s1/prav9s.mpg  \n",
            "  inflating: data/videos/s1/pgbk9a.mpg  \n",
            "  inflating: data/videos/s1/lgbs7s.mpg  \n",
            "  inflating: data/videos/s1/lgwt3a.mpg  \n",
            "  inflating: data/videos/s1/brwt7a.mpg  \n",
            "  inflating: data/videos/s1/bgwo3s.mpg  \n",
            "  inflating: data/videos/s1/lrwl4n.mpg  \n",
            "  inflating: data/videos/s1/lgwm9a.mpg  \n",
            "  inflating: data/videos/s1/sbah1a.mpg  \n",
            "  inflating: data/videos/s1/pwwe1s.mpg  \n",
            "  inflating: data/videos/s1/sgbjzn.mpg  \n",
            "  inflating: data/videos/s1/srbo4p.mpg  \n",
            "  inflating: data/videos/s1/lbax8n.mpg  \n",
            "  inflating: data/videos/s1/pbao8n.mpg  \n",
            "  inflating: data/videos/s1/sgwj7a.mpg  \n",
            "  inflating: data/videos/s1/bwig3a.mpg  \n",
            "  inflating: data/videos/s1/pbav3s.mpg  \n",
            "  inflating: data/videos/s1/lrid9s.mpg  \n",
            "  inflating: data/videos/s1/srbi1a.mpg  \n",
            "  inflating: data/videos/s1/bwam8n.mpg  \n",
            "  inflating: data/videos/s1/sgwx5a.mpg  \n",
            "  inflating: data/videos/s1/pbbp3s.mpg  \n",
            "  inflating: data/videos/s1/lwie6p.mpg  \n",
            "  inflating: data/videos/s1/bwaazn.mpg  \n",
            "  inflating: data/videos/s1/swih6n.mpg  \n",
            "  inflating: data/videos/s1/bbaszn.mpg  \n",
            "  inflating: data/videos/s1/prbj7a.mpg  \n",
            "  inflating: data/videos/s1/pwwe2p.mpg  \n",
            "  inflating: data/videos/s1/sbat8p.mpg  \n",
            "  inflating: data/videos/s1/bgat9s.mpg  \n",
            "  inflating: data/videos/s1/sbwo3a.mpg  \n",
            "  inflating: data/videos/s1/lgbm2n.mpg  \n",
            "  inflating: data/videos/s1/bwim6p.mpg  \n",
            "  inflating: data/videos/s1/lrbe7s.mpg  \n",
            "  inflating: data/videos/s1/brbt2p.mpg  \n",
            "  inflating: data/videos/s1/sbim8n.mpg  \n",
            "  inflating: data/videos/s1/srbu6n.mpg  \n",
            "  inflating: data/videos/s1/sbbn7s.mpg  \n",
            "  inflating: data/videos/s1/brbm6n.mpg  \n",
            "  inflating: data/videos/s1/pbap1a.mpg  \n",
            "  inflating: data/videos/s1/pbac1s.mpg  \n",
            "  inflating: data/videos/s1/pgayzn.mpg  \n",
            "  inflating: data/videos/s1/sgbp6p.mpg  \n",
            "  inflating: data/videos/s1/bris4p.mpg  \n",
            "  inflating: data/videos/s1/lbax9s.mpg  \n",
            "  inflating: data/videos/s1/bwbg8n.mpg  \n",
            "  inflating: data/videos/s1/lwir4p.mpg  \n",
            "  inflating: data/videos/s1/pwaq3a.mpg  \n",
            "  inflating: data/videos/s1/pric3s.mpg  \n",
            "  inflating: data/videos/s1/bbif1a.mpg  \n",
            "  inflating: data/videos/s1/lriezp.mpg  \n",
            "  inflating: data/videos/s1/swavzp.mpg  \n",
            "  inflating: data/videos/s1/prac9a.mpg  \n",
            "  inflating: data/videos/s1/bbwt1a.mpg  \n",
            "  inflating: data/videos/s1/lrbz1a.mpg  \n",
            "  inflating: data/videos/s1/bgan6p.mpg  \n",
            "  inflating: data/videos/s1/braf8n.mpg  \n",
            "  inflating: data/videos/s1/lwwf6n.mpg  \n",
            "  inflating: data/videos/s1/prbx5a.mpg  \n",
            "  inflating: data/videos/s1/bwwn6n.mpg  \n",
            "  inflating: data/videos/s1/bram5a.mpg  \n",
            "  inflating: data/videos/s1/bwwuzn.mpg  \n",
            "  inflating: data/videos/s1/bwag7a.mpg  \n",
            "  inflating: data/videos/s1/lgam1a.mpg  \n",
            "  inflating: data/videos/s1/swwv8p.mpg  \n",
            "  inflating: data/videos/s1/sgwqzp.mpg  \n",
            "  inflating: data/videos/s1/pgwr6p.mpg  \n",
            "  inflating: data/videos/s1/bgbu5a.mpg  \n",
            "  inflating: data/videos/s1/bwbt7s.mpg  \n",
            "  inflating: data/videos/s1/srwv1s.mpg  \n",
            "  inflating: data/videos/s1/lwar9a.mpg  \n",
            "  inflating: data/videos/s1/lwiy7s.mpg  \n",
            "  inflating: data/videos/s1/swiozn.mpg  \n",
            "  inflating: data/videos/s1/bbaf5a.mpg  \n",
            "  inflating: data/videos/s1/lwwz8n.mpg  \n",
            "  inflating: data/videos/s1/lray7a.mpg  \n",
            "  inflating: data/videos/s1/pbiv1a.mpg  \n",
            "  inflating: data/videos/s1/pbiizn.mpg  \n",
            "  inflating: data/videos/s1/pgbe5a.mpg  \n",
            "  inflating: data/videos/s1/lbwy9a.mpg  \n",
            "  inflating: data/videos/s1/srbh8n.mpg  \n",
            "  inflating: data/videos/s1/pwax7a.mpg  \n",
            "  inflating: data/videos/s1/bwba4n.mpg  \n",
            "  inflating: data/videos/s1/pgiq5a.mpg  \n",
            "  inflating: data/videos/s1/sgbj2p.mpg  \n",
            "  inflating: data/videos/s1/pwwe3a.mpg  \n",
            "  inflating: data/videos/s1/bwwh3s.mpg  \n",
            "  inflating: data/videos/s1/prwd6p.mpg  \n",
            "  inflating: data/videos/s1/brwg7s.mpg  \n",
            "  inflating: data/videos/s1/bwwu2p.mpg  \n",
            "  inflating: data/videos/s1/srwb8n.mpg  \n",
            "  inflating: data/videos/s1/pbwp9a.mpg  \n",
            "  inflating: data/videos/s1/lwbszn.mpg  \n",
            "  inflating: data/videos/s1/lrak6n.mpg  \n",
            "  inflating: data/videos/s1/lgal9s.mpg  \n",
            "  inflating: data/videos/s1/pwax6p.mpg  \n",
            "  inflating: data/videos/s1/pwbd7s.mpg  \n",
            "  inflating: data/videos/s1/lwal3s.mpg  \n",
            "  inflating: data/videos/s1/pgak5a.mpg  \n",
            "  inflating: data/videos/s1/pgwe7s.mpg  \n",
            "  inflating: data/videos/s1/lrbr4n.mpg  \n",
            "  inflating: data/videos/s1/pwwq9s.mpg  \n",
            "  inflating: data/videos/s1/lgif1s.mpg  \n",
            "  inflating: data/videos/s1/lwar6n.mpg  \n",
            "  inflating: data/videos/s1/pric2n.mpg  \n",
            "  inflating: data/videos/s1/pbai5s.mpg  \n",
            "  inflating: data/videos/s1/bgah3a.mpg  \n",
            "  inflating: data/videos/s1/prbj4n.mpg  \n",
            "  inflating: data/videos/s1/bbws8n.mpg  \n",
            "  inflating: data/videos/s1/lgil6p.mpg  \n",
            "  inflating: data/videos/s1/lbij8p.mpg  \n",
            "  inflating: data/videos/s1/bgin3a.mpg  \n",
            "  inflating: data/videos/s1/lrak8p.mpg  \n",
            "  inflating: data/videos/s1/lrar3a.mpg  \n",
            "  inflating: data/videos/s1/pbai7a.mpg  \n",
            "  inflating: data/videos/s1/pgwr5s.mpg  \n",
            "  inflating: data/videos/s1/pwic8n.mpg  \n",
            "  inflating: data/videos/s1/pgid7a.mpg  \n",
            "  inflating: data/videos/s1/sbahzp.mpg  \n",
            "  inflating: data/videos/s1/lwbs1s.mpg  \n",
            "  inflating: data/videos/s1/pgby5s.mpg  \n",
            "  inflating: data/videos/s1/lwbz7a.mpg  \n",
            "  inflating: data/videos/s1/pgaq8p.mpg  \n",
            "  inflating: data/videos/s1/lbbr1a.mpg  \n",
            "  inflating: data/videos/s1/pwbx9s.mpg  \n",
            "  inflating: data/videos/s1/srbo3s.mpg  \n",
            "  inflating: data/videos/s1/pbac2p.mpg  \n",
            "  inflating: data/videos/s1/prbx3s.mpg  \n",
            "  inflating: data/videos/s1/pbio5s.mpg  \n",
            "  inflating: data/videos/s1/pwwk7a.mpg  \n",
            "  inflating: data/videos/s1/lgwt1s.mpg  \n",
            "  inflating: data/videos/s1/bbwg2p.mpg  \n",
            "  inflating: data/videos/s1/priv6p.mpg  \n",
            "  inflating: data/videos/s1/bwit1a.mpg  \n",
            "  inflating: data/videos/s1/lwwf7s.mpg  \n",
            "  inflating: data/videos/s1/pbwd1a.mpg  \n",
            "  inflating: data/videos/s1/pgad9s.mpg  \n",
            "  inflating: data/videos/s1/srwo8p.mpg  \n",
            "  inflating: data/videos/s1/bbwg1s.mpg  \n",
            "  inflating: data/videos/s1/bbiz1s.mpg  \n",
            "  inflating: data/videos/s1/srwb9s.mpg  \n",
            "  inflating: data/videos/s1/lgbs6n.mpg  \n",
            "  inflating: data/videos/s1/pwwr1a.mpg  \n",
            "  inflating: data/videos/s1/lrik3s.mpg  \n",
            "  inflating: data/videos/s1/lrbr5s.mpg  \n",
            "  inflating: data/videos/s1/swib2n.mpg  \n",
            "  inflating: data/videos/s1/lrak7s.mpg  \n",
            "  inflating: data/videos/s1/lbix6p.mpg  \n",
            "  inflating: data/videos/s1/pgay3a.mpg  \n",
            "  inflating: data/videos/s1/sgbp4n.mpg  \n",
            "  inflating: data/videos/s1/praj3a.mpg  \n",
            "  inflating: data/videos/s1/swwp2n.mpg  \n",
            "  inflating: data/videos/s1/pbav5a.mpg  \n",
            "  inflating: data/videos/s1/swau8n.mpg  \n",
            "  inflating: data/videos/s1/briz9a.mpg  \n",
            "  inflating: data/videos/s1/bbas3a.mpg  \n",
            "  inflating: data/videos/s1/lwbs2p.mpg  \n",
            "  inflating: data/videos/s1/sgbxzp.mpg  \n",
            "  inflating: data/videos/s1/pgid6p.mpg  \n",
            "  inflating: data/videos/s1/bbifzp.mpg  \n",
            "  inflating: data/videos/s1/srbu7s.mpg  \n",
            "  inflating: data/videos/s1/lbwr4p.mpg  \n",
            "  inflating: data/videos/s1/brbtzn.mpg  \n",
            "  inflating: data/videos/s1/bbal7s.mpg  \n",
            "  inflating: data/videos/s1/srbizp.mpg  \n",
            "  inflating: data/videos/s1/sgap1s.mpg  \n",
            "  inflating: data/videos/s1/lgaz7s.mpg  \n",
            "  inflating: data/videos/s1/sbba9s.mpg  \n",
            "  inflating: data/videos/s1/lbbe3a.mpg  \n",
            "  inflating: data/videos/s1/swbv2n.mpg  \n",
            "  inflating: data/videos/s1/bwanzp.mpg  \n",
            "  inflating: data/videos/s1/prac6n.mpg  \n",
            "  inflating: data/videos/s1/sgio6n.mpg  \n",
            "  inflating: data/videos/s1/bgig7s.mpg  \n",
            "  inflating: data/videos/s1/lriq8p.mpg  \n",
            "  inflating: data/videos/s1/srwo7s.mpg  \n",
            "  inflating: data/videos/s1/sbit2n.mpg  \n",
            "  inflating: data/videos/s1/pbav2n.mpg  \n",
            "  inflating: data/videos/s1/sbbn8p.mpg  \n",
            "  inflating: data/videos/s1/lbaq6p.mpg  \n",
            "  inflating: data/videos/s1/brbg4p.mpg  \n",
            "  inflating: data/videos/s1/bgwu6n.mpg  \n",
            "  inflating: data/videos/s1/lwae8n.mpg  \n",
            "  inflating: data/videos/s1/bbaz6p.mpg  \n",
            "  inflating: data/videos/s1/bbbm3a.mpg  \n",
            "  inflating: data/videos/s1/lbwy6n.mpg  \n",
            "  inflating: data/videos/s1/brif5s.mpg  \n",
            "  inflating: data/videos/s1/bgbu2n.mpg  \n",
            "  inflating: data/videos/s1/lbby4p.mpg  \n",
            "  inflating: data/videos/s1/bgin1s.mpg  \n",
            "  inflating: data/videos/s1/pbib6n.mpg  \n",
            "  inflating: data/videos/s1/pwij4p.mpg  \n",
            "  inflating: data/videos/s1/bwig1s.mpg  \n",
            "  inflating: data/videos/s1/pgad8n.mpg  \n",
            "  inflating: data/videos/s1/lbiq1s.mpg  \n",
            "  inflating: data/videos/s1/swwc4n.mpg  \n",
            "  inflating: data/videos/s1/pbwx2p.mpg  \n",
            "  inflating: data/videos/s1/bgia5a.mpg  \n",
            "  inflating: data/videos/s1/bwat4p.mpg  \n",
            "  inflating: data/videos/s1/pbbv6n.mpg  \n",
            "  inflating: data/videos/s1/pwax4n.mpg  \n",
            "  inflating: data/videos/s1/sgwd1s.mpg  \n",
            "  inflating: data/videos/s1/lbbe1s.mpg  \n",
            "  inflating: data/videos/s1/sgii5a.mpg  \n",
            "  inflating: data/videos/s1/lbwe7a.mpg  \n",
            "  inflating: data/videos/s1/bwag5s.mpg  \n",
            "  inflating: data/videos/s1/pwaj7s.mpg  \n",
            "  inflating: data/videos/s1/pgbe2n.mpg  \n",
            "  inflating: data/videos/s1/bwwa9s.mpg  \n",
            "  inflating: data/videos/s1/pbbv8p.mpg  \n",
            "  inflating: data/videos/s1/bbbs6p.mpg  \n",
            "  inflating: data/videos/s1/prwx6n.mpg  \n",
            "  inflating: data/videos/s1/sbaa7a.mpg  \n",
            "  inflating: data/videos/s1/swbo8n.mpg  \n",
            "  inflating: data/videos/s1/prbp8n.mpg  \n",
            "  inflating: data/videos/s1/pwbq7a.mpg  \n",
            "  inflating: data/videos/s1/lbayzp.mpg  \n",
            "  inflating: data/videos/s1/pwax5s.mpg  \n",
            "  inflating: data/videos/s1/bwaa3a.mpg  \n",
            "  inflating: data/videos/s1/lgas5a.mpg  \n",
            "  inflating: data/videos/s1/srit9s.mpg  \n",
            "  inflating: data/videos/s1/prwkzp.mpg  \n",
            "  inflating: data/videos/s1/bbas2p.mpg  \n",
            "  inflating: data/videos/s1/lgwm8p.mpg  \n",
            "  inflating: data/videos/s1/lbak3a.mpg  \n",
            "  inflating: data/videos/s1/bgbu3s.mpg  \n",
            "  inflating: data/videos/s1/bwam9s.mpg  \n",
            "  inflating: data/videos/s1/lgaz6n.mpg  \n",
            "  inflating: data/videos/s1/sbat6n.mpg  \n",
            "  inflating: data/videos/s1/pbwxzn.mpg  \n",
            "  inflating: data/videos/s1/pgbe3s.mpg  \n",
            "  inflating: data/videos/s1/bgat8n.mpg  \n",
            "  inflating: data/videos/s1/pwbd6n.mpg  \n",
            "  inflating: data/videos/s1/lrbl2p.mpg  \n",
            "  inflating: data/videos/s1/lbbq9s.mpg  \n",
            "  inflating: data/videos/s1/bgia2n.mpg  \n",
            "  inflating: data/videos/s1/bram3s.mpg  \n",
            "  inflating: data/videos/s1/lrwz3s.mpg  \n",
            "  inflating: data/videos/s1/brwg9a.mpg  \n",
            "  inflating: data/videos/s1/srit8n.mpg  \n",
            "  inflating: data/videos/s1/pwaq1s.mpg  \n",
            "  inflating: data/videos/s1/lgaf5s.mpg  \n",
            "  inflating: data/videos/s1/swbv5a.mpg  \n",
            "  inflating: data/videos/s1/prwq3s.mpg  \n",
            "  inflating: data/videos/s1/brwa3s.mpg  \n",
            "  inflating: data/videos/s1/pbbjzp.mpg  \n",
            "  inflating: data/videos/s1/brwg8p.mpg  \n",
            "  inflating: data/videos/s1/bgwh8n.mpg  \n",
            "  inflating: data/videos/s1/bgan7a.mpg  \n",
            "  inflating: data/videos/s1/bwwu1s.mpg  \n",
            "  inflating: data/videos/s1/lwal5a.mpg  \n",
            "  inflating: data/videos/s1/pwaq2p.mpg  \n",
            "  inflating: data/videos/s1/lrae5a.mpg  \n",
            "  inflating: data/videos/s1/bras7s.mpg  \n",
            "  inflating: data/videos/s1/lriq6n.mpg  \n",
            "  inflating: data/videos/s1/swbc2p.mpg  \n",
            "  inflating: data/videos/s1/lbiqzn.mpg  \n",
            "  inflating: data/videos/s1/lwie7a.mpg  \n",
            "  inflating: data/videos/s1/lwar7s.mpg  \n",
            "  inflating: data/videos/s1/lgwazp.mpg  \n",
            "  inflating: data/videos/s1/bbiz2p.mpg  \n",
            "  inflating: data/videos/s1/srah5s.mpg  \n",
            "  inflating: data/videos/s1/sbwu7a.mpg  \n",
            "  inflating: data/videos/s1/bgwb4n.mpg  \n",
            "  inflating: data/videos/s1/sbin1a.mpg  \n",
            "  inflating: data/videos/s1/pwaj9a.mpg  \n",
            "  inflating: data/videos/s1/brbt3a.mpg  \n",
            "  inflating: data/videos/s1/sgwx3s.mpg  \n",
            "  inflating: data/videos/s1/sbia1s.mpg  \n",
            "  inflating: data/videos/s1/bras9a.mpg  \n",
            "  inflating: data/videos/s1/sbaa4n.mpg  \n",
            "  inflating: data/videos/s1/swaizn.mpg  \n",
            "  inflating: data/videos/s1/pgwl1s.mpg  \n",
            "  inflating: data/videos/s1/brwn3a.mpg  \n",
            "  inflating: data/videos/s1/srin6p.mpg  \n",
            "  inflating: data/videos/s1/srau4p.mpg  \n",
            "  inflating: data/videos/s1/pgbrzn.mpg  \n",
            "  inflating: data/videos/s1/lwik9s.mpg  \n",
            "  inflating: data/videos/s1/srwv2p.mpg  \n",
            "  inflating: data/videos/s1/sgai8p.mpg  \n",
            "  inflating: data/videos/s1/srbb6p.mpg  \n",
            "  inflating: data/videos/s1/srin4n.mpg  \n",
            "  inflating: data/videos/s1/bgwh9s.mpg  \n",
            "  inflating: data/videos/s1/lrar1s.mpg  \n",
            "  inflating: data/videos/s1/bgit5s.mpg  \n",
            "  inflating: data/videos/s1/pwbk3a.mpg  \n",
            "  inflating: data/videos/s1/swib3s.mpg  \n",
            "  inflating: data/videos/s1/lrwr8n.mpg  \n",
            "  inflating: data/videos/s1/lgbs9a.mpg  \n",
            "  inflating: data/videos/s1/lrbe9a.mpg  \n",
            "  inflating: data/videos/s1/sbwu5s.mpg  \n",
            "  inflating: data/videos/s1/pbao9s.mpg  \n",
            "  inflating: data/videos/s1/srwvzn.mpg  \n",
            "  inflating: data/videos/s1/lbak1s.mpg  \n",
            "  inflating: data/videos/s1/pgbk6n.mpg  \n",
            "  inflating: data/videos/s1/pwwy2n.mpg  \n",
            "  inflating: data/videos/s1/sbwb4p.mpg  \n",
            "  inflating: data/videos/s1/srwi4p.mpg  \n",
            "  inflating: data/videos/s1/pgak3s.mpg  \n",
            "  inflating: data/videos/s1/pwidzp.mpg  \n",
            "  inflating: data/videos/s1/lwiy8p.mpg  \n",
            "  inflating: data/videos/s1/lgaf7a.mpg  \n",
            "  inflating: data/videos/s1/pgwe6n.mpg  \n",
            "  inflating: data/videos/s1/bram2n.mpg  \n",
            "  inflating: data/videos/s1/sgwdzn.mpg  \n",
            "  inflating: data/videos/s1/lbix4n.mpg  \n",
            "  inflating: data/videos/s1/pgby4n.mpg  \n",
            "  inflating: data/videos/s1/bgbbzn.mpg  \n",
            "  inflating: data/videos/s1/pwid1a.mpg  \n",
            "  inflating: data/videos/s1/bwim7a.mpg  \n",
            "  inflating: data/videos/s1/lrblzn.mpg  \n",
            "  inflating: data/videos/s1/lbby2n.mpg  \n",
            "  inflating: data/videos/s1/sgac5a.mpg  \n",
            "  inflating: data/videos/s1/sria8p.mpg  \n",
            "  inflating: data/videos/s1/prac7s.mpg  \n",
            "  inflating: data/videos/s1/pgwe9a.mpg  \n",
            "  inflating: data/videos/s1/pgix7s.mpg  \n",
            "  inflating: data/videos/s1/pgby6p.mpg  \n",
            "  inflating: data/videos/s1/lgbm5a.mpg  \n",
            "  inflating: data/videos/s1/lbak2p.mpg  \n",
            "  inflating: data/videos/s1/lbwe4n.mpg  \n",
            "  inflating: data/videos/s1/pbai6p.mpg  \n",
            "  inflating: data/videos/s1/bbbmzn.mpg  \n",
            "  inflating: data/videos/s1/lrwf1s.mpg  \n",
            "  inflating: data/videos/s1/bbaz7a.mpg  \n",
            "  inflating: data/videos/s1/bgbb2p.mpg  \n",
            "  inflating: data/videos/s1/sgib9s.mpg  \n",
            "  inflating: data/videos/s1/brbg3s.mpg  \n",
            "  inflating: data/videos/s1/sgwj4n.mpg  \n",
            "  inflating: data/videos/s1/sgwj5s.mpg  \n",
            "  inflating: data/videos/s1/bwba7a.mpg  \n",
            "  inflating: data/videos/s1/bwwn9a.mpg  \n",
            "  inflating: data/videos/s1/bgahzn.mpg  \n",
            "  inflating: data/videos/s1/pbbj1a.mpg  \n",
            "  inflating: data/videos/s1/lgif3a.mpg  \n",
            "  inflating: data/videos/s1/bgaa6n.mpg  \n",
            "  inflating: data/videos/s1/pbio6p.mpg  \n",
            "  inflating: data/videos/s1/brbazp.mpg  \n",
            "  inflating: data/videos/s1/sban2n.mpg  \n",
            "  inflating: data/videos/s1/lwal2n.mpg  \n",
            "  inflating: data/videos/s1/briz6n.mpg  \n",
            "  inflating: data/videos/s1/lbiq2p.mpg  \n",
            "  inflating: data/videos/s1/pwad3s.mpg  \n",
            "  inflating: data/videos/s1/brif7a.mpg  \n",
            "  inflating: data/videos/s1/pbbc6p.mpg  \n",
            "  inflating: data/videos/s1/brwa5a.mpg  \n",
            "  inflating: data/videos/s1/sbbu3a.mpg  \n",
            "  inflating: data/videos/s1/lgir9s.mpg  \n",
            "  inflating: data/videos/s1/sgav7a.mpg  \n",
            "  inflating: data/videos/s1/lbwl1a.mpg  \n",
            "  inflating: data/videos/s1/pgak2n.mpg  \n",
            "  inflating: data/videos/s1/bbbf8p.mpg  \n",
            "  inflating: data/videos/s1/lbwy7s.mpg  \n",
            "  inflating: data/videos/s1/pwwq8n.mpg  \n",
            "  inflating: data/videos/s1/bgwo2n.mpg  \n",
            "  inflating: data/videos/s1/swiu7a.mpg  \n",
            "  inflating: data/videos/s1/lrbr6p.mpg  \n",
            "  inflating: data/videos/s1/lgbs8p.mpg  \n",
            "  inflating: data/videos/s1/pripzn.mpg  \n",
            "  inflating: data/videos/s1/bgit6p.mpg  \n",
            "  inflating: data/videos/s1/bwat2n.mpg  \n",
            "  inflating: data/videos/s1/pric4p.mpg  \n",
            "  inflating: data/videos/s1/lwbz6p.mpg  \n",
            "  inflating: data/videos/s1/bgbh5s.mpg  \n",
            "  inflating: data/videos/s1/lwaz1s.mpg  \n",
            "  inflating: data/videos/s1/bbaf2n.mpg  \n",
            "  inflating: data/videos/s1/pgwy8n.mpg  \n",
            "  inflating: data/videos/s1/lgwg3s.mpg  \n",
            "  inflating: data/videos/s1/lwaz2p.mpg  \n",
            "  inflating: data/videos/s1/pwij2n.mpg  \n",
            "  inflating: data/videos/s1/bgau1a.mpg  \n",
            "  inflating: data/videos/s1/lbakzn.mpg  \n",
            "  inflating: data/videos/s1/bwwn7s.mpg  \n",
            "  inflating: data/videos/s1/pgbr3a.mpg  \n",
            "  inflating: data/videos/s1/bgwb6p.mpg  \n",
            "  inflating: data/videos/s1/sgiv1s.mpg  \n",
            "  inflating: data/videos/s1/praj1s.mpg  \n",
            "  inflating: data/videos/s1/bras6n.mpg  \n",
            "  inflating: data/videos/s1/sbbn9a.mpg  \n",
            "  inflating: data/videos/s1/sbbu2p.mpg  \n",
            "  inflating: data/videos/s1/pwbq6p.mpg  \n",
            "  inflating: data/videos/s1/sbbbzp.mpg  \n",
            "  inflating: data/videos/s1/bgauzp.mpg  \n",
            "  inflating: data/videos/s1/prii6n.mpg  \n",
            "  inflating: data/videos/s1/bris2n.mpg  \n",
            "  inflating: data/videos/s1/srau3s.mpg  \n",
            "  inflating: data/videos/s1/pwad2n.mpg  \n",
            "  inflating: data/videos/s1/lgbf8n.mpg  \n",
            "  inflating: data/videos/s1/lbij7s.mpg  \n",
            "  inflating: data/videos/s1/lrwz5a.mpg  \n",
            "  inflating: data/videos/s1/sgio7s.mpg  \n",
            "  inflating: data/videos/s1/prap4n.mpg  \n",
            "  inflating: data/videos/s1/sgio8p.mpg  \n",
            "  inflating: data/videos/s1/pgiq4p.mpg  \n",
            "  inflating: data/videos/s1/lgas4p.mpg  \n",
            "  inflating: data/videos/s1/lbwy8p.mpg  \n",
            "  inflating: data/videos/s1/lwir3s.mpg  \n",
            "  inflating: data/videos/s1/brbm7s.mpg  \n",
            "  inflating: data/videos/s1/swbi4n.mpg  \n",
            "  inflating: data/videos/s1/swbp1a.mpg  \n",
            "  inflating: data/videos/s1/pwij3s.mpg  \n",
            "  inflating: data/videos/s1/bbal6n.mpg  \n",
            "  inflating: data/videos/s1/prbj6p.mpg  \n",
            "  inflating: data/videos/s1/lbbk4n.mpg  \n",
            "  inflating: data/videos/s1/bgwu8p.mpg  \n",
            "  inflating: data/videos/s1/bgbo1a.mpg  \n",
            "  inflating: data/videos/s1/sbwu4n.mpg  \n",
            "  inflating: data/videos/s1/pbib8p.mpg  \n",
            "  inflating: data/videos/s1/pbwj4p.mpg  \n",
            "  inflating: data/videos/s1/swwjzp.mpg  \n",
            "  inflating: data/videos/s1/prbd3a.mpg  \n",
            "  inflating: data/videos/s1/lrwl6p.mpg  \n",
            "  inflating: data/videos/s1/prwq2n.mpg  \n",
            "  inflating: data/videos/s1/sgbc7s.mpg  \n",
            "  inflating: data/videos/s1/sgwp8n.mpg  \n",
            "  inflating: data/videos/s1/prwk1a.mpg  \n",
            "  inflating: data/videos/s1/swab8p.mpg  \n",
            "  inflating: data/videos/s1/swio3a.mpg  \n",
            "  inflating: data/videos/s1/lbbk5s.mpg  \n",
            "  inflating: data/videos/s1/sraozp.mpg  \n",
            "  inflating: data/videos/s1/pwip8p.mpg  \n",
            "  inflating: data/videos/s1/swwi8n.mpg  \n",
            "  inflating: data/videos/s1/pgix6n.mpg  \n",
            "  inflating: data/videos/s1/lwbl7s.mpg  \n",
            "  inflating: data/videos/s1/lgbm3s.mpg  \n",
            "  inflating: data/videos/s1/pbbp2n.mpg  \n",
            "  inflating: data/videos/s1/prii8p.mpg  \n",
            "  inflating: data/videos/s1/bgbh7a.mpg  \n",
            "  inflating: data/videos/s1/swao4n.mpg  \n",
            "  inflating: data/videos/s1/lrbl1s.mpg  \n",
            "  inflating: data/videos/s1/pgwl2p.mpg  \n",
            "  inflating: data/videos/s1/lgiszp.mpg  \n",
            "  inflating: data/videos/s1/pbiu9s.mpg  \n",
            "  inflating: data/videos/s1/srbb7a.mpg  \n",
            "  inflating: data/videos/s1/bwbt6n.mpg  \n",
            "  inflating: data/videos/s1/sbbn6n.mpg  \n",
            "  inflating: data/videos/s1/bwis8n.mpg  \n",
            "  inflating: data/videos/s1/lgaz8p.mpg  \n",
            "  inflating: data/videos/s1/pgid5s.mpg  \n",
            "  inflating: data/videos/s1/sbig6p.mpg  \n",
            "  inflating: data/videos/s1/pgaq7s.mpg  \n",
            "  inflating: data/videos/s1/swbc3a.mpg  \n",
            "  inflating: data/videos/s1/brbm9a.mpg  \n",
            "  inflating: data/videos/s1/brim1a.mpg  \n",
            "  inflating: data/videos/s1/lwbf3s.mpg  \n",
            "  inflating: data/videos/s1/sbia3a.mpg  \n",
            "  inflating: data/videos/s1/bbwm4n.mpg  \n",
            "  inflating: data/videos/s1/prip1s.mpg  \n",
            "  inflating: data/videos/s1/sgbp7a.mpg  \n",
            "  inflating: data/videos/s1/sbbh5a.mpg  \n",
            "  inflating: data/videos/s1/lrik5a.mpg  \n",
            "  inflating: data/videos/s1/sgib8n.mpg  \n",
            "  inflating: data/videos/s1/lrbl3a.mpg  \n",
            "  inflating: data/videos/s1/pwij5a.mpg  \n",
            "  inflating: data/videos/s1/srah7a.mpg  \n",
            "  inflating: data/videos/s1/lbbq8n.mpg  \n",
            "  inflating: data/videos/s1/bbws9s.mpg  \n",
            "  inflating: data/videos/s1/lgiz2n.mpg  \n",
            "  inflating: data/videos/s1/lgiz3s.mpg  \n",
            "  inflating: data/videos/s1/sbwh7s.mpg  \n",
            "  inflating: data/videos/s1/swwc7a.mpg  \n",
            "  inflating: data/videos/s1/pbwp6n.mpg  \n",
            "  inflating: data/videos/s1/sgav6p.mpg  \n",
            "  inflating: data/videos/s1/prwq4p.mpg  \n",
            "  inflating: data/videos/s1/pgby7a.mpg  \n",
            "  inflating: data/videos/s1/lrwf2p.mpg  \n",
            "  inflating: data/videos/s1/sgwd2p.mpg  \n",
            "  inflating: data/videos/s1/sran8n.mpg  \n",
            "  inflating: data/videos/s1/swwv7s.mpg  \n",
            "  inflating: data/videos/s1/srab3a.mpg  \n",
            "  inflating: data/videos/s1/lriq9a.mpg  \n",
            "  inflating: data/videos/s1/lwae9s.mpg  \n",
            "  inflating: data/videos/s1/srbb5s.mpg  \n",
            "  inflating: data/videos/s1/srbu8p.mpg  \n",
            "  inflating: data/videos/s1/pwaj8p.mpg  \n",
            "  inflating: data/videos/s1/lbad8p.mpg  \n",
            "  inflating: data/videos/s1/pbwc8n.mpg  \n",
            "  inflating: data/videos/s1/prajzn.mpg  \n",
            "  inflating: data/videos/s1/bbbf6n.mpg  \n",
            "  inflating: data/videos/s1/brif6p.mpg  \n",
            "  inflating: data/videos/s1/bwbt9a.mpg  \n",
            "  inflating: data/videos/s1/bgaa7s.mpg  \n",
            "  inflating: data/videos/s1/pbac3a.mpg  \n",
            "  inflating: data/videos/s1/lray6p.mpg  \n",
            "  inflating: data/videos/s1/sriuzp.mpg  \n",
            "  inflating: data/videos/s1/lgif2p.mpg  \n",
            "  inflating: data/videos/s1/pgaq6n.mpg  \n",
            "  inflating: data/videos/s1/bbbz9s.mpg  \n",
            "  inflating: data/videos/s1/pwic9s.mpg  \n",
            "  inflating: data/videos/s1/pgwy9s.mpg  \n",
            "  inflating: data/videos/s1/brwnzn.mpg  \n",
            "  inflating: data/videos/s1/pwip6n.mpg  \n",
            "  inflating: data/videos/s1/lgiz4p.mpg  \n",
            "  inflating: data/videos/s1/sbit5a.mpg  \n",
            "  inflating: data/videos/s1/swbi6p.mpg  \n",
            "  inflating: data/videos/s1/sbim9s.mpg  \n",
            "  inflating: data/videos/s1/lgwt2p.mpg  \n",
            "  inflating: data/videos/s1/sgii3s.mpg  \n",
            "  inflating: data/videos/s1/lriy3a.mpg  \n",
            "  inflating: data/videos/s1/lrbzzp.mpg  \n",
            "  inflating: data/videos/s1/lwiy9a.mpg  \n",
            "  inflating: data/videos/s1/lwwm1s.mpg  \n",
            "  inflating: data/videos/s1/prax1a.mpg  \n",
            "  inflating: data/videos/s1/pbbi9s.mpg  \n",
            "  inflating: data/videos/s1/sbbh3s.mpg  \n",
            "  inflating: data/videos/s1/lgil7a.mpg  \n",
            "  inflating: data/videos/s1/bwbh1a.mpg  \n",
            "  inflating: data/videos/s1/bris3s.mpg  \n",
            "  inflating: data/videos/s1/bbir7s.mpg  \n",
            "  inflating: data/videos/s1/sgwx2n.mpg  \n",
            "  inflating: data/videos/s1/swwj1a.mpg  \n",
            "  inflating: data/videos/s1/bgit4n.mpg  \n",
            "  inflating: data/videos/s1/briz8p.mpg  \n",
            "  inflating: data/videos/s1/swai2p.mpg  \n",
            "  inflating: data/videos/s1/sbit4p.mpg  \n",
            "  inflating: data/videos/s1/bwbn2n.mpg  \n",
            "  inflating: data/videos/s1/Thumbs.db  \n",
            "Archive:  s2.zip\n",
            "   creating: data/videos/s2/\n",
            "  inflating: data/videos/s2/pwad3p.mpg  \n",
            "  inflating: data/videos/s2/lgir8s.mpg  \n",
            "  inflating: data/videos/s2/lwbz3n.mpg  \n",
            "  inflating: data/videos/s2/sbbuzs.mpg  \n",
            "  inflating: data/videos/s2/prac7p.mpg  \n",
            "  inflating: data/videos/s2/sgwj6a.mpg  \n",
            "  inflating: data/videos/s2/sgib8s.mpg  \n",
            "  inflating: data/videos/s2/lbax7n.mpg  \n",
            "  inflating: data/videos/s2/prii6s.mpg  \n",
            "  inflating: data/videos/s2/lgaz5n.mpg  \n",
            "  inflating: data/videos/s2/pwij2s.mpg  \n",
            "  inflating: data/videos/s2/pbbi7n.mpg  \n",
            "  inflating: data/videos/s2/srau4a.mpg  \n",
            "  inflating: data/videos/s2/pbwx1p.mpg  \n",
            "  inflating: data/videos/s2/pbbv6s.mpg  \n",
            "  inflating: data/videos/s2/bbbz8s.mpg  \n",
            "  inflating: data/videos/s2/lbiqzs.mpg  \n",
            "  inflating: data/videos/s2/swwc4s.mpg  \n",
            "  inflating: data/videos/s2/bgan5p.mpg  \n",
            "  inflating: data/videos/s2/lrbr4s.mpg  \n",
            "  inflating: data/videos/s2/pgix6s.mpg  \n",
            "  inflating: data/videos/s2/brbm7p.mpg  \n",
            "  inflating: data/videos/s2/bgin1p.mpg  \n",
            "  inflating: data/videos/s2/bwbt7p.mpg  \n",
            "  inflating: data/videos/s2/srbb5p.mpg  \n",
            "  inflating: data/videos/s2/sgib7n.mpg  \n",
            "  inflating: data/videos/s2/sbat5n.mpg  \n",
            "  inflating: data/videos/s2/bwwn7p.mpg  \n",
            "  inflating: data/videos/s2/sria6s.mpg  \n",
            "  inflating: data/videos/s2/sgbv9p.mpg  \n",
            "  inflating: data/videos/s2/pwbd5n.mpg  \n",
            "  inflating: data/videos/s2/lbwe6a.mpg  \n",
            "  inflating: data/videos/s2/pwwy3p.mpg  \n",
            "  inflating: data/videos/s2/prwd3n.mpg  \n",
            "  inflating: data/videos/s2/pgaq5n.mpg  \n",
            "  inflating: data/videos/s2/pwwk6a.mpg  \n",
            "  inflating: data/videos/s2/swao4s.mpg  \n",
            "  inflating: data/videos/s2/lbid1n.mpg  \n",
            "  inflating: data/videos/s2/lrae1n.mpg  \n",
            "  inflating: data/videos/s2/pbapza.mpg  \n",
            "  inflating: data/videos/s2/pbib7p.mpg  \n",
            "  inflating: data/videos/s2/prwq1n.mpg  \n",
            "  inflating: data/videos/s2/bgah1p.mpg  \n",
            "  inflating: data/videos/s2/lriq8a.mpg  \n",
            "  inflating: data/videos/s2/lgaz8a.mpg  \n",
            "  inflating: data/videos/s2/swau7n.mpg  \n",
            "  inflating: data/videos/s2/pgid5p.mpg  \n",
            "  inflating: data/videos/s2/pgij7n.mpg  \n",
            "  inflating: data/videos/s2/srwvzs.mpg  \n",
            "  inflating: data/videos/s2/lrby8s.mpg  \n",
            "  inflating: data/videos/s2/pwij4a.mpg  \n",
            "  inflating: data/videos/s2/sbwu6a.mpg  \n",
            "  inflating: data/videos/s2/sgbv7n.mpg  \n",
            "  inflating: data/videos/s2/prbc9n.mpg  \n",
            "  inflating: data/videos/s2/pgiq1n.mpg  \n",
            "  inflating: data/videos/s2/lbad8a.mpg  \n",
            "  inflating: data/videos/s2/lrak8a.mpg  \n",
            "  inflating: data/videos/s2/pgwzza.mpg  \n",
            "  inflating: data/videos/s2/srbh8s.mpg  \n",
            "  inflating: data/videos/s2/pbwxzs.mpg  \n",
            "  inflating: data/videos/s2/pwbq5p.mpg  \n",
            "  inflating: data/videos/s2/sgwc9n.mpg  \n",
            "  inflating: data/videos/s2/srah4s.mpg  \n",
            "  inflating: data/videos/s2/pgiq3p.mpg  \n",
            "  inflating: data/videos/s2/swwv6s.mpg  \n",
            "  inflating: data/videos/s2/sbwu4s.mpg  \n",
            "  inflating: data/videos/s2/swwv7p.mpg  \n",
            "  inflating: data/videos/s2/sbim8s.mpg  \n",
            "  inflating: data/videos/s2/bwim5p.mpg  \n",
            "  inflating: data/videos/s2/pwwk5p.mpg  \n",
            "  inflating: data/videos/s2/sbim9p.mpg  \n",
            "  inflating: data/videos/s2/lbij6s.mpg  \n",
            "  inflating: data/videos/s2/swbo9p.mpg  \n",
            "  inflating: data/videos/s2/pwbx7n.mpg  \n",
            "  inflating: data/videos/s2/pbib8a.mpg  \n",
            "  inflating: data/videos/s2/prbp9p.mpg  \n",
            "  inflating: data/videos/s2/lrbr3n.mpg  \n",
            "  inflating: data/videos/s2/bgah2a.mpg  \n",
            "  inflating: data/videos/s2/sbbu1p.mpg  \n",
            "  inflating: data/videos/s2/bras5n.mpg  \n",
            "  inflating: data/videos/s2/lbbq7n.mpg  \n",
            "  inflating: data/videos/s2/prwq4a.mpg  \n",
            "  inflating: data/videos/s2/prwd6a.mpg  \n",
            "  inflating: data/videos/s2/swiozs.mpg  \n",
            "  inflating: data/videos/s2/sbwh6s.mpg  \n",
            "  inflating: data/videos/s2/lwiy5n.mpg  \n",
            "  inflating: data/videos/s2/pbav2s.mpg  \n",
            "  inflating: data/videos/s2/lbad5n.mpg  \n",
            "  inflating: data/videos/s2/pwwk3n.mpg  \n",
            "  inflating: data/videos/s2/lwwl9n.mpg  \n",
            "  inflating: data/videos/s2/pbbc6a.mpg  \n",
            "  inflating: data/videos/s2/srau1n.mpg  \n",
            "  inflating: data/videos/s2/sgapzs.mpg  \n",
            "  inflating: data/videos/s2/bgia3p.mpg  \n",
            "  inflating: data/videos/s2/brimza.mpg  \n",
            "  inflating: data/videos/s2/lgiz4a.mpg  \n",
            "  inflating: data/videos/s2/prwd4s.mpg  \n",
            "  inflating: data/videos/s2/lbix6a.mpg  \n",
            "  inflating: data/videos/s2/bgag9n.mpg  \n",
            "  inflating: data/videos/s2/sgwj5p.mpg  \n",
            "  inflating: data/videos/s2/lwwz8s.mpg  \n",
            "  inflating: data/videos/s2/srbo2s.mpg  \n",
            "  inflating: data/videos/s2/lwar6s.mpg  \n",
            "  inflating: data/videos/s2/sban4a.mpg  \n",
            "  inflating: data/videos/s2/lgbs7p.mpg  \n",
            "  inflating: data/videos/s2/prav9p.mpg  \n",
            "  inflating: data/videos/s2/lwwf8a.mpg  \n",
            "  inflating: data/videos/s2/lbwy5n.mpg  \n",
            "  inflating: data/videos/s2/lrwl6a.mpg  \n",
            "  inflating: data/videos/s2/lrwz3p.mpg  \n",
            "  inflating: data/videos/s2/prbx2s.mpg  \n",
            "  inflating: data/videos/s2/pgwl1p.mpg  \n",
            "  inflating: data/videos/s2/pbbp3p.mpg  \n",
            "  inflating: data/videos/s2/lbad6s.mpg  \n",
            "  inflating: data/videos/s2/pbbc5p.mpg  \n",
            "  inflating: data/videos/s2/swai2a.mpg  \n",
            "  inflating: data/videos/s2/pgbr1p.mpg  \n",
            "  inflating: data/videos/s2/swau8s.mpg  \n",
            "  inflating: data/videos/s2/sgbv8s.mpg  \n",
            "  inflating: data/videos/s2/sgai5n.mpg  \n",
            "  inflating: data/videos/s2/pwaj7p.mpg  \n",
            "  inflating: data/videos/s2/pric4a.mpg  \n",
            "  inflating: data/videos/s2/bgig7p.mpg  \n",
            "  inflating: data/videos/s2/pwix1p.mpg  \n",
            "  inflating: data/videos/s2/swbv2s.mpg  \n",
            "  inflating: data/videos/s2/srah6a.mpg  \n",
            "  inflating: data/videos/s2/lrik4a.mpg  \n",
            "  inflating: data/videos/s2/lbix4s.mpg  \n",
            "  inflating: data/videos/s2/prbx3p.mpg  \n",
            "  inflating: data/videos/s2/lwbz4s.mpg  \n",
            "  inflating: data/videos/s2/brbm6s.mpg  \n",
            "  inflating: data/videos/s2/pwaqzs.mpg  \n",
            "  inflating: data/videos/s2/swwp2s.mpg  \n",
            "  inflating: data/videos/s2/lrbe6s.mpg  \n",
            "  inflating: data/videos/s2/bgit4s.mpg  \n",
            "  inflating: data/videos/s2/bwag5p.mpg  \n",
            "  inflating: data/videos/s2/pbiizs.mpg  \n",
            "  inflating: data/videos/s2/pwic7n.mpg  \n",
            "  inflating: data/videos/s2/bgaa6s.mpg  \n",
            "  inflating: data/videos/s2/bbbs6a.mpg  \n",
            "  inflating: data/videos/s2/lwie3n.mpg  \n",
            "  inflating: data/videos/s2/pric3p.mpg  \n",
            "  inflating: data/videos/s2/lrbk9n.mpg  \n",
            "  inflating: data/videos/s2/lgbm1n.mpg  \n",
            "  inflating: data/videos/s2/bwat1n.mpg  \n",
            "  inflating: data/videos/s2/lgisza.mpg  \n",
            "  inflating: data/videos/s2/sgwp8s.mpg  \n",
            "  inflating: data/videos/s2/brwa1n.mpg  \n",
            "  inflating: data/videos/s2/lgas4a.mpg  \n",
            "  inflating: data/videos/s2/lraq9n.mpg  \n",
            "  inflating: data/videos/s2/prwkza.mpg  \n",
            "  inflating: data/videos/s2/pgwy8s.mpg  \n",
            "  inflating: data/videos/s2/pwwe1p.mpg  \n",
            "  inflating: data/videos/s2/bwbt5n.mpg  \n",
            "  inflating: data/videos/s2/sbwu3n.mpg  \n",
            "  inflating: data/videos/s2/lgifzs.mpg  \n",
            "  inflating: data/videos/s2/sbaa3n.mpg  \n",
            "  inflating: data/videos/s2/lgaf4s.mpg  \n",
            "  inflating: data/videos/s2/sbwh5n.mpg  \n",
            "  inflating: data/videos/s2/swbczs.mpg  \n",
            "  inflating: data/videos/s2/bbwm5p.mpg  \n",
            "  inflating: data/videos/s2/lbaq6a.mpg  \n",
            "  inflating: data/videos/s2/pwwq8s.mpg  \n",
            "  inflating: data/videos/s2/swib2s.mpg  \n",
            "  inflating: data/videos/s2/swwv8a.mpg  \n",
            "  inflating: data/videos/s2/pbiu8s.mpg  \n",
            "  inflating: data/videos/s2/bbbz7n.mpg  \n",
            "  inflating: data/videos/s2/brif3n.mpg  \n",
            "  inflating: data/videos/s2/pbwc9p.mpg  \n",
            "  inflating: data/videos/s2/sbwb4a.mpg  \n",
            "  inflating: data/videos/s2/pbbp4a.mpg  \n",
            "  inflating: data/videos/s2/bril7n.mpg  \n",
            "  inflating: data/videos/s2/bwwa7n.mpg  \n",
            "  inflating: data/videos/s2/swbo7n.mpg  \n",
            "  inflating: data/videos/s2/pbio3n.mpg  \n",
            "  inflating: data/videos/s2/prwx6s.mpg  \n",
            "  inflating: data/videos/s2/brbaza.mpg  \n",
            "  inflating: data/videos/s2/sgio7p.mpg  \n",
            "  inflating: data/videos/s2/pgwr6a.mpg  \n",
            "  inflating: data/videos/s2/bwaa1p.mpg  \n",
            "  inflating: data/videos/s2/lwbf4a.mpg  \n",
            "  inflating: data/videos/s2/sbbn5n.mpg  \n",
            "  inflating: data/videos/s2/pgaq7p.mpg  \n",
            "  inflating: data/videos/s2/pgbk8a.mpg  \n",
            "  inflating: data/videos/s2/pgak1n.mpg  \n",
            "  inflating: data/videos/s2/sran9p.mpg  \n",
            "  inflating: data/videos/s2/bwbn4a.mpg  \n",
            "  inflating: data/videos/s2/bgwb5p.mpg  \n",
            "  inflating: data/videos/s2/lgwaza.mpg  \n",
            "  inflating: data/videos/s2/pbii2a.mpg  \n",
            "  inflating: data/videos/s2/prwx8a.mpg  \n",
            "  inflating: data/videos/s2/srwi2s.mpg  \n",
            "  inflating: data/videos/s2/sgbj1p.mpg  \n",
            "  inflating: data/videos/s2/swiu5p.mpg  \n",
            "  inflating: data/videos/s2/pbbv8a.mpg  \n",
            "  inflating: data/videos/s2/bwwn6s.mpg  \n",
            "  inflating: data/videos/s2/bgia1n.mpg  \n",
            "  inflating: data/videos/s2/priv4s.mpg  \n",
            "  inflating: data/videos/s2/lgwm5n.mpg  \n",
            "  inflating: data/videos/s2/pgby3n.mpg  \n",
            "  inflating: data/videos/s2/lbbk5p.mpg  \n",
            "  inflating: data/videos/s2/sban1n.mpg  \n",
            "  inflating: data/videos/s2/pbbv7p.mpg  \n",
            "  inflating: data/videos/s2/bwim3n.mpg  \n",
            "  inflating: data/videos/s2/pgix5n.mpg  \n",
            "  inflating: data/videos/s2/sgap2a.mpg  \n",
            "  inflating: data/videos/s2/lgwm8a.mpg  \n",
            "  inflating: data/videos/s2/bgboza.mpg  \n",
            "  inflating: data/videos/s2/lbwr1n.mpg  \n",
            "  inflating: data/videos/s2/pbao7n.mpg  \n",
            "  inflating: data/videos/s2/swavza.mpg  \n",
            "  inflating: data/videos/s2/bgig5n.mpg  \n",
            "  inflating: data/videos/s2/pgaeza.mpg  \n",
            "  inflating: data/videos/s2/prajzs.mpg  \n",
            "  inflating: data/videos/s2/srwb9p.mpg  \n",
            "  inflating: data/videos/s2/bgbh5p.mpg  \n",
            "  inflating: data/videos/s2/prwx7p.mpg  \n",
            "  inflating: data/videos/s2/pric2s.mpg  \n",
            "  inflating: data/videos/s2/pwad4a.mpg  \n",
            "  inflating: data/videos/s2/pwbyza.mpg  \n",
            "  inflating: data/videos/s2/prav8s.mpg  \n",
            "  inflating: data/videos/s2/lriq5n.mpg  \n",
            "  inflating: data/videos/s2/bbwtza.mpg  \n",
            "  inflating: data/videos/s2/lbix3n.mpg  \n",
            "  inflating: data/videos/s2/sbag7n.mpg  \n",
            "  inflating: data/videos/s2/bbbl9n.mpg  \n",
            "  inflating: data/videos/s2/prbx1n.mpg  \n",
            "  inflating: data/videos/s2/pwwezs.mpg  \n",
            "  inflating: data/videos/s2/bram3p.mpg  \n",
            "  inflating: data/videos/s2/bbwg2a.mpg  \n",
            "  inflating: data/videos/s2/srig9n.mpg  \n",
            "  inflating: data/videos/s2/bbir7p.mpg  \n",
            "  inflating: data/videos/s2/bgaa8a.mpg  \n",
            "  inflating: data/videos/s2/lbakzs.mpg  \n",
            "  inflating: data/videos/s2/bgan6a.mpg  \n",
            "  inflating: data/videos/s2/bgit3n.mpg  \n",
            "  inflating: data/videos/s2/lray4s.mpg  \n",
            "  inflating: data/videos/s2/lwal1n.mpg  \n",
            "  inflating: data/videos/s2/lbbq9p.mpg  \n",
            "  inflating: data/videos/s2/pgiq4a.mpg  \n",
            "  inflating: data/videos/s2/bgbh4s.mpg  \n",
            "  inflating: data/videos/s2/bgit5p.mpg  \n",
            "  inflating: data/videos/s2/lrblzs.mpg  \n",
            "  inflating: data/videos/s2/bwam9p.mpg  \n",
            "  inflating: data/videos/s2/srwv1p.mpg  \n",
            "  inflating: data/videos/s2/sgac3p.mpg  \n",
            "  inflating: data/videos/s2/pgwlzs.mpg  \n",
            "  inflating: data/videos/s2/lwwf5n.mpg  \n",
            "  inflating: data/videos/s2/sgwj4s.mpg  \n",
            "  inflating: data/videos/s2/pwixzs.mpg  \n",
            "  inflating: data/videos/s2/bwaa2a.mpg  \n",
            "  inflating: data/videos/s2/sbba7n.mpg  \n",
            "  inflating: data/videos/s2/lwwm2a.mpg  \n",
            "  inflating: data/videos/s2/lwwz9p.mpg  \n",
            "  inflating: data/videos/s2/pgwe8a.mpg  \n",
            "  inflating: data/videos/s2/pbwj1n.mpg  \n",
            "  inflating: data/videos/s2/lbaj9n.mpg  \n",
            "  inflating: data/videos/s2/bwig2a.mpg  \n",
            "  inflating: data/videos/s2/lgbm4a.mpg  \n",
            "  inflating: data/videos/s2/lrwr9p.mpg  \n",
            "  inflating: data/videos/s2/pbac1p.mpg  \n",
            "  inflating: data/videos/s2/bgwb6a.mpg  \n",
            "  inflating: data/videos/s2/bbifza.mpg  \n",
            "  inflating: data/videos/s2/srwi1n.mpg  \n",
            "  inflating: data/videos/s2/lray6a.mpg  \n",
            "  inflating: data/videos/s2/lwwz7n.mpg  \n",
            "  inflating: data/videos/s2/lgbz9n.mpg  \n",
            "  inflating: data/videos/s2/braf7n.mpg  \n",
            "  inflating: data/videos/s2/lgas1n.mpg  \n",
            "  inflating: data/videos/s2/bgbh6a.mpg  \n",
            "  inflating: data/videos/s2/bbiy9n.mpg  \n",
            "  inflating: data/videos/s2/swio2a.mpg  \n",
            "  inflating: data/videos/s2/sbat6s.mpg  \n",
            "  inflating: data/videos/s2/lway9n.mpg  \n",
            "  inflating: data/videos/s2/bbil2s.mpg  \n",
            "  inflating: data/videos/s2/srit8s.mpg  \n",
            "  inflating: data/videos/s2/lrak5n.mpg  \n",
            "  inflating: data/videos/s2/lbid2s.mpg  \n",
            "  inflating: data/videos/s2/bwbg8s.mpg  \n",
            "  inflating: data/videos/s2/swwc3n.mpg  \n",
            "  inflating: data/videos/s2/pwax5p.mpg  \n",
            "  inflating: data/videos/s2/sgav3n.mpg  \n",
            "  inflating: data/videos/s2/sgib9p.mpg  \n",
            "  inflating: data/videos/s2/bwwu1p.mpg  \n",
            "  inflating: data/videos/s2/pbwp6s.mpg  \n",
            "  inflating: data/videos/s2/bbbm2a.mpg  \n",
            "  inflating: data/videos/s2/srin4s.mpg  \n",
            "  inflating: data/videos/s2/lrby7n.mpg  \n",
            "  inflating: data/videos/s2/lwal2s.mpg  \n",
            "  inflating: data/videos/s2/lrid9p.mpg  \n",
            "  inflating: data/videos/s2/pwaq2a.mpg  \n",
            "  inflating: data/videos/s2/pwaj6s.mpg  \n",
            "  inflating: data/videos/s2/sbbn6s.mpg  \n",
            "  inflating: data/videos/s2/briz8a.mpg  \n",
            "  inflating: data/videos/s2/lrbzza.mpg  \n",
            "  inflating: data/videos/s2/sgwx2s.mpg  \n",
            "  inflating: data/videos/s2/lbak1p.mpg  \n",
            "  inflating: data/videos/s2/sgii3p.mpg  \n",
            "  inflating: data/videos/s2/lrbe5n.mpg  \n",
            "  inflating: data/videos/s2/sgwj3n.mpg  \n",
            "  inflating: data/videos/s2/bgan3n.mpg  \n",
            "  inflating: data/videos/s2/sbit2s.mpg  \n",
            "  inflating: data/videos/s2/bras6s.mpg  \n",
            "  inflating: data/videos/s2/lrbl2a.mpg  \n",
            "  inflating: data/videos/s2/lrbe8a.mpg  \n",
            "  inflating: data/videos/s2/bbie7n.mpg  \n",
            "  inflating: data/videos/s2/sgio6s.mpg  \n",
            "  inflating: data/videos/s2/lgil3n.mpg  \n",
            "  inflating: data/videos/s2/lgbs5n.mpg  \n",
            "  inflating: data/videos/s2/bbaz3n.mpg  \n",
            "  inflating: data/videos/s2/pwbd7p.mpg  \n",
            "  inflating: data/videos/s2/bwat3p.mpg  \n",
            "  inflating: data/videos/s2/lgiz3p.mpg  \n",
            "  inflating: data/videos/s2/bbizzs.mpg  \n",
            "  inflating: data/videos/s2/lrwf1p.mpg  \n",
            "  inflating: data/videos/s2/swib4a.mpg  \n",
            "  inflating: data/videos/s2/bwba4s.mpg  \n",
            "  inflating: data/videos/s2/bris3p.mpg  \n",
            "  inflating: data/videos/s2/lrwl4s.mpg  \n",
            "  inflating: data/videos/s2/bgwb4s.mpg  \n",
            "  inflating: data/videos/s2/bwwh3p.mpg  \n",
            "  inflating: data/videos/s2/bbie9p.mpg  \n",
            "  inflating: data/videos/s2/bwwn5n.mpg  \n",
            "  inflating: data/videos/s2/lrae2s.mpg  \n",
            "  inflating: data/videos/s2/srwo7p.mpg  \n",
            "  inflating: data/videos/s2/lwiy6s.mpg  \n",
            "  inflating: data/videos/s2/lbip9n.mpg  \n",
            "  inflating: data/videos/s2/pbwc8s.mpg  \n",
            "  inflating: data/videos/s2/lbaq3n.mpg  \n",
            "  inflating: data/videos/s2/bbil1n.mpg  \n",
            "  inflating: data/videos/s2/pbbi8s.mpg  \n",
            "  inflating: data/videos/s2/sbwo1p.mpg  \n",
            "  inflating: data/videos/s2/lwwf7p.mpg  \n",
            "  inflating: data/videos/s2/lbiq1p.mpg  \n",
            "  inflating: data/videos/s2/lwws6a.mpg  \n",
            "  inflating: data/videos/s2/bwag4s.mpg  \n",
            "  inflating: data/videos/s2/pbbi9p.mpg  \n",
            "  inflating: data/videos/s2/bgwo4a.mpg  \n",
            "  inflating: data/videos/s2/prac5n.mpg  \n",
            "  inflating: data/videos/s2/pwbkzs.mpg  \n",
            "  inflating: data/videos/s2/lrak7p.mpg  \n",
            "  inflating: data/videos/s2/pgij8s.mpg  \n",
            "  inflating: data/videos/s2/lrwz4a.mpg  \n",
            "  inflating: data/videos/s2/lbwe4s.mpg  \n",
            "  inflating: data/videos/s2/pwip5n.mpg  \n",
            "  inflating: data/videos/s2/briz5n.mpg  \n",
            "  inflating: data/videos/s2/lrak6s.mpg  \n",
            "  inflating: data/videos/s2/sriuza.mpg  \n",
            "  inflating: data/videos/s2/sgio5n.mpg  \n",
            "  inflating: data/videos/s2/sgbi9n.mpg  \n",
            "  inflating: data/videos/s2/lwar8a.mpg  \n",
            "  inflating: data/videos/s2/brwm9n.mpg  \n",
            "  inflating: data/videos/s2/sbbh2s.mpg  \n",
            "  inflating: data/videos/s2/bragza.mpg  \n",
            "  inflating: data/videos/s2/sgbc8a.mpg  \n",
            "  inflating: data/videos/s2/sbwh7p.mpg  \n",
            "  inflating: data/videos/s2/sgio8a.mpg  \n",
            "  inflating: data/videos/s2/praj1p.mpg  \n",
            "  inflating: data/videos/s2/brwa2s.mpg  \n",
            "  inflating: data/videos/s2/pbiu9p.mpg  \n",
            "  inflating: data/videos/s2/swwp3p.mpg  \n",
            "  inflating: data/videos/s2/bgwh9p.mpg  \n",
            "  inflating: data/videos/s2/sgav6a.mpg  \n",
            "  inflating: data/videos/s2/lwae8s.mpg  \n",
            "  inflating: data/videos/s2/sgbjzs.mpg  \n",
            "  inflating: data/videos/s2/swiu6a.mpg  \n",
            "  inflating: data/videos/s2/sgbp3n.mpg  \n",
            "  inflating: data/videos/s2/pric1n.mpg  \n",
            "  inflating: data/videos/s2/pbii1p.mpg  \n",
            "  inflating: data/videos/s2/pgid6a.mpg  \n",
            "  inflating: data/videos/s2/prii7p.mpg  \n",
            "  inflating: data/videos/s2/pbwv9n.mpg  \n",
            "  inflating: data/videos/s2/lwie5p.mpg  \n",
            "  inflating: data/videos/s2/srbo3p.mpg  \n",
            "  inflating: data/videos/s2/lwbl6s.mpg  \n",
            "  inflating: data/videos/s2/prbp8s.mpg  \n",
            "  inflating: data/videos/s2/srwo5n.mpg  \n",
            "  inflating: data/videos/s2/sgac2s.mpg  \n",
            "  inflating: data/videos/s2/lwar5n.mpg  \n",
            "  inflating: data/videos/s2/lrik1n.mpg  \n",
            "  inflating: data/videos/s2/pgby4s.mpg  \n",
            "  inflating: data/videos/s2/sgivzs.mpg  \n",
            "  inflating: data/videos/s2/bbil4a.mpg  \n",
            "  inflating: data/videos/s2/swbo8s.mpg  \n",
            "  inflating: data/videos/s2/pwbd8a.mpg  \n",
            "  inflating: data/videos/s2/sgiv2a.mpg  \n",
            "  inflating: data/videos/s2/bbws9p.mpg  \n",
            "  inflating: data/videos/s2/bwba3n.mpg  \n",
            "  inflating: data/videos/s2/pbav1n.mpg  \n",
            "  inflating: data/videos/s2/sgii1n.mpg  \n",
            "  inflating: data/videos/s2/bbbm1p.mpg  \n",
            "  inflating: data/videos/s2/brbt1p.mpg  \n",
            "  inflating: data/videos/s2/sbinza.mpg  \n",
            "  inflating: data/videos/s2/pgak2s.mpg  \n",
            "  inflating: data/videos/s2/srihzs.mpg  \n",
            "  inflating: data/videos/s2/srin6a.mpg  \n",
            "  inflating: data/videos/s2/bwwbza.mpg  \n",
            "  inflating: data/videos/s2/sbwh8a.mpg  \n",
            "  inflating: data/videos/s2/pgwy7n.mpg  \n",
            "  inflating: data/videos/s2/prai9n.mpg  \n",
            "  inflating: data/videos/s2/srbu5n.mpg  \n",
            "  inflating: data/videos/s2/braz9n.mpg  \n",
            "  inflating: data/videos/s2/pwwrza.mpg  \n",
            "  inflating: data/videos/s2/lbbe2a.mpg  \n",
            "  inflating: data/videos/s2/srwb8s.mpg  \n",
            "  inflating: data/videos/s2/lwal3p.mpg  \n",
            "  inflating: data/videos/s2/swab8a.mpg  \n",
            "  inflating: data/videos/s2/bbbs3n.mpg  \n",
            "  inflating: data/videos/s2/srau3p.mpg  \n",
            "  inflating: data/videos/s2/lbwk8s.mpg  \n",
            "  inflating: data/videos/s2/bbir8a.mpg  \n",
            "  inflating: data/videos/s2/sgac4a.mpg  \n",
            "  inflating: data/videos/s2/brwa4a.mpg  \n",
            "  inflating: data/videos/s2/bgia4a.mpg  \n",
            "  inflating: data/videos/s2/praj2a.mpg  \n",
            "  inflating: data/videos/s2/bbil3p.mpg  \n",
            "  inflating: data/videos/s2/sgap1p.mpg  \n",
            "  inflating: data/videos/s2/bwwa8s.mpg  \n",
            "  inflating: data/videos/s2/swwjza.mpg  \n",
            "  inflating: data/videos/s2/lrwl3n.mpg  \n",
            "  inflating: data/videos/s2/pwip8a.mpg  \n",
            "  inflating: data/videos/s2/swbi6a.mpg  \n",
            "  inflating: data/videos/s2/swab6s.mpg  \n",
            "  inflating: data/videos/s2/pgbk5n.mpg  \n",
            "  inflating: data/videos/s2/bbaz6a.mpg  \n",
            "  inflating: data/videos/s2/sbaa5p.mpg  \n",
            "  inflating: data/videos/s2/sbbt9n.mpg  \n",
            "  inflating: data/videos/s2/lwiy7p.mpg  \n",
            "  inflating: data/videos/s2/lbbezs.mpg  \n",
            "  inflating: data/videos/s2/prbj5p.mpg  \n",
            "  inflating: data/videos/s2/bbwm6a.mpg  \n",
            "  inflating: data/videos/s2/bbbs4s.mpg  \n",
            "  inflating: data/videos/s2/bgbbzs.mpg  \n",
            "  inflating: data/videos/s2/brwn1p.mpg  \n",
            "  inflating: data/videos/s2/bgwb3n.mpg  \n",
            "  inflating: data/videos/s2/lwwf6s.mpg  \n",
            "  inflating: data/videos/s2/lbid3p.mpg  \n",
            "  inflating: data/videos/s2/pwbx9p.mpg  \n",
            "  inflating: data/videos/s2/sbbh3p.mpg  \n",
            "  inflating: data/videos/s2/bgbb1p.mpg  \n",
            "  inflating: data/videos/s2/bwis8s.mpg  \n",
            "  inflating: data/videos/s2/pgbe4a.mpg  \n",
            "  inflating: data/videos/s2/lrwz1n.mpg  \n",
            "  inflating: data/videos/s2/pwic9p.mpg  \n",
            "  inflating: data/videos/s2/lgal7n.mpg  \n",
            "  inflating: data/videos/s2/lrwsza.mpg  \n",
            "  inflating: data/videos/s2/lbwk7n.mpg  \n",
            "  inflating: data/videos/s2/swwi8s.mpg  \n",
            "  inflating: data/videos/s2/lgil6a.mpg  \n",
            "  inflating: data/videos/s2/prap6a.mpg  \n",
            "  inflating: data/videos/s2/bril9p.mpg  \n",
            "  inflating: data/videos/s2/brwg7p.mpg  \n",
            "  inflating: data/videos/s2/lbwe3n.mpg  \n",
            "  inflating: data/videos/s2/sbia1p.mpg  \n",
            "  inflating: data/videos/s2/brwg8a.mpg  \n",
            "  inflating: data/videos/s2/pgay1p.mpg  \n",
            "  inflating: data/videos/s2/bgwiza.mpg  \n",
            "  inflating: data/videos/s2/lriy1p.mpg  \n",
            "  inflating: data/videos/s2/lwik8s.mpg  \n",
            "  inflating: data/videos/s2/sgwx4a.mpg  \n",
            "  inflating: data/videos/s2/pgix8a.mpg  \n",
            "  inflating: data/videos/s2/swao6a.mpg  \n",
            "  inflating: data/videos/s2/bbiz2a.mpg  \n",
            "  inflating: data/videos/s2/lwie4s.mpg  \n",
            "  inflating: data/videos/s2/briz7p.mpg  \n",
            "  inflating: data/videos/s2/srbo1n.mpg  \n",
            "  inflating: data/videos/s2/lbwy6s.mpg  \n",
            "  inflating: data/videos/s2/prac6s.mpg  \n",
            "  inflating: data/videos/s2/lgbgza.mpg  \n",
            "  inflating: data/videos/s2/lbbq8s.mpg  \n",
            "  inflating: data/videos/s2/prip1p.mpg  \n",
            "  inflating: data/videos/s2/sgwx1n.mpg  \n",
            "  inflating: data/videos/s2/sbwb2s.mpg  \n",
            "  inflating: data/videos/s2/swwi7n.mpg  \n",
            "  inflating: data/videos/s2/bwwt9n.mpg  \n",
            "  inflating: data/videos/s2/lbiq2a.mpg  \n",
            "  inflating: data/videos/s2/pgay2a.mpg  \n",
            "  inflating: data/videos/s2/lgas3p.mpg  \n",
            "  inflating: data/videos/s2/pbbv5n.mpg  \n",
            "  inflating: data/videos/s2/lwik9p.mpg  \n",
            "  inflating: data/videos/s2/brwt5p.mpg  \n",
            "  inflating: data/videos/s2/lbij5n.mpg  \n",
            "  inflating: data/videos/s2/lwbr9n.mpg  \n",
            "  inflating: data/videos/s2/bwbg9p.mpg  \n",
            "  inflating: data/videos/s2/lwbl5n.mpg  \n",
            "  inflating: data/videos/s2/bris4a.mpg  \n",
            "  inflating: data/videos/s2/bgat8s.mpg  \n",
            "  inflating: data/videos/s2/bwwh4a.mpg  \n",
            "  inflating: data/videos/s2/sbbh1n.mpg  \n",
            "  inflating: data/videos/s2/lgbs8a.mpg  \n",
            "  inflating: data/videos/s2/bbir6s.mpg  \n",
            "  inflating: data/videos/s2/swab7p.mpg  \n",
            "  inflating: data/videos/s2/pgikza.mpg  \n",
            "  inflating: data/videos/s2/swbc2a.mpg  \n",
            "  inflating: data/videos/s2/pripzs.mpg  \n",
            "  inflating: data/videos/s2/lrik2s.mpg  \n",
            "  inflating: data/videos/s2/lwwm1p.mpg  \n",
            "  inflating: data/videos/s2/pgbq9n.mpg  \n",
            "  inflating: data/videos/s2/lwbs2a.mpg  \n",
            "  inflating: data/videos/s2/sgbp6a.mpg  \n",
            "  inflating: data/videos/s2/bwbn1n.mpg  \n",
            "  inflating: data/videos/s2/bbwg1p.mpg  \n",
            "  inflating: data/videos/s2/bbaz4s.mpg  \n",
            "  inflating: data/videos/s2/bbas1p.mpg  \n",
            "  inflating: data/videos/s2/pgby5p.mpg  \n",
            "  inflating: data/videos/s2/pbao8s.mpg  \n",
            "  inflating: data/videos/s2/lwaz2a.mpg  \n",
            "  inflating: data/videos/s2/lgbf8s.mpg  \n",
            "  inflating: data/videos/s2/lgaf3n.mpg  \n",
            "  inflating: data/videos/s2/pwix2a.mpg  \n",
            "  inflating: data/videos/s2/pwwq9p.mpg  \n",
            "  inflating: data/videos/s2/bbbz9p.mpg  \n",
            "  inflating: data/videos/s2/bgig8a.mpg  \n",
            "  inflating: data/videos/s2/sbig3n.mpg  \n",
            "  inflating: data/videos/s2/lwiy8a.mpg  \n",
            "  inflating: data/videos/s2/brbg3p.mpg  \n",
            "  inflating: data/videos/s2/lriq7p.mpg  \n",
            "  inflating: data/videos/s2/sbia2a.mpg  \n",
            "  inflating: data/videos/s2/sraoza.mpg  \n",
            "  inflating: data/videos/s2/sbbu2a.mpg  \n",
            "  inflating: data/videos/s2/pwaj8a.mpg  \n",
            "  inflating: data/videos/s2/sgwp7n.mpg  \n",
            "  inflating: data/videos/s2/swbi5p.mpg  \n",
            "  inflating: data/videos/s2/lrbr6a.mpg  \n",
            "  inflating: data/videos/s2/pbio4s.mpg  \n",
            "  inflating: data/videos/s2/swwp4a.mpg  \n",
            "  inflating: data/videos/s2/bras8a.mpg  \n",
            "  inflating: data/videos/s2/prbd1p.mpg  \n",
            "  inflating: data/videos/s2/prip2a.mpg  \n",
            "  inflating: data/videos/s2/pgwe6s.mpg  \n",
            "  inflating: data/videos/s2/sgbc5n.mpg  \n",
            "  inflating: data/videos/s2/lgwg2s.mpg  \n",
            "  inflating: data/videos/s2/bbal7p.mpg  \n",
            "  inflating: data/videos/s2/bbie8s.mpg  \n",
            "  inflating: data/videos/s2/lbaq5p.mpg  \n",
            "  inflating: data/videos/s2/swwc6a.mpg  \n",
            "  inflating: data/videos/s2/sbba9p.mpg  \n",
            "  inflating: data/videos/s2/lgwg3p.mpg  \n",
            "  inflating: data/videos/s2/pgak4a.mpg  \n",
            "  inflating: data/videos/s2/bgim9n.mpg  \n",
            "  inflating: data/videos/s2/pbib5n.mpg  \n",
            "  inflating: data/videos/s2/lray3n.mpg  \n",
            "  inflating: data/videos/s2/lriy2a.mpg  \n",
            "  inflating: data/videos/s2/bgan4s.mpg  \n",
            "  inflating: data/videos/s2/bwitza.mpg  \n",
            "  inflating: data/videos/s2/pbiu7n.mpg  \n",
            "  inflating: data/videos/s2/lwir1n.mpg  \n",
            "  inflating: data/videos/s2/pbwj4a.mpg  \n",
            "  inflating: data/videos/s2/pwaq1p.mpg  \n",
            "  inflating: data/videos/s2/priv6a.mpg  \n",
            "  inflating: data/videos/s2/lwir2s.mpg  \n",
            "  inflating: data/videos/s2/srit7n.mpg  \n",
            "  inflating: data/videos/s2/briz6s.mpg  \n",
            "  inflating: data/videos/s2/brif5p.mpg  \n",
            "  inflating: data/videos/s2/braf9p.mpg  \n",
            "  inflating: data/videos/s2/sbaa6a.mpg  \n",
            "  inflating: data/videos/s2/sbag8s.mpg  \n",
            "  inflating: data/videos/s2/pgaq6s.mpg  \n",
            "  inflating: data/videos/s2/lrar1p.mpg  \n",
            "  inflating: data/videos/s2/lbbk4s.mpg  \n",
            "  inflating: data/videos/s2/swwp1n.mpg  \n",
            "  inflating: data/videos/s2/lwbz6a.mpg  \n",
            "  inflating: data/videos/s2/bwbt6s.mpg  \n",
            "  inflating: data/videos/s2/bbiz1p.mpg  \n",
            "  inflating: data/videos/s2/sgbj2a.mpg  \n",
            "  inflating: data/videos/s2/sraa9n.mpg  \n",
            "  inflating: data/videos/s2/bbas2a.mpg  \n",
            "  inflating: data/videos/s2/swaizs.mpg  \n",
            "  inflating: data/videos/s2/lgbs6s.mpg  \n",
            "  inflating: data/videos/s2/prav7n.mpg  \n",
            "  inflating: data/videos/s2/lrwr7n.mpg  \n",
            "  inflating: data/videos/s2/lray5p.mpg  \n",
            "  inflating: data/videos/s2/srit9p.mpg  \n",
            "  inflating: data/videos/s2/bgit6a.mpg  \n",
            "  inflating: data/videos/s2/bwim6a.mpg  \n",
            "  inflating: data/videos/s2/brbg4a.mpg  \n",
            "  inflating: data/videos/s2/pwax4s.mpg  \n",
            "  inflating: data/videos/s2/swah9n.mpg  \n",
            "  inflating: data/videos/s2/bbal8a.mpg  \n",
            "  inflating: data/videos/s2/bwwuzs.mpg  \n",
            "  inflating: data/videos/s2/pwij3p.mpg  \n",
            "  inflating: data/videos/s2/bbwgzs.mpg  \n",
            "  inflating: data/videos/s2/lwafza.mpg  \n",
            "  inflating: data/videos/s2/pbbjza.mpg  \n",
            "  inflating: data/videos/s2/brwg5n.mpg  \n",
            "  inflating: data/videos/s2/lbbrza.mpg  \n",
            "  inflating: data/videos/s2/srbiza.mpg  \n",
            "  inflating: data/videos/s2/lwwmzs.mpg  \n",
            "  inflating: data/videos/s2/bgwo2s.mpg  \n",
            "  inflating: data/videos/s2/bbbf7p.mpg  \n",
            "  inflating: data/videos/s2/sgai7p.mpg  \n",
            "  inflating: data/videos/s2/brwt6a.mpg  \n",
            "  inflating: data/videos/s2/prwq3p.mpg  \n",
            "  inflating: data/videos/s2/pbai5p.mpg  \n",
            "  inflating: data/videos/s2/pwad2s.mpg  \n",
            "  inflating: data/videos/s2/pwbj9n.mpg  \n",
            "  inflating: data/videos/s2/pwwy2s.mpg  \n",
            "  inflating: data/videos/s2/lbbk3n.mpg  \n",
            "  inflating: data/videos/s2/sgbc6s.mpg  \n",
            "  inflating: data/videos/s2/bbaf2s.mpg  \n",
            "  inflating: data/videos/s2/prwd5p.mpg  \n",
            "  inflating: data/videos/s2/pbab9n.mpg  \n",
            "  inflating: data/videos/s2/sgwp9p.mpg  \n",
            "  inflating: data/videos/s2/pwiv9n.mpg  \n",
            "  inflating: data/videos/s2/swwi9p.mpg  \n",
            "  inflating: data/videos/s2/prwj9p.mpg  \n",
            "  inflating: data/videos/s2/brif6a.mpg  \n",
            "  inflating: data/videos/s2/pbwc7n.mpg  \n",
            "  inflating: data/videos/s2/sbwn9n.mpg  \n",
            "  inflating: data/videos/s2/lwal4a.mpg  \n",
            "  inflating: data/videos/s2/bbaz5p.mpg  \n",
            "  inflating: data/videos/s2/sgwx3p.mpg  \n",
            "  inflating: data/videos/s2/lrbe7p.mpg  \n",
            "  inflating: data/videos/s2/sbbn8a.mpg  \n",
            "  inflating: data/videos/s2/bgwo3p.mpg  \n",
            "  inflating: data/videos/s2/srwv2a.mpg  \n",
            "  inflating: data/videos/s2/bgwu8a.mpg  \n",
            "  inflating: data/videos/s2/lgil4s.mpg  \n",
            "  inflating: data/videos/s2/sbim7n.mpg  \n",
            "  inflating: data/videos/s2/pbai3n.mpg  \n",
            "  inflating: data/videos/s2/brbt2a.mpg  \n",
            "  inflating: data/videos/s2/bgwu6s.mpg  \n",
            "  inflating: data/videos/s2/lrwe9n.mpg  \n",
            "  inflating: data/videos/s2/pgax9n.mpg  \n",
            "  inflating: data/videos/s2/lwazzs.mpg  \n",
            "  inflating: data/videos/s2/lriq6s.mpg  \n",
            "  inflating: data/videos/s2/srbh7n.mpg  \n",
            "  inflating: data/videos/s2/bwwa9p.mpg  \n",
            "  inflating: data/videos/s2/pgwk9n.mpg  \n",
            "  inflating: data/videos/s2/sgao9n.mpg  \n",
            "  inflating: data/videos/s2/swbpza.mpg  \n",
            "  inflating: data/videos/s2/lbid4a.mpg  \n",
            "  inflating: data/videos/s2/lrae3p.mpg  \n",
            "  inflating: data/videos/s2/pwwy1n.mpg  \n",
            "  inflating: data/videos/s2/lbayza.mpg  \n",
            "  inflating: data/videos/s2/lbwr2s.mpg  \n",
            "  inflating: data/videos/s2/lrid7n.mpg  \n",
            "  inflating: data/videos/s2/sbwu5p.mpg  \n",
            "  inflating: data/videos/s2/lgwm7p.mpg  \n",
            "  inflating: data/videos/s2/pwwq7n.mpg  \n",
            "  inflating: data/videos/s2/lbwk9p.mpg  \n",
            "  inflating: data/videos/s2/pgbk7p.mpg  \n",
            "  inflating: data/videos/s2/srbh9p.mpg  \n",
            "  inflating: data/videos/s2/sbig6a.mpg  \n",
            "  inflating: data/videos/s2/bwig1p.mpg  \n",
            "  inflating: data/videos/s2/swai1p.mpg  \n",
            "  inflating: data/videos/s2/lgbm2s.mpg  \n",
            "  inflating: data/videos/s2/sban3p.mpg  \n",
            "  inflating: data/videos/s2/sgai6s.mpg  \n",
            "  inflating: data/videos/s2/srbb3n.mpg  \n",
            "  inflating: data/videos/s2/lbwy8a.mpg  \n",
            "  inflating: data/videos/s2/sbbbza.mpg  \n",
            "  inflating: data/videos/s2/bgbu4a.mpg  \n",
            "  inflating: data/videos/s2/lwbs1p.mpg  \n",
            "  inflating: data/videos/s2/srau2s.mpg  \n",
            "  inflating: data/videos/s2/srwu9n.mpg  \n",
            "  inflating: data/videos/s2/lwik7n.mpg  \n",
            "  inflating: data/videos/s2/sgbp4s.mpg  \n",
            "  inflating: data/videos/s2/bwim4s.mpg  \n",
            "  inflating: data/videos/s2/swin9n.mpg  \n",
            "  inflating: data/videos/s2/pbio6a.mpg  \n",
            "  inflating: data/videos/s2/lwilza.mpg  \n",
            "  inflating: data/videos/s2/pwbq4s.mpg  \n",
            "  inflating: data/videos/s2/bwam7n.mpg  \n",
            "  inflating: data/videos/s2/bgbh3n.mpg  \n",
            "  inflating: data/videos/s2/pgiq2s.mpg  \n",
            "  inflating: data/videos/s2/pwip7p.mpg  \n",
            "  inflating: data/videos/s2/priv5p.mpg  \n",
            "  inflating: data/videos/s2/sbwb3p.mpg  \n",
            "  inflating: data/videos/s2/prac8a.mpg  \n",
            "  inflating: data/videos/s2/pbwp8a.mpg  \n",
            "  inflating: data/videos/s2/sran7n.mpg  \n",
            "  inflating: data/videos/s2/lgif2a.mpg  \n",
            "  inflating: data/videos/s2/pwad1n.mpg  \n",
            "  inflating: data/videos/s2/lrwl5p.mpg  \n",
            "  inflating: data/videos/s2/sgai8a.mpg  \n",
            "  inflating: data/videos/s2/bgwu5n.mpg  \n",
            "  inflating: data/videos/s2/pgwy9p.mpg  \n",
            "  inflating: data/videos/s2/pgwr3n.mpg  \n",
            "  inflating: data/videos/s2/swau9p.mpg  \n",
            "  inflating: data/videos/s2/lwbf2s.mpg  \n",
            "  inflating: data/videos/s2/bris1n.mpg  \n",
            "  inflating: data/videos/s2/pgwr4s.mpg  \n",
            "  inflating: data/videos/s2/sria8a.mpg  \n",
            "  inflating: data/videos/s2/sgiv1p.mpg  \n",
            "  inflating: data/videos/s2/brbm8a.mpg  \n",
            "  inflating: data/videos/s2/bwwn8a.mpg  \n",
            "  inflating: data/videos/s2/lrix9n.mpg  \n",
            "  inflating: data/videos/s2/bbaf1n.mpg  \n",
            "  inflating: data/videos/s2/sgbp5p.mpg  \n",
            "  inflating: data/videos/s2/lbij8a.mpg  \n",
            "  inflating: data/videos/s2/pwax6a.mpg  \n",
            "  inflating: data/videos/s2/lbaq4s.mpg  \n",
            "  inflating: data/videos/s2/lgie9n.mpg  \n",
            "  inflating: data/videos/s2/srih1p.mpg  \n",
            "  inflating: data/videos/s2/bwis9p.mpg  \n",
            "  inflating: data/videos/s2/bgba9n.mpg  \n",
            "  inflating: data/videos/s2/lrwr8s.mpg  \n",
            "  inflating: data/videos/s2/prap3n.mpg  \n",
            "  inflating: data/videos/s2/sbahza.mpg  \n",
            "  inflating: data/videos/s2/pgbk6s.mpg  \n",
            "  inflating: data/videos/s2/prbx4a.mpg  \n",
            "  inflating: data/videos/s2/srih2a.mpg  \n",
            "  inflating: data/videos/s2/lgil5p.mpg  \n",
            "  inflating: data/videos/s2/sran8s.mpg  \n",
            "  inflating: data/videos/s2/bwif9n.mpg  \n",
            "  inflating: data/videos/s2/pbwp5n.mpg  \n",
            "  inflating: data/videos/s2/bram2s.mpg  \n",
            "  inflating: data/videos/s2/pbwdza.mpg  \n",
            "  inflating: data/videos/s2/lwae7n.mpg  \n",
            "  inflating: data/videos/s2/pgad7n.mpg  \n",
            "  inflating: data/videos/s2/bbal6s.mpg  \n",
            "  inflating: data/videos/s2/pwbk2a.mpg  \n",
            "  inflating: data/videos/s2/swih8a.mpg  \n",
            "  inflating: data/videos/s2/lgal8s.mpg  \n",
            "  inflating: data/videos/s2/pgad9p.mpg  \n",
            "  inflating: data/videos/s2/lwir3p.mpg  \n",
            "  inflating: data/videos/s2/bgbu1n.mpg  \n",
            "  inflating: data/videos/s2/pbwj2s.mpg  \n",
            "  inflating: data/videos/s2/bras7p.mpg  \n",
            "  inflating: data/videos/s2/prbqza.mpg  \n",
            "  inflating: data/videos/s2/srwo8a.mpg  \n",
            "  inflating: data/videos/s2/pbbp1n.mpg  \n",
            "  inflating: data/videos/s2/bwam8s.mpg  \n",
            "  inflating: data/videos/s2/swwv5n.mpg  \n",
            "  inflating: data/videos/s2/lgir9p.mpg  \n",
            "  inflating: data/videos/s2/bbbf8a.mpg  \n",
            "  inflating: data/videos/s2/srab1p.mpg  \n",
            "  inflating: data/videos/s2/pwap9n.mpg  \n",
            "  inflating: data/videos/s2/pwidza.mpg  \n",
            "  inflating: data/videos/s2/prbj3n.mpg  \n",
            "  inflating: data/videos/s2/prbj4s.mpg  \n",
            "  inflating: data/videos/s2/bbaf3p.mpg  \n",
            "  inflating: data/videos/s2/pbbc4s.mpg  \n",
            "  inflating: data/videos/s2/pgwe7p.mpg  \n",
            "  inflating: data/videos/s2/swiu3n.mpg  \n",
            "  inflating: data/videos/s2/lwir4a.mpg  \n",
            "  inflating: data/videos/s2/lbij7p.mpg  \n",
            "  inflating: data/videos/s2/swih7p.mpg  \n",
            "  inflating: data/videos/s2/bbbf5n.mpg  \n",
            "  inflating: data/videos/s2/sria7p.mpg  \n",
            "  inflating: data/videos/s2/sgav5p.mpg  \n",
            "  inflating: data/videos/s2/priv3n.mpg  \n",
            "  inflating: data/videos/s2/lgaf6a.mpg  \n",
            "  inflating: data/videos/s2/bwbg7n.mpg  \n",
            "  inflating: data/videos/s2/lwbf3p.mpg  \n",
            "  inflating: data/videos/s2/prwq2s.mpg  \n",
            "  inflating: data/videos/s2/swiu4s.mpg  \n",
            "  inflating: data/videos/s2/brwnzs.mpg  \n",
            "  inflating: data/videos/s2/bbaszs.mpg  \n",
            "  inflating: data/videos/s2/pgid3n.mpg  \n",
            "  inflating: data/videos/s2/bbar9n.mpg  \n",
            "  inflating: data/videos/s2/sbiazs.mpg  \n",
            "  inflating: data/videos/s2/brbg2s.mpg  \n",
            "  inflating: data/videos/s2/pwwd9n.mpg  \n",
            "  inflating: data/videos/s2/bbws8s.mpg  \n",
            "  inflating: data/videos/s2/srwb7n.mpg  \n",
            "  inflating: data/videos/s2/srwi3p.mpg  \n",
            "  inflating: data/videos/s2/sbbn7p.mpg  \n",
            "  inflating: data/videos/s2/pbbp2s.mpg  \n",
            "  inflating: data/videos/s2/prwj8s.mpg  \n",
            "  inflating: data/videos/s2/swib1n.mpg  \n",
            "  inflating: data/videos/s2/pgby6a.mpg  \n",
            "  inflating: data/videos/s2/swab5n.mpg  \n",
            "  inflating: data/videos/s2/bgbn8s.mpg  \n",
            "  inflating: data/videos/s2/pgbe3p.mpg  \n",
            "  inflating: data/videos/s2/braf8s.mpg  \n",
            "  inflating: data/videos/s2/swio1p.mpg  \n",
            "  inflating: data/videos/s2/bgat7n.mpg  \n",
            "  inflating: data/videos/s2/swbv4a.mpg  \n",
            "  inflating: data/videos/s2/bgig6s.mpg  \n",
            "  inflating: data/videos/s2/brwt3n.mpg  \n",
            "  inflating: data/videos/s2/brwn2a.mpg  \n",
            "  inflating: data/videos/s2/bgbn9p.mpg  \n",
            "  inflating: data/videos/s2/lrbl1p.mpg  \n",
            "  inflating: data/videos/s2/pwbk1p.mpg  \n",
            "  inflating: data/videos/s2/lgwg1n.mpg  \n",
            "  inflating: data/videos/s2/lrid8s.mpg  \n",
            "  inflating: data/videos/s2/swbi3n.mpg  \n",
            "  inflating: data/videos/s2/brif4s.mpg  \n",
            "  inflating: data/videos/s2/srbo4a.mpg  \n",
            "  inflating: data/videos/s2/bwwu2a.mpg  \n",
            "  inflating: data/videos/s2/swbv3p.mpg  \n",
            "  inflating: data/videos/s2/lbwr4a.mpg  \n",
            "  inflating: data/videos/s2/pbwp7p.mpg  \n",
            "  inflating: data/videos/s2/lbbe1p.mpg  \n",
            "  inflating: data/videos/s2/lbax8s.mpg  \n",
            "  inflating: data/videos/s2/prbd2a.mpg  \n",
            "  inflating: data/videos/s2/lgif1p.mpg  \n",
            "  inflating: data/videos/s2/sgwdzs.mpg  \n",
            "  inflating: data/videos/s2/sgbxza.mpg  \n",
            "  inflating: data/videos/s2/swbv1n.mpg  \n",
            "  inflating: data/videos/s2/lgaf5p.mpg  \n",
            "  inflating: data/videos/s2/brbg1n.mpg  \n",
            "  inflating: data/videos/s2/lgwt1p.mpg  \n",
            "  inflating: data/videos/s2/swih6s.mpg  \n",
            "  inflating: data/videos/s2/bbwm4s.mpg  \n",
            "  inflating: data/videos/s2/bbal5n.mpg  \n",
            "  inflating: data/videos/s2/sgwqza.mpg  \n",
            "  inflating: data/videos/s2/sban2s.mpg  \n",
            "  inflating: data/videos/s2/srbu7p.mpg  \n",
            "  inflating: data/videos/s2/lgal9p.mpg  \n",
            "  inflating: data/videos/s2/pgbe2s.mpg  \n",
            "  inflating: data/videos/s2/lrae4a.mpg  \n",
            "  inflating: data/videos/s2/srbb6a.mpg  \n",
            "  inflating: data/videos/s2/lwaz1p.mpg  \n",
            "  inflating: data/videos/s2/bgaa7p.mpg  \n",
            "  inflating: data/videos/s2/bris2s.mpg  \n",
            "  inflating: data/videos/s2/pgad8s.mpg  \n",
            "  inflating: data/videos/s2/sbit3p.mpg  \n",
            "  inflating: data/videos/s2/bwigzs.mpg  \n",
            "  inflating: data/videos/s2/lbby2s.mpg  \n",
            "  inflating: data/videos/s2/bbbmzs.mpg  \n",
            "  inflating: data/videos/s2/lbby3p.mpg  \n",
            "  inflating: data/videos/s2/lbix5p.mpg  \n",
            "  inflating: data/videos/s2/lwws5p.mpg  \n",
            "  inflating: data/videos/s2/lrby9p.mpg  \n",
            "  inflating: data/videos/s2/lwbl8a.mpg  \n",
            "  inflating: data/videos/s2/pwbq6a.mpg  \n",
            "  inflating: data/videos/s2/bgwh7n.mpg  \n",
            "  inflating: data/videos/s2/bwba5p.mpg  \n",
            "  inflating: data/videos/s2/bgaa5n.mpg  \n",
            "  inflating: data/videos/s2/pwbx8s.mpg  \n",
            "  inflating: data/videos/s2/sgwd1p.mpg  \n",
            "  inflating: data/videos/s2/srbu6s.mpg  \n",
            "  inflating: data/videos/s2/bwwh1n.mpg  \n",
            "  inflating: data/videos/s2/pwwe2a.mpg  \n",
            "  inflating: data/videos/s2/sbaa4s.mpg  \n",
            "  inflating: data/videos/s2/pbav4a.mpg  \n",
            "  inflating: data/videos/s2/pwbd6s.mpg  \n",
            "  inflating: data/videos/s2/pbwx2a.mpg  \n",
            "  inflating: data/videos/s2/lrwz2s.mpg  \n",
            "  inflating: data/videos/s2/lrieza.mpg  \n",
            "  inflating: data/videos/s2/bbbf6s.mpg  \n",
            "  inflating: data/videos/s2/pwwy4a.mpg  \n",
            "  inflating: data/videos/s2/pbbc3n.mpg  \n",
            "  inflating: data/videos/s2/bwis7n.mpg  \n",
            "  inflating: data/videos/s2/pbao9p.mpg  \n",
            "  inflating: data/videos/s2/lgaz6s.mpg  \n",
            "  inflating: data/videos/s2/bram1n.mpg  \n",
            "  inflating: data/videos/s2/lgwg4a.mpg  \n",
            "  inflating: data/videos/s2/srwo6s.mpg  \n",
            "  inflating: data/videos/s2/pgwe5n.mpg  \n",
            "  inflating: data/videos/s2/pbac2a.mpg  \n",
            "  inflating: data/videos/s2/prwx5n.mpg  \n",
            "  inflating: data/videos/s2/sria5n.mpg  \n",
            "  inflating: data/videos/s2/bbbs5p.mpg  \n",
            "  inflating: data/videos/s2/pwbq3n.mpg  \n",
            "  inflating: data/videos/s2/lbwe5p.mpg  \n",
            "  inflating: data/videos/s2/lgwt2a.mpg  \n",
            "  inflating: data/videos/s2/sgav4s.mpg  \n",
            "  inflating: data/videos/s2/srbb4s.mpg  \n",
            "  inflating: data/videos/s2/lgaz7p.mpg  \n",
            "  inflating: data/videos/s2/bwat4a.mpg  \n",
            "  inflating: data/videos/s2/swwc5p.mpg  \n",
            "  inflating: data/videos/s2/lrbr5p.mpg  \n",
            "  inflating: data/videos/s2/bram4a.mpg  \n",
            "  inflating: data/videos/s2/sgbc7p.mpg  \n",
            "  inflating: data/videos/s2/sbba8s.mpg  \n",
            "  inflating: data/videos/s2/lbwlza.mpg  \n",
            "  inflating: data/videos/s2/lbby4a.mpg  \n",
            "  inflating: data/videos/s2/srbu8a.mpg  \n",
            "  inflating: data/videos/s2/bgauza.mpg  \n",
            "  inflating: data/videos/s2/swao3n.mpg  \n",
            "  inflating: data/videos/s2/lgiz1n.mpg  \n",
            "  inflating: data/videos/s2/lgamza.mpg  \n",
            "  inflating: data/videos/s2/lgir7n.mpg  \n",
            "  inflating: data/videos/s2/sbit4a.mpg  \n",
            "  inflating: data/videos/s2/sbit1n.mpg  \n",
            "  inflating: data/videos/s2/bwanza.mpg  \n",
            "  inflating: data/videos/s2/sbwozs.mpg  \n",
            "  inflating: data/videos/s2/lgiz2s.mpg  \n",
            "  inflating: data/videos/s2/sgwd2a.mpg  \n",
            "  inflating: data/videos/s2/lrwfzs.mpg  \n",
            "  inflating: data/videos/s2/sgicza.mpg  \n",
            "  inflating: data/videos/s2/lrar2a.mpg  \n",
            "  inflating: data/videos/s2/sgiu9n.mpg  \n",
            "  inflating: data/videos/s2/lgwm6s.mpg  \n",
            "  inflating: data/videos/s2/srwi4a.mpg  \n",
            "  inflating: data/videos/s2/swib3p.mpg  \n",
            "  inflating: data/videos/s2/sbig5p.mpg  \n",
            "  inflating: data/videos/s2/lwws4s.mpg  \n",
            "  inflating: data/videos/s2/bgin2a.mpg  \n",
            "  inflating: data/videos/s2/bgbn7n.mpg  \n",
            "  inflating: data/videos/s2/prbdzs.mpg  \n",
            "  inflating: data/videos/s2/brwa3p.mpg  \n",
            "  inflating: data/videos/s2/bbaf4a.mpg  \n",
            "  inflating: data/videos/s2/pwip6s.mpg  \n",
            "  inflating: data/videos/s2/pbaczs.mpg  \n",
            "  inflating: data/videos/s2/lgas2s.mpg  \n",
            "  inflating: data/videos/s2/swih5n.mpg  \n",
            "  inflating: data/videos/s2/pgbe1n.mpg  \n",
            "  inflating: data/videos/s2/pgbr2a.mpg  \n",
            "  inflating: data/videos/s2/bgbu2s.mpg  \n",
            "  inflating: data/videos/s2/bgahzs.mpg  \n",
            "  inflating: data/videos/s2/lwie6a.mpg  \n",
            "  inflating: data/videos/s2/prii5n.mpg  \n",
            "  inflating: data/videos/s2/srwcza.mpg  \n",
            "  inflating: data/videos/s2/pgbrzs.mpg  \n",
            "  inflating: data/videos/s2/bbwf9n.mpg  \n",
            "  inflating: data/videos/s2/sbig4s.mpg  \n",
            "  inflating: data/videos/s2/bgbu3p.mpg  \n",
            "  inflating: data/videos/s2/bgwu7p.mpg  \n",
            "  inflating: data/videos/s2/lwws3n.mpg  \n",
            "  inflating: data/videos/s2/pbav3p.mpg  \n",
            "  inflating: data/videos/s2/pbih9n.mpg  \n",
            "  inflating: data/videos/s2/lgwtzs.mpg  \n",
            "  inflating: data/videos/s2/lrarzs.mpg  \n",
            "  inflating: data/videos/s2/lbbk6a.mpg  \n",
            "  inflating: data/videos/s2/bwwh2s.mpg  \n",
            "  inflating: data/videos/s2/bgwo1n.mpg  \n",
            "  inflating: data/videos/s2/pgak3p.mpg  \n",
            "  inflating: data/videos/s2/bgat9p.mpg  \n",
            "  inflating: data/videos/s2/swbi4s.mpg  \n",
            "  inflating: data/videos/s2/lbby1n.mpg  \n",
            "  inflating: data/videos/s2/lgbf7n.mpg  \n",
            "  inflating: data/videos/s2/bwag6a.mpg  \n",
            "  inflating: data/videos/s2/pgayzs.mpg  \n",
            "  inflating: data/videos/s2/swao5p.mpg  \n",
            "  inflating: data/videos/s2/lrik3p.mpg  \n",
            "  inflating: data/videos/s2/srah3n.mpg  \n",
            "  inflating: data/videos/s2/pbai4s.mpg  \n",
            "  inflating: data/videos/s2/lbwy7p.mpg  \n",
            "  inflating: data/videos/s2/pbib6s.mpg  \n",
            "  inflating: data/videos/s2/bwaazs.mpg  \n",
            "  inflating: data/videos/s2/bwbn2s.mpg  \n",
            "  inflating: data/videos/s2/sgii4a.mpg  \n",
            "  inflating: data/videos/s2/sgac1n.mpg  \n",
            "  inflating: data/videos/s2/bgia2s.mpg  \n",
            "  inflating: data/videos/s2/srin3n.mpg  \n",
            "  inflating: data/videos/s2/lwar7p.mpg  \n",
            "  inflating: data/videos/s2/bbir5n.mpg  \n",
            "  inflating: data/videos/s2/lbad7p.mpg  \n",
            "  inflating: data/videos/s2/pwic8s.mpg  \n",
            "  inflating: data/videos/s2/lbax9p.mpg  \n",
            "  inflating: data/videos/s2/bwbt8a.mpg  \n",
            "  inflating: data/videos/s2/lbwr3p.mpg  \n",
            "  inflating: data/videos/s2/prap4s.mpg  \n",
            "  inflating: data/videos/s2/brbtzs.mpg  \n",
            "  inflating: data/videos/s2/prio9n.mpg  \n",
            "  inflating: data/videos/s2/bgwh8s.mpg  \n",
            "  inflating: data/videos/s2/bbwm3n.mpg  \n",
            "  inflating: data/videos/s2/brbm5n.mpg  \n",
            "  inflating: data/videos/s2/lbbd9n.mpg  \n",
            "  inflating: data/videos/s2/pwwk4s.mpg  \n",
            "  inflating: data/videos/s2/swbc1p.mpg  \n",
            "  inflating: data/videos/s2/lbak2a.mpg  \n",
            "  inflating: data/videos/s2/srah5p.mpg  \n",
            "  inflating: data/videos/s2/prwj7n.mpg  \n",
            "  inflating: data/videos/s2/bginzs.mpg  \n",
            "  inflating: data/videos/s2/pwij1n.mpg  \n",
            "  inflating: data/videos/s2/bbws7n.mpg  \n",
            "  inflating: data/videos/s2/praxza.mpg  \n",
            "  inflating: data/videos/s2/pgij9p.mpg  \n",
            "  inflating: data/videos/s2/bwbn3p.mpg  \n",
            "  inflating: data/videos/s2/prbp7n.mpg  \n",
            "  inflating: data/videos/s2/lwbszs.mpg  \n",
            "  inflating: data/videos/s2/bwag3n.mpg  \n",
            "  inflating: data/videos/s2/brwg6s.mpg  \n",
            "  inflating: data/videos/s2/prbj6a.mpg  \n",
            "  inflating: data/videos/s2/sbat8a.mpg  \n",
            "  inflating: data/videos/s2/bgbb2a.mpg  \n",
            "  inflating: data/videos/s2/lgws9n.mpg  \n",
            "  inflating: data/videos/s2/lwae9p.mpg  \n",
            "  inflating: data/videos/s2/prii8a.mpg  \n",
            "  inflating: data/videos/s2/pbai6a.mpg  \n",
            "  inflating: data/videos/s2/pgix7p.mpg  \n",
            "  inflating: data/videos/s2/bwbhza.mpg  \n",
            "  inflating: data/videos/s2/sbag9p.mpg  \n",
            "  inflating: data/videos/s2/lwbf1n.mpg  \n",
            "  inflating: data/videos/s2/srin5p.mpg  \n",
            "  inflating: data/videos/s2/pbivza.mpg  \n",
            "  inflating: data/videos/s2/lwbz5p.mpg  \n",
            "  inflating: data/videos/s2/sgii2s.mpg  \n",
            "  inflating: data/videos/s2/bwba6a.mpg  \n",
            "  inflating: data/videos/s2/pgwl2a.mpg  \n",
            "  inflating: data/videos/s2/brwt4s.mpg  \n",
            "  inflating: data/videos/s2/pgaq8a.mpg  \n",
            "  inflating: data/videos/s2/pgwr5p.mpg  \n",
            "  inflating: data/videos/s2/lrwf2a.mpg  \n",
            "  inflating: data/videos/s2/srabzs.mpg  \n",
            "  inflating: data/videos/s2/sbwo2a.mpg  \n",
            "  inflating: data/videos/s2/pwax3n.mpg  \n",
            "  inflating: data/videos/s2/sbat7p.mpg  \n",
            "  inflating: data/videos/s2/pwaj5n.mpg  \n",
            "  inflating: data/videos/s2/lriyzs.mpg  \n",
            "  inflating: data/videos/s2/brbs9n.mpg  \n",
            "  inflating: data/videos/s2/pbwj3p.mpg  \n",
            "  inflating: data/videos/s2/sbbh4a.mpg  \n",
            "  inflating: data/videos/s2/prap5p.mpg  \n",
            "  inflating: data/videos/s2/lwbl7p.mpg  \n",
            "  inflating: data/videos/s2/lgbf9p.mpg  \n",
            "  inflating: data/videos/s2/bril8s.mpg  \n",
            "  inflating: data/videos/s2/bwat2s.mpg  \n",
            "  inflating: data/videos/s2/srab2a.mpg  \n",
            "  inflating: data/videos/s2/lgbm3p.mpg  \n",
            "  inflating: data/videos/s2/pgid4s.mpg  \n",
            "  inflating: data/videos/s2/pbio5p.mpg  \n",
            "  inflating: data/videos/s2/swbb9n.mpg  \n",
            "  inflating: data/videos/s2/sbwb1n.mpg  \n",
            "  inflating: data/videos/s2/Thumbs.db  \n",
            "Archive:  s3.zip\n",
            "   creating: data/videos/s3/\n",
            "  inflating: data/videos/s3/swiu4p.mpg  \n",
            "  inflating: data/videos/s3/lbid3a.mpg  \n",
            "  inflating: data/videos/s3/swio1a.mpg  \n",
            "  inflating: data/videos/s3/lwbl4n.mpg  \n",
            "  inflating: data/videos/s3/pgaq4n.mpg  \n",
            "  inflating: data/videos/s3/pwaq1a.mpg  \n",
            "  inflating: data/videos/s3/pbbv6p.mpg  \n",
            "  inflating: data/videos/s3/pgaq6p.mpg  \n",
            "  inflating: data/videos/s3/lray4p.mpg  \n",
            "  inflating: data/videos/s3/bgbu1s.mpg  \n",
            "  inflating: data/videos/s3/bbaz3s.mpg  \n",
            "  inflating: data/videos/s3/lbaq5a.mpg  \n",
            "  inflating: data/videos/s3/sgap1a.mpg  \n",
            "  inflating: data/videos/s3/bwag4p.mpg  \n",
            "  inflating: data/videos/s3/sgio7a.mpg  \n",
            "  inflating: data/videos/s3/bbbf7a.mpg  \n",
            "  inflating: data/videos/s3/bwatzn.mpg  \n",
            "  inflating: data/videos/s3/pbio4p.mpg  \n",
            "  inflating: data/videos/s3/bgba8n.mpg  \n",
            "  inflating: data/videos/s3/pbwc7s.mpg  \n",
            "  inflating: data/videos/s3/bwig1a.mpg  \n",
            "  inflating: data/videos/s3/swwi6n.mpg  \n",
            "  inflating: data/videos/s3/swbo8p.mpg  \n",
            "  inflating: data/videos/s3/bgwu7a.mpg  \n",
            "  inflating: data/videos/s3/lbbq6n.mpg  \n",
            "  inflating: data/videos/s3/pgiqzn.mpg  \n",
            "  inflating: data/videos/s3/pgby2n.mpg  \n",
            "  inflating: data/videos/s3/pbwp7a.mpg  \n",
            "  inflating: data/videos/s3/bgat7s.mpg  \n",
            "  inflating: data/videos/s3/braf6n.mpg  \n",
            "  inflating: data/videos/s3/bbbf4n.mpg  \n",
            "  inflating: data/videos/s3/sgav5a.mpg  \n",
            "  inflating: data/videos/s3/sbag7s.mpg  \n",
            "  inflating: data/videos/s3/pgbq9s.mpg  \n",
            "  inflating: data/videos/s3/prbxzn.mpg  \n",
            "  inflating: data/videos/s3/brwa2p.mpg  \n",
            "  inflating: data/videos/s3/swibzn.mpg  \n",
            "  inflating: data/videos/s3/lbbk3s.mpg  \n",
            "  inflating: data/videos/s3/swwc5a.mpg  \n",
            "  inflating: data/videos/s3/sgio4n.mpg  \n",
            "  inflating: data/videos/s3/swbo6n.mpg  \n",
            "  inflating: data/videos/s3/lrbr4p.mpg  \n",
            "  inflating: data/videos/s3/bwam8p.mpg  \n",
            "  inflating: data/videos/s3/bgwh6n.mpg  \n",
            "  inflating: data/videos/s3/lgal7s.mpg  \n",
            "  inflating: data/videos/s3/pbwv9s.mpg  \n",
            "  inflating: data/videos/s3/lgwtzp.mpg  \n",
            "  inflating: data/videos/s3/lgbf6n.mpg  \n",
            "  inflating: data/videos/s3/pbiu9a.mpg  \n",
            "  inflating: data/videos/s3/lwbz5a.mpg  \n",
            "  inflating: data/videos/s3/sgib8p.mpg  \n",
            "  inflating: data/videos/s3/sgwp6n.mpg  \n",
            "  inflating: data/videos/s3/swai1a.mpg  \n",
            "  inflating: data/videos/s3/bgat8p.mpg  \n",
            "  inflating: data/videos/s3/swib3a.mpg  \n",
            "  inflating: data/videos/s3/bbaz5a.mpg  \n",
            "  inflating: data/videos/s3/lrak4n.mpg  \n",
            "  inflating: data/videos/s3/swab7a.mpg  \n",
            "  inflating: data/videos/s3/srihzp.mpg  \n",
            "  inflating: data/videos/s3/sgbp5a.mpg  \n",
            "  inflating: data/videos/s3/sgivzp.mpg  \n",
            "  inflating: data/videos/s3/lriq5s.mpg  \n",
            "  inflating: data/videos/s3/pbbc3s.mpg  \n",
            "  inflating: data/videos/s3/lwwmzp.mpg  \n",
            "  inflating: data/videos/s3/lrwl4p.mpg  \n",
            "  inflating: data/videos/s3/pwbx9a.mpg  \n",
            "  inflating: data/videos/s3/pbav2p.mpg  \n",
            "  inflating: data/videos/s3/lbaj8n.mpg  \n",
            "  inflating: data/videos/s3/swao5a.mpg  \n",
            "  inflating: data/videos/s3/swwv6p.mpg  \n",
            "  inflating: data/videos/s3/bgbh5a.mpg  \n",
            "  inflating: data/videos/s3/bgbh3s.mpg  \n",
            "  inflating: data/videos/s3/bgig4n.mpg  \n",
            "  inflating: data/videos/s3/bgit4p.mpg  \n",
            "  inflating: data/videos/s3/lrikzn.mpg  \n",
            "  inflating: data/videos/s3/sgwj5a.mpg  \n",
            "  inflating: data/videos/s3/praj1a.mpg  \n",
            "  inflating: data/videos/s3/bbwg1a.mpg  \n",
            "  inflating: data/videos/s3/pgad8p.mpg  \n",
            "  inflating: data/videos/s3/sgib6n.mpg  \n",
            "  inflating: data/videos/s3/lwbszp.mpg  \n",
            "  inflating: data/videos/s3/lraezn.mpg  \n",
            "  inflating: data/videos/s3/lgie8n.mpg  \n",
            "  inflating: data/videos/s3/sgac3a.mpg  \n",
            "  inflating: data/videos/s3/bwbg8p.mpg  \n",
            "  inflating: data/videos/s3/sgav2n.mpg  \n",
            "  inflating: data/videos/s3/briz6p.mpg  \n",
            "  inflating: data/videos/s3/lrak5s.mpg  \n",
            "  inflating: data/videos/s3/lbij6p.mpg  \n",
            "  inflating: data/videos/s3/swwc4p.mpg  \n",
            "  inflating: data/videos/s3/lwbz3s.mpg  \n",
            "  inflating: data/videos/s3/lbix2n.mpg  \n",
            "  inflating: data/videos/s3/lray2n.mpg  \n",
            "  inflating: data/videos/s3/bbar9s.mpg  \n",
            "  inflating: data/videos/s3/pwwyzn.mpg  \n",
            "  inflating: data/videos/s3/bras5s.mpg  \n",
            "  inflating: data/videos/s3/sgwdzp.mpg  \n",
            "  inflating: data/videos/s3/pgax8n.mpg  \n",
            "  inflating: data/videos/s3/bbilzn.mpg  \n",
            "  inflating: data/videos/s3/pbwj2p.mpg  \n",
            "  inflating: data/videos/s3/srwo5s.mpg  \n",
            "  inflating: data/videos/s3/lbwe3s.mpg  \n",
            "  inflating: data/videos/s3/sgaczn.mpg  \n",
            "  inflating: data/videos/s3/srig9s.mpg  \n",
            "  inflating: data/videos/s3/sbbt9s.mpg  \n",
            "  inflating: data/videos/s3/brwt3s.mpg  \n",
            "  inflating: data/videos/s3/bgbh4p.mpg  \n",
            "  inflating: data/videos/s3/lbwy6p.mpg  \n",
            "  inflating: data/videos/s3/brif2n.mpg  \n",
            "  inflating: data/videos/s3/bwba5a.mpg  \n",
            "  inflating: data/videos/s3/pwwe1a.mpg  \n",
            "  inflating: data/videos/s3/braf9a.mpg  \n",
            "  inflating: data/videos/s3/prav7s.mpg  \n",
            "  inflating: data/videos/s3/bram3a.mpg  \n",
            "  inflating: data/videos/s3/swbv1s.mpg  \n",
            "  inflating: data/videos/s3/lgbmzn.mpg  \n",
            "  inflating: data/videos/s3/pwbq4p.mpg  \n",
            "  inflating: data/videos/s3/srwo4n.mpg  \n",
            "  inflating: data/videos/s3/srwo6p.mpg  \n",
            "  inflating: data/videos/s3/pgij6n.mpg  \n",
            "  inflating: data/videos/s3/sbwu3s.mpg  \n",
            "  inflating: data/videos/s3/pbib4n.mpg  \n",
            "  inflating: data/videos/s3/prbj2n.mpg  \n",
            "  inflating: data/videos/s3/lwaz1a.mpg  \n",
            "  inflating: data/videos/s3/sgii3a.mpg  \n",
            "  inflating: data/videos/s3/bram2p.mpg  \n",
            "  inflating: data/videos/s3/pwax3s.mpg  \n",
            "  inflating: data/videos/s3/swbb8n.mpg  \n",
            "  inflating: data/videos/s3/lrae3a.mpg  \n",
            "  inflating: data/videos/s3/pwic8p.mpg  \n",
            "  inflating: data/videos/s3/bwwh3a.mpg  \n",
            "  inflating: data/videos/s3/sgiu8n.mpg  \n",
            "  inflating: data/videos/s3/sgbv7s.mpg  \n",
            "  inflating: data/videos/s3/sbim6n.mpg  \n",
            "  inflating: data/videos/s3/lgifzp.mpg  \n",
            "  inflating: data/videos/s3/lgbm3a.mpg  \n",
            "  inflating: data/videos/s3/srbu5s.mpg  \n",
            "  inflating: data/videos/s3/lbad4n.mpg  \n",
            "  inflating: data/videos/s3/srah4p.mpg  \n",
            "  inflating: data/videos/s3/sgbv6n.mpg  \n",
            "  inflating: data/videos/s3/lrwe8n.mpg  \n",
            "  inflating: data/videos/s3/srwb9a.mpg  \n",
            "  inflating: data/videos/s3/pbai5a.mpg  \n",
            "  inflating: data/videos/s3/lwws4p.mpg  \n",
            "  inflating: data/videos/s3/sgii2p.mpg  \n",
            "  inflating: data/videos/s3/srbh6n.mpg  \n",
            "  inflating: data/videos/s3/lbaq3s.mpg  \n",
            "  inflating: data/videos/s3/pgbrzp.mpg  \n",
            "  inflating: data/videos/s3/swab5s.mpg  \n",
            "  inflating: data/videos/s3/lwazzp.mpg  \n",
            "  inflating: data/videos/s3/lbbq9a.mpg  \n",
            "  inflating: data/videos/s3/sbat4n.mpg  \n",
            "  inflating: data/videos/s3/swwc3s.mpg  \n",
            "  inflating: data/videos/s3/lbbq7s.mpg  \n",
            "  inflating: data/videos/s3/bwwa9a.mpg  \n",
            "  inflating: data/videos/s3/lbij5s.mpg  \n",
            "  inflating: data/videos/s3/lgif1a.mpg  \n",
            "  inflating: data/videos/s3/bbir5s.mpg  \n",
            "  inflating: data/videos/s3/sbag6n.mpg  \n",
            "  inflating: data/videos/s3/lrwz1s.mpg  \n",
            "  inflating: data/videos/s3/lgws8n.mpg  \n",
            "  inflating: data/videos/s3/srah5a.mpg  \n",
            "  inflating: data/videos/s3/pgay1a.mpg  \n",
            "  inflating: data/videos/s3/lwar7a.mpg  \n",
            "  inflating: data/videos/s3/swwi9a.mpg  \n",
            "  inflating: data/videos/s3/lgil4p.mpg  \n",
            "  inflating: data/videos/s3/sgao8n.mpg  \n",
            "  inflating: data/videos/s3/lgbf7s.mpg  \n",
            "  inflating: data/videos/s3/pbav1s.mpg  \n",
            "  inflating: data/videos/s3/sgwx2p.mpg  \n",
            "  inflating: data/videos/s3/pgwr4p.mpg  \n",
            "  inflating: data/videos/s3/sgiizn.mpg  \n",
            "  inflating: data/videos/s3/pwbd7a.mpg  \n",
            "  inflating: data/videos/s3/swao2n.mpg  \n",
            "  inflating: data/videos/s3/brbg3a.mpg  \n",
            "  inflating: data/videos/s3/pbao8p.mpg  \n",
            "  inflating: data/videos/s3/pbai3s.mpg  \n",
            "  inflating: data/videos/s3/lgbz8n.mpg  \n",
            "  inflating: data/videos/s3/swbvzn.mpg  \n",
            "  inflating: data/videos/s3/lwbfzn.mpg  \n",
            "  inflating: data/videos/s3/swab6p.mpg  \n",
            "  inflating: data/videos/s3/lbix5a.mpg  \n",
            "  inflating: data/videos/s3/brwg4n.mpg  \n",
            "  inflating: data/videos/s3/lrby8p.mpg  \n",
            "  inflating: data/videos/s3/swin8n.mpg  \n",
            "  inflating: data/videos/s3/lwwz6n.mpg  \n",
            "  inflating: data/videos/s3/sgbp4p.mpg  \n",
            "  inflating: data/videos/s3/lbbyzn.mpg  \n",
            "  inflating: data/videos/s3/lbaj9s.mpg  \n",
            "  inflating: data/videos/s3/lgir6n.mpg  \n",
            "  inflating: data/videos/s3/bbal7a.mpg  \n",
            "  inflating: data/videos/s3/pwap8n.mpg  \n",
            "  inflating: data/videos/s3/bgbu3a.mpg  \n",
            "  inflating: data/videos/s3/sgbj1a.mpg  \n",
            "  inflating: data/videos/s3/pbbpzn.mpg  \n",
            "  inflating: data/videos/s3/lgws9s.mpg  \n",
            "  inflating: data/videos/s3/pwaj4n.mpg  \n",
            "  inflating: data/videos/s3/bgit3s.mpg  \n",
            "  inflating: data/videos/s3/lwwf7a.mpg  \n",
            "  inflating: data/videos/s3/swwp3a.mpg  \n",
            "  inflating: data/videos/s3/bwam9a.mpg  \n",
            "  inflating: data/videos/s3/prwx6p.mpg  \n",
            "  inflating: data/videos/s3/bwwt8n.mpg  \n",
            "  inflating: data/videos/s3/bgwu4n.mpg  \n",
            "  inflating: data/videos/s3/pgid2n.mpg  \n",
            "  inflating: data/videos/s3/bwwh1s.mpg  \n",
            "  inflating: data/videos/s3/braf7s.mpg  \n",
            "  inflating: data/videos/s3/prbp7s.mpg  \n",
            "  inflating: data/videos/s3/swbczp.mpg  \n",
            "  inflating: data/videos/s3/bbaszp.mpg  \n",
            "  inflating: data/videos/s3/lwik6n.mpg  \n",
            "  inflating: data/videos/s3/pbio2n.mpg  \n",
            "  inflating: data/videos/s3/pgby3s.mpg  \n",
            "  inflating: data/videos/s3/sbaa2n.mpg  \n",
            "  inflating: data/videos/s3/pgwlzp.mpg  \n",
            "  inflating: data/videos/s3/lbwk7s.mpg  \n",
            "  inflating: data/videos/s3/srbh9a.mpg  \n",
            "  inflating: data/videos/s3/lrwe9s.mpg  \n",
            "  inflating: data/videos/s3/pbbv5s.mpg  \n",
            "  inflating: data/videos/s3/bbbz9a.mpg  \n",
            "  inflating: data/videos/s3/lrbe6p.mpg  \n",
            "  inflating: data/videos/s3/swbc1a.mpg  \n",
            "  inflating: data/videos/s3/lwae8p.mpg  \n",
            "  inflating: data/videos/s3/sbaa5a.mpg  \n",
            "  inflating: data/videos/s3/bbwf8n.mpg  \n",
            "  inflating: data/videos/s3/lrbe5s.mpg  \n",
            "  inflating: data/videos/s3/swbi2n.mpg  \n",
            "  inflating: data/videos/s3/lbiqzp.mpg  \n",
            "  inflating: data/videos/s3/bgag9s.mpg  \n",
            "  inflating: data/videos/s3/pbbp3a.mpg  \n",
            "  inflating: data/videos/s3/lrarzp.mpg  \n",
            "  inflating: data/videos/s3/bgaa4n.mpg  \n",
            "  inflating: data/videos/s3/pgad9a.mpg  \n",
            "  inflating: data/videos/s3/bwat1s.mpg  \n",
            "  inflating: data/videos/s3/sgwxzn.mpg  \n",
            "  inflating: data/videos/s3/bril7s.mpg  \n",
            "  inflating: data/videos/s3/sbbh3a.mpg  \n",
            "  inflating: data/videos/s3/bwwn7a.mpg  \n",
            "  inflating: data/videos/s3/sban1s.mpg  \n",
            "  inflating: data/videos/s3/srwb7s.mpg  \n",
            "  inflating: data/videos/s3/lwiy5s.mpg  \n",
            "  inflating: data/videos/s3/bwis8p.mpg  \n",
            "  inflating: data/videos/s3/bgit5a.mpg  \n",
            "  inflating: data/videos/s3/bgwb4p.mpg  \n",
            "  inflating: data/videos/s3/lwie3s.mpg  \n",
            "  inflating: data/videos/s3/lwbr8n.mpg  \n",
            "  inflating: data/videos/s3/sbag8p.mpg  \n",
            "  inflating: data/videos/s3/pwbx6n.mpg  \n",
            "  inflating: data/videos/s3/bwbt6p.mpg  \n",
            "  inflating: data/videos/s3/prwj8p.mpg  \n",
            "  inflating: data/videos/s3/sbim9a.mpg  \n",
            "  inflating: data/videos/s3/prii6p.mpg  \n",
            "  inflating: data/videos/s3/bgwu6p.mpg  \n",
            "  inflating: data/videos/s3/pgix6p.mpg  \n",
            "  inflating: data/videos/s3/bbil1s.mpg  \n",
            "  inflating: data/videos/s3/sgiv1a.mpg  \n",
            "  inflating: data/videos/s3/prii5s.mpg  \n",
            "  inflating: data/videos/s3/sran7s.mpg  \n",
            "  inflating: data/videos/s3/pwij3a.mpg  \n",
            "  inflating: data/videos/s3/pgwy7s.mpg  \n",
            "  inflating: data/videos/s3/bwbnzn.mpg  \n",
            "  inflating: data/videos/s3/bwbt7a.mpg  \n",
            "  inflating: data/videos/s3/lbwy4n.mpg  \n",
            "  inflating: data/videos/s3/lgwm4n.mpg  \n",
            "  inflating: data/videos/s3/bbwm3s.mpg  \n",
            "  inflating: data/videos/s3/pric3a.mpg  \n",
            "  inflating: data/videos/s3/sbbu1a.mpg  \n",
            "  inflating: data/videos/s3/swbo9a.mpg  \n",
            "  inflating: data/videos/s3/pbwjzn.mpg  \n",
            "  inflating: data/videos/s3/sbbn4n.mpg  \n",
            "  inflating: data/videos/s3/priv5a.mpg  \n",
            "  inflating: data/videos/s3/bwwn4n.mpg  \n",
            "  inflating: data/videos/s3/pbwx1a.mpg  \n",
            "  inflating: data/videos/s3/sbig3s.mpg  \n",
            "  inflating: data/videos/s3/lbwr1s.mpg  \n",
            "  inflating: data/videos/s3/swah9s.mpg  \n",
            "  inflating: data/videos/s3/lbby1s.mpg  \n",
            "  inflating: data/videos/s3/swih6p.mpg  \n",
            "  inflating: data/videos/s3/sgib7s.mpg  \n",
            "  inflating: data/videos/s3/srauzn.mpg  \n",
            "  inflating: data/videos/s3/sgbc5s.mpg  \n",
            "  inflating: data/videos/s3/lwir2p.mpg  \n",
            "  inflating: data/videos/s3/bbaf2p.mpg  \n",
            "  inflating: data/videos/s3/pbwxzp.mpg  \n",
            "  inflating: data/videos/s3/bgwb3s.mpg  \n",
            "  inflating: data/videos/s3/prbdzp.mpg  \n",
            "  inflating: data/videos/s3/bgit2n.mpg  \n",
            "  inflating: data/videos/s3/pwbj8n.mpg  \n",
            "  inflating: data/videos/s3/bgbn9a.mpg  \n",
            "  inflating: data/videos/s3/sgwj2n.mpg  \n",
            "  inflating: data/videos/s3/pgbk7a.mpg  \n",
            "  inflating: data/videos/s3/lwwm1a.mpg  \n",
            "  inflating: data/videos/s3/bgwo1s.mpg  \n",
            "  inflating: data/videos/s3/pgwk9s.mpg  \n",
            "  inflating: data/videos/s3/lgaz7a.mpg  \n",
            "  inflating: data/videos/s3/bris2p.mpg  \n",
            "  inflating: data/videos/s3/brwg5s.mpg  \n",
            "  inflating: data/videos/s3/srwb8p.mpg  \n",
            "  inflating: data/videos/s3/swiu2n.mpg  \n",
            "  inflating: data/videos/s3/bbil2p.mpg  \n",
            "  inflating: data/videos/s3/sbag9a.mpg  \n",
            "  inflating: data/videos/s3/swbo7s.mpg  \n",
            "  inflating: data/videos/s3/sraa9s.mpg  \n",
            "  inflating: data/videos/s3/bwag3s.mpg  \n",
            "  inflating: data/videos/s3/prii4n.mpg  \n",
            "  inflating: data/videos/s3/prbc8n.mpg  \n",
            "  inflating: data/videos/s3/lriy1a.mpg  \n",
            "  inflating: data/videos/s3/lbbd8n.mpg  \n",
            "  inflating: data/videos/s3/lbbk5a.mpg  \n",
            "  inflating: data/videos/s3/prap4p.mpg  \n",
            "  inflating: data/videos/s3/pgwk8n.mpg  \n",
            "  inflating: data/videos/s3/lgaz4n.mpg  \n",
            "  inflating: data/videos/s3/prio8n.mpg  \n",
            "  inflating: data/videos/s3/sgapzp.mpg  \n",
            "  inflating: data/videos/s3/srbb2n.mpg  \n",
            "  inflating: data/videos/s3/pwwezp.mpg  \n",
            "  inflating: data/videos/s3/lwie5a.mpg  \n",
            "  inflating: data/videos/s3/prav6n.mpg  \n",
            "  inflating: data/videos/s3/lgil5a.mpg  \n",
            "  inflating: data/videos/s3/lgbf9a.mpg  \n",
            "  inflating: data/videos/s3/sgao9s.mpg  \n",
            "  inflating: data/videos/s3/lgiz1s.mpg  \n",
            "  inflating: data/videos/s3/lwbf2p.mpg  \n",
            "  inflating: data/videos/s3/lbwr2p.mpg  \n",
            "  inflating: data/videos/s3/prap3s.mpg  \n",
            "  inflating: data/videos/s3/lwwl8n.mpg  \n",
            "  inflating: data/videos/s3/bwwu1a.mpg  \n",
            "  inflating: data/videos/s3/lgbm2p.mpg  \n",
            "  inflating: data/videos/s3/sria5s.mpg  \n",
            "  inflating: data/videos/s3/lbax8p.mpg  \n",
            "  inflating: data/videos/s3/prac5s.mpg  \n",
            "  inflating: data/videos/s3/sbwh5s.mpg  \n",
            "  inflating: data/videos/s3/brif5a.mpg  \n",
            "  inflating: data/videos/s3/pbih8n.mpg  \n",
            "  inflating: data/videos/s3/pbao9a.mpg  \n",
            "  inflating: data/videos/s3/sbig5a.mpg  \n",
            "  inflating: data/videos/s3/lbakzp.mpg  \n",
            "  inflating: data/videos/s3/swwi8p.mpg  \n",
            "  inflating: data/videos/s3/bwba4p.mpg  \n",
            "  inflating: data/videos/s3/bbaf3a.mpg  \n",
            "  inflating: data/videos/s3/lbix4p.mpg  \n",
            "  inflating: data/videos/s3/bbwf9s.mpg  \n",
            "  inflating: data/videos/s3/lbwe2n.mpg  \n",
            "  inflating: data/videos/s3/sbbt8n.mpg  \n",
            "  inflating: data/videos/s3/bbbmzp.mpg  \n",
            "  inflating: data/videos/s3/bbaz2n.mpg  \n",
            "  inflating: data/videos/s3/sgbjzp.mpg  \n",
            "  inflating: data/videos/s3/pgwl1a.mpg  \n",
            "  inflating: data/videos/s3/lwbr9s.mpg  \n",
            "  inflating: data/videos/s3/srwo7a.mpg  \n",
            "  inflating: data/videos/s3/lrwzzn.mpg  \n",
            "  inflating: data/videos/s3/pwwk5a.mpg  \n",
            "  inflating: data/videos/s3/pbbc2n.mpg  \n",
            "  inflating: data/videos/s3/pgwe4n.mpg  \n",
            "  inflating: data/videos/s3/lgwm7a.mpg  \n",
            "  inflating: data/videos/s3/lrak7a.mpg  \n",
            "  inflating: data/videos/s3/lrid9a.mpg  \n",
            "  inflating: data/videos/s3/sbaa3s.mpg  \n",
            "  inflating: data/videos/s3/lgwg1s.mpg  \n",
            "  inflating: data/videos/s3/pwbq5a.mpg  \n",
            "  inflating: data/videos/s3/srbh7s.mpg  \n",
            "  inflating: data/videos/s3/bbws7s.mpg  \n",
            "  inflating: data/videos/s3/sgbi8n.mpg  \n",
            "  inflating: data/videos/s3/bbbf5s.mpg  \n",
            "  inflating: data/videos/s3/sria4n.mpg  \n",
            "  inflating: data/videos/s3/sbit1s.mpg  \n",
            "  inflating: data/videos/s3/lwwz9a.mpg  \n",
            "  inflating: data/videos/s3/lrwf1a.mpg  \n",
            "  inflating: data/videos/s3/srit8p.mpg  \n",
            "  inflating: data/videos/s3/pgij8p.mpg  \n",
            "  inflating: data/videos/s3/pwip6p.mpg  \n",
            "  inflating: data/videos/s3/lwbl6p.mpg  \n",
            "  inflating: data/videos/s3/brwg6p.mpg  \n",
            "  inflating: data/videos/s3/lwbl7a.mpg  \n",
            "  inflating: data/videos/s3/pbbi7s.mpg  \n",
            "  inflating: data/videos/s3/pwiv9s.mpg  \n",
            "  inflating: data/videos/s3/pbib7a.mpg  \n",
            "  inflating: data/videos/s3/lbbq8p.mpg  \n",
            "  inflating: data/videos/s3/bwbn2p.mpg  \n",
            "  inflating: data/videos/s3/bwif8n.mpg  \n",
            "  inflating: data/videos/s3/bgwo2p.mpg  \n",
            "  inflating: data/videos/s3/lgaf4p.mpg  \n",
            "  inflating: data/videos/s3/srau1s.mpg  \n",
            "  inflating: data/videos/s3/bgwh7s.mpg  \n",
            "  inflating: data/videos/s3/lrix8n.mpg  \n",
            "  inflating: data/videos/s3/pbbi9a.mpg  \n",
            "  inflating: data/videos/s3/srwizn.mpg  \n",
            "  inflating: data/videos/s3/pwwk2n.mpg  \n",
            "  inflating: data/videos/s3/prwq3a.mpg  \n",
            "  inflating: data/videos/s3/lbad5s.mpg  \n",
            "  inflating: data/videos/s3/srab1a.mpg  \n",
            "  inflating: data/videos/s3/bwwa6n.mpg  \n",
            "  inflating: data/videos/s3/lgbf8p.mpg  \n",
            "  inflating: data/videos/s3/bgbh2n.mpg  \n",
            "  inflating: data/videos/s3/srah2n.mpg  \n",
            "  inflating: data/videos/s3/braz8n.mpg  \n",
            "  inflating: data/videos/s3/prwj6n.mpg  \n",
            "  inflating: data/videos/s3/bwwa7s.mpg  \n",
            "  inflating: data/videos/s3/lrwz2p.mpg  \n",
            "  inflating: data/videos/s3/lbwr3a.mpg  \n",
            "  inflating: data/videos/s3/bbws8p.mpg  \n",
            "  inflating: data/videos/s3/sbwu4p.mpg  \n",
            "  inflating: data/videos/s3/bgwh9a.mpg  \n",
            "  inflating: data/videos/s3/bbiy9s.mpg  \n",
            "  inflating: data/videos/s3/pbwp6p.mpg  \n",
            "  inflating: data/videos/s3/lwiy4n.mpg  \n",
            "  inflating: data/videos/s3/pwbd6p.mpg  \n",
            "  inflating: data/videos/s3/bgwozn.mpg  \n",
            "  inflating: data/videos/s3/sbaa4p.mpg  \n",
            "  inflating: data/videos/s3/pgwr3s.mpg  \n",
            "  inflating: data/videos/s3/swaizp.mpg  \n",
            "  inflating: data/videos/s3/pgby4p.mpg  \n",
            "  inflating: data/videos/s3/lgil2n.mpg  \n",
            "  inflating: data/videos/s3/pwwy3a.mpg  \n",
            "  inflating: data/videos/s3/lwar4n.mpg  \n",
            "  inflating: data/videos/s3/sgwp7s.mpg  \n",
            "  inflating: data/videos/s3/bbie7s.mpg  \n",
            "  inflating: data/videos/s3/sbwu2n.mpg  \n",
            "  inflating: data/videos/s3/bbbf6p.mpg  \n",
            "  inflating: data/videos/s3/bgia2p.mpg  \n",
            "  inflating: data/videos/s3/pric1s.mpg  \n",
            "  inflating: data/videos/s3/lriq4n.mpg  \n",
            "  inflating: data/videos/s3/bgahzp.mpg  \n",
            "  inflating: data/videos/s3/bwbt4n.mpg  \n",
            "  inflating: data/videos/s3/bris3a.mpg  \n",
            "  inflating: data/videos/s3/brwm8n.mpg  \n",
            "  inflating: data/videos/s3/lbwy5s.mpg  \n",
            "  inflating: data/videos/s3/pbao7s.mpg  \n",
            "  inflating: data/videos/s3/srbu7a.mpg  \n",
            "  inflating: data/videos/s3/sbbh1s.mpg  \n",
            "  inflating: data/videos/s3/pwbq3s.mpg  \n",
            "  inflating: data/videos/s3/lbij7a.mpg  \n",
            "  inflating: data/videos/s3/bwbn3a.mpg  \n",
            "  inflating: data/videos/s3/srbo2p.mpg  \n",
            "  inflating: data/videos/s3/prio9s.mpg  \n",
            "  inflating: data/videos/s3/pwbd5s.mpg  \n",
            "  inflating: data/videos/s3/sgiu9s.mpg  \n",
            "  inflating: data/videos/s3/lbbe1a.mpg  \n",
            "  inflating: data/videos/s3/bramzn.mpg  \n",
            "  inflating: data/videos/s3/bwwa8p.mpg  \n",
            "  inflating: data/videos/s3/bgbu2p.mpg  \n",
            "  inflating: data/videos/s3/lrwl3s.mpg  \n",
            "  inflating: data/videos/s3/pgak3a.mpg  \n",
            "  inflating: data/videos/s3/lbid2p.mpg  \n",
            "  inflating: data/videos/s3/lgwm6p.mpg  \n",
            "  inflating: data/videos/s3/pbab8n.mpg  \n",
            "  inflating: data/videos/s3/prbd1a.mpg  \n",
            "  inflating: data/videos/s3/bgin1a.mpg  \n",
            "  inflating: data/videos/s3/pbwc6n.mpg  \n",
            "  inflating: data/videos/s3/bras6p.mpg  \n",
            "  inflating: data/videos/s3/lrwr9a.mpg  \n",
            "  inflating: data/videos/s3/sbwn8n.mpg  \n",
            "  inflating: data/videos/s3/pgakzn.mpg  \n",
            "  inflating: data/videos/s3/pbbc5a.mpg  \n",
            "  inflating: data/videos/s3/lgal8p.mpg  \n",
            "  inflating: data/videos/s3/bbas1a.mpg  \n",
            "  inflating: data/videos/s3/bwwt9s.mpg  \n",
            "  inflating: data/videos/s3/bbbs5a.mpg  \n",
            "  inflating: data/videos/s3/prajzp.mpg  \n",
            "  inflating: data/videos/s3/lrbe7a.mpg  \n",
            "  inflating: data/videos/s3/sbwbzn.mpg  \n",
            "  inflating: data/videos/s3/pbbp1s.mpg  \n",
            "  inflating: data/videos/s3/lrbl1a.mpg  \n",
            "  inflating: data/videos/s3/srwb6n.mpg  \n",
            "  inflating: data/videos/s3/bgba9s.mpg  \n",
            "  inflating: data/videos/s3/swwv7a.mpg  \n",
            "  inflating: data/videos/s3/prwj9a.mpg  \n",
            "  inflating: data/videos/s3/srbb3s.mpg  \n",
            "  inflating: data/videos/s3/bwim2n.mpg  \n",
            "  inflating: data/videos/s3/bbafzn.mpg  \n",
            "  inflating: data/videos/s3/lrar1a.mpg  \n",
            "  inflating: data/videos/s3/brwn1a.mpg  \n",
            "  inflating: data/videos/s3/sbanzn.mpg  \n",
            "  inflating: data/videos/s3/pgby5a.mpg  \n",
            "  inflating: data/videos/s3/lwie2n.mpg  \n",
            "  inflating: data/videos/s3/srit6n.mpg  \n",
            "  inflating: data/videos/s3/lbix3s.mpg  \n",
            "  inflating: data/videos/s3/bwat3a.mpg  \n",
            "  inflating: data/videos/s3/srwi1s.mpg  \n",
            "  inflating: data/videos/s3/bris1s.mpg  \n",
            "  inflating: data/videos/s3/briz5s.mpg  \n",
            "  inflating: data/videos/s3/bbwm4p.mpg  \n",
            "  inflating: data/videos/s3/lgaz5s.mpg  \n",
            "  inflating: data/videos/s3/prbj5a.mpg  \n",
            "  inflating: data/videos/s3/swin9s.mpg  \n",
            "  inflating: data/videos/s3/pwwq9a.mpg  \n",
            "  inflating: data/videos/s3/srig8n.mpg  \n",
            "  inflating: data/videos/s3/bgat9a.mpg  \n",
            "  inflating: data/videos/s3/bgia1s.mpg  \n",
            "  inflating: data/videos/s3/bwbg7s.mpg  \n",
            "  inflating: data/videos/s3/lgiz3a.mpg  \n",
            "  inflating: data/videos/s3/lbip8n.mpg  \n",
            "  inflating: data/videos/s3/lgwgzn.mpg  \n",
            "  inflating: data/videos/s3/lwbl5s.mpg  \n",
            "  inflating: data/videos/s3/pgbr1a.mpg  \n",
            "  inflating: data/videos/s3/swbi5a.mpg  \n",
            "  inflating: data/videos/s3/lwbz2n.mpg  \n",
            "  inflating: data/videos/s3/sgwp8p.mpg  \n",
            "  inflating: data/videos/s3/pwwd9s.mpg  \n",
            "  inflating: data/videos/s3/lbbk2n.mpg  \n",
            "  inflating: data/videos/s3/prwj7s.mpg  \n",
            "  inflating: data/videos/s3/bbizzp.mpg  \n",
            "  inflating: data/videos/s3/bwigzp.mpg  \n",
            "  inflating: data/videos/s3/pwip4n.mpg  \n",
            "  inflating: data/videos/s3/lbby2p.mpg  \n",
            "  inflating: data/videos/s3/bgaa6p.mpg  \n",
            "  inflating: data/videos/s3/pgbe1s.mpg  \n",
            "  inflating: data/videos/s3/lgal6n.mpg  \n",
            "  inflating: data/videos/s3/lbiq1a.mpg  \n",
            "  inflating: data/videos/s3/lgbm1s.mpg  \n",
            "  inflating: data/videos/s3/bril9a.mpg  \n",
            "  inflating: data/videos/s3/pbiizp.mpg  \n",
            "  inflating: data/videos/s3/sbim8p.mpg  \n",
            "  inflating: data/videos/s3/lrwr8p.mpg  \n",
            "  inflating: data/videos/s3/srah3s.mpg  \n",
            "  inflating: data/videos/s3/sbba9a.mpg  \n",
            "  inflating: data/videos/s3/bwag5a.mpg  \n",
            "  inflating: data/videos/s3/pwbkzp.mpg  \n",
            "  inflating: data/videos/s3/lrbr3s.mpg  \n",
            "  inflating: data/videos/s3/srbozn.mpg  \n",
            "  inflating: data/videos/s3/pbio3s.mpg  \n",
            "  inflating: data/videos/s3/swwc2n.mpg  \n",
            "  inflating: data/videos/s3/bbbs4p.mpg  \n",
            "  inflating: data/videos/s3/prip1a.mpg  \n",
            "  inflating: data/videos/s3/lrwz3a.mpg  \n",
            "  inflating: data/videos/s3/srbb5a.mpg  \n",
            "  inflating: data/videos/s3/srbo3a.mpg  \n",
            "  inflating: data/videos/s3/brwnzp.mpg  \n",
            "  inflating: data/videos/s3/sbbn5s.mpg  \n",
            "  inflating: data/videos/s3/swib1s.mpg  \n",
            "  inflating: data/videos/s3/lwws3s.mpg  \n",
            "  inflating: data/videos/s3/sgai6p.mpg  \n",
            "  inflating: data/videos/s3/bgah1a.mpg  \n",
            "  inflating: data/videos/s3/lbid1s.mpg  \n",
            "  inflating: data/videos/s3/sbba8p.mpg  \n",
            "  inflating: data/videos/s3/lwar5s.mpg  \n",
            "  inflating: data/videos/s3/sbwb2p.mpg  \n",
            "  inflating: data/videos/s3/bbaz4p.mpg  \n",
            "  inflating: data/videos/s3/sran9a.mpg  \n",
            "  inflating: data/videos/s3/lgizzn.mpg  \n",
            "  inflating: data/videos/s3/pbib6p.mpg  \n",
            "  inflating: data/videos/s3/bbil3a.mpg  \n",
            "  inflating: data/videos/s3/bgbbzp.mpg  \n",
            "  inflating: data/videos/s3/sgio5s.mpg  \n",
            "  inflating: data/videos/s3/srbo1s.mpg  \n",
            "  inflating: data/videos/s3/priv4p.mpg  \n",
            "  inflating: data/videos/s3/sgib9a.mpg  \n",
            "  inflating: data/videos/s3/pwaqzp.mpg  \n",
            "  inflating: data/videos/s3/lbaq2n.mpg  \n",
            "  inflating: data/videos/s3/sbwu5a.mpg  \n",
            "  inflating: data/videos/s3/pbwc8p.mpg  \n",
            "  inflating: data/videos/s3/pgwy6n.mpg  \n",
            "  inflating: data/videos/s3/bwbg9a.mpg  \n",
            "  inflating: data/videos/s3/lgbs6p.mpg  \n",
            "  inflating: data/videos/s3/lgaf5a.mpg  \n",
            "  inflating: data/videos/s3/pwic6n.mpg  \n",
            "  inflating: data/videos/s3/lbax6n.mpg  \n",
            "  inflating: data/videos/s3/lrbe4n.mpg  \n",
            "  inflating: data/videos/s3/pgayzp.mpg  \n",
            "  inflating: data/videos/s3/lgil3s.mpg  \n",
            "  inflating: data/videos/s3/lrid8p.mpg  \n",
            "  inflating: data/videos/s3/sbig2n.mpg  \n",
            "  inflating: data/videos/s3/lrid7s.mpg  \n",
            "  inflating: data/videos/s3/brbm7a.mpg  \n",
            "  inflating: data/videos/s3/pbiu7s.mpg  \n",
            "  inflating: data/videos/s3/bbbz7s.mpg  \n",
            "  inflating: data/videos/s3/bwbg6n.mpg  \n",
            "  inflating: data/videos/s3/lway8n.mpg  \n",
            "  inflating: data/videos/s3/swib2p.mpg  \n",
            "  inflating: data/videos/s3/bbbl9s.mpg  \n",
            "  inflating: data/videos/s3/lbwy7a.mpg  \n",
            "  inflating: data/videos/s3/bwwh2p.mpg  \n",
            "  inflating: data/videos/s3/srit7s.mpg  \n",
            "  inflating: data/videos/s3/prbx2p.mpg  \n",
            "  inflating: data/videos/s3/lgwm5s.mpg  \n",
            "  inflating: data/videos/s3/bgat6n.mpg  \n",
            "  inflating: data/videos/s3/brwt4p.mpg  \n",
            "  inflating: data/videos/s3/sgwc8n.mpg  \n",
            "  inflating: data/videos/s3/swiu3s.mpg  \n",
            "  inflating: data/videos/s3/bwaazp.mpg  \n",
            "  inflating: data/videos/s3/bbws6n.mpg  \n",
            "  inflating: data/videos/s3/pwwq6n.mpg  \n",
            "  inflating: data/videos/s3/swbv3a.mpg  \n",
            "  inflating: data/videos/s3/sgwc9s.mpg  \n",
            "  inflating: data/videos/s3/pgaq7a.mpg  \n",
            "  inflating: data/videos/s3/sbit2p.mpg  \n",
            "  inflating: data/videos/s3/bbir7a.mpg  \n",
            "  inflating: data/videos/s3/pbbp2p.mpg  \n",
            "  inflating: data/videos/s3/prap5a.mpg  \n",
            "  inflating: data/videos/s3/lbak1a.mpg  \n",
            "  inflating: data/videos/s3/sbwb3a.mpg  \n",
            "  inflating: data/videos/s3/sgii1s.mpg  \n",
            "  inflating: data/videos/s3/pgbq8n.mpg  \n",
            "  inflating: data/videos/s3/pric2p.mpg  \n",
            "  inflating: data/videos/s3/sbiazp.mpg  \n",
            "  inflating: data/videos/s3/bgia3a.mpg  \n",
            "  inflating: data/videos/s3/bram1s.mpg  \n",
            "  inflating: data/videos/s3/bbiy8n.mpg  \n",
            "  inflating: data/videos/s3/prwqzn.mpg  \n",
            "  inflating: data/videos/s3/swbi3s.mpg  \n",
            "  inflating: data/videos/s3/prwq2p.mpg  \n",
            "  inflating: data/videos/s3/pgix4n.mpg  \n",
            "  inflating: data/videos/s3/sgbi9s.mpg  \n",
            "  inflating: data/videos/s3/bril8p.mpg  \n",
            "  inflating: data/videos/s3/lbwrzn.mpg  \n",
            "  inflating: data/videos/s3/sbwh7a.mpg  \n",
            "  inflating: data/videos/s3/lgir9a.mpg  \n",
            "  inflating: data/videos/s3/pbwp4n.mpg  \n",
            "  inflating: data/videos/s3/lgwg3a.mpg  \n",
            "  inflating: data/videos/s3/sbwo1a.mpg  \n",
            "  inflating: data/videos/s3/swau8p.mpg  \n",
            "  inflating: data/videos/s3/lwae9a.mpg  \n",
            "  inflating: data/videos/s3/bbbz6n.mpg  \n",
            "  inflating: data/videos/s3/lwar6p.mpg  \n",
            "  inflating: data/videos/s3/pbac1a.mpg  \n",
            "  inflating: data/videos/s3/brbgzn.mpg  \n",
            "  inflating: data/videos/s3/lwwf5s.mpg  \n",
            "  inflating: data/videos/s3/bgbn7s.mpg  \n",
            "  inflating: data/videos/s3/pgix7a.mpg  \n",
            "  inflating: data/videos/s3/sgbc7a.mpg  \n",
            "  inflating: data/videos/s3/prwx4n.mpg  \n",
            "  inflating: data/videos/s3/pbao6n.mpg  \n",
            "  inflating: data/videos/s3/bgig5s.mpg  \n",
            "  inflating: data/videos/s3/prbp8p.mpg  \n",
            "  inflating: data/videos/s3/prai8n.mpg  \n",
            "  inflating: data/videos/s3/lgir7s.mpg  \n",
            "  inflating: data/videos/s3/sgio6p.mpg  \n",
            "  inflating: data/videos/s3/pgwe6p.mpg  \n",
            "  inflating: data/videos/s3/swiu5a.mpg  \n",
            "  inflating: data/videos/s3/bbir6p.mpg  \n",
            "  inflating: data/videos/s3/pgid4p.mpg  \n",
            "  inflating: data/videos/s3/bgwu5s.mpg  \n",
            "  inflating: data/videos/s3/bginzp.mpg  \n",
            "  inflating: data/videos/s3/pgax9s.mpg  \n",
            "  inflating: data/videos/s3/bgan5a.mpg  \n",
            "  inflating: data/videos/s3/bgbn8p.mpg  \n",
            "  inflating: data/videos/s3/bbbs2n.mpg  \n",
            "  inflating: data/videos/s3/bwwn6p.mpg  \n",
            "  inflating: data/videos/s3/pgwr2n.mpg  \n",
            "  inflating: data/videos/s3/lgie9s.mpg  \n",
            "  inflating: data/videos/s3/lgwg2p.mpg  \n",
            "  inflating: data/videos/s3/srbu4n.mpg  \n",
            "  inflating: data/videos/s3/pbwj1s.mpg  \n",
            "  inflating: data/videos/s3/prbp9a.mpg  \n",
            "  inflating: data/videos/s3/swab4n.mpg  \n",
            "  inflating: data/videos/s3/pgiq1s.mpg  \n",
            "  inflating: data/videos/s3/pbiu6n.mpg  \n",
            "  inflating: data/videos/s3/prwq1s.mpg  \n",
            "  inflating: data/videos/s3/sbwozp.mpg  \n",
            "  inflating: data/videos/s3/bbal4n.mpg  \n",
            "  inflating: data/videos/s3/lwbf1s.mpg  \n",
            "  inflating: data/videos/s3/swbv2p.mpg  \n",
            "  inflating: data/videos/s3/lbax9a.mpg  \n",
            "  inflating: data/videos/s3/pwix1a.mpg  \n",
            "  inflating: data/videos/s3/bwam7s.mpg  \n",
            "  inflating: data/videos/s3/lrwl5a.mpg  \n",
            "  inflating: data/videos/s3/lgaf2n.mpg  \n",
            "  inflating: data/videos/s3/bwim5a.mpg  \n",
            "  inflating: data/videos/s3/srau3a.mpg  \n",
            "  inflating: data/videos/s3/brbs8n.mpg  \n",
            "  inflating: data/videos/s3/pgwr5a.mpg  \n",
            "  inflating: data/videos/s3/swbb9s.mpg  \n",
            "  inflating: data/videos/s3/pgbezn.mpg  \n",
            "  inflating: data/videos/s3/srwi2p.mpg  \n",
            "  inflating: data/videos/s3/sbwh6p.mpg  \n",
            "  inflating: data/videos/s3/bgag8n.mpg  \n",
            "  inflating: data/videos/s3/pwij1s.mpg  \n",
            "  inflating: data/videos/s3/lgaszn.mpg  \n",
            "  inflating: data/videos/s3/pgaq5s.mpg  \n",
            "  inflating: data/videos/s3/bwis6n.mpg  \n",
            "  inflating: data/videos/s3/lwik8p.mpg  \n",
            "  inflating: data/videos/s3/pbwp5s.mpg  \n",
            "  inflating: data/videos/s3/bgwb5a.mpg  \n",
            "  inflating: data/videos/s3/lgiz2p.mpg  \n",
            "  inflating: data/videos/s3/srin5a.mpg  \n",
            "  inflating: data/videos/s3/pgid3s.mpg  \n",
            "  inflating: data/videos/s3/swao4p.mpg  \n",
            "  inflating: data/videos/s3/briz7a.mpg  \n",
            "  inflating: data/videos/s3/srwvzp.mpg  \n",
            "  inflating: data/videos/s3/lwal1s.mpg  \n",
            "  inflating: data/videos/s3/pgwy9a.mpg  \n",
            "  inflating: data/videos/s3/pgij7s.mpg  \n",
            "  inflating: data/videos/s3/lrblzp.mpg  \n",
            "  inflating: data/videos/s3/pbwj3a.mpg  \n",
            "  inflating: data/videos/s3/sgai5s.mpg  \n",
            "  inflating: data/videos/s3/swih7a.mpg  \n",
            "  inflating: data/videos/s3/sgbc6p.mpg  \n",
            "  inflating: data/videos/s3/swwp2p.mpg  \n",
            "  inflating: data/videos/s3/sgwx3a.mpg  \n",
            "  inflating: data/videos/s3/lriq6p.mpg  \n",
            "  inflating: data/videos/s3/brwt2n.mpg  \n",
            "  inflating: data/videos/s3/lrbr2n.mpg  \n",
            "  inflating: data/videos/s3/bbie6n.mpg  \n",
            "  inflating: data/videos/s3/sgac1s.mpg  \n",
            "  inflating: data/videos/s3/pwadzn.mpg  \n",
            "  inflating: data/videos/s3/bbwm5a.mpg  \n",
            "  inflating: data/videos/s3/lbwk8p.mpg  \n",
            "  inflating: data/videos/s3/lwwz8p.mpg  \n",
            "  inflating: data/videos/s3/lrwr7s.mpg  \n",
            "  inflating: data/videos/s3/prav8p.mpg  \n",
            "  inflating: data/videos/s3/pbwc9a.mpg  \n",
            "  inflating: data/videos/s3/lrik2p.mpg  \n",
            "  inflating: data/videos/s3/sbbuzp.mpg  \n",
            "  inflating: data/videos/s3/lrbk8n.mpg  \n",
            "  inflating: data/videos/s3/lbip9s.mpg  \n",
            "  inflating: data/videos/s3/srwu8n.mpg  \n",
            "  inflating: data/videos/s3/pbai4p.mpg  \n",
            "  inflating: data/videos/s3/prwd4p.mpg  \n",
            "  inflating: data/videos/s3/sgwj3s.mpg  \n",
            "  inflating: data/videos/s3/bwwuzp.mpg  \n",
            "  inflating: data/videos/s3/sgwp9a.mpg  \n",
            "  inflating: data/videos/s3/prbj3s.mpg  \n",
            "  inflating: data/videos/s3/briszn.mpg  \n",
            "  inflating: data/videos/s3/lwalzn.mpg  \n",
            "  inflating: data/videos/s3/bgim8n.mpg  \n",
            "  inflating: data/videos/s3/bgwo3a.mpg  \n",
            "  inflating: data/videos/s3/lgas1s.mpg  \n",
            "  inflating: data/videos/s3/lwwz7s.mpg  \n",
            "  inflating: data/videos/s3/lrbr5a.mpg  \n",
            "  inflating: data/videos/s3/pgwe7a.mpg  \n",
            "  inflating: data/videos/s3/srbb4p.mpg  \n",
            "  inflating: data/videos/s3/lrid6n.mpg  \n",
            "  inflating: data/videos/s3/sbwn9s.mpg  \n",
            "  inflating: data/videos/s3/srin3s.mpg  \n",
            "  inflating: data/videos/s3/pbib5s.mpg  \n",
            "  inflating: data/videos/s3/lriq7a.mpg  \n",
            "  inflating: data/videos/s3/pwap9s.mpg  \n",
            "  inflating: data/videos/s3/pwijzn.mpg  \n",
            "  inflating: data/videos/s3/pbbi8p.mpg  \n",
            "  inflating: data/videos/s3/prbc9s.mpg  \n",
            "  inflating: data/videos/s3/sgbp2n.mpg  \n",
            "  inflating: data/videos/s3/pbbc4p.mpg  \n",
            "  inflating: data/videos/s3/prbx1s.mpg  \n",
            "  inflating: data/videos/s3/bwaa1a.mpg  \n",
            "  inflating: data/videos/s3/srau2p.mpg  \n",
            "  inflating: data/videos/s3/bwba3s.mpg  \n",
            "  inflating: data/videos/s3/brwa1s.mpg  \n",
            "  inflating: data/videos/s3/lgaz6p.mpg  \n",
            "  inflating: data/videos/s3/pwwq7s.mpg  \n",
            "  inflating: data/videos/s3/bwba2n.mpg  \n",
            "  inflating: data/videos/s3/bwim3s.mpg  \n",
            "  inflating: data/videos/s3/bbws9a.mpg  \n",
            "  inflating: data/videos/s3/brbs9s.mpg  \n",
            "  inflating: data/videos/s3/lbad7a.mpg  \n",
            "  inflating: data/videos/s3/pwiv8n.mpg  \n",
            "  inflating: data/videos/s3/brwm9s.mpg  \n",
            "  inflating: data/videos/s3/lbby3a.mpg  \n",
            "  inflating: data/videos/s3/bras4n.mpg  \n",
            "  inflating: data/videos/s3/lwiy6p.mpg  \n",
            "  inflating: data/videos/s3/bgan2n.mpg  \n",
            "  inflating: data/videos/s3/prbp6n.mpg  \n",
            "  inflating: data/videos/s3/bgbb1a.mpg  \n",
            "  inflating: data/videos/s3/lwal2p.mpg  \n",
            "  inflating: data/videos/s3/prbj4p.mpg  \n",
            "  inflating: data/videos/s3/srabzp.mpg  \n",
            "  inflating: data/videos/s3/pwad2p.mpg  \n",
            "  inflating: data/videos/s3/sgbc4n.mpg  \n",
            "  inflating: data/videos/s3/lrwl2n.mpg  \n",
            "  inflating: data/videos/s3/swwv4n.mpg  \n",
            "  inflating: data/videos/s3/lway9s.mpg  \n",
            "  inflating: data/videos/s3/bras7a.mpg  \n",
            "  inflating: data/videos/s3/srin2n.mpg  \n",
            "  inflating: data/videos/s3/lbij4n.mpg  \n",
            "  inflating: data/videos/s3/brbg2p.mpg  \n",
            "  inflating: data/videos/s3/lrak6p.mpg  \n",
            "  inflating: data/videos/s3/sbim7s.mpg  \n",
            "  inflating: data/videos/s3/bgbn6n.mpg  \n",
            "  inflating: data/videos/s3/sbbhzn.mpg  \n",
            "  inflating: data/videos/s3/lwws5a.mpg  \n",
            "  inflating: data/videos/s3/bgwb2n.mpg  \n",
            "  inflating: data/videos/s3/sria7a.mpg  \n",
            "  inflating: data/videos/s3/bgwh8p.mpg  \n",
            "  inflating: data/videos/s3/sbba7s.mpg  \n",
            "  inflating: data/videos/s3/bwis9a.mpg  \n",
            "  inflating: data/videos/s3/pgak2p.mpg  \n",
            "  inflating: data/videos/s3/bgan3s.mpg  \n",
            "  inflating: data/videos/s3/sgwd1a.mpg  \n",
            "  inflating: data/videos/s3/lbidzn.mpg  \n",
            "  inflating: data/videos/s3/bwbt5s.mpg  \n",
            "  inflating: data/videos/s3/lbad6p.mpg  \n",
            "  inflating: data/videos/s3/lgwt1a.mpg  \n",
            "  inflating: data/videos/s3/bril6n.mpg  \n",
            "  inflating: data/videos/s3/lbwe4p.mpg  \n",
            "  inflating: data/videos/s3/sbbn7a.mpg  \n",
            "  inflating: data/videos/s3/priv3s.mpg  \n",
            "  inflating: data/videos/s3/srwi3a.mpg  \n",
            "  inflating: data/videos/s3/lbbezp.mpg  \n",
            "  inflating: data/videos/s3/prii7a.mpg  \n",
            "  inflating: data/videos/s3/lwik7s.mpg  \n",
            "  inflating: data/videos/s3/pgbe2p.mpg  \n",
            "  inflating: data/videos/s3/pbaczp.mpg  \n",
            "  inflating: data/videos/s3/pgad6n.mpg  \n",
            "  inflating: data/videos/s3/lbwe5a.mpg  \n",
            "  inflating: data/videos/s3/brwt5a.mpg  \n",
            "  inflating: data/videos/s3/bwwn5s.mpg  \n",
            "  inflating: data/videos/s3/pwaj6p.mpg  \n",
            "  inflating: data/videos/s3/lraq8n.mpg  \n",
            "  inflating: data/videos/s3/lrae2p.mpg  \n",
            "  inflating: data/videos/s3/pwax2n.mpg  \n",
            "  inflating: data/videos/s3/bbbl8n.mpg  \n",
            "  inflating: data/videos/s3/lwae7s.mpg  \n",
            "  inflating: data/videos/s3/pwwk4p.mpg  \n",
            "  inflating: data/videos/s3/brbm4n.mpg  \n",
            "  inflating: data/videos/s3/pripzp.mpg  \n",
            "  inflating: data/videos/s3/pbbi6n.mpg  \n",
            "  inflating: data/videos/s3/lbbk4p.mpg  \n",
            "  inflating: data/videos/s3/swwv5s.mpg  \n",
            "  inflating: data/videos/s3/lgbs5s.mpg  \n",
            "  inflating: data/videos/s3/lbbd9s.mpg  \n",
            "  inflating: data/videos/s3/bbaf1s.mpg  \n",
            "  inflating: data/videos/s3/bwat2p.mpg  \n",
            "  inflating: data/videos/s3/pwbx8p.mpg  \n",
            "  inflating: data/videos/s3/pbwv8n.mpg  \n",
            "  inflating: data/videos/s3/lgir8p.mpg  \n",
            "  inflating: data/videos/s3/pwwy2p.mpg  \n",
            "  inflating: data/videos/s3/lgas2p.mpg  \n",
            "  inflating: data/videos/s3/pbbv4n.mpg  \n",
            "  inflating: data/videos/s3/prwd5a.mpg  \n",
            "  inflating: data/videos/s3/pbai2n.mpg  \n",
            "  inflating: data/videos/s3/pwbq2n.mpg  \n",
            "  inflating: data/videos/s3/brif3s.mpg  \n",
            "  inflating: data/videos/s3/lrby7s.mpg  \n",
            "  inflating: data/videos/s3/lbaq4p.mpg  \n",
            "  inflating: data/videos/s3/srbu6p.mpg  \n",
            "  inflating: data/videos/s3/pwwy1s.mpg  \n",
            "  inflating: data/videos/s3/bbal6p.mpg  \n",
            "  inflating: data/videos/s3/srwu9s.mpg  \n",
            "  inflating: data/videos/s3/lrik1s.mpg  \n",
            "  inflating: data/videos/s3/lwwl9s.mpg  \n",
            "  inflating: data/videos/s3/prap2n.mpg  \n",
            "  inflating: data/videos/s3/lgbs7a.mpg  \n",
            "  inflating: data/videos/s3/pwic9a.mpg  \n",
            "  inflating: data/videos/s3/pbii1a.mpg  \n",
            "  inflating: data/videos/s3/priczn.mpg  \n",
            "  inflating: data/videos/s3/swwi7s.mpg  \n",
            "  inflating: data/videos/s3/pbav3a.mpg  \n",
            "  inflating: data/videos/s3/pgwe5s.mpg  \n",
            "  inflating: data/videos/s3/lrwfzp.mpg  \n",
            "  inflating: data/videos/s3/prwx5s.mpg  \n",
            "  inflating: data/videos/s3/pbiu8p.mpg  \n",
            "  inflating: data/videos/s3/brwa3a.mpg  \n",
            "  inflating: data/videos/s3/bbwgzp.mpg  \n",
            "  inflating: data/videos/s3/prwd3s.mpg  \n",
            "  inflating: data/videos/s3/bwbn1s.mpg  \n",
            "  inflating: data/videos/s3/pgbk5s.mpg  \n",
            "  inflating: data/videos/s3/srwv1a.mpg  \n",
            "  inflating: data/videos/s3/sbwh4n.mpg  \n",
            "  inflating: data/videos/s3/bwim4p.mpg  \n",
            "  inflating: data/videos/s3/bgan4p.mpg  \n",
            "  inflating: data/videos/s3/pbavzn.mpg  \n",
            "  inflating: data/videos/s3/lwws2n.mpg  \n",
            "  inflating: data/videos/s3/sban2p.mpg  \n",
            "  inflating: data/videos/s3/lwir1s.mpg  \n",
            "  inflating: data/videos/s3/pwbx7s.mpg  \n",
            "  inflating: data/videos/s3/brwg7a.mpg  \n",
            "  inflating: data/videos/s3/braf8p.mpg  \n",
            "  inflating: data/videos/s3/swau7s.mpg  \n",
            "  inflating: data/videos/s3/brbm5s.mpg  \n",
            "  inflating: data/videos/s3/pbih9s.mpg  \n",
            "  inflating: data/videos/s3/bbbm1a.mpg  \n",
            "  inflating: data/videos/s3/bwif9s.mpg  \n",
            "  inflating: data/videos/s3/bgbuzn.mpg  \n",
            "  inflating: data/videos/s3/pwaj5s.mpg  \n",
            "  inflating: data/videos/s3/sgwx1s.mpg  \n",
            "  inflating: data/videos/s3/bwwhzn.mpg  \n",
            "  inflating: data/videos/s3/briz4n.mpg  \n",
            "  inflating: data/videos/s3/pgak1s.mpg  \n",
            "  inflating: data/videos/s3/pgid5a.mpg  \n",
            "  inflating: data/videos/s3/pgad7s.mpg  \n",
            "  inflating: data/videos/s3/prwx7a.mpg  \n",
            "  inflating: data/videos/s3/lrwr6n.mpg  \n",
            "  inflating: data/videos/s3/sgai7a.mpg  \n",
            "  inflating: data/videos/s3/sbbh2p.mpg  \n",
            "  inflating: data/videos/s3/lgbz9s.mpg  \n",
            "  inflating: data/videos/s3/lrbk9s.mpg  \n",
            "  inflating: data/videos/s3/pwwd8n.mpg  \n",
            "  inflating: data/videos/s3/lgbs4n.mpg  \n",
            "  inflating: data/videos/s3/pwip7a.mpg  \n",
            "  inflating: data/videos/s3/brif4p.mpg  \n",
            "  inflating: data/videos/s3/lwae6n.mpg  \n",
            "  inflating: data/videos/s3/sria6p.mpg  \n",
            "  inflating: data/videos/s3/sran6n.mpg  \n",
            "  inflating: data/videos/s3/lwbs1a.mpg  \n",
            "  inflating: data/videos/s3/sgbp3s.mpg  \n",
            "  inflating: data/videos/s3/prai9s.mpg  \n",
            "  inflating: data/videos/s3/pgbk6p.mpg  \n",
            "  inflating: data/videos/s3/bwam6n.mpg  \n",
            "  inflating: data/videos/s3/pbbv7a.mpg  \n",
            "  inflating: data/videos/s3/bbie9a.mpg  \n",
            "  inflating: data/videos/s3/lrik3a.mpg  \n",
            "  inflating: data/videos/s3/brbm6p.mpg  \n",
            "  inflating: data/videos/s3/swau9a.mpg  \n",
            "  inflating: data/videos/s3/braz9s.mpg  \n",
            "  inflating: data/videos/s3/swwp1s.mpg  \n",
            "  inflating: data/videos/s3/sban3a.mpg  \n",
            "  inflating: data/videos/s3/swih5s.mpg  \n",
            "  inflating: data/videos/s3/pwad3a.mpg  \n",
            "  inflating: data/videos/s3/sbat5s.mpg  \n",
            "  inflating: data/videos/s3/pwax4p.mpg  \n",
            "  inflating: data/videos/s3/lbwk6n.mpg  \n",
            "  inflating: data/videos/s3/sbit3a.mpg  \n",
            "  inflating: data/videos/s3/sgai4n.mpg  \n",
            "  inflating: data/videos/s3/prac4n.mpg  \n",
            "  inflating: data/videos/s3/priv2n.mpg  \n",
            "  inflating: data/videos/s3/pwbd4n.mpg  \n",
            "  inflating: data/videos/s3/pgij9a.mpg  \n",
            "  inflating: data/videos/s3/bgig6p.mpg  \n",
            "  inflating: data/videos/s3/pwbk1a.mpg  \n",
            "  inflating: data/videos/s3/sraa8n.mpg  \n",
            "  inflating: data/videos/s3/lwbf3a.mpg  \n",
            "  inflating: data/videos/s3/lwwf6p.mpg  \n",
            "  inflating: data/videos/s3/lwal3a.mpg  \n",
            "  inflating: data/videos/s3/lgas3a.mpg  \n",
            "  inflating: data/videos/s3/pwaj7a.mpg  \n",
            "  inflating: data/videos/s3/pgix5s.mpg  \n",
            "  inflating: data/videos/s3/sgbv8p.mpg  \n",
            "  inflating: data/videos/s3/sgbv9a.mpg  \n",
            "  inflating: data/videos/s3/lriyzp.mpg  \n",
            "  inflating: data/videos/s3/pgiq3a.mpg  \n",
            "  inflating: data/videos/s3/lwiy7a.mpg  \n",
            "  inflating: data/videos/s3/sbat6p.mpg  \n",
            "  inflating: data/videos/s3/sbitzn.mpg  \n",
            "  inflating: data/videos/s3/pwip5s.mpg  \n",
            "  inflating: data/videos/s3/brbg1s.mpg  \n",
            "  inflating: data/videos/s3/pgiq2p.mpg  \n",
            "  inflating: data/videos/s3/pwax5a.mpg  \n",
            "  inflating: data/videos/s3/bbiz1a.mpg  \n",
            "  inflating: data/videos/s3/sbig4p.mpg  \n",
            "  inflating: data/videos/s3/lrby9a.mpg  \n",
            "  inflating: data/videos/s3/pwic7s.mpg  \n",
            "  inflating: data/videos/s3/sbba6n.mpg  \n",
            "  inflating: data/videos/s3/bwag2n.mpg  \n",
            "  inflating: data/videos/s3/pgwy8p.mpg  \n",
            "  inflating: data/videos/s3/pbab9s.mpg  \n",
            "  inflating: data/videos/s3/lwbz4p.mpg  \n",
            "  inflating: data/videos/s3/pwwk3s.mpg  \n",
            "  inflating: data/videos/s3/srbh8p.mpg  \n",
            "  inflating: data/videos/s3/srit9a.mpg  \n",
            "  inflating: data/videos/s3/pgbk4n.mpg  \n",
            "  inflating: data/videos/s3/lray5a.mpg  \n",
            "  inflating: data/videos/s3/pbio5a.mpg  \n",
            "  inflating: data/videos/s3/pwij2p.mpg  \n",
            "  inflating: data/videos/s3/bbie8p.mpg  \n",
            "  inflating: data/videos/s3/prac7a.mpg  \n",
            "  inflating: data/videos/s3/lrby6n.mpg  \n",
            "  inflating: data/videos/s3/lgal9a.mpg  \n",
            "  inflating: data/videos/s3/sgwj4p.mpg  \n",
            "  inflating: data/videos/s3/lgaf3s.mpg  \n",
            "  inflating: data/videos/s3/bbwm2n.mpg  \n",
            "  inflating: data/videos/s3/bbbs3s.mpg  \n",
            "  inflating: data/videos/s3/swah8n.mpg  \n",
            "  inflating: data/videos/s3/bbal5s.mpg  \n",
            "  inflating: data/videos/s3/sbbn6p.mpg  \n",
            "  inflating: data/videos/s3/lwik9a.mpg  \n",
            "  inflating: data/videos/s3/swao3s.mpg  \n",
            "  inflating: data/videos/s3/swiozp.mpg  \n",
            "  inflating: data/videos/s3/prbx3a.mpg  \n",
            "  inflating: data/videos/s3/bbir4n.mpg  \n",
            "  inflating: data/videos/s3/sbat7a.mpg  \n",
            "  inflating: data/videos/s3/brbt1a.mpg  \n",
            "  inflating: data/videos/s3/pgbe3a.mpg  \n",
            "  inflating: data/videos/s3/swau6n.mpg  \n",
            "  inflating: data/videos/s3/prac6p.mpg  \n",
            "  inflating: data/videos/s3/lray3s.mpg  \n",
            "  inflating: data/videos/s3/bgaa7a.mpg  \n",
            "  inflating: data/videos/s3/bbbz8p.mpg  \n",
            "  inflating: data/videos/s3/swwpzn.mpg  \n",
            "  inflating: data/videos/s3/bgaa5s.mpg  \n",
            "  inflating: data/videos/s3/bgig7a.mpg  \n",
            "  inflating: data/videos/s3/pwad1s.mpg  \n",
            "  inflating: data/videos/s3/lrix9s.mpg  \n",
            "  inflating: data/videos/s3/pwbj9s.mpg  \n",
            "  inflating: data/videos/s3/prwd2n.mpg  \n",
            "  inflating: data/videos/s3/swih4n.mpg  \n",
            "  inflating: data/videos/s3/swbi4p.mpg  \n",
            "  inflating: data/videos/s3/sbwb1s.mpg  \n",
            "  inflating: data/videos/s3/prav9a.mpg  \n",
            "  inflating: data/videos/s3/sran8p.mpg  \n",
            "  inflating: data/videos/s3/sgav3s.mpg  \n",
            "  inflating: data/videos/s3/pwixzp.mpg  \n",
            "  inflating: data/videos/s3/lbax7s.mpg  \n",
            "  inflating: data/videos/s3/lbwk9a.mpg  \n",
            "  inflating: data/videos/s3/sgav4p.mpg  \n",
            "  inflating: data/videos/s3/bgim9s.mpg  \n",
            "  inflating: data/videos/s3/lrae1s.mpg  \n",
            "  inflating: data/videos/s3/brbtzp.mpg  \n",
            "  inflating: data/videos/s3/brwazn.mpg  \n",
            "  inflating: data/videos/s3/sbia1a.mpg  \n",
            "  inflating: data/videos/s3/bwis7s.mpg  \n",
            "  inflating: data/videos/s3/srin4p.mpg  \n",
            "  inflating: data/videos/s3/lwir3a.mpg  \n",
            "  inflating: data/videos/s3/lwie4p.mpg  \n",
            "  inflating: data/videos/s3/sgac2p.mpg  \n",
            "  inflating: data/videos/s3/bbar8n.mpg  \n",
            "  inflating: data/videos/s3/pwwq8p.mpg  \n",
            "  inflating: data/videos/s3/lraq9s.mpg  \n",
            "  inflating: data/videos/s3/bgiazn.mpg  \n",
            "  inflating: data/videos/s3/lwwf4n.mpg  \n",
            "  inflating: data/videos/s3/lwirzn.mpg  \n",
            "  inflating: data/videos/s3/srih1a.mpg  \n",
            "  inflating: data/videos/s3/Thumbs.db  \n"
          ]
        }
      ],
      "source": [
        "#change\n",
        "# extract speaker 1 data\n",
        "! mkdir align-s1 align-s2 align-s3\n",
        "! mkdir data data/alignments data/videos\n",
        "! tar -xf s1.tar -C align-s1\n",
        "! tar -xf s2.tar -C align-s2\n",
        "! tar -xf s3.tar -C align-s3\n",
        "! mv align-s1/* data/alignments/s1\n",
        "! mv align-s2/* data/alignments/s2\n",
        "! mv align-s3/* data/alignments/s3\n",
        "! rm -rf align-s1\n",
        "! rm -rf align-s2\n",
        "! rm -rf align-s3\n",
        "! unzip s1.zip -d data/videos/\n",
        "! unzip s2.zip -d data/videos/\n",
        "! unzip s3.zip -d data/videos/"
      ],
      "id": "gsJ26Umg6RjU"
    },
    {
      "cell_type": "code",
      "execution_count": 5,
      "metadata": {
        "id": "7TgWZdxT6G9n"
      },
      "outputs": [],
      "source": [
        "#change\n",
        "# Define folders\n",
        "cache_dir = '/content/data'\n",
        "alignment_dir = f'{cache_dir}/alignments'\n",
        "videos_dir = f'{cache_dir}/videos'"
      ],
      "id": "7TgWZdxT6G9n"
    },
    {
      "cell_type": "code",
      "execution_count": 6,
      "metadata": {
        "id": "5ynvWGHLy5Vy"
      },
      "outputs": [],
      "source": [
        "# invalid_speakers = [21]\n",
        "# base_dataset_URL = 'https://spandh.dcs.shef.ac.uk/gridcorpus'\n",
        "\n",
        "# get_videos_url = lambda speaker_index : f'{base_dataset_URL}/s{speaker_index}/video/s{speaker_index}.mpg_vcd.zip'\n",
        "# get_alignments_url = lambda speaker_index : f'{base_dataset_URL}/s{speaker_index}/align/s{speaker_index}.tar'\n",
        "\n",
        "# cache_dir = '/content/data'\n",
        "# alignment_dir = f'{cache_dir}/alignments'\n",
        "# videos_dir = f'{cache_dir}/videos'\n",
        "\n",
        "# speakers = [speaker for speaker in range(1, 36) if speaker in selected_speakers and speaker not in invalid_speakers]\n",
        "\n",
        "# if not (os.path.isdir(alignment_dir) or os.path.isdir(videos_dir)):\n",
        "#   with tempfile.TemporaryDirectory() as tmpdir:\n",
        "#     for speaker_index in speakers:\n",
        "#       print(f'Downloading speaker {speaker_index}:')\n",
        "\n",
        "#       alignments_path = f'alignments/s{speaker_index}'\n",
        "#       tf.keras.utils.get_file(None, get_alignments_url(speaker_index), extract=True,\n",
        "#                                       cache_dir=tmpdir, cache_subdir = alignments_path)\n",
        "#       shutil.move(f'{tmpdir}/{alignments_path}/align', f'{alignment_dir}/s{speaker_index}')\n",
        "\n",
        "#       tf.keras.utils.get_file(None, get_videos_url(speaker_index), extract=True,\n",
        "#                                       cache_dir=tmpdir, cache_subdir = 'videos')\n",
        "#       shutil.move(f'{tmpdir}/videos/s{speaker_index}', f'{videos_dir}/s{speaker_index}')"
      ],
      "id": "5ynvWGHLy5Vy"
    },
    {
      "cell_type": "code",
      "execution_count": 7,
      "metadata": {
        "colab": {
          "base_uri": "https://localhost:8080/"
        },
        "id": "S9GKtu2F7Tyz",
        "outputId": "422aa139-85ff-44bd-e0e4-1f899aa40162"
      },
      "outputs": [
        {
          "output_type": "stream",
          "name": "stdout",
          "text": [
            "Downloading...\n",
            "From: https://drive.google.com/uc?id=1OjyocXqGSoNB0HS_PhAE4j2G5YVpwBky\n",
            "To: /content/haarcascade_mcs_mouth.xml\n",
            "100% 742k/742k [00:00<00:00, 142MB/s]\n",
            "Downloading...\n",
            "From: https://drive.google.com/uc?id=1POhU6luyH-WD14QuOUU4pLOIYDOoe16n\n",
            "To: /content/haarcascade_frontalface_default.xml\n",
            "100% 1.29M/1.29M [00:00<00:00, 148MB/s]\n"
          ]
        }
      ],
      "source": [
        " #change\n",
        "!gdown 1OjyocXqGSoNB0HS_PhAE4j2G5YVpwBky\n",
        "!gdown 1POhU6luyH-WD14QuOUU4pLOIYDOoe16n\n",
        "mouth_cascade = cv2.CascadeClassifier('./haarcascade_mcs_mouth.xml')\n",
        "face_cascade = cv2.CascadeClassifier('haarcascade_frontalface_default.xml')\n",
        "\n",
        "if face_cascade.empty():\n",
        "  raise IOError('Unable to load the face cascade classifier xml file')\n",
        "if mouth_cascade.empty():\n",
        "  raise IOError('Unable to load the mouth cascade classifier xml file')"
      ],
      "id": "S9GKtu2F7Tyz"
    },
    {
      "cell_type": "code",
      "execution_count": 8,
      "metadata": {
        "id": "j4KrF_cA6tkL"
      },
      "outputs": [],
      "source": [
        " #change\n",
        "\n",
        "bad_videos = []\n",
        "def crop_mouth_from_face_in_frame(video, frame):\n",
        "  face_detected = True\n",
        "  gray = cv2.cvtColor(frame, cv2.COLOR_BGR2GRAY)\n",
        "  face_rects = face_cascade.detectMultiScale(gray, 1.2, 5)\n",
        "  if len(face_rects) == 0:\n",
        "    face_detected = False\n",
        "    bad_videos.append(video)\n",
        "    frame_resize = cv2.resize(frame, (140,140))\n",
        "    mouth = frame_resize[90:120,40:100]\n",
        "    mouth_resize = cv2.resize(mouth, (120,100))\n",
        "  else:\n",
        "    for (x,y,w,h) in face_rects:\n",
        "        frame = frame[y:y+h,x:x+w]\n",
        "        frame_resize = cv2.resize(frame, (140,140))\n",
        "        mouth = frame_resize[90:140,40:100]\n",
        "        mouth_resize = cv2.resize(mouth, (120,100))\n",
        "        break\n",
        "\n",
        "\n",
        "  return mouth_resize"
      ],
      "id": "j4KrF_cA6tkL"
    },
    {
      "cell_type": "code",
      "execution_count": 9,
      "metadata": {
        "id": "8548cc59-6dfc-4acc-abc3-3e65212db02e"
      },
      "outputs": [],
      "source": [
        "def load_video(path: str) -> List[float]:\n",
        "      cap = cv2.VideoCapture(path)\n",
        "      #change\n",
        "      frames_count = int(cap.get(cv2.CAP_PROP_FRAME_COUNT))\n",
        "      # Preprocessing\n",
        "      frames = []\n",
        "      #change\n",
        "      for _ in range(frames_count):\n",
        "          ret, frame = cap.read()\n",
        "          #change\n",
        "          frame = crop_mouth_from_face_in_frame(path,frame)\n",
        "          frame = tf.image.rgb_to_grayscale(frame)\n",
        "          frames.append(frame)\n",
        "\n",
        "      cap.release()\n",
        "\n",
        "      mean = tf.math.reduce_mean(frames)\n",
        "      std = tf.math.reduce_std(tf.cast(frames, tf.float32))\n",
        "\n",
        "      return tf.cast((frames - mean), tf.float32) / std"
      ],
      "id": "8548cc59-6dfc-4acc-abc3-3e65212db02e"
    },
    {
      "cell_type": "code",
      "execution_count": 10,
      "metadata": {
        "id": "ec735e0b-ec98-4eb0-8f49-c35527d6670a"
      },
      "outputs": [],
      "source": [
        "vocab = [x for x in \"abcdefghijklmnopqrstuvwxyz'?!123456789 \"]"
      ],
      "id": "ec735e0b-ec98-4eb0-8f49-c35527d6670a"
    },
    {
      "cell_type": "code",
      "execution_count": 11,
      "metadata": {
        "colab": {
          "base_uri": "https://localhost:8080/"
        },
        "id": "be04e972-d7a5-4a72-82d8-a6bdde1f3ce6",
        "outputId": "4b6af8fb-caf4-409b-ecb3-740cebb962fe"
      },
      "outputs": [
        {
          "output_type": "stream",
          "name": "stdout",
          "text": [
            "The vocabulary is: ['', 'a', 'b', 'c', 'd', 'e', 'f', 'g', 'h', 'i', 'j', 'k', 'l', 'm', 'n', 'o', 'p', 'q', 'r', 's', 't', 'u', 'v', 'w', 'x', 'y', 'z', \"'\", '?', '!', '1', '2', '3', '4', '5', '6', '7', '8', '9', ' '] (size =40)\n"
          ]
        }
      ],
      "source": [
        "char_to_num = tf.keras.layers.StringLookup(vocabulary=vocab, oov_token=\"\")\n",
        "\n",
        "num_to_char = tf.keras.layers.StringLookup(\n",
        "    vocabulary=char_to_num.get_vocabulary(), oov_token=\"\", invert=True\n",
        ")\n",
        "\n",
        "print(\n",
        "    f\"The vocabulary is: {char_to_num.get_vocabulary()} \"\n",
        "    f\"(size ={char_to_num.vocabulary_size()})\"\n",
        ")"
      ],
      "id": "be04e972-d7a5-4a72-82d8-a6bdde1f3ce6"
    },
    {
      "cell_type": "code",
      "execution_count": 12,
      "metadata": {
        "colab": {
          "base_uri": "https://localhost:8080/"
        },
        "id": "559f7420-6802-45fa-9ca0-b1ff209b461c",
        "outputId": "93472a68-280e-48c5-95aa-147aa0b85244"
      },
      "outputs": [
        {
          "output_type": "execute_result",
          "data": {
            "text/plain": [
              "['',\n",
              " 'a',\n",
              " 'b',\n",
              " 'c',\n",
              " 'd',\n",
              " 'e',\n",
              " 'f',\n",
              " 'g',\n",
              " 'h',\n",
              " 'i',\n",
              " 'j',\n",
              " 'k',\n",
              " 'l',\n",
              " 'm',\n",
              " 'n',\n",
              " 'o',\n",
              " 'p',\n",
              " 'q',\n",
              " 'r',\n",
              " 's',\n",
              " 't',\n",
              " 'u',\n",
              " 'v',\n",
              " 'w',\n",
              " 'x',\n",
              " 'y',\n",
              " 'z',\n",
              " \"'\",\n",
              " '?',\n",
              " '!',\n",
              " '1',\n",
              " '2',\n",
              " '3',\n",
              " '4',\n",
              " '5',\n",
              " '6',\n",
              " '7',\n",
              " '8',\n",
              " '9',\n",
              " ' ']"
            ]
          },
          "metadata": {},
          "execution_count": 12
        }
      ],
      "source": [
        "char_to_num.get_vocabulary()"
      ],
      "id": "559f7420-6802-45fa-9ca0-b1ff209b461c"
    },
    {
      "cell_type": "code",
      "execution_count": 13,
      "metadata": {
        "colab": {
          "base_uri": "https://localhost:8080/"
        },
        "id": "797ff78b-b48f-4e14-bb62-8cd0ebf9501a",
        "outputId": "aaec45a9-5ae8-4da9-b9f7-cabe7446f681"
      },
      "outputs": [
        {
          "output_type": "execute_result",
          "data": {
            "text/plain": [
              "<tf.Tensor: shape=(6,), dtype=int64, numpy=array([ 8,  1,  2,  1, 14,  9])>"
            ]
          },
          "metadata": {},
          "execution_count": 13
        }
      ],
      "source": [
        "char_to_num(['h','a','b','a', 'n', 'i'])"
      ],
      "id": "797ff78b-b48f-4e14-bb62-8cd0ebf9501a"
    },
    {
      "cell_type": "code",
      "execution_count": 14,
      "metadata": {
        "colab": {
          "base_uri": "https://localhost:8080/"
        },
        "id": "8cd7f4f4-ae77-4509-a4f4-c723787ebad1",
        "outputId": "cb7579a7-8109-4a81-d1e1-ade512882665"
      },
      "outputs": [
        {
          "output_type": "execute_result",
          "data": {
            "text/plain": [
              "<tf.Tensor: shape=(6,), dtype=string, numpy=array([b'h', b'a', b'b', b'a', b'n', b'i'], dtype=object)>"
            ]
          },
          "metadata": {},
          "execution_count": 14
        }
      ],
      "source": [
        "num_to_char([8, 1, 2, 1, 14, 9])"
      ],
      "id": "8cd7f4f4-ae77-4509-a4f4-c723787ebad1"
    },
    {
      "cell_type": "code",
      "execution_count": 15,
      "metadata": {
        "id": "9491bab5-6a3c-4f79-879a-8f9fbe73ae2e"
      },
      "outputs": [],
      "source": [
        "def load_alignments(path:str) -> List[str]:\n",
        "    with open(path, 'r') as f:\n",
        "        lines = f.readlines()\n",
        "    tokens = []\n",
        "    for line in lines:\n",
        "        line = line.split()\n",
        "        if line[2] != 'sil':\n",
        "            tokens = [*tokens,' ',line[2]]\n",
        "    return char_to_num(tf.reshape(tf.strings.unicode_split(tokens, input_encoding='UTF-8'), (-1)))[1:]"
      ],
      "id": "9491bab5-6a3c-4f79-879a-8f9fbe73ae2e"
    },
    {
      "cell_type": "code",
      "execution_count": 16,
      "metadata": {
        "id": "dd01ca9f-77fb-4643-a2aa-47dd82c5d66b"
      },
      "outputs": [],
      "source": [
        "def load_data(video_path: str):\n",
        "    video_path = bytes.decode(video_path.numpy())\n",
        "    alignment_path = video_path.replace(\"videos\",\"alignments\").replace(\"mpg\",\"align\")\n",
        "    frames = load_video(video_path)\n",
        "    alignments = load_alignments(alignment_path)\n",
        "\n",
        "    return frames, alignments"
      ],
      "id": "dd01ca9f-77fb-4643-a2aa-47dd82c5d66b"
    },
    {
      "cell_type": "code",
      "execution_count": 17,
      "metadata": {
        "id": "8cb7cc58-31ae-4904-a805-1177a82717d2"
      },
      "outputs": [],
      "source": [
        "test_path = './data/videos/s1/bbaf2n.mpg'"
      ],
      "id": "8cb7cc58-31ae-4904-a805-1177a82717d2"
    },
    {
      "cell_type": "markdown",
      "metadata": {
        "id": "yCbajK_WWJZj"
      },
      "source": [
        "**`tensors_to_strings`** - A function which converts tensors to a string"
      ],
      "id": "yCbajK_WWJZj"
    },
    {
      "cell_type": "code",
      "execution_count": 18,
      "metadata": {
        "id": "JSzLmAXcWHMi"
      },
      "outputs": [],
      "source": [
        "def tensors_to_strings(tensor_list):\n",
        "    string_list = []\n",
        "    for tensor in tensor_list:\n",
        "        # Convert tensor to string using K.eval()\n",
        "        string_value = tf.keras.backend.eval(tensor).decode('utf-8')  # Assuming UTF-8 encoding\n",
        "        string_list.append(string_value)\n",
        "\n",
        "    return string_list"
      ],
      "id": "JSzLmAXcWHMi"
    },
    {
      "cell_type": "markdown",
      "metadata": {
        "id": "kYI0UlacWsl-"
      },
      "source": [
        "**`nlp_accuracy`** - A function which calculates the accuracy using nlp"
      ],
      "id": "kYI0UlacWsl-"
    },
    {
      "cell_type": "code",
      "execution_count": 19,
      "metadata": {
        "id": "ifTFAvAbWsR1"
      },
      "outputs": [],
      "source": [
        "def nlp_accuracy(y_true_string, y_pred_string):\n",
        "  nlp = en_core_web_sm.load()\n",
        "  result = 0\n",
        "\n",
        "  for true, pred in zip(y_true_string, y_pred_string):\n",
        "    true_doc, pred_doc = nlp(true).vector, nlp(pred).vector\n",
        "    result += (1 - spatial.distance.cosine(true_doc, pred_doc))\n",
        "\n",
        "  avg_accuracy = result / len(y_true_string)\n",
        "  return avg_accuracy"
      ],
      "id": "ifTFAvAbWsR1"
    },
    {
      "cell_type": "markdown",
      "metadata": {
        "id": "Taxc24-rXnS3"
      },
      "source": [
        "**`levenstein_accuracy`** - A function which calculates and prints the accuracy using Levenstein"
      ],
      "id": "Taxc24-rXnS3"
    },
    {
      "cell_type": "code",
      "execution_count": 20,
      "metadata": {
        "id": "pzuPzQfLXnlY"
      },
      "outputs": [],
      "source": [
        "def levenstein_accuracy(y_true_string, y_pred_string):\n",
        "  similarity = 0\n",
        "\n",
        "  for true, pred in zip(y_true_string, y_pred_string):\n",
        "    distance = Levenshtein.distance(true, pred)\n",
        "    max_length = max(len(true), len(pred))\n",
        "    similarity += (1 - (distance / max_length))\n",
        "    threshold = 0.8\n",
        "\n",
        "  avg_accuracy = similarity / len(y_true_string)\n",
        "  return avg_accuracy"
      ],
      "id": "pzuPzQfLXnlY"
    },
    {
      "cell_type": "markdown",
      "metadata": {
        "id": "MjBbp5_LYPhl"
      },
      "source": [
        "*Wer and Cer accuracy*\n",
        "\n",
        "**`calculate_wer`** - A function which calculates the wer accuracy for a single sentence\n",
        "\n",
        "**`calculate_cer`** - A function which calculates the cer accuracy for a single sentence\n",
        "\n",
        "**`wer_and_cer_accuracy`** - A function which calculates the average wer Cer accuracy"
      ],
      "id": "MjBbp5_LYPhl"
    },
    {
      "cell_type": "code",
      "execution_count": 21,
      "metadata": {
        "id": "YNOY_mXAYQAZ"
      },
      "outputs": [],
      "source": [
        "def calculate_wer(reference, hypothesis):\n",
        "    reference_tokens = reference.lower().split()\n",
        "    hypothesis_tokens = hypothesis.lower().split()\n",
        "\n",
        "    distance = nltk.edit_distance(reference_tokens, hypothesis_tokens)\n",
        "    wer = distance / len(reference_tokens)\n",
        "    return wer\n",
        "\n",
        "def calculate_cer(reference, hypothesis):\n",
        "    reference_chars = list(reference.lower())\n",
        "    hypothesis_chars = list(hypothesis.lower())\n",
        "\n",
        "    distance = nltk.edit_distance(reference_chars, hypothesis_chars)\n",
        "    cer = distance / len(reference_chars)\n",
        "    return cer\n",
        "\n",
        "def wer_and_cer_accuracy(y_true_string, y_pred_string):\n",
        "  wer_score, cer_score = 0, 0\n",
        "  for true, pred in zip(y_true_string, y_pred_string):\n",
        "    wer_score += calculate_wer(true, pred)\n",
        "    cer_score += calculate_cer(true, pred)\n",
        "\n",
        "  avg_wer = wer_score / len(y_true_string)\n",
        "  avg_cer = cer_score / len(y_true_string)\n",
        "\n",
        "  return avg_wer, avg_cer"
      ],
      "id": "YNOY_mXAYQAZ"
    },
    {
      "cell_type": "markdown",
      "metadata": {
        "id": "ESxWtai8XcAy"
      },
      "source": [
        "alignments-"
      ],
      "id": "ESxWtai8XcAy"
    },
    {
      "cell_type": "code",
      "execution_count": 22,
      "metadata": {
        "id": "eb602c71-8560-4f9e-b26b-08202febb937",
        "scrolled": true
      },
      "outputs": [],
      "source": [
        "frames, alignments = load_data(tf.convert_to_tensor(test_path))"
      ],
      "id": "eb602c71-8560-4f9e-b26b-08202febb937"
    },
    {
      "cell_type": "code",
      "execution_count": 23,
      "metadata": {
        "colab": {
          "base_uri": "https://localhost:8080/",
          "height": 0
        },
        "id": "0e3184a1-6b02-4b4f-84a8-a0a65f951ea2",
        "outputId": "1090ed9c-a626-4c42-dfe3-8244685b4e5a"
      },
      "outputs": [
        {
          "output_type": "execute_result",
          "data": {
            "text/plain": [
              "<matplotlib.image.AxesImage at 0x7e9da0601d20>"
            ]
          },
          "metadata": {},
          "execution_count": 23
        },
        {
          "output_type": "display_data",
          "data": {
            "text/plain": [
              "<Figure size 640x480 with 1 Axes>"
            ],
            "image/png": "[encoded data removed]"
          },
          "metadata": {}
        }
      ],
      "source": [
        "plt.imshow(frames[19])"
      ],
      "id": "0e3184a1-6b02-4b4f-84a8-a0a65f951ea2"
    },
    {
      "cell_type": "code",
      "execution_count": 24,
      "metadata": {
        "colab": {
          "base_uri": "https://localhost:8080/"
        },
        "id": "d7ec0833-d54b-4073-84cf-92d011c60ec1",
        "outputId": "b95b43f7-460d-406c-e163-b00a4d95ed5e"
      },
      "outputs": [
        {
          "output_type": "execute_result",
          "data": {
            "text/plain": [
              "<tf.Tensor: shape=(21,), dtype=int64, numpy=\n",
              "array([ 2,  9, 14, 39,  2, 12, 21,  5, 39,  1, 20, 39,  6, 39, 20, 23, 15,\n",
              "       39, 14, 15, 23])>"
            ]
          },
          "metadata": {},
          "execution_count": 24
        }
      ],
      "source": [
        "alignments"
      ],
      "id": "d7ec0833-d54b-4073-84cf-92d011c60ec1"
    },
    {
      "cell_type": "code",
      "execution_count": 25,
      "metadata": {
        "colab": {
          "base_uri": "https://localhost:8080/"
        },
        "id": "fe1ad370-b287-4b46-85a2-7c45b0bd9b10",
        "outputId": "5a9e9801-3ba5-4755-91e0-5aa0a322c989"
      },
      "outputs": [
        {
          "output_type": "execute_result",
          "data": {
            "text/plain": [
              "<tf.Tensor: shape=(), dtype=string, numpy=b'bin blue at f two now'>"
            ]
          },
          "metadata": {},
          "execution_count": 25
        }
      ],
      "source": [
        "tf.strings.reduce_join([bytes.decode(x) for x in num_to_char(alignments.numpy()).numpy()])"
      ],
      "id": "fe1ad370-b287-4b46-85a2-7c45b0bd9b10"
    },
    {
      "cell_type": "code",
      "execution_count": 26,
      "metadata": {
        "id": "6871031a-b0ba-4c76-a852-f6329b0f2606"
      },
      "outputs": [],
      "source": [
        "def mappable_function(path:str) ->List[str]:\n",
        "    result = tf.py_function(load_data, [path], (tf.float32, tf.int64))\n",
        "    return result"
      ],
      "id": "6871031a-b0ba-4c76-a852-f6329b0f2606"
    },
    {
      "cell_type": "markdown",
      "metadata": {
        "id": "c40a7eb4-0c3e-4eab-9291-5611cb68ce08"
      },
      "source": [
        "# 2. Create Data Pipeline"
      ],
      "id": "c40a7eb4-0c3e-4eab-9291-5611cb68ce08"
    },
    {
      "cell_type": "code",
      "execution_count": 27,
      "metadata": {
        "id": "f066fea2-91b1-42ed-a67d-00566a1a53ff"
      },
      "outputs": [],
      "source": [
        "batch_size = 32\n",
        "train_percentage = 0.5\n",
        "\n",
        "data = tf.data.Dataset.list_files('./data/videos/*/*.mpg')\n",
        "data_count = len(data)\n",
        "preprocessed_data = data.shuffle(data_count, reshuffle_each_iteration=False).map(mappable_function).prefetch(tf.data.AUTOTUNE)\n",
        "\n",
        "train_count = int(train_percentage * data_count)\n",
        "\n",
        "# Added for split\n",
        "# Batch size is 2 hard coded, bigger batch sizes caused problems\n",
        "train = preprocessed_data.take(train_count).padded_batch(2, padded_shapes=([75,None,None,None],[40]))\n",
        "test = preprocessed_data.skip(train_count).padded_batch(2, padded_shapes=([75,None,None,None],[40]))"
      ],
      "id": "f066fea2-91b1-42ed-a67d-00566a1a53ff"
    },
    {
      "cell_type": "code",
      "execution_count": 28,
      "metadata": {
        "colab": {
          "base_uri": "https://localhost:8080/"
        },
        "id": "bdn3d-1k6Hl_",
        "outputId": "a3c177c2-e9cc-4d8b-ccfc-7a7ad7abe06b"
      },
      "outputs": [
        {
          "output_type": "stream",
          "name": "stdout",
          "text": [
            "train 750 test 750\n"
          ]
        }
      ],
      "source": [
        "print('train', len(train), 'test', len(test))"
      ],
      "id": "bdn3d-1k6Hl_"
    },
    {
      "cell_type": "code",
      "execution_count": 29,
      "metadata": {
        "id": "5cf2d676-93a9-434c-b3c7-bdcc2577b2e7"
      },
      "outputs": [],
      "source": [
        "batch = train.as_numpy_iterator().next()"
      ],
      "id": "5cf2d676-93a9-434c-b3c7-bdcc2577b2e7"
    },
    {
      "cell_type": "code",
      "execution_count": 30,
      "metadata": {
        "id": "IuXQeJG7njYO"
      },
      "outputs": [],
      "source": [
        "batched_videos, batched_alignments = batch"
      ],
      "id": "IuXQeJG7njYO"
    },
    {
      "cell_type": "code",
      "execution_count": 31,
      "metadata": {
        "id": "oscmJxmEq3Eq"
      },
      "outputs": [],
      "source": [
        "sample_video = batched_videos[0]\n",
        "sample_alignments = batched_alignments[0]"
      ],
      "id": "oscmJxmEq3Eq"
    },
    {
      "cell_type": "code",
      "execution_count": 32,
      "metadata": {
        "colab": {
          "base_uri": "https://localhost:8080/"
        },
        "id": "acf5eb4f-a0da-4a9a-bf24-af13e9cc2fbe",
        "outputId": "c7956e40-ec61-4e38-f58f-52ab373fa963"
      },
      "outputs": [
        {
          "output_type": "stream",
          "name": "stderr",
          "text": [
            "WARNING:imageio:Lossy conversion from float32 to uint8. Range [0.0, 11.789371490478516]. Convert image to uint8 prior to saving to suppress this warning.\n",
            "WARNING:imageio:Lossy conversion from float32 to uint8. Range [0.0, 11.789371490478516]. Convert image to uint8 prior to saving to suppress this warning.\n",
            "WARNING:imageio:Lossy conversion from float32 to uint8. Range [0.0, 11.789371490478516]. Convert image to uint8 prior to saving to suppress this warning.\n",
            "WARNING:imageio:Lossy conversion from float32 to uint8. Range [0.0, 11.789371490478516]. Convert image to uint8 prior to saving to suppress this warning.\n",
            "WARNING:imageio:Lossy conversion from float32 to uint8. Range [0.0, 11.789371490478516]. Convert image to uint8 prior to saving to suppress this warning.\n",
            "WARNING:imageio:Lossy conversion from float32 to uint8. Range [0.0, 11.789371490478516]. Convert image to uint8 prior to saving to suppress this warning.\n",
            "WARNING:imageio:Lossy conversion from float32 to uint8. Range [0.0, 11.789371490478516]. Convert image to uint8 prior to saving to suppress this warning.\n",
            "WARNING:imageio:Lossy conversion from float32 to uint8. Range [0.0, 11.789371490478516]. Convert image to uint8 prior to saving to suppress this warning.\n",
            "WARNING:imageio:Lossy conversion from float32 to uint8. Range [0.0, 11.789371490478516]. Convert image to uint8 prior to saving to suppress this warning.\n",
            "WARNING:imageio:Lossy conversion from float32 to uint8. Range [0.0, 11.789371490478516]. Convert image to uint8 prior to saving to suppress this warning.\n",
            "WARNING:imageio:Lossy conversion from float32 to uint8. Range [0.0, 11.789371490478516]. Convert image to uint8 prior to saving to suppress this warning.\n",
            "WARNING:imageio:Lossy conversion from float32 to uint8. Range [0.0, 11.789371490478516]. Convert image to uint8 prior to saving to suppress this warning.\n",
            "WARNING:imageio:Lossy conversion from float32 to uint8. Range [0.0, 11.789371490478516]. Convert image to uint8 prior to saving to suppress this warning.\n",
            "WARNING:imageio:Lossy conversion from float32 to uint8. Range [0.0, 11.789371490478516]. Convert image to uint8 prior to saving to suppress this warning.\n",
            "WARNING:imageio:Lossy conversion from float32 to uint8. Range [0.0, 11.789371490478516]. Convert image to uint8 prior to saving to suppress this warning.\n",
            "WARNING:imageio:Lossy conversion from float32 to uint8. Range [0.0, 11.789371490478516]. Convert image to uint8 prior to saving to suppress this warning.\n",
            "WARNING:imageio:Lossy conversion from float32 to uint8. Range [0.0, 11.789371490478516]. Convert image to uint8 prior to saving to suppress this warning.\n",
            "WARNING:imageio:Lossy conversion from float32 to uint8. Range [0.0, 11.789371490478516]. Convert image to uint8 prior to saving to suppress this warning.\n",
            "WARNING:imageio:Lossy conversion from float32 to uint8. Range [0.0, 11.789371490478516]. Convert image to uint8 prior to saving to suppress this warning.\n",
            "WARNING:imageio:Lossy conversion from float32 to uint8. Range [0.0, 11.789371490478516]. Convert image to uint8 prior to saving to suppress this warning.\n",
            "WARNING:imageio:Lossy conversion from float32 to uint8. Range [0.0, 11.789371490478516]. Convert image to uint8 prior to saving to suppress this warning.\n",
            "WARNING:imageio:Lossy conversion from float32 to uint8. Range [0.0, 11.789371490478516]. Convert image to uint8 prior to saving to suppress this warning.\n",
            "WARNING:imageio:Lossy conversion from float32 to uint8. Range [0.0, 11.789371490478516]. Convert image to uint8 prior to saving to suppress this warning.\n",
            "WARNING:imageio:Lossy conversion from float32 to uint8. Range [0.0, 11.789371490478516]. Convert image to uint8 prior to saving to suppress this warning.\n",
            "WARNING:imageio:Lossy conversion from float32 to uint8. Range [0.0, 11.789371490478516]. Convert image to uint8 prior to saving to suppress this warning.\n",
            "WARNING:imageio:Lossy conversion from float32 to uint8. Range [0.0, 11.789371490478516]. Convert image to uint8 prior to saving to suppress this warning.\n",
            "WARNING:imageio:Lossy conversion from float32 to uint8. Range [0.0, 11.789371490478516]. Convert image to uint8 prior to saving to suppress this warning.\n",
            "WARNING:imageio:Lossy conversion from float32 to uint8. Range [0.0, 11.789371490478516]. Convert image to uint8 prior to saving to suppress this warning.\n",
            "WARNING:imageio:Lossy conversion from float32 to uint8. Range [0.0, 11.789371490478516]. Convert image to uint8 prior to saving to suppress this warning.\n",
            "WARNING:imageio:Lossy conversion from float32 to uint8. Range [0.0, 11.789371490478516]. Convert image to uint8 prior to saving to suppress this warning.\n",
            "WARNING:imageio:Lossy conversion from float32 to uint8. Range [0.0, 11.789371490478516]. Convert image to uint8 prior to saving to suppress this warning.\n",
            "WARNING:imageio:Lossy conversion from float32 to uint8. Range [0.0, 11.789371490478516]. Convert image to uint8 prior to saving to suppress this warning.\n",
            "WARNING:imageio:Lossy conversion from float32 to uint8. Range [0.0, 11.789371490478516]. Convert image to uint8 prior to saving to suppress this warning.\n",
            "WARNING:imageio:Lossy conversion from float32 to uint8. Range [0.0, 11.789371490478516]. Convert image to uint8 prior to saving to suppress this warning.\n",
            "WARNING:imageio:Lossy conversion from float32 to uint8. Range [0.0, 11.789371490478516]. Convert image to uint8 prior to saving to suppress this warning.\n",
            "WARNING:imageio:Lossy conversion from float32 to uint8. Range [0.0, 11.789371490478516]. Convert image to uint8 prior to saving to suppress this warning.\n",
            "WARNING:imageio:Lossy conversion from float32 to uint8. Range [0.0, 11.789371490478516]. Convert image to uint8 prior to saving to suppress this warning.\n",
            "WARNING:imageio:Lossy conversion from float32 to uint8. Range [0.0, 11.789371490478516]. Convert image to uint8 prior to saving to suppress this warning.\n",
            "WARNING:imageio:Lossy conversion from float32 to uint8. Range [0.0, 11.789371490478516]. Convert image to uint8 prior to saving to suppress this warning.\n",
            "WARNING:imageio:Lossy conversion from float32 to uint8. Range [0.0, 11.789371490478516]. Convert image to uint8 prior to saving to suppress this warning.\n",
            "WARNING:imageio:Lossy conversion from float32 to uint8. Range [0.0, 11.789371490478516]. Convert image to uint8 prior to saving to suppress this warning.\n",
            "WARNING:imageio:Lossy conversion from float32 to uint8. Range [0.0, 11.789371490478516]. Convert image to uint8 prior to saving to suppress this warning.\n",
            "WARNING:imageio:Lossy conversion from float32 to uint8. Range [0.0, 11.789371490478516]. Convert image to uint8 prior to saving to suppress this warning.\n",
            "WARNING:imageio:Lossy conversion from float32 to uint8. Range [0.0, 11.789371490478516]. Convert image to uint8 prior to saving to suppress this warning.\n",
            "WARNING:imageio:Lossy conversion from float32 to uint8. Range [0.0, 11.789371490478516]. Convert image to uint8 prior to saving to suppress this warning.\n",
            "WARNING:imageio:Lossy conversion from float32 to uint8. Range [0.0, 11.789371490478516]. Convert image to uint8 prior to saving to suppress this warning.\n",
            "WARNING:imageio:Lossy conversion from float32 to uint8. Range [0.0, 11.789371490478516]. Convert image to uint8 prior to saving to suppress this warning.\n",
            "WARNING:imageio:Lossy conversion from float32 to uint8. Range [0.0, 11.789371490478516]. Convert image to uint8 prior to saving to suppress this warning.\n",
            "WARNING:imageio:Lossy conversion from float32 to uint8. Range [0.0, 11.789371490478516]. Convert image to uint8 prior to saving to suppress this warning.\n",
            "WARNING:imageio:Lossy conversion from float32 to uint8. Range [0.0, 11.789371490478516]. Convert image to uint8 prior to saving to suppress this warning.\n",
            "WARNING:imageio:Lossy conversion from float32 to uint8. Range [0.0, 11.789371490478516]. Convert image to uint8 prior to saving to suppress this warning.\n",
            "WARNING:imageio:Lossy conversion from float32 to uint8. Range [0.0, 11.789371490478516]. Convert image to uint8 prior to saving to suppress this warning.\n",
            "WARNING:imageio:Lossy conversion from float32 to uint8. Range [0.0, 11.789371490478516]. Convert image to uint8 prior to saving to suppress this warning.\n",
            "WARNING:imageio:Lossy conversion from float32 to uint8. Range [0.0, 11.789371490478516]. Convert image to uint8 prior to saving to suppress this warning.\n",
            "WARNING:imageio:Lossy conversion from float32 to uint8. Range [0.0, 11.789371490478516]. Convert image to uint8 prior to saving to suppress this warning.\n",
            "WARNING:imageio:Lossy conversion from float32 to uint8. Range [0.0, 11.789371490478516]. Convert image to uint8 prior to saving to suppress this warning.\n",
            "WARNING:imageio:Lossy conversion from float32 to uint8. Range [0.0, 11.789371490478516]. Convert image to uint8 prior to saving to suppress this warning.\n",
            "WARNING:imageio:Lossy conversion from float32 to uint8. Range [0.0, 11.789371490478516]. Convert image to uint8 prior to saving to suppress this warning.\n",
            "WARNING:imageio:Lossy conversion from float32 to uint8. Range [0.0, 11.789371490478516]. Convert image to uint8 prior to saving to suppress this warning.\n",
            "WARNING:imageio:Lossy conversion from float32 to uint8. Range [0.0, 11.789371490478516]. Convert image to uint8 prior to saving to suppress this warning.\n",
            "WARNING:imageio:Lossy conversion from float32 to uint8. Range [0.0, 11.789371490478516]. Convert image to uint8 prior to saving to suppress this warning.\n",
            "WARNING:imageio:Lossy conversion from float32 to uint8. Range [0.0, 11.789371490478516]. Convert image to uint8 prior to saving to suppress this warning.\n",
            "WARNING:imageio:Lossy conversion from float32 to uint8. Range [0.0, 11.789371490478516]. Convert image to uint8 prior to saving to suppress this warning.\n",
            "WARNING:imageio:Lossy conversion from float32 to uint8. Range [0.0, 11.789371490478516]. Convert image to uint8 prior to saving to suppress this warning.\n",
            "WARNING:imageio:Lossy conversion from float32 to uint8. Range [0.0, 11.789371490478516]. Convert image to uint8 prior to saving to suppress this warning.\n",
            "WARNING:imageio:Lossy conversion from float32 to uint8. Range [0.0, 11.789371490478516]. Convert image to uint8 prior to saving to suppress this warning.\n",
            "WARNING:imageio:Lossy conversion from float32 to uint8. Range [0.0, 11.789371490478516]. Convert image to uint8 prior to saving to suppress this warning.\n",
            "WARNING:imageio:Lossy conversion from float32 to uint8. Range [0.0, 11.789371490478516]. Convert image to uint8 prior to saving to suppress this warning.\n",
            "WARNING:imageio:Lossy conversion from float32 to uint8. Range [0.0, 11.789371490478516]. Convert image to uint8 prior to saving to suppress this warning.\n",
            "WARNING:imageio:Lossy conversion from float32 to uint8. Range [0.0, 11.789371490478516]. Convert image to uint8 prior to saving to suppress this warning.\n",
            "WARNING:imageio:Lossy conversion from float32 to uint8. Range [0.0, 11.789371490478516]. Convert image to uint8 prior to saving to suppress this warning.\n",
            "WARNING:imageio:Lossy conversion from float32 to uint8. Range [0.0, 11.789371490478516]. Convert image to uint8 prior to saving to suppress this warning.\n",
            "WARNING:imageio:Lossy conversion from float32 to uint8. Range [0.0, 11.789371490478516]. Convert image to uint8 prior to saving to suppress this warning.\n",
            "WARNING:imageio:Lossy conversion from float32 to uint8. Range [0.0, 11.789371490478516]. Convert image to uint8 prior to saving to suppress this warning.\n",
            "WARNING:imageio:Lossy conversion from float32 to uint8. Range [0.0, 11.789371490478516]. Convert image to uint8 prior to saving to suppress this warning.\n"
          ]
        }
      ],
      "source": [
        "imageio.mimsave('./animation.gif', sample_video, fps=10)"
      ],
      "id": "acf5eb4f-a0da-4a9a-bf24-af13e9cc2fbe"
    },
    {
      "cell_type": "code",
      "execution_count": 33,
      "metadata": {
        "colab": {
          "base_uri": "https://localhost:8080/",
          "height": 0
        },
        "id": "c33a87a2-d5e0-4ec9-b174-73ebf41bf03a",
        "outputId": "3e0c6bc3-f404-4434-fc73-4f8c82ba5102"
      },
      "outputs": [
        {
          "output_type": "execute_result",
          "data": {
            "text/plain": [
              "<matplotlib.image.AxesImage at 0x7e9d29ba35b0>"
            ]
          },
          "metadata": {},
          "execution_count": 33
        },
        {
          "output_type": "display_data",
          "data": {
            "text/plain": [
              "<Figure size 640x480 with 1 Axes>"
            ],
            "image/png": "[encoded data removed]"
          },
          "metadata": {}
        }
      ],
      "source": [
        "# 0:videos, 0: 1st video out of the batch,  0: return the first frame in the video\n",
        "plt.imshow(sample_video[35])"
      ],
      "id": "c33a87a2-d5e0-4ec9-b174-73ebf41bf03a"
    },
    {
      "cell_type": "code",
      "execution_count": 34,
      "metadata": {
        "colab": {
          "base_uri": "https://localhost:8080/"
        },
        "id": "84593332-133c-4205-b7a6-8e235d5e2b3b",
        "outputId": "f1b3c8cc-fcaa-45a1-9dcc-1b7b18c8243e"
      },
      "outputs": [
        {
          "output_type": "execute_result",
          "data": {
            "text/plain": [
              "<tf.Tensor: shape=(), dtype=string, numpy=b'place white with y zero now'>"
            ]
          },
          "metadata": {},
          "execution_count": 34
        }
      ],
      "source": [
        "tf.strings.reduce_join([num_to_char(word) for word in sample_alignments])"
      ],
      "id": "84593332-133c-4205-b7a6-8e235d5e2b3b"
    },
    {
      "cell_type": "markdown",
      "metadata": {
        "id": "0f47733c-83bc-465c-b118-b198b492ad37"
      },
      "source": [
        "# 3. Design the Deep Neural Network"
      ],
      "id": "0f47733c-83bc-465c-b118-b198b492ad37"
    },
    {
      "cell_type": "code",
      "execution_count": 35,
      "metadata": {
        "colab": {
          "base_uri": "https://localhost:8080/"
        },
        "id": "3f753ed2-70b9-4236-8c1c-08ca065dc8bf",
        "outputId": "ad5884ea-c292-449e-83cd-09ea603d35a8"
      },
      "outputs": [
        {
          "output_type": "execute_result",
          "data": {
            "text/plain": [
              "(75, 100, 120, 1)"
            ]
          },
          "metadata": {},
          "execution_count": 35
        }
      ],
      "source": [
        "input_shape = sample_video.shape\n",
        "input_shape"
      ],
      "id": "3f753ed2-70b9-4236-8c1c-08ca065dc8bf"
    },
    {
      "cell_type": "code",
      "execution_count": 36,
      "metadata": {
        "id": "f9171056-a352-491a-9ed9-92b28ced268e"
      },
      "outputs": [],
      "source": [
        "def create_model():\n",
        "  model = Sequential()\n",
        "  # Three layers of 3D/spatiotemporal convolutions.\n",
        "  model.add(Conv3D(128, 3, input_shape=input_shape, padding='same'))\n",
        "  model.add(Activation('relu'))\n",
        "  model.add(MaxPool3D((1,2,2)))\n",
        "\n",
        "  model.add(Conv3D(256, 3, padding='same'))\n",
        "  model.add(Activation('relu'))\n",
        "  model.add(MaxPool3D((1,2,2)))\n",
        "\n",
        "  model.add(Conv3D(75, 3, padding='same'))\n",
        "  model.add(Activation('relu'))\n",
        "  model.add(MaxPool3D((1,2,2)))\n",
        "\n",
        "  # Flattens each time slice independently.\n",
        "  model.add(TimeDistributed(Flatten()))\n",
        "\n",
        "  # Two layers of Bi-LSTM's.\n",
        "  # return_sequences=True makes the the network output a sequence of predictions, one for each time step of the input sequence.\n",
        "  model.add(Bidirectional(LSTM(128, kernel_initializer='Orthogonal', return_sequences=True)))\n",
        "  model.add(Dropout(.5))\n",
        "\n",
        "  model.add(Bidirectional(LSTM(128, kernel_initializer='Orthogonal', return_sequences=True)))\n",
        "  model.add(Dropout(.5))\n",
        "\n",
        "  # Linear transformation (dense layer) and output (softmax layer).\n",
        "  model.add(Dense(char_to_num.vocabulary_size()+1, kernel_initializer='he_normal', activation='softmax'))\n",
        "  return model"
      ],
      "id": "f9171056-a352-491a-9ed9-92b28ced268e"
    },
    {
      "cell_type": "code",
      "execution_count": 37,
      "metadata": {
        "colab": {
          "base_uri": "https://localhost:8080/"
        },
        "id": "78851825-2bcd-42a9-b7f2-28bb5a6bf43a",
        "outputId": "53c0c153-299a-4db2-fa67-1d0321643847"
      },
      "outputs": [
        {
          "output_type": "stream",
          "name": "stdout",
          "text": [
            "Model: \"sequential\"\n",
            "_________________________________________________________________\n",
            " Layer (type)                Output Shape              Param #   \n",
            "=================================================================\n",
            " conv3d (Conv3D)             (None, 75, 100, 120, 128  3584      \n",
            "                             )                                   \n",
            "                                                                 \n",
            " activation (Activation)     (None, 75, 100, 120, 128  0         \n",
            "                             )                                   \n",
            "                                                                 \n",
            " max_pooling3d (MaxPooling3D  (None, 75, 50, 60, 128)  0         \n",
            " )                                                               \n",
            "                                                                 \n",
            " conv3d_1 (Conv3D)           (None, 75, 50, 60, 256)   884992    \n",
            "                                                                 \n",
            " activation_1 (Activation)   (None, 75, 50, 60, 256)   0         \n",
            "                                                                 \n",
            " max_pooling3d_1 (MaxPooling  (None, 75, 25, 30, 256)  0         \n",
            " 3D)                                                             \n",
            "                                                                 \n",
            " conv3d_2 (Conv3D)           (None, 75, 25, 30, 75)    518475    \n",
            "                                                                 \n",
            " activation_2 (Activation)   (None, 75, 25, 30, 75)    0         \n",
            "                                                                 \n",
            " max_pooling3d_2 (MaxPooling  (None, 75, 12, 15, 75)   0         \n",
            " 3D)                                                             \n",
            "                                                                 \n",
            " time_distributed (TimeDistr  (None, 75, 13500)        0         \n",
            " ibuted)                                                         \n",
            "                                                                 \n",
            " bidirectional (Bidirectiona  (None, 75, 256)          13956096  \n",
            " l)                                                              \n",
            "                                                                 \n",
            " dropout (Dropout)           (None, 75, 256)           0         \n",
            "                                                                 \n",
            " bidirectional_1 (Bidirectio  (None, 75, 256)          394240    \n",
            " nal)                                                            \n",
            "                                                                 \n",
            " dropout_1 (Dropout)         (None, 75, 256)           0         \n",
            "                                                                 \n",
            " dense (Dense)               (None, 75, 41)            10537     \n",
            "                                                                 \n",
            "=================================================================\n",
            "Total params: 15,767,924\n",
            "Trainable params: 15,767,924\n",
            "Non-trainable params: 0\n",
            "_________________________________________________________________\n"
          ]
        }
      ],
      "source": [
        "model_example = create_model()\n",
        "model_example.summary()"
      ],
      "id": "78851825-2bcd-42a9-b7f2-28bb5a6bf43a"
    },
    {
      "cell_type": "code",
      "execution_count": 38,
      "metadata": {
        "colab": {
          "base_uri": "https://localhost:8080/"
        },
        "id": "e5c2eae0-c359-41a4-97a0-75c44dccb7d1",
        "outputId": "6c6db9a3-fe95-44c0-e5b9-9d9e86464a22"
      },
      "outputs": [
        {
          "output_type": "stream",
          "name": "stdout",
          "text": [
            "1/1 [==============================] - 6s 6s/step\n"
          ]
        }
      ],
      "source": [
        "yhat = model_example.predict(np.expand_dims(sample_video, axis=0))[0]"
      ],
      "id": "e5c2eae0-c359-41a4-97a0-75c44dccb7d1"
    },
    {
      "cell_type": "code",
      "execution_count": 39,
      "metadata": {
        "colab": {
          "base_uri": "https://localhost:8080/"
        },
        "id": "ffdc7319-0d69-4f7e-a6d4-ce72deb81c0b",
        "outputId": "5de4624b-3edb-4613-a112-0f9c013f1871"
      },
      "outputs": [
        {
          "output_type": "execute_result",
          "data": {
            "text/plain": [
              "<tf.Tensor: shape=(), dtype=string, numpy=b'9992222222222222222222yyyyyyyyyyyyy22222222222222222222222222222qqqqqqqqyy3'>"
            ]
          },
          "metadata": {},
          "execution_count": 39
        }
      ],
      "source": [
        "tf.strings.reduce_join([num_to_char(x) for x in tf.argmax(yhat,axis=1)])"
      ],
      "id": "ffdc7319-0d69-4f7e-a6d4-ce72deb81c0b"
    },
    {
      "cell_type": "code",
      "execution_count": 40,
      "metadata": {
        "colab": {
          "base_uri": "https://localhost:8080/"
        },
        "id": "6ed47531-8317-4255-9a12-b757642258e6",
        "outputId": "1ff17f42-4277-49d0-aa7a-b19abc4058ef"
      },
      "outputs": [
        {
          "output_type": "execute_result",
          "data": {
            "text/plain": [
              "<tf.Tensor: shape=(), dtype=string, numpy=b'9992222222222222222222yyyyyyyyyyyyy22222222222222222222222222222qqqqqqqqyy3'>"
            ]
          },
          "metadata": {},
          "execution_count": 40
        }
      ],
      "source": [
        "tf.strings.reduce_join([num_to_char(tf.argmax(x)) for x in yhat])"
      ],
      "id": "6ed47531-8317-4255-9a12-b757642258e6"
    },
    {
      "cell_type": "code",
      "execution_count": 41,
      "metadata": {
        "colab": {
          "base_uri": "https://localhost:8080/"
        },
        "id": "7c37b9b9-5298-4038-9c33-5031d1b457f0",
        "outputId": "989ad285-f9db-4150-b5ef-f41ec84c36da"
      },
      "outputs": [
        {
          "output_type": "execute_result",
          "data": {
            "text/plain": [
              "(None, 75, 100, 120, 1)"
            ]
          },
          "metadata": {},
          "execution_count": 41
        }
      ],
      "source": [
        "model_example.input_shape"
      ],
      "id": "7c37b9b9-5298-4038-9c33-5031d1b457f0"
    },
    {
      "cell_type": "code",
      "execution_count": 42,
      "metadata": {
        "colab": {
          "base_uri": "https://localhost:8080/"
        },
        "id": "98b316a4-5322-4782-8e36-4b3c1a696d85",
        "outputId": "05a1b023-151d-4c2a-b570-950eed988b36"
      },
      "outputs": [
        {
          "output_type": "execute_result",
          "data": {
            "text/plain": [
              "(None, 75, 41)"
            ]
          },
          "metadata": {},
          "execution_count": 42
        }
      ],
      "source": [
        "model_example.output_shape"
      ],
      "id": "98b316a4-5322-4782-8e36-4b3c1a696d85"
    },
    {
      "cell_type": "markdown",
      "metadata": {
        "id": "xXObm3PFUdsI"
      },
      "source": [
        "## Define Loss Function"
      ],
      "id": "xXObm3PFUdsI"
    },
    {
      "cell_type": "markdown",
      "metadata": {
        "id": "VuezFsn8FpFm"
      },
      "source": [
        "**CTC (Connectionist Temporal Classification)** is a commonly used technique in automatic speech recognition and other sequence-to-sequence tasks where the alignment between the input sequence and the target sequence is not one-to-one.\n",
        "\n",
        "The `ctc_batch_cost` refers to the loss function and it calculates the CTC loss for a batch of input-output sequence pairs."
      ],
      "id": "VuezFsn8FpFm"
    },
    {
      "cell_type": "code",
      "execution_count": 43,
      "metadata": {
        "id": "0s7WHUP7FJXb"
      },
      "outputs": [],
      "source": [
        "def CTCLoss(y_true, y_pred):\n",
        "    batch_len = tf.cast(tf.shape(y_true)[0], dtype=\"int64\")\n",
        "    input_length = tf.cast(tf.shape(y_pred)[1], dtype=\"int64\")\n",
        "    label_length = tf.cast(tf.shape(y_true)[1], dtype=\"int64\")\n",
        "\n",
        "    input_length = input_length * tf.ones(shape=(batch_len, 1), dtype=\"int64\")\n",
        "    label_length = label_length * tf.ones(shape=(batch_len, 1), dtype=\"int64\")\n",
        "\n",
        "    loss = tf.keras.backend.ctc_batch_cost(y_true, y_pred, input_length, label_length)\n",
        "    return loss"
      ],
      "id": "0s7WHUP7FJXb"
    },
    {
      "cell_type": "markdown",
      "metadata": {
        "id": "0drr-B1rSbVq"
      },
      "source": [
        "## Choose Parameters"
      ],
      "id": "0drr-B1rSbVq"
    },
    {
      "cell_type": "markdown",
      "metadata": {
        "id": "jD_mWJ1mGn4R"
      },
      "source": [
        "### Optimizer"
      ],
      "id": "jD_mWJ1mGn4R"
    },
    {
      "cell_type": "code",
      "execution_count": 44,
      "metadata": {
        "id": "eDyRONI8GmqA"
      },
      "outputs": [],
      "source": [
        "optimizer = tf.keras.optimizers.legacy.Adam(learning_rate=0.0001)"
      ],
      "id": "eDyRONI8GmqA"
    },
    {
      "cell_type": "markdown",
      "metadata": {
        "id": "PR85E4bMEiAP"
      },
      "source": [
        "### Scheduler"
      ],
      "id": "PR85E4bMEiAP"
    },
    {
      "cell_type": "markdown",
      "metadata": {
        "id": "uqyeGLhOJKYn"
      },
      "source": [
        "We chose the ReduceLROnPlateau scheduler from this list for the base model because tensoflow has a built-in implementation for it unlike CosineAnnealingLR for example.\n",
        "But I think it is a good idea to play with these options when running the experiments"
      ],
      "id": "uqyeGLhOJKYn"
    },
    {
      "cell_type": "markdown",
      "metadata": {
        "id": "_yyUcO6uI0bZ"
      },
      "source": [
        "\n",
        "\n",
        "1. **StepLR:** This scheduler reduces the learning rate by a factor gamma at specified milestones or epochs. It is commonly used when you want to decrease the learning rate at specific intervals during training.\n",
        "\n",
        "2. **ReduceLROnPlateau:** This scheduler reduces the learning rate when a monitored metric (such as validation loss) has stopped improving. It is useful when you want to dynamically adjust the learning rate based on the model's performance.\n",
        "\n",
        "3. **CosineAnnealingLR:** This scheduler uses a cosine annealing schedule to gradually reduce the learning rate. It is effective in scenarios where you want to gradually decrease the learning rate over a specified number of epochs.\n",
        "\n",
        "4. **CyclicLR:** This scheduler cycles the learning rate between specified minimum and maximum values. It can help the model escape from poor local optima and explore different areas of the loss landscape.\n",
        "\n",
        "\n"
      ],
      "id": "_yyUcO6uI0bZ"
    },
    {
      "cell_type": "code",
      "execution_count": 45,
      "metadata": {
        "id": "fOvXJfC1EhJQ"
      },
      "outputs": [],
      "source": [
        "onPlateau_scheduler = tf.keras.callbacks.ReduceLROnPlateau(\n",
        "    monitor='val_loss',  # Which metric to monitor (e.g., validation loss)\n",
        "    factor=0.1,          # Factor by which the learning rate will be reduced (new_lr = lr * factor)\n",
        "    patience=3,          # Number of epochs with no improvement after which learning rate will be reduced\n",
        "    verbose=1,           # Verbosity mode (0 = silent, 1 = update messages)\n",
        "    min_delta=1e-4,      # Minimum change in monitored metric to qualify as an improvement\n",
        "    cooldown=0,          # Number of epochs to wait after reducing learning rate before resuming normal operation\n",
        "    min_lr=0             # Lower bound on the learning rate\n",
        ")"
      ],
      "id": "fOvXJfC1EhJQ"
    },
    {
      "cell_type": "code",
      "execution_count": 46,
      "metadata": {
        "id": "7-2nIk93wzNe"
      },
      "outputs": [],
      "source": [
        "def step_decay(epoch, epochs_drop = 10):\n",
        "    initial_lr = 0.0001\n",
        "    drop = 0.5       # factor by which the learning rate will be reduced\n",
        "    lr = initial_lr * drop ** (epoch // epochs_drop)\n",
        "    return lr"
      ],
      "id": "7-2nIk93wzNe"
    },
    {
      "cell_type": "code",
      "execution_count": 47,
      "metadata": {
        "id": "h3hTTXhdu_31"
      },
      "outputs": [],
      "source": [
        "onEpoch_scheduler = LearningRateScheduler(lambda epoch: step_decay(epoch, epochs_drop=2))"
      ],
      "id": "h3hTTXhdu_31"
    },
    {
      "cell_type": "markdown",
      "metadata": {
        "id": "eDb3PbIoKmIa"
      },
      "source": [
        "## Define Callbacks"
      ],
      "id": "eDb3PbIoKmIa"
    },
    {
      "cell_type": "code",
      "execution_count": 48,
      "metadata": {
        "id": "KE0FCpxfKs9G"
      },
      "outputs": [],
      "source": [
        "checkpoint_callback = ModelCheckpoint(os.path.join('models','checkpoint'), monitor='loss', save_weights_only=False)"
      ],
      "id": "KE0FCpxfKs9G"
    },
    {
      "cell_type": "markdown",
      "metadata": {
        "id": "lG1tp6r9Letx"
      },
      "source": [
        "## Compile the Model"
      ],
      "id": "lG1tp6r9Letx"
    },
    {
      "cell_type": "code",
      "execution_count": 49,
      "metadata": {
        "id": "Zpi0sEOaLYJF"
      },
      "outputs": [],
      "source": [
        "model_example.compile(optimizer=optimizer, loss=CTCLoss)"
      ],
      "id": "Zpi0sEOaLYJF"
    },
    {
      "cell_type": "markdown",
      "metadata": {
        "id": "6RqZpVVnSrUX"
      },
      "source": [
        "# Experiments and Training"
      ],
      "id": "6RqZpVVnSrUX"
    },
    {
      "cell_type": "markdown",
      "source": [
        "## First Experiment"
      ],
      "metadata": {
        "id": "Dz0iLM98StJI"
      },
      "id": "Dz0iLM98StJI"
    },
    {
      "cell_type": "markdown",
      "source": [
        "The base model without any schedulers"
      ],
      "metadata": {
        "id": "8pdc2jRbO8CN"
      },
      "id": "8pdc2jRbO8CN"
    },
    {
      "cell_type": "markdown",
      "source": [
        "### Choose Parameters"
      ],
      "metadata": {
        "id": "FoFKkKBDK1nR"
      },
      "id": "FoFKkKBDK1nR"
    },
    {
      "cell_type": "code",
      "source": [
        "epochs = 6"
      ],
      "metadata": {
        "id": "S44DZ8-DK6v0"
      },
      "execution_count": null,
      "outputs": [],
      "id": "S44DZ8-DK6v0"
    },
    {
      "cell_type": "markdown",
      "source": [
        "### Training"
      ],
      "metadata": {
        "id": "VCeAmG1_ThR8"
      },
      "id": "VCeAmG1_ThR8"
    },
    {
      "cell_type": "code",
      "source": [
        "first_model = create_model()\n",
        "first_model.compile(optimizer=optimizer, loss=CTCLoss)"
      ],
      "metadata": {
        "id": "VKqcrMJZuIUz"
      },
      "execution_count": null,
      "outputs": [],
      "id": "VKqcrMJZuIUz"
    },
    {
      "cell_type": "code",
      "source": [
        "first_model.fit(train, validation_data=test, epochs=epochs, callbacks=[checkpoint_callback])"
      ],
      "metadata": {
        "id": "phrzogEHKuoj",
        "colab": {
          "base_uri": "https://localhost:8080/"
        },
        "outputId": "d44a2282-32b1-4ae6-ac55-5c894bb3303d"
      },
      "execution_count": null,
      "outputs": [
        {
          "metadata": {
            "tags": null
          },
          "name": "stdout",
          "output_type": "stream",
          "text": [
            "Epoch 1/6\n",
            "750/750 [==============================] - ETA: 0s - loss: 80.8787"
          ]
        },
        {
          "metadata": {
            "tags": null
          },
          "name": "stderr",
          "output_type": "stream",
          "text": [
            "WARNING:absl:Found untraced functions such as _jit_compiled_convolution_op, _jit_compiled_convolution_op, _jit_compiled_convolution_op, lstm_cell_7_layer_call_fn, lstm_cell_7_layer_call_and_return_conditional_losses while saving (showing 5 of 11). These functions will not be directly callable after loading.\n"
          ]
        },
        {
          "metadata": {
            "tags": null
          },
          "name": "stdout",
          "output_type": "stream",
          "text": [
            "750/750 [==============================] - 3435s 5s/step - loss: 80.8787 - val_loss: 68.7491\n",
            "Epoch 2/6\n",
            "750/750 [==============================] - ETA: 0s - loss: 69.5789"
          ]
        },
        {
          "metadata": {
            "tags": null
          },
          "name": "stderr",
          "output_type": "stream",
          "text": [
            "WARNING:absl:Found untraced functions such as _jit_compiled_convolution_op, _jit_compiled_convolution_op, _jit_compiled_convolution_op, lstm_cell_7_layer_call_fn, lstm_cell_7_layer_call_and_return_conditional_losses while saving (showing 5 of 11). These functions will not be directly callable after loading.\n"
          ]
        },
        {
          "metadata": {
            "tags": null
          },
          "name": "stdout",
          "output_type": "stream",
          "text": [
            "750/750 [==============================] - 3443s 5s/step - loss: 69.5789 - val_loss: 64.1829\n",
            "Epoch 3/6\n",
            "750/750 [==============================] - ETA: 0s - loss: 65.4016"
          ]
        },
        {
          "metadata": {
            "tags": null
          },
          "name": "stderr",
          "output_type": "stream",
          "text": [
            "WARNING:absl:Found untraced functions such as _jit_compiled_convolution_op, _jit_compiled_convolution_op, _jit_compiled_convolution_op, lstm_cell_7_layer_call_fn, lstm_cell_7_layer_call_and_return_conditional_losses while saving (showing 5 of 11). These functions will not be directly callable after loading.\n"
          ]
        },
        {
          "metadata": {
            "tags": null
          },
          "name": "stdout",
          "output_type": "stream",
          "text": [
            "750/750 [==============================] - 3451s 5s/step - loss: 65.4016 - val_loss: 60.7515\n",
            "Epoch 4/6\n",
            "750/750 [==============================] - ETA: 0s - loss: 62.3617"
          ]
        },
        {
          "metadata": {
            "tags": null
          },
          "name": "stderr",
          "output_type": "stream",
          "text": [
            "WARNING:absl:Found untraced functions such as _jit_compiled_convolution_op, _jit_compiled_convolution_op, _jit_compiled_convolution_op, lstm_cell_7_layer_call_fn, lstm_cell_7_layer_call_and_return_conditional_losses while saving (showing 5 of 11). These functions will not be directly callable after loading.\n"
          ]
        },
        {
          "metadata": {
            "tags": null
          },
          "name": "stdout",
          "output_type": "stream",
          "text": [
            "750/750 [==============================] - 3430s 5s/step - loss: 62.3617 - val_loss: 58.1798\n",
            "Epoch 5/6\n",
            "750/750 [==============================] - ETA: 0s - loss: 58.8246"
          ]
        },
        {
          "output_type": "stream",
          "name": "stderr",
          "text": [
            "WARNING:absl:Found untraced functions such as _jit_compiled_convolution_op, _jit_compiled_convolution_op, _jit_compiled_convolution_op, lstm_cell_7_layer_call_fn, lstm_cell_7_layer_call_and_return_conditional_losses while saving (showing 5 of 11). These functions will not be directly callable after loading.\n"
          ]
        },
        {
          "output_type": "stream",
          "name": "stdout",
          "text": [
            "\b\b\b\b\b\b\b\b\b\b\b\b\b\b\b\b\b\b\b\b\b\b\b\b\b\b\b\b\b\b\b\b\b\b\b\b\b\b\b\b\b\b\b\b\b\b\b\b\b\b\b\b\b\b\b\b\b\b\b\b\b\b\b\b\b\b\r750/750 [==============================] - 3406s 5s/step - loss: 58.8246 - val_loss: 53.6075\n",
            "Epoch 6/6\n",
            "750/750 [==============================] - ETA: 0s - loss: 55.3968"
          ]
        },
        {
          "output_type": "stream",
          "name": "stderr",
          "text": [
            "WARNING:absl:Found untraced functions such as _jit_compiled_convolution_op, _jit_compiled_convolution_op, _jit_compiled_convolution_op, lstm_cell_7_layer_call_fn, lstm_cell_7_layer_call_and_return_conditional_losses while saving (showing 5 of 11). These functions will not be directly callable after loading.\n"
          ]
        },
        {
          "output_type": "stream",
          "name": "stdout",
          "text": [
            "\b\b\b\b\b\b\b\b\b\b\b\b\b\b\b\b\b\b\b\b\b\b\b\b\b\b\b\b\b\b\b\b\b\b\b\b\b\b\b\b\b\b\b\b\b\b\b\b\b\b\b\b\b\b\b\b\b\b\b\b\b\b\b\b\b\b\r750/750 [==============================] - 3416s 5s/step - loss: 55.3968 - val_loss: 50.8289\n"
          ]
        },
        {
          "output_type": "execute_result",
          "data": {
            "text/plain": [
              "<keras.callbacks.History at 0x7f9003632e60>"
            ]
          },
          "metadata": {},
          "execution_count": 52
        }
      ],
      "id": "phrzogEHKuoj"
    },
    {
      "cell_type": "markdown",
      "source": [
        "### Plot Predictions and Metrics"
      ],
      "metadata": {
        "id": "jtCMrvDhTd1F"
      },
      "id": "jtCMrvDhTd1F"
    },
    {
      "cell_type": "markdown",
      "source": [
        "Make a single prediction"
      ],
      "metadata": {
        "id": "xmyfY_B5dRvJ"
      },
      "id": "xmyfY_B5dRvJ"
    },
    {
      "cell_type": "code",
      "source": [
        "test_data = test.as_numpy_iterator()\n",
        "first_sample = test_data.next()"
      ],
      "metadata": {
        "id": "YJdFwYzxdRbb"
      },
      "execution_count": null,
      "outputs": [],
      "id": "YJdFwYzxdRbb"
    },
    {
      "cell_type": "code",
      "source": [
        "print('~'*100, 'REAL TEXT')\n",
        "first_y_true = [tf.strings.reduce_join([num_to_char(word) for word in sentence]) for sentence in first_sample[1]]"
      ],
      "metadata": {
        "id": "2J7IqdV-d8Mq"
      },
      "execution_count": null,
      "outputs": [],
      "id": "2J7IqdV-d8Mq"
    },
    {
      "cell_type": "code",
      "source": [
        "first_yhat = first_model.predict(first_sample[0])\n",
        "first_yhat_decoded = tf.keras.backend.ctc_decode(first_yhat, input_length=[75,75], greedy=True)[0][0].numpy()"
      ],
      "metadata": {
        "id": "9HHF__aSeOFF",
        "colab": {
          "base_uri": "https://localhost:8080/"
        },
        "outputId": "b05ecb7b-9f6a-4360-b3af-fc0524031c93"
      },
      "execution_count": null,
      "outputs": [
        {
          "output_type": "stream",
          "name": "stdout",
          "text": [
            "1/1 [==============================] - 2s 2s/step\n"
          ]
        }
      ],
      "id": "9HHF__aSeOFF"
    },
    {
      "cell_type": "code",
      "source": [
        "print('~'*100, 'PREDICTIONS')\n",
        "first_y_pred = [tf.strings.reduce_join([num_to_char(word) for word in sentence]) for sentence in first_yhat_decoded]"
      ],
      "metadata": {
        "id": "JaiDukf0eO0-",
        "colab": {
          "base_uri": "https://localhost:8080/"
        },
        "outputId": "f7a2c3f0-40af-49d9-b5df-b490e00374af"
      },
      "execution_count": null,
      "outputs": [
        {
          "output_type": "stream",
          "name": "stdout",
          "text": [
            "~~~~~~~~~~~~~~~~~~~~~~~~~~~~~~~~~~~~~~~~~~~~~~~~~~~~~~~~~~~~~~~~~~~~~~~~~~~~~~~~~~~~~~~~~~~~~~~~~~~~ PREDICTIONS\n"
          ]
        }
      ],
      "id": "JaiDukf0eO0-"
    },
    {
      "cell_type": "markdown",
      "source": [
        "Convert the tensors to string for the accuracy calculations"
      ],
      "metadata": {
        "id": "9Tc10s1YN6M8"
      },
      "id": "9Tc10s1YN6M8"
    },
    {
      "cell_type": "code",
      "source": [
        "first_y_true_string = tensors_to_strings(first_y_true)\n",
        "first_y_pred_string = tensors_to_strings(first_y_pred)"
      ],
      "metadata": {
        "id": "k-JnlnhDN6ND"
      },
      "execution_count": null,
      "outputs": [],
      "id": "k-JnlnhDN6ND"
    },
    {
      "cell_type": "code",
      "source": [
        "print(first_y_true_string)\n",
        "print(first_y_pred_string)"
      ],
      "metadata": {
        "id": "cZR4nVMd5BCU",
        "colab": {
          "base_uri": "https://localhost:8080/"
        },
        "outputId": "3e165efc-5ff8-4e26-a89a-49e8b150cce2"
      },
      "execution_count": null,
      "outputs": [
        {
          "metadata": {
            "tags": null
          },
          "name": "stdout",
          "output_type": "stream",
          "text": [
            "['place blue by j zero please', 'set white by v one soon']\n",
            "['la re e a', 'la ree e  o']\n"
          ]
        }
      ],
      "id": "cZR4nVMd5BCU"
    },
    {
      "cell_type": "markdown",
      "source": [
        "Accuracy using nlp"
      ],
      "metadata": {
        "id": "F-_4g_sHN6ND"
      },
      "id": "F-_4g_sHN6ND"
    },
    {
      "cell_type": "code",
      "source": [
        "print(nlp_accuracy(first_y_true_string, first_y_pred_string))"
      ],
      "metadata": {
        "id": "5OLVyjvkN6ND",
        "colab": {
          "base_uri": "https://localhost:8080/"
        },
        "outputId": "c9977a61-37b2-443a-b840-c3e169216aa0"
      },
      "execution_count": null,
      "outputs": [
        {
          "output_type": "stream",
          "name": "stdout",
          "text": [
            "0.3546842485666275\n"
          ]
        }
      ],
      "id": "5OLVyjvkN6ND"
    },
    {
      "cell_type": "markdown",
      "source": [
        "Accuracy using Levenstein"
      ],
      "metadata": {
        "id": "1jiFDB3ZN6ND"
      },
      "id": "1jiFDB3ZN6ND"
    },
    {
      "cell_type": "code",
      "source": [
        "print(levenstein_accuracy(first_y_true_string, first_y_pred_string))"
      ],
      "metadata": {
        "id": "RemyNk0gN6ND",
        "colab": {
          "base_uri": "https://localhost:8080/"
        },
        "outputId": "b3aa7aff-1b94-4c80-8e7e-2aa0401adadc"
      },
      "execution_count": null,
      "outputs": [
        {
          "output_type": "stream",
          "name": "stdout",
          "text": [
            "0.2785829307568438\n"
          ]
        }
      ],
      "id": "RemyNk0gN6ND"
    },
    {
      "cell_type": "markdown",
      "source": [
        "Accuracy using wer and cer"
      ],
      "metadata": {
        "id": "VZ6phg_HN6ND"
      },
      "id": "VZ6phg_HN6ND"
    },
    {
      "cell_type": "code",
      "source": [
        "wer, cer = wer_and_cer_accuracy(first_y_true_string, first_y_pred_string)\n",
        "print(\"WER: \", wer)\n",
        "print(\"CER: \", cer)"
      ],
      "metadata": {
        "id": "NxG15-ObN6ND",
        "colab": {
          "base_uri": "https://localhost:8080/"
        },
        "outputId": "64b431d8-457f-4e07-f44f-792f48cbef46"
      },
      "execution_count": null,
      "outputs": [
        {
          "output_type": "stream",
          "name": "stdout",
          "text": [
            "WER:  1.0\n",
            "CER:  0.7214170692431562\n"
          ]
        }
      ],
      "id": "NxG15-ObN6ND"
    },
    {
      "cell_type": "markdown",
      "metadata": {
        "id": "9L9R_-ZrSxoW"
      },
      "source": [
        "## Second Experiment"
      ],
      "id": "9L9R_-ZrSxoW"
    },
    {
      "cell_type": "markdown",
      "metadata": {
        "id": "gfodtb7RPBAT"
      },
      "source": [
        "Base model but with \"on-epoch\" scheduler to the same number of epochs"
      ],
      "id": "gfodtb7RPBAT"
    },
    {
      "cell_type": "markdown",
      "metadata": {
        "id": "CjIfdT-4S2py"
      },
      "source": [
        "### Choose Parameters"
      ],
      "id": "CjIfdT-4S2py"
    },
    {
      "cell_type": "code",
      "execution_count": null,
      "metadata": {
        "id": "Cf9_kirGl3mG"
      },
      "outputs": [],
      "source": [
        "epochs = 6"
      ],
      "id": "Cf9_kirGl3mG"
    },
    {
      "cell_type": "code",
      "execution_count": null,
      "metadata": {
        "id": "12D2lFOCx6E7"
      },
      "outputs": [],
      "source": [
        "schedule_callback = onEpoch_scheduler"
      ],
      "id": "12D2lFOCx6E7"
    },
    {
      "cell_type": "markdown",
      "metadata": {
        "id": "2Huye3rsl3mU"
      },
      "source": [
        "### Training"
      ],
      "id": "2Huye3rsl3mU"
    },
    {
      "cell_type": "code",
      "execution_count": null,
      "metadata": {
        "id": "mSYOOBn2uaSe"
      },
      "outputs": [],
      "source": [
        "second_model = create_model()\n",
        "second_model.compile(optimizer=optimizer, loss=CTCLoss)"
      ],
      "id": "mSYOOBn2uaSe"
    },
    {
      "cell_type": "code",
      "execution_count": null,
      "metadata": {
        "id": "Az12MjD_l3mU",
        "colab": {
          "base_uri": "https://localhost:8080/"
        },
        "outputId": "1e9e4215-8d3b-4e22-cf3f-c131a9707d26"
      },
      "outputs": [
        {
          "output_type": "stream",
          "name": "stdout",
          "text": [
            "Epoch 1/6\n",
            "750/750 [==============================] - ETA: 0s - loss: 80.8820"
          ]
        },
        {
          "output_type": "stream",
          "name": "stderr",
          "text": [
            "WARNING:absl:Found untraced functions such as _jit_compiled_convolution_op, _jit_compiled_convolution_op, _jit_compiled_convolution_op, lstm_cell_7_layer_call_fn, lstm_cell_7_layer_call_and_return_conditional_losses while saving (showing 5 of 11). These functions will not be directly callable after loading.\n"
          ]
        },
        {
          "output_type": "stream",
          "name": "stdout",
          "text": [
            "\b\b\b\b\b\b\b\b\b\b\b\b\b\b\b\b\b\b\b\b\b\b\b\b\b\b\b\b\b\b\b\b\b\b\b\b\b\b\b\b\b\b\b\b\b\b\b\b\b\b\b\b\b\b\b\b\b\b\b\b\b\b\b\b\b\b\r750/750 [==============================] - 3429s 5s/step - loss: 80.8820 - val_loss: 67.6311 - lr: 1.0000e-04\n",
            "Epoch 2/6\n",
            "750/750 [==============================] - ETA: 0s - loss: 68.5348"
          ]
        },
        {
          "output_type": "stream",
          "name": "stderr",
          "text": [
            "WARNING:absl:Found untraced functions such as _jit_compiled_convolution_op, _jit_compiled_convolution_op, _jit_compiled_convolution_op, lstm_cell_7_layer_call_fn, lstm_cell_7_layer_call_and_return_conditional_losses while saving (showing 5 of 11). These functions will not be directly callable after loading.\n"
          ]
        },
        {
          "output_type": "stream",
          "name": "stdout",
          "text": [
            "\b\b\b\b\b\b\b\b\b\b\b\b\b\b\b\b\b\b\b\b\b\b\b\b\b\b\b\b\b\b\b\b\b\b\b\b\b\b\b\b\b\b\b\b\b\b\b\b\b\b\b\b\b\b\b\b\b\b\b\b\b\b\b\b\b\b\r750/750 [==============================] - 3458s 5s/step - loss: 68.5348 - val_loss: 63.1090 - lr: 1.0000e-04\n",
            "Epoch 3/6\n",
            "750/750 [==============================] - ETA: 0s - loss: 65.0263"
          ]
        },
        {
          "output_type": "stream",
          "name": "stderr",
          "text": [
            "WARNING:absl:Found untraced functions such as _jit_compiled_convolution_op, _jit_compiled_convolution_op, _jit_compiled_convolution_op, lstm_cell_7_layer_call_fn, lstm_cell_7_layer_call_and_return_conditional_losses while saving (showing 5 of 11). These functions will not be directly callable after loading.\n"
          ]
        },
        {
          "output_type": "stream",
          "name": "stdout",
          "text": [
            "\b\b\b\b\b\b\b\b\b\b\b\b\b\b\b\b\b\b\b\b\b\b\b\b\b\b\b\b\b\b\b\b\b\b\b\b\b\b\b\b\b\b\b\b\b\b\b\b\b\b\b\b\b\b\b\b\b\b\b\b\b\b\b\b\b\b\r750/750 [==============================] - 3409s 5s/step - loss: 65.0263 - val_loss: 61.1859 - lr: 5.0000e-05\n",
            "Epoch 4/6\n",
            "750/750 [==============================] - ETA: 0s - loss: 63.1260"
          ]
        },
        {
          "output_type": "stream",
          "name": "stderr",
          "text": [
            "WARNING:absl:Found untraced functions such as _jit_compiled_convolution_op, _jit_compiled_convolution_op, _jit_compiled_convolution_op, lstm_cell_7_layer_call_fn, lstm_cell_7_layer_call_and_return_conditional_losses while saving (showing 5 of 11). These functions will not be directly callable after loading.\n"
          ]
        },
        {
          "output_type": "stream",
          "name": "stdout",
          "text": [
            "\b\b\b\b\b\b\b\b\b\b\b\b\b\b\b\b\b\b\b\b\b\b\b\b\b\b\b\b\b\b\b\b\b\b\b\b\b\b\b\b\b\b\b\b\b\b\b\b\b\b\b\b\b\b\b\b\b\b\b\b\b\b\b\b\b\b\r750/750 [==============================] - 3419s 5s/step - loss: 63.1260 - val_loss: 59.1074 - lr: 5.0000e-05\n",
            "Epoch 5/6\n",
            "750/750 [==============================] - ETA: 0s - loss: 61.6172"
          ]
        },
        {
          "output_type": "stream",
          "name": "stderr",
          "text": [
            "WARNING:absl:Found untraced functions such as _jit_compiled_convolution_op, _jit_compiled_convolution_op, _jit_compiled_convolution_op, lstm_cell_7_layer_call_fn, lstm_cell_7_layer_call_and_return_conditional_losses while saving (showing 5 of 11). These functions will not be directly callable after loading.\n"
          ]
        },
        {
          "output_type": "stream",
          "name": "stdout",
          "text": [
            "\b\b\b\b\b\b\b\b\b\b\b\b\b\b\b\b\b\b\b\b\b\b\b\b\b\b\b\b\b\b\b\b\b\b\b\b\b\b\b\b\b\b\b\b\b\b\b\b\b\b\b\b\b\b\b\b\b\b\b\b\b\b\b\b\b\b\r750/750 [==============================] - 3416s 5s/step - loss: 61.6172 - val_loss: 57.7169 - lr: 2.5000e-05\n",
            "Epoch 6/6\n",
            "750/750 [==============================] - ETA: 0s - loss: 60.4967"
          ]
        },
        {
          "output_type": "stream",
          "name": "stderr",
          "text": [
            "WARNING:absl:Found untraced functions such as _jit_compiled_convolution_op, _jit_compiled_convolution_op, _jit_compiled_convolution_op, lstm_cell_7_layer_call_fn, lstm_cell_7_layer_call_and_return_conditional_losses while saving (showing 5 of 11). These functions will not be directly callable after loading.\n"
          ]
        },
        {
          "output_type": "stream",
          "name": "stdout",
          "text": [
            "\b\b\b\b\b\b\b\b\b\b\b\b\b\b\b\b\b\b\b\b\b\b\b\b\b\b\b\b\b\b\b\b\b\b\b\b\b\b\b\b\b\b\b\b\b\b\b\b\b\b\b\b\b\b\b\b\b\b\b\b\b\b\b\b\b\b\r750/750 [==============================] - 3432s 5s/step - loss: 60.4967 - val_loss: 56.5376 - lr: 2.5000e-05\n"
          ]
        },
        {
          "output_type": "execute_result",
          "data": {
            "text/plain": [
              "<keras.callbacks.History at 0x7be865175ed0>"
            ]
          },
          "metadata": {},
          "execution_count": 53
        }
      ],
      "source": [
        "second_model.fit(train, validation_data=test, epochs=epochs, callbacks=[checkpoint_callback, schedule_callback])"
      ],
      "id": "Az12MjD_l3mU"
    },
    {
      "cell_type": "markdown",
      "metadata": {
        "id": "NnE1KN6NTc94"
      },
      "source": [
        "### Plot Predictions and Metrics"
      ],
      "id": "NnE1KN6NTc94"
    },
    {
      "cell_type": "markdown",
      "metadata": {
        "id": "WDplyHPIelF6"
      },
      "source": [
        "Make a single prediction"
      ],
      "id": "WDplyHPIelF6"
    },
    {
      "cell_type": "code",
      "execution_count": null,
      "metadata": {
        "id": "06wZPnfEelF7"
      },
      "outputs": [],
      "source": [
        "test_data = test.as_numpy_iterator()\n",
        "second_sample = test_data.next()"
      ],
      "id": "06wZPnfEelF7"
    },
    {
      "cell_type": "code",
      "execution_count": null,
      "metadata": {
        "id": "SCIZkCf9elF7",
        "colab": {
          "base_uri": "https://localhost:8080/"
        },
        "outputId": "51891ecd-f90a-4b09-e8af-ca6a93a57ae7"
      },
      "outputs": [
        {
          "output_type": "stream",
          "name": "stdout",
          "text": [
            "~~~~~~~~~~~~~~~~~~~~~~~~~~~~~~~~~~~~~~~~~~~~~~~~~~~~~~~~~~~~~~~~~~~~~~~~~~~~~~~~~~~~~~~~~~~~~~~~~~~~ REAL TEXT\n"
          ]
        }
      ],
      "source": [
        "print('~'*100, 'REAL TEXT')\n",
        "second_y_true = [tf.strings.reduce_join([num_to_char(word) for word in sentence]) for sentence in second_sample[1]]"
      ],
      "id": "SCIZkCf9elF7"
    },
    {
      "cell_type": "code",
      "execution_count": null,
      "metadata": {
        "id": "dF1RSp2AelF7",
        "colab": {
          "base_uri": "https://localhost:8080/"
        },
        "outputId": "999996f8-d612-472d-8816-b21ad19ee112"
      },
      "outputs": [
        {
          "output_type": "stream",
          "name": "stdout",
          "text": [
            "1/1 [==============================] - 2s 2s/step\n"
          ]
        }
      ],
      "source": [
        "second_yhat = second_model.predict(second_sample[0])\n",
        "second_yhat_decoded = tf.keras.backend.ctc_decode(second_yhat, input_length=[75,75], greedy=True)[0][0].numpy()"
      ],
      "id": "dF1RSp2AelF7"
    },
    {
      "cell_type": "code",
      "execution_count": null,
      "metadata": {
        "id": "RATLtGOxelF7",
        "colab": {
          "base_uri": "https://localhost:8080/"
        },
        "outputId": "3f59914b-c7df-49f3-fd8e-8b31551d3d3e"
      },
      "outputs": [
        {
          "output_type": "stream",
          "name": "stdout",
          "text": [
            "~~~~~~~~~~~~~~~~~~~~~~~~~~~~~~~~~~~~~~~~~~~~~~~~~~~~~~~~~~~~~~~~~~~~~~~~~~~~~~~~~~~~~~~~~~~~~~~~~~~~ PREDICTIONS\n"
          ]
        }
      ],
      "source": [
        "print('~'*100, 'PREDICTIONS')\n",
        "second_y_pred = [tf.strings.reduce_join([num_to_char(word) for word in sentence]) for sentence in second_yhat_decoded]"
      ],
      "id": "RATLtGOxelF7"
    },
    {
      "cell_type": "markdown",
      "metadata": {
        "id": "7tBX34qdNZkD"
      },
      "source": [
        "Convert the tensors to string for the accuracy calculations"
      ],
      "id": "7tBX34qdNZkD"
    },
    {
      "cell_type": "code",
      "execution_count": null,
      "metadata": {
        "id": "v9tnXiBMNZkD",
        "colab": {
          "base_uri": "https://localhost:8080/"
        },
        "outputId": "1ad87c49-3d84-4de7-ef10-bfe6fb4b99b2"
      },
      "outputs": [
        {
          "output_type": "stream",
          "name": "stdout",
          "text": [
            "['set green by p nine again', 'bin white by t eight please']\n",
            "['la ree a o', 'laa ree o e']\n"
          ]
        }
      ],
      "source": [
        "second_y_true_string = tensors_to_strings(second_y_true)\n",
        "second_y_pred_string = tensors_to_strings(second_y_pred)\n",
        "print(second_y_true_string)\n",
        "print(second_y_pred_string)"
      ],
      "id": "v9tnXiBMNZkD"
    },
    {
      "cell_type": "markdown",
      "metadata": {
        "id": "wPiLTKJTNZkD"
      },
      "source": [
        "Accuracy using nlp"
      ],
      "id": "wPiLTKJTNZkD"
    },
    {
      "cell_type": "code",
      "execution_count": null,
      "metadata": {
        "id": "3Wt2FWZzNZkD",
        "colab": {
          "base_uri": "https://localhost:8080/"
        },
        "outputId": "7bd80fa2-40fa-4bd3-a7ce-08bcaa05bd26"
      },
      "outputs": [
        {
          "output_type": "stream",
          "name": "stdout",
          "text": [
            "0.3607921153306961\n"
          ]
        }
      ],
      "source": [
        "print(nlp_accuracy(second_y_true_string, second_y_pred_string))"
      ],
      "id": "3Wt2FWZzNZkD"
    },
    {
      "cell_type": "markdown",
      "metadata": {
        "id": "LfwkBuHTNZkE"
      },
      "source": [
        "Accuracy using Levenstein"
      ],
      "id": "LfwkBuHTNZkE"
    },
    {
      "cell_type": "code",
      "execution_count": null,
      "metadata": {
        "id": "C17SMJ3SNZkE",
        "colab": {
          "base_uri": "https://localhost:8080/"
        },
        "outputId": "3ac2654c-ffbb-4ec4-ee49-f97fdf1c54cc"
      },
      "outputs": [
        {
          "output_type": "stream",
          "name": "stdout",
          "text": [
            "0.22332015810276679\n"
          ]
        }
      ],
      "source": [
        "print(levenstein_accuracy(second_y_true_string, second_y_pred_string))"
      ],
      "id": "C17SMJ3SNZkE"
    },
    {
      "cell_type": "markdown",
      "metadata": {
        "id": "2EwYB3UCNZkE"
      },
      "source": [
        "Accuracy using wer and cer"
      ],
      "id": "2EwYB3UCNZkE"
    },
    {
      "cell_type": "code",
      "execution_count": null,
      "metadata": {
        "id": "O78vRtziNZkE",
        "colab": {
          "base_uri": "https://localhost:8080/"
        },
        "outputId": "fa6cb1fb-ab12-4cce-b44a-3b0c685fc914"
      },
      "outputs": [
        {
          "output_type": "stream",
          "name": "stdout",
          "text": [
            "WER: 1.0\n",
            "CER: 0.7764419012324353\n"
          ]
        }
      ],
      "source": [
        "wer, cer = wer_and_cer_accuracy(second_y_true_string, second_y_pred_string)\n",
        "print(\"WER: \" + wer)\n",
        "print(\"CER: \" + cer)"
      ],
      "id": "O78vRtziNZkE"
    },
    {
      "cell_type": "markdown",
      "metadata": {
        "id": "H8Fs_VbDSz83"
      },
      "source": [
        "## Third Experiment"
      ],
      "id": "H8Fs_VbDSz83"
    },
    {
      "cell_type": "markdown",
      "metadata": {
        "id": "EnpsHbgOPSDQ"
      },
      "source": [
        "Base model but with \"on-plateau\" scheduler to the same number of epochs"
      ],
      "id": "EnpsHbgOPSDQ"
    },
    {
      "cell_type": "markdown",
      "metadata": {
        "id": "htRWo1HZS5jg"
      },
      "source": [
        "### Choose Parameters"
      ],
      "id": "htRWo1HZS5jg"
    },
    {
      "cell_type": "code",
      "execution_count": null,
      "metadata": {
        "id": "Il1z70WiyOhG"
      },
      "outputs": [],
      "source": [
        "epochs = 6"
      ],
      "id": "Il1z70WiyOhG"
    },
    {
      "cell_type": "code",
      "execution_count": null,
      "metadata": {
        "id": "SaL1L80syOhU"
      },
      "outputs": [],
      "source": [
        "schedule_callback = onPlateau_scheduler"
      ],
      "id": "SaL1L80syOhU"
    },
    {
      "cell_type": "markdown",
      "metadata": {
        "id": "lHH2W0QtTPuJ"
      },
      "source": [
        "### Training"
      ],
      "id": "lHH2W0QtTPuJ"
    },
    {
      "cell_type": "code",
      "execution_count": null,
      "metadata": {
        "id": "Tlsuw7_puh4B"
      },
      "outputs": [],
      "source": [
        "third_model = create_model()\n",
        "third_model.compile(optimizer=optimizer, loss=CTCLoss)"
      ],
      "id": "Tlsuw7_puh4B"
    },
    {
      "cell_type": "code",
      "execution_count": null,
      "metadata": {
        "id": "0CqD_7YryR4l",
        "colab": {
          "base_uri": "https://localhost:8080/"
        },
        "outputId": "c094458c-c5ce-4cfe-ce5a-a567595e0e0d"
      },
      "outputs": [
        {
          "output_type": "stream",
          "name": "stdout",
          "text": [
            "Epoch 1/6\n",
            "750/750 [==============================] - ETA: 0s - loss: 83.6205"
          ]
        },
        {
          "output_type": "stream",
          "name": "stderr",
          "text": [
            "WARNING:absl:Found untraced functions such as _jit_compiled_convolution_op, _jit_compiled_convolution_op, _jit_compiled_convolution_op, lstm_cell_13_layer_call_fn, lstm_cell_13_layer_call_and_return_conditional_losses while saving (showing 5 of 11). These functions will not be directly callable after loading.\n"
          ]
        },
        {
          "output_type": "stream",
          "name": "stdout",
          "text": [
            "\b\b\b\b\b\b\b\b\b\b\b\b\b\b\b\b\b\b\b\b\b\b\b\b\b\b\b\b\b\b\b\b\b\b\b\b\b\b\b\b\b\b\b\b\b\b\b\b\b\b\b\b\b\b\b\b\b\b\b\b\b\b\b\b\b\b\r750/750 [==============================] - 3418s 5s/step - loss: 83.6205 - val_loss: 70.7989 - lr: 1.0000e-04\n",
            "Epoch 2/6\n",
            "750/750 [==============================] - ETA: 0s - loss: 72.1816"
          ]
        },
        {
          "output_type": "stream",
          "name": "stderr",
          "text": [
            "WARNING:absl:Found untraced functions such as _jit_compiled_convolution_op, _jit_compiled_convolution_op, _jit_compiled_convolution_op, lstm_cell_13_layer_call_fn, lstm_cell_13_layer_call_and_return_conditional_losses while saving (showing 5 of 11). These functions will not be directly callable after loading.\n"
          ]
        },
        {
          "output_type": "stream",
          "name": "stdout",
          "text": [
            "\b\b\b\b\b\b\b\b\b\b\b\b\b\b\b\b\b\b\b\b\b\b\b\b\b\b\b\b\b\b\b\b\b\b\b\b\b\b\b\b\b\b\b\b\b\b\b\b\b\b\b\b\b\b\b\b\b\b\b\b\b\b\b\b\b\b\r750/750 [==============================] - 3408s 5s/step - loss: 72.1816 - val_loss: 67.5371 - lr: 1.0000e-04\n",
            "Epoch 3/6\n",
            "750/750 [==============================] - ETA: 0s - loss: 69.2799"
          ]
        },
        {
          "output_type": "stream",
          "name": "stderr",
          "text": [
            "WARNING:absl:Found untraced functions such as _jit_compiled_convolution_op, _jit_compiled_convolution_op, _jit_compiled_convolution_op, lstm_cell_13_layer_call_fn, lstm_cell_13_layer_call_and_return_conditional_losses while saving (showing 5 of 11). These functions will not be directly callable after loading.\n"
          ]
        },
        {
          "output_type": "stream",
          "name": "stdout",
          "text": [
            "\b\b\b\b\b\b\b\b\b\b\b\b\b\b\b\b\b\b\b\b\b\b\b\b\b\b\b\b\b\b\b\b\b\b\b\b\b\b\b\b\b\b\b\b\b\b\b\b\b\b\b\b\b\b\b\b\b\b\b\b\b\b\b\b\b\b\r750/750 [==============================] - 3407s 5s/step - loss: 69.2799 - val_loss: 64.7684 - lr: 1.0000e-04\n",
            "Epoch 4/6\n",
            "750/750 [==============================] - ETA: 0s - loss: 66.7382"
          ]
        },
        {
          "output_type": "stream",
          "name": "stderr",
          "text": [
            "WARNING:absl:Found untraced functions such as _jit_compiled_convolution_op, _jit_compiled_convolution_op, _jit_compiled_convolution_op, lstm_cell_13_layer_call_fn, lstm_cell_13_layer_call_and_return_conditional_losses while saving (showing 5 of 11). These functions will not be directly callable after loading.\n"
          ]
        },
        {
          "output_type": "stream",
          "name": "stdout",
          "text": [
            "\b\b\b\b\b\b\b\b\b\b\b\b\b\b\b\b\b\b\b\b\b\b\b\b\b\b\b\b\b\b\b\b\b\b\b\b\b\b\b\b\b\b\b\b\b\b\b\b\b\b\b\b\b\b\b\b\b\b\b\b\b\b\b\b\b\b\r750/750 [==============================] - 3414s 5s/step - loss: 66.7382 - val_loss: 62.3896 - lr: 1.0000e-04\n",
            "Epoch 5/6\n",
            "750/750 [==============================] - ETA: 0s - loss: 64.6785"
          ]
        },
        {
          "output_type": "stream",
          "name": "stderr",
          "text": [
            "WARNING:absl:Found untraced functions such as _jit_compiled_convolution_op, _jit_compiled_convolution_op, _jit_compiled_convolution_op, lstm_cell_13_layer_call_fn, lstm_cell_13_layer_call_and_return_conditional_losses while saving (showing 5 of 11). These functions will not be directly callable after loading.\n"
          ]
        },
        {
          "output_type": "stream",
          "name": "stdout",
          "text": [
            "\b\b\b\b\b\b\b\b\b\b\b\b\b\b\b\b\b\b\b\b\b\b\b\b\b\b\b\b\b\b\b\b\b\b\b\b\b\b\b\b\b\b\b\b\b\b\b\b\b\b\b\b\b\b\b\b\b\b\b\b\b\b\b\b\b\b\r750/750 [==============================] - 3418s 5s/step - loss: 64.6785 - val_loss: 60.5756 - lr: 1.0000e-04\n",
            "Epoch 6/6\n",
            "750/750 [==============================] - ETA: 0s - loss: 62.8693"
          ]
        },
        {
          "output_type": "stream",
          "name": "stderr",
          "text": [
            "WARNING:absl:Found untraced functions such as _jit_compiled_convolution_op, _jit_compiled_convolution_op, _jit_compiled_convolution_op, lstm_cell_13_layer_call_fn, lstm_cell_13_layer_call_and_return_conditional_losses while saving (showing 5 of 11). These functions will not be directly callable after loading.\n"
          ]
        },
        {
          "output_type": "stream",
          "name": "stdout",
          "text": [
            "\b\b\b\b\b\b\b\b\b\b\b\b\b\b\b\b\b\b\b\b\b\b\b\b\b\b\b\b\b\b\b\b\b\b\b\b\b\b\b\b\b\b\b\b\b\b\b\b\b\b\b\b\b\b\b\b\b\b\b\b\b\b\b\b\b\b\r750/750 [==============================] - 3413s 5s/step - loss: 62.8693 - val_loss: 59.1064 - lr: 1.0000e-04\n"
          ]
        },
        {
          "output_type": "execute_result",
          "data": {
            "text/plain": [
              "<keras.callbacks.History at 0x7cb65c438b50>"
            ]
          },
          "metadata": {},
          "execution_count": 55
        }
      ],
      "source": [
        "third_model.fit(train, validation_data=test, epochs=epochs, callbacks=[checkpoint_callback, schedule_callback])"
      ],
      "id": "0CqD_7YryR4l"
    },
    {
      "cell_type": "markdown",
      "metadata": {
        "id": "cVpFr6piTRtZ"
      },
      "source": [
        "### Plot Predictions and Metrics"
      ],
      "id": "cVpFr6piTRtZ"
    },
    {
      "cell_type": "markdown",
      "metadata": {
        "id": "jYD3Jay5e_Vw"
      },
      "source": [
        "Make a single prediction"
      ],
      "id": "jYD3Jay5e_Vw"
    },
    {
      "cell_type": "code",
      "execution_count": null,
      "metadata": {
        "id": "Uis5WyY9e_Vx"
      },
      "outputs": [],
      "source": [
        "test_data = test.as_numpy_iterator()\n",
        "third_sample = test_data.next()"
      ],
      "id": "Uis5WyY9e_Vx"
    },
    {
      "cell_type": "code",
      "execution_count": null,
      "metadata": {
        "id": "TSYSexkMe_Vx",
        "colab": {
          "base_uri": "https://localhost:8080/"
        },
        "outputId": "ad470b25-07c9-4cfa-9c4f-f1542b62224e"
      },
      "outputs": [
        {
          "output_type": "stream",
          "name": "stdout",
          "text": [
            "~~~~~~~~~~~~~~~~~~~~~~~~~~~~~~~~~~~~~~~~~~~~~~~~~~~~~~~~~~~~~~~~~~~~~~~~~~~~~~~~~~~~~~~~~~~~~~~~~~~~ REAL TEXT\n"
          ]
        }
      ],
      "source": [
        "print('~'*100, 'REAL TEXT')\n",
        "third_y_true = [tf.strings.reduce_join([num_to_char(word) for word in sentence]) for sentence in third_sample[1]]"
      ],
      "id": "TSYSexkMe_Vx"
    },
    {
      "cell_type": "code",
      "execution_count": null,
      "metadata": {
        "id": "KySrFzyie_Vx",
        "colab": {
          "base_uri": "https://localhost:8080/"
        },
        "outputId": "92ba7c65-53be-4f2e-8c3a-52bc0d6fafab"
      },
      "outputs": [
        {
          "output_type": "stream",
          "name": "stdout",
          "text": [
            "1/1 [==============================] - 2s 2s/step\n"
          ]
        }
      ],
      "source": [
        "third_yhat = third_model.predict(third_sample[0])\n",
        "third_yhat_decoded = tf.keras.backend.ctc_decode(third_yhat, input_length=[75,75], greedy=True)[0][0].numpy()"
      ],
      "id": "KySrFzyie_Vx"
    },
    {
      "cell_type": "code",
      "execution_count": null,
      "metadata": {
        "id": "kDLjrRxse_Vx",
        "colab": {
          "base_uri": "https://localhost:8080/"
        },
        "outputId": "2e9fa649-5356-4c9a-bff0-ecb03fd42ca9"
      },
      "outputs": [
        {
          "output_type": "stream",
          "name": "stdout",
          "text": [
            "~~~~~~~~~~~~~~~~~~~~~~~~~~~~~~~~~~~~~~~~~~~~~~~~~~~~~~~~~~~~~~~~~~~~~~~~~~~~~~~~~~~~~~~~~~~~~~~~~~~~ PREDICTIONS\n"
          ]
        }
      ],
      "source": [
        "print('~'*100, 'PREDICTIONS')\n",
        "third_y_pred = [tf.strings.reduce_join([num_to_char(word) for word in sentence]) for sentence in third_yhat_decoded]"
      ],
      "id": "kDLjrRxse_Vx"
    },
    {
      "cell_type": "markdown",
      "metadata": {
        "id": "6mSA-QC8YIj9"
      },
      "source": [
        "Convert the tensors to string for the accuracy calculations"
      ],
      "id": "6mSA-QC8YIj9"
    },
    {
      "cell_type": "code",
      "execution_count": null,
      "metadata": {
        "id": "Lfb4GlKvWlMi",
        "colab": {
          "base_uri": "https://localhost:8080/"
        },
        "outputId": "175f19d2-da5f-47c2-d3b5-42c5aa37b99e"
      },
      "outputs": [
        {
          "output_type": "stream",
          "name": "stdout",
          "text": [
            "['set red in g nine soon', 'bin blue with s nine again']\n",
            "['la re an', 'la re an']\n"
          ]
        }
      ],
      "source": [
        "third_y_true_string = tensors_to_strings(third_y_true)\n",
        "third_y_pred_string = tensors_to_strings(third_y_pred)\n",
        "print(third_y_true_string)\n",
        "print(third_y_pred_string)"
      ],
      "id": "Lfb4GlKvWlMi"
    },
    {
      "cell_type": "markdown",
      "metadata": {
        "id": "BR7IWLjWVWmv"
      },
      "source": [
        "Accuracy using nlp"
      ],
      "id": "BR7IWLjWVWmv"
    },
    {
      "cell_type": "code",
      "execution_count": null,
      "metadata": {
        "id": "YvItuXLkYz5S",
        "colab": {
          "base_uri": "https://localhost:8080/"
        },
        "outputId": "24557645-edf3-43af-b420-85c8d0e75065"
      },
      "outputs": [
        {
          "output_type": "stream",
          "name": "stdout",
          "text": [
            "0.2785440981388092\n"
          ]
        }
      ],
      "source": [
        "print(nlp_accuracy(third_y_true_string, third_y_pred_string))"
      ],
      "id": "YvItuXLkYz5S"
    },
    {
      "cell_type": "markdown",
      "metadata": {
        "id": "gQi2rp-IVaYQ"
      },
      "source": [
        "Accuracy using Levenstein"
      ],
      "id": "gQi2rp-IVaYQ"
    },
    {
      "cell_type": "code",
      "execution_count": null,
      "metadata": {
        "id": "MOQN2NsPZB4e",
        "colab": {
          "base_uri": "https://localhost:8080/"
        },
        "outputId": "82d86183-cd84-46b3-81c5-f1b76e4cdb18"
      },
      "outputs": [
        {
          "output_type": "stream",
          "name": "stdout",
          "text": [
            "0.229020979020979\n"
          ]
        }
      ],
      "source": [
        "print(levenstein_accuracy(third_y_true_string, third_y_pred_string))"
      ],
      "id": "MOQN2NsPZB4e"
    },
    {
      "cell_type": "markdown",
      "metadata": {
        "id": "Q50btmNSVfNj"
      },
      "source": [
        "Accuracy using wer and cer"
      ],
      "id": "Q50btmNSVfNj"
    },
    {
      "cell_type": "code",
      "execution_count": null,
      "metadata": {
        "id": "EGCyM8xfMn_I",
        "colab": {
          "base_uri": "https://localhost:8080/"
        },
        "outputId": "fb7a519d-9804-4e40-9ce6-bbb1ab2a26ef"
      },
      "outputs": [
        {
          "output_type": "stream",
          "name": "stdout",
          "text": [
            "WER: 1.0\n",
            "CER: 0.770979020979021\n"
          ]
        }
      ],
      "source": [
        "wer, cer = wer_and_cer_accuracy(third_y_true_string, third_y_pred_string)\n",
        "print(\"WER: \" + str(wer))\n",
        "print(\"CER: \" + str(cer))"
      ],
      "id": "EGCyM8xfMn_I"
    },
    {
      "cell_type": "markdown",
      "metadata": {
        "id": "mX0kuqTch3WM"
      },
      "source": [
        "## Fourth Experiment"
      ],
      "id": "mX0kuqTch3WM"
    },
    {
      "cell_type": "markdown",
      "metadata": {
        "id": "EDxsRr4gh3WN"
      },
      "source": [
        "The model with \"on-plateau\" scheduler to the same number of epochs, but starting with a higher learning rate"
      ],
      "id": "EDxsRr4gh3WN"
    },
    {
      "cell_type": "markdown",
      "metadata": {
        "id": "Qb9dNTLlh3WN"
      },
      "source": [
        "### Choose Parameters"
      ],
      "id": "Qb9dNTLlh3WN"
    },
    {
      "cell_type": "code",
      "execution_count": 50,
      "metadata": {
        "id": "AMhn3RZyh3WO"
      },
      "outputs": [],
      "source": [
        "epochs = 6"
      ],
      "id": "AMhn3RZyh3WO"
    },
    {
      "cell_type": "code",
      "execution_count": 51,
      "metadata": {
        "id": "wcy2ZqrMh3WO"
      },
      "outputs": [],
      "source": [
        "schedule_callback = onPlateau_scheduler"
      ],
      "id": "wcy2ZqrMh3WO"
    },
    {
      "cell_type": "code",
      "source": [
        "optimizer = tf.keras.optimizers.legacy.Adam(learning_rate=0.001)"
      ],
      "metadata": {
        "id": "c2qS1JeLiRTX"
      },
      "id": "c2qS1JeLiRTX",
      "execution_count": 52,
      "outputs": []
    },
    {
      "cell_type": "markdown",
      "metadata": {
        "id": "K_4qISmrh3WO"
      },
      "source": [
        "### Training"
      ],
      "id": "K_4qISmrh3WO"
    },
    {
      "cell_type": "code",
      "execution_count": 56,
      "metadata": {
        "id": "rCk6Sjpth3WO"
      },
      "outputs": [],
      "source": [
        "fourth_model = create_model()\n",
        "fourth_model.compile(optimizer=optimizer, loss=CTCLoss)"
      ],
      "id": "rCk6Sjpth3WO"
    },
    {
      "cell_type": "code",
      "execution_count": 57,
      "metadata": {
        "colab": {
          "base_uri": "https://localhost:8080/"
        },
        "outputId": "5bca20ae-cf95-4819-8496-d51f36fb2cdc",
        "id": "EbQA_jeYh3WP"
      },
      "outputs": [
        {
          "output_type": "stream",
          "name": "stdout",
          "text": [
            "Epoch 1/6\n",
            "750/750 [==============================] - ETA: 0s - loss: 76.5045"
          ]
        },
        {
          "output_type": "stream",
          "name": "stderr",
          "text": [
            "WARNING:absl:Found untraced functions such as _jit_compiled_convolution_op, _jit_compiled_convolution_op, _jit_compiled_convolution_op, lstm_cell_13_layer_call_fn, lstm_cell_13_layer_call_and_return_conditional_losses while saving (showing 5 of 11). These functions will not be directly callable after loading.\n"
          ]
        },
        {
          "output_type": "stream",
          "name": "stdout",
          "text": [
            "\b\b\b\b\b\b\b\b\b\b\b\b\b\b\b\b\b\b\b\b\b\b\b\b\b\b\b\b\b\b\b\b\b\b\b\b\b\b\b\b\b\b\b\b\b\b\b\b\b\b\b\b\b\b\b\b\b\b\b\b\b\b\b\b\b\b\r750/750 [==============================] - 3421s 5s/step - loss: 76.5045 - val_loss: 77.9836 - lr: 0.0010\n",
            "Epoch 2/6\n",
            "750/750 [==============================] - ETA: 0s - loss: 66.5543"
          ]
        },
        {
          "output_type": "stream",
          "name": "stderr",
          "text": [
            "WARNING:absl:Found untraced functions such as _jit_compiled_convolution_op, _jit_compiled_convolution_op, _jit_compiled_convolution_op, lstm_cell_13_layer_call_fn, lstm_cell_13_layer_call_and_return_conditional_losses while saving (showing 5 of 11). These functions will not be directly callable after loading.\n"
          ]
        },
        {
          "output_type": "stream",
          "name": "stdout",
          "text": [
            "\b\b\b\b\b\b\b\b\b\b\b\b\b\b\b\b\b\b\b\b\b\b\b\b\b\b\b\b\b\b\b\b\b\b\b\b\b\b\b\b\b\b\b\b\b\b\b\b\b\b\b\b\b\b\b\b\b\b\b\b\b\b\b\b\b\b\r750/750 [==============================] - 3400s 5s/step - loss: 66.5543 - val_loss: 60.5346 - lr: 0.0010\n",
            "Epoch 3/6\n",
            "750/750 [==============================] - ETA: 0s - loss: 59.2440"
          ]
        },
        {
          "output_type": "stream",
          "name": "stderr",
          "text": [
            "WARNING:absl:Found untraced functions such as _jit_compiled_convolution_op, _jit_compiled_convolution_op, _jit_compiled_convolution_op, lstm_cell_13_layer_call_fn, lstm_cell_13_layer_call_and_return_conditional_losses while saving (showing 5 of 11). These functions will not be directly callable after loading.\n"
          ]
        },
        {
          "output_type": "stream",
          "name": "stdout",
          "text": [
            "\b\b\b\b\b\b\b\b\b\b\b\b\b\b\b\b\b\b\b\b\b\b\b\b\b\b\b\b\b\b\b\b\b\b\b\b\b\b\b\b\b\b\b\b\b\b\b\b\b\b\b\b\b\b\b\b\b\b\b\b\b\b\b\b\b\b\r750/750 [==============================] - 3393s 5s/step - loss: 59.2440 - val_loss: 52.4328 - lr: 0.0010\n",
            "Epoch 4/6\n",
            "750/750 [==============================] - ETA: 0s - loss: 51.6285"
          ]
        },
        {
          "output_type": "stream",
          "name": "stderr",
          "text": [
            "WARNING:absl:Found untraced functions such as _jit_compiled_convolution_op, _jit_compiled_convolution_op, _jit_compiled_convolution_op, lstm_cell_13_layer_call_fn, lstm_cell_13_layer_call_and_return_conditional_losses while saving (showing 5 of 11). These functions will not be directly callable after loading.\n"
          ]
        },
        {
          "output_type": "stream",
          "name": "stdout",
          "text": [
            "\b\b\b\b\b\b\b\b\b\b\b\b\b\b\b\b\b\b\b\b\b\b\b\b\b\b\b\b\b\b\b\b\b\b\b\b\b\b\b\b\b\b\b\b\b\b\b\b\b\b\b\b\b\b\b\b\b\b\b\b\b\b\b\b\b\b\r750/750 [==============================] - 3396s 5s/step - loss: 51.6285 - val_loss: 46.4546 - lr: 0.0010\n",
            "Epoch 5/6\n",
            "750/750 [==============================] - ETA: 0s - loss: 47.8677"
          ]
        },
        {
          "output_type": "stream",
          "name": "stderr",
          "text": [
            "WARNING:absl:Found untraced functions such as _jit_compiled_convolution_op, _jit_compiled_convolution_op, _jit_compiled_convolution_op, lstm_cell_13_layer_call_fn, lstm_cell_13_layer_call_and_return_conditional_losses while saving (showing 5 of 11). These functions will not be directly callable after loading.\n"
          ]
        },
        {
          "output_type": "stream",
          "name": "stdout",
          "text": [
            "\b\b\b\b\b\b\b\b\b\b\b\b\b\b\b\b\b\b\b\b\b\b\b\b\b\b\b\b\b\b\b\b\b\b\b\b\b\b\b\b\b\b\b\b\b\b\b\b\b\b\b\b\b\b\b\b\b\b\b\b\b\b\b\b\b\b\r750/750 [==============================] - 3395s 5s/step - loss: 47.8677 - val_loss: 45.3829 - lr: 0.0010\n",
            "Epoch 6/6\n",
            "750/750 [==============================] - ETA: 0s - loss: 45.6968"
          ]
        },
        {
          "output_type": "stream",
          "name": "stderr",
          "text": [
            "WARNING:absl:Found untraced functions such as _jit_compiled_convolution_op, _jit_compiled_convolution_op, _jit_compiled_convolution_op, lstm_cell_13_layer_call_fn, lstm_cell_13_layer_call_and_return_conditional_losses while saving (showing 5 of 11). These functions will not be directly callable after loading.\n"
          ]
        },
        {
          "output_type": "stream",
          "name": "stdout",
          "text": [
            "\b\b\b\b\b\b\b\b\b\b\b\b\b\b\b\b\b\b\b\b\b\b\b\b\b\b\b\b\b\b\b\b\b\b\b\b\b\b\b\b\b\b\b\b\b\b\b\b\b\b\b\b\b\b\b\b\b\b\b\b\b\b\b\b\b\b\r750/750 [==============================] - 3409s 5s/step - loss: 45.6968 - val_loss: 41.5368 - lr: 0.0010\n"
          ]
        },
        {
          "output_type": "execute_result",
          "data": {
            "text/plain": [
              "<keras.callbacks.History at 0x7e9c5cc3d0f0>"
            ]
          },
          "metadata": {},
          "execution_count": 57
        }
      ],
      "source": [
        "fourth_model.fit(train, validation_data=test, epochs=epochs, callbacks=[checkpoint_callback, schedule_callback])"
      ],
      "id": "EbQA_jeYh3WP"
    },
    {
      "cell_type": "markdown",
      "metadata": {
        "id": "1LcCPNC_h3WP"
      },
      "source": [
        "### Plot Predictions and Metrics"
      ],
      "id": "1LcCPNC_h3WP"
    },
    {
      "cell_type": "markdown",
      "source": [],
      "metadata": {
        "id": "_CMqUgpJNVc3"
      },
      "id": "_CMqUgpJNVc3"
    },
    {
      "cell_type": "markdown",
      "metadata": {
        "id": "RIcDPIhNh3WP"
      },
      "source": [
        "Make a single prediction"
      ],
      "id": "RIcDPIhNh3WP"
    },
    {
      "cell_type": "code",
      "execution_count": 58,
      "metadata": {
        "id": "Hz-H2ew0h3WQ"
      },
      "outputs": [],
      "source": [
        "test_data = test.as_numpy_iterator()\n",
        "fourth_sample = test_data.next()"
      ],
      "id": "Hz-H2ew0h3WQ"
    },
    {
      "cell_type": "code",
      "execution_count": 59,
      "metadata": {
        "colab": {
          "base_uri": "https://localhost:8080/"
        },
        "outputId": "85f2f4a8-3021-4b3d-f5df-ef619b25695c",
        "id": "X_F3Cjgch3WQ"
      },
      "outputs": [
        {
          "output_type": "stream",
          "name": "stdout",
          "text": [
            "~~~~~~~~~~~~~~~~~~~~~~~~~~~~~~~~~~~~~~~~~~~~~~~~~~~~~~~~~~~~~~~~~~~~~~~~~~~~~~~~~~~~~~~~~~~~~~~~~~~~ REAL TEXT\n"
          ]
        }
      ],
      "source": [
        "print('~'*100, 'REAL TEXT')\n",
        "fourth_y_true = [tf.strings.reduce_join([num_to_char(word) for word in sentence]) for sentence in fourth_sample[1]]"
      ],
      "id": "X_F3Cjgch3WQ"
    },
    {
      "cell_type": "code",
      "execution_count": 60,
      "metadata": {
        "colab": {
          "base_uri": "https://localhost:8080/"
        },
        "outputId": "07a8b966-888b-43cd-ef0c-131a8f34613f",
        "id": "ha9czNiah3WQ"
      },
      "outputs": [
        {
          "output_type": "stream",
          "name": "stdout",
          "text": [
            "1/1 [==============================] - 2s 2s/step\n"
          ]
        }
      ],
      "source": [
        "fourth_yhat = fourth_model.predict(fourth_sample[0])\n",
        "fourth_yhat_decoded = tf.keras.backend.ctc_decode(fourth_yhat, input_length=[75,75], greedy=True)[0][0].numpy()"
      ],
      "id": "ha9czNiah3WQ"
    },
    {
      "cell_type": "code",
      "execution_count": 61,
      "metadata": {
        "colab": {
          "base_uri": "https://localhost:8080/"
        },
        "outputId": "7a496bdd-787f-4493-e4f1-6e3f3f592b9b",
        "id": "9tED5s72h3WQ"
      },
      "outputs": [
        {
          "output_type": "stream",
          "name": "stdout",
          "text": [
            "~~~~~~~~~~~~~~~~~~~~~~~~~~~~~~~~~~~~~~~~~~~~~~~~~~~~~~~~~~~~~~~~~~~~~~~~~~~~~~~~~~~~~~~~~~~~~~~~~~~~ PREDICTIONS\n"
          ]
        }
      ],
      "source": [
        "print('~'*100, 'PREDICTIONS')\n",
        "fourth_y_pred = [tf.strings.reduce_join([num_to_char(word) for word in sentence]) for sentence in fourth_yhat_decoded]"
      ],
      "id": "9tED5s72h3WQ"
    },
    {
      "cell_type": "markdown",
      "metadata": {
        "id": "Al2CEMaGh3WQ"
      },
      "source": [
        "Convert the tensors to string for the accuracy calculations"
      ],
      "id": "Al2CEMaGh3WQ"
    },
    {
      "cell_type": "code",
      "execution_count": 62,
      "metadata": {
        "colab": {
          "base_uri": "https://localhost:8080/"
        },
        "outputId": "3fb82092-84a7-4cfe-9184-6b25546325bd",
        "id": "GSlbFAjNh3WQ"
      },
      "outputs": [
        {
          "output_type": "stream",
          "name": "stdout",
          "text": [
            "['place blue with j two soon', 'bin blue by f six soon']\n",
            "['pac wree it ive oo', 'pac wree it ive oo']\n"
          ]
        }
      ],
      "source": [
        "fourth_y_true_string = tensors_to_strings(fourth_y_true)\n",
        "fourth_y_pred_string = tensors_to_strings(fourth_y_pred)\n",
        "print(fourth_y_true_string)\n",
        "print(fourth_y_pred_string)"
      ],
      "id": "GSlbFAjNh3WQ"
    },
    {
      "cell_type": "markdown",
      "metadata": {
        "id": "pLTUnPTsh3WR"
      },
      "source": [
        "Accuracy using nlp"
      ],
      "id": "pLTUnPTsh3WR"
    },
    {
      "cell_type": "code",
      "execution_count": 63,
      "metadata": {
        "colab": {
          "base_uri": "https://localhost:8080/"
        },
        "outputId": "3ec653d3-e716-4945-8fb9-70b7c8ca0bea",
        "id": "2CziIZylh3WR"
      },
      "outputs": [
        {
          "output_type": "stream",
          "name": "stdout",
          "text": [
            "0.24777496606111526\n"
          ]
        }
      ],
      "source": [
        "print(nlp_accuracy(fourth_y_true_string, fourth_y_pred_string))"
      ],
      "id": "2CziIZylh3WR"
    },
    {
      "cell_type": "markdown",
      "metadata": {
        "id": "mmFe04Jah3WR"
      },
      "source": [
        "Accuracy using Levenstein"
      ],
      "id": "mmFe04Jah3WR"
    },
    {
      "cell_type": "code",
      "execution_count": 64,
      "metadata": {
        "colab": {
          "base_uri": "https://localhost:8080/"
        },
        "outputId": "522eff39-3b4c-46b1-a0ff-d4c347c242e9",
        "id": "AUNkafSth3WR"
      },
      "outputs": [
        {
          "output_type": "stream",
          "name": "stdout",
          "text": [
            "0.3898601398601399\n"
          ]
        }
      ],
      "source": [
        "print(levenstein_accuracy(fourth_y_true_string, fourth_y_pred_string))"
      ],
      "id": "AUNkafSth3WR"
    },
    {
      "cell_type": "markdown",
      "metadata": {
        "id": "MqF_FC4th3WR"
      },
      "source": [
        "Accuracy using wer and cer"
      ],
      "id": "MqF_FC4th3WR"
    },
    {
      "cell_type": "code",
      "execution_count": 65,
      "metadata": {
        "colab": {
          "base_uri": "https://localhost:8080/"
        },
        "outputId": "f81e73a9-7054-4883-baef-220984975724",
        "id": "fvHXr0G0h3WR"
      },
      "outputs": [
        {
          "output_type": "stream",
          "name": "stdout",
          "text": [
            "WER: 1.0\n",
            "CER: 0.6101398601398601\n"
          ]
        }
      ],
      "source": [
        "wer, cer = wer_and_cer_accuracy(fourth_y_true_string, fourth_y_pred_string)\n",
        "print(\"WER: \" + str(wer))\n",
        "print(\"CER: \" + str(cer))"
      ],
      "id": "fvHXr0G0h3WR"
    },
    {
      "cell_type": "markdown",
      "source": [
        "# Final Model"
      ],
      "metadata": {
        "id": "hxm8ARYazVsF"
      },
      "id": "hxm8ARYazVsF"
    },
    {
      "cell_type": "markdown",
      "source": [
        "After all of our experiments we chose to use the model from the third experiment, which was our best model.\n",
        "In Our experiments we discovered that \"on-plateau\" scheduler was the best schedular and that using higher learning rate makes the model get very fast to local maximum and because of that the learning process doesn't really learn effieciely at all.\n",
        "Now, that we know that this paramenters gets us the best results, we can train it for a much more epochs in order to get it to good results."
      ],
      "metadata": {
        "id": "u40A0dX7zcRb"
      },
      "id": "u40A0dX7zcRb"
    },
    {
      "cell_type": "markdown",
      "metadata": {
        "id": "AY9XesPx44z_"
      },
      "source": [
        "### Choose Parameters"
      ],
      "id": "AY9XesPx44z_"
    },
    {
      "cell_type": "code",
      "execution_count": null,
      "metadata": {
        "id": "lOEOjGHe440H"
      },
      "outputs": [],
      "source": [
        "epochs = 40"
      ],
      "id": "lOEOjGHe440H"
    },
    {
      "cell_type": "code",
      "execution_count": null,
      "metadata": {
        "id": "q2_C-EUC440H"
      },
      "outputs": [],
      "source": [
        "schedule_callback = onPlateau_scheduler"
      ],
      "id": "q2_C-EUC440H"
    },
    {
      "cell_type": "code",
      "source": [
        "optimizer = tf.keras.optimizers.legacy.Adam(learning_rate=0.0001)"
      ],
      "metadata": {
        "id": "-XmJcRps49ky"
      },
      "execution_count": null,
      "outputs": [],
      "id": "-XmJcRps49ky"
    },
    {
      "cell_type": "markdown",
      "metadata": {
        "id": "cV8vJoqi440I"
      },
      "source": [
        "### Training"
      ],
      "id": "cV8vJoqi440I"
    },
    {
      "cell_type": "code",
      "execution_count": null,
      "metadata": {
        "colab": {
          "base_uri": "https://localhost:8080/"
        },
        "id": "D_YovKZhUZ4_",
        "outputId": "84a7130b-9ec4-4b03-8c12-f08bc4e1188a"
      },
      "outputs": [
        {
          "name": "stderr",
          "output_type": "stream",
          "text": [
            "2023-07-09 16:41:24.873416: I tensorflow/core/common_runtime/executor.cc:1197] [/device:CPU:0] (DEBUG INFO) Executor start aborting (this does not indicate an error and you can ignore this message): INVALID_ARGUMENT: You must feed a value for placeholder tensor 'gradients/split_2_grad/concat/split_2/split_dim' with dtype int32\n",
            "\t [[{{node gradients/split_2_grad/concat/split_2/split_dim}}]]\n",
            "2023-07-09 16:41:24.873957: I tensorflow/core/common_runtime/executor.cc:1197] [/device:CPU:0] (DEBUG INFO) Executor start aborting (this does not indicate an error and you can ignore this message): INVALID_ARGUMENT: You must feed a value for placeholder tensor 'gradients/split_grad/concat/split/split_dim' with dtype int32\n",
            "\t [[{{node gradients/split_grad/concat/split/split_dim}}]]\n",
            "2023-07-09 16:41:24.874812: I tensorflow/core/common_runtime/executor.cc:1197] [/device:CPU:0] (DEBUG INFO) Executor start aborting (this does not indicate an error and you can ignore this message): INVALID_ARGUMENT: You must feed a value for placeholder tensor 'gradients/split_1_grad/concat/split_1/split_dim' with dtype int32\n",
            "\t [[{{node gradients/split_1_grad/concat/split_1/split_dim}}]]\n",
            "2023-07-09 16:41:24.931529: I tensorflow/core/common_runtime/executor.cc:1197] [/device:CPU:0] (DEBUG INFO) Executor start aborting (this does not indicate an error and you can ignore this message): INVALID_ARGUMENT: You must feed a value for placeholder tensor 'gradients/ReverseV2_grad/ReverseV2/ReverseV2/axis' with dtype int32 and shape [1]\n",
            "\t [[{{node gradients/ReverseV2_grad/ReverseV2/ReverseV2/axis}}]]\n",
            "2023-07-09 16:41:24.951166: I tensorflow/core/common_runtime/executor.cc:1197] [/device:CPU:0] (DEBUG INFO) Executor start aborting (this does not indicate an error and you can ignore this message): INVALID_ARGUMENT: You must feed a value for placeholder tensor 'gradients/split_2_grad/concat/split_2/split_dim' with dtype int32\n",
            "\t [[{{node gradients/split_2_grad/concat/split_2/split_dim}}]]\n",
            "2023-07-09 16:41:24.951725: I tensorflow/core/common_runtime/executor.cc:1197] [/device:CPU:0] (DEBUG INFO) Executor start aborting (this does not indicate an error and you can ignore this message): INVALID_ARGUMENT: You must feed a value for placeholder tensor 'gradients/split_grad/concat/split/split_dim' with dtype int32\n",
            "\t [[{{node gradients/split_grad/concat/split/split_dim}}]]\n",
            "2023-07-09 16:41:24.952284: I tensorflow/core/common_runtime/executor.cc:1197] [/device:CPU:0] (DEBUG INFO) Executor start aborting (this does not indicate an error and you can ignore this message): INVALID_ARGUMENT: You must feed a value for placeholder tensor 'gradients/split_1_grad/concat/split_1/split_dim' with dtype int32\n",
            "\t [[{{node gradients/split_1_grad/concat/split_1/split_dim}}]]\n",
            "2023-07-09 16:41:25.058273: I tensorflow/core/common_runtime/executor.cc:1197] [/device:CPU:0] (DEBUG INFO) Executor start aborting (this does not indicate an error and you can ignore this message): INVALID_ARGUMENT: You must feed a value for placeholder tensor 'gradients/split_2_grad/concat/split_2/split_dim' with dtype int32\n",
            "\t [[{{node gradients/split_2_grad/concat/split_2/split_dim}}]]\n",
            "2023-07-09 16:41:25.058995: I tensorflow/core/common_runtime/executor.cc:1197] [/device:CPU:0] (DEBUG INFO) Executor start aborting (this does not indicate an error and you can ignore this message): INVALID_ARGUMENT: You must feed a value for placeholder tensor 'gradients/split_grad/concat/split/split_dim' with dtype int32\n",
            "\t [[{{node gradients/split_grad/concat/split/split_dim}}]]\n",
            "2023-07-09 16:41:25.059551: I tensorflow/core/common_runtime/executor.cc:1197] [/device:CPU:0] (DEBUG INFO) Executor start aborting (this does not indicate an error and you can ignore this message): INVALID_ARGUMENT: You must feed a value for placeholder tensor 'gradients/split_1_grad/concat/split_1/split_dim' with dtype int32\n",
            "\t [[{{node gradients/split_1_grad/concat/split_1/split_dim}}]]\n",
            "2023-07-09 16:41:25.114963: I tensorflow/core/common_runtime/executor.cc:1197] [/device:CPU:0] (DEBUG INFO) Executor start aborting (this does not indicate an error and you can ignore this message): INVALID_ARGUMENT: You must feed a value for placeholder tensor 'gradients/ReverseV2_grad/ReverseV2/ReverseV2/axis' with dtype int32 and shape [1]\n",
            "\t [[{{node gradients/ReverseV2_grad/ReverseV2/ReverseV2/axis}}]]\n",
            "2023-07-09 16:41:25.134295: I tensorflow/core/common_runtime/executor.cc:1197] [/device:CPU:0] (DEBUG INFO) Executor start aborting (this does not indicate an error and you can ignore this message): INVALID_ARGUMENT: You must feed a value for placeholder tensor 'gradients/split_2_grad/concat/split_2/split_dim' with dtype int32\n",
            "\t [[{{node gradients/split_2_grad/concat/split_2/split_dim}}]]\n",
            "2023-07-09 16:41:25.134865: I tensorflow/core/common_runtime/executor.cc:1197] [/device:CPU:0] (DEBUG INFO) Executor start aborting (this does not indicate an error and you can ignore this message): INVALID_ARGUMENT: You must feed a value for placeholder tensor 'gradients/split_grad/concat/split/split_dim' with dtype int32\n",
            "\t [[{{node gradients/split_grad/concat/split/split_dim}}]]\n",
            "2023-07-09 16:41:25.135377: I tensorflow/core/common_runtime/executor.cc:1197] [/device:CPU:0] (DEBUG INFO) Executor start aborting (this does not indicate an error and you can ignore this message): INVALID_ARGUMENT: You must feed a value for placeholder tensor 'gradients/split_1_grad/concat/split_1/split_dim' with dtype int32\n",
            "\t [[{{node gradients/split_1_grad/concat/split_1/split_dim}}]]\n"
          ]
        },
        {
          "name": "stdout",
          "output_type": "stream",
          "text": [
            "Epoch 1/20\n"
          ]
        },
        {
          "name": "stderr",
          "output_type": "stream",
          "text": [
            "2023-07-09 16:41:25.548000: I tensorflow/core/common_runtime/executor.cc:1197] [/device:CPU:0] (DEBUG INFO) Executor start aborting (this does not indicate an error and you can ignore this message): INVALID_ARGUMENT: You must feed a value for placeholder tensor 'gradients/split_2_grad/concat/split_2/split_dim' with dtype int32\n",
            "\t [[{{node gradients/split_2_grad/concat/split_2/split_dim}}]]\n",
            "2023-07-09 16:41:25.548996: I tensorflow/core/common_runtime/executor.cc:1197] [/device:CPU:0] (DEBUG INFO) Executor start aborting (this does not indicate an error and you can ignore this message): INVALID_ARGUMENT: You must feed a value for placeholder tensor 'gradients/split_grad/concat/split/split_dim' with dtype int32\n",
            "\t [[{{node gradients/split_grad/concat/split/split_dim}}]]\n",
            "2023-07-09 16:41:25.549583: I tensorflow/core/common_runtime/executor.cc:1197] [/device:CPU:0] (DEBUG INFO) Executor start aborting (this does not indicate an error and you can ignore this message): INVALID_ARGUMENT: You must feed a value for placeholder tensor 'gradients/split_1_grad/concat/split_1/split_dim' with dtype int32\n",
            "\t [[{{node gradients/split_1_grad/concat/split_1/split_dim}}]]\n",
            "2023-07-09 16:41:25.608710: I tensorflow/core/common_runtime/executor.cc:1197] [/device:CPU:0] (DEBUG INFO) Executor start aborting (this does not indicate an error and you can ignore this message): INVALID_ARGUMENT: You must feed a value for placeholder tensor 'gradients/ReverseV2_grad/ReverseV2/ReverseV2/axis' with dtype int32 and shape [1]\n",
            "\t [[{{node gradients/ReverseV2_grad/ReverseV2/ReverseV2/axis}}]]\n",
            "2023-07-09 16:41:25.629812: I tensorflow/core/common_runtime/executor.cc:1197] [/device:CPU:0] (DEBUG INFO) Executor start aborting (this does not indicate an error and you can ignore this message): INVALID_ARGUMENT: You must feed a value for placeholder tensor 'gradients/split_2_grad/concat/split_2/split_dim' with dtype int32\n",
            "\t [[{{node gradients/split_2_grad/concat/split_2/split_dim}}]]\n",
            "2023-07-09 16:41:25.630432: I tensorflow/core/common_runtime/executor.cc:1197] [/device:CPU:0] (DEBUG INFO) Executor start aborting (this does not indicate an error and you can ignore this message): INVALID_ARGUMENT: You must feed a value for placeholder tensor 'gradients/split_grad/concat/split/split_dim' with dtype int32\n",
            "\t [[{{node gradients/split_grad/concat/split/split_dim}}]]\n",
            "2023-07-09 16:41:25.631007: I tensorflow/core/common_runtime/executor.cc:1197] [/device:CPU:0] (DEBUG INFO) Executor start aborting (this does not indicate an error and you can ignore this message): INVALID_ARGUMENT: You must feed a value for placeholder tensor 'gradients/split_1_grad/concat/split_1/split_dim' with dtype int32\n",
            "\t [[{{node gradients/split_1_grad/concat/split_1/split_dim}}]]\n",
            "2023-07-09 16:41:25.712099: I tensorflow/core/common_runtime/executor.cc:1197] [/device:CPU:0] (DEBUG INFO) Executor start aborting (this does not indicate an error and you can ignore this message): INVALID_ARGUMENT: You must feed a value for placeholder tensor 'gradients/split_2_grad/concat/split_2/split_dim' with dtype int32\n",
            "\t [[{{node gradients/split_2_grad/concat/split_2/split_dim}}]]\n",
            "2023-07-09 16:41:25.712751: I tensorflow/core/common_runtime/executor.cc:1197] [/device:CPU:0] (DEBUG INFO) Executor start aborting (this does not indicate an error and you can ignore this message): INVALID_ARGUMENT: You must feed a value for placeholder tensor 'gradients/split_grad/concat/split/split_dim' with dtype int32\n",
            "\t [[{{node gradients/split_grad/concat/split/split_dim}}]]\n",
            "2023-07-09 16:41:25.713346: I tensorflow/core/common_runtime/executor.cc:1197] [/device:CPU:0] (DEBUG INFO) Executor start aborting (this does not indicate an error and you can ignore this message): INVALID_ARGUMENT: You must feed a value for placeholder tensor 'gradients/split_1_grad/concat/split_1/split_dim' with dtype int32\n",
            "\t [[{{node gradients/split_1_grad/concat/split_1/split_dim}}]]\n",
            "2023-07-09 16:41:25.772441: I tensorflow/core/common_runtime/executor.cc:1197] [/device:CPU:0] (DEBUG INFO) Executor start aborting (this does not indicate an error and you can ignore this message): INVALID_ARGUMENT: You must feed a value for placeholder tensor 'gradients/ReverseV2_grad/ReverseV2/ReverseV2/axis' with dtype int32 and shape [1]\n",
            "\t [[{{node gradients/ReverseV2_grad/ReverseV2/ReverseV2/axis}}]]\n",
            "2023-07-09 16:41:25.793798: I tensorflow/core/common_runtime/executor.cc:1197] [/device:CPU:0] (DEBUG INFO) Executor start aborting (this does not indicate an error and you can ignore this message): INVALID_ARGUMENT: You must feed a value for placeholder tensor 'gradients/split_2_grad/concat/split_2/split_dim' with dtype int32\n",
            "\t [[{{node gradients/split_2_grad/concat/split_2/split_dim}}]]\n",
            "2023-07-09 16:41:25.794392: I tensorflow/core/common_runtime/executor.cc:1197] [/device:CPU:0] (DEBUG INFO) Executor start aborting (this does not indicate an error and you can ignore this message): INVALID_ARGUMENT: You must feed a value for placeholder tensor 'gradients/split_grad/concat/split/split_dim' with dtype int32\n",
            "\t [[{{node gradients/split_grad/concat/split/split_dim}}]]\n",
            "2023-07-09 16:41:25.795014: I tensorflow/core/common_runtime/executor.cc:1197] [/device:CPU:0] (DEBUG INFO) Executor start aborting (this does not indicate an error and you can ignore this message): INVALID_ARGUMENT: You must feed a value for placeholder tensor 'gradients/split_1_grad/concat/split_1/split_dim' with dtype int32\n",
            "\t [[{{node gradients/split_1_grad/concat/split_1/split_dim}}]]\n",
            "2023-07-09 16:41:25.861752: I tensorflow/core/common_runtime/executor.cc:1197] [/device:CPU:0] (DEBUG INFO) Executor start aborting (this does not indicate an error and you can ignore this message): INVALID_ARGUMENT: You must feed a value for placeholder tensor 'CTCLoss/scan/while/Fill/CTCLoss/stack_1' with dtype int32 and shape [1]\n",
            "\t [[{{node CTCLoss/scan/while/Fill/CTCLoss/stack_1}}]]\n",
            "2023-07-09 16:41:25.861790: I tensorflow/core/common_runtime/executor.cc:1197] [/device:CPU:0] (DEBUG INFO) Executor start aborting (this does not indicate an error and you can ignore this message): INVALID_ARGUMENT: You must feed a value for placeholder tensor 'CTCLoss/scan/while/Fill/CTCLoss/stack_1' with dtype int32 and shape [1]\n",
            "\t [[{{node CTCLoss/scan/while/Fill/CTCLoss/stack_1}}]]\n",
            "2023-07-09 16:41:26.066010: I tensorflow/core/common_runtime/executor.cc:1197] [/device:CPU:0] (DEBUG INFO) Executor start aborting (this does not indicate an error and you can ignore this message): INVALID_ARGUMENT: You must feed a value for placeholder tensor 'gradients/ReverseV2_grad/ReverseV2/ReverseV2/axis' with dtype int32 and shape [1]\n",
            "\t [[{{node gradients/ReverseV2_grad/ReverseV2/ReverseV2/axis}}]]\n",
            "2023-07-09 16:41:26.237675: I tensorflow/core/common_runtime/executor.cc:1197] [/device:CPU:0] (DEBUG INFO) Executor start aborting (this does not indicate an error and you can ignore this message): INVALID_ARGUMENT: You must feed a value for placeholder tensor 'gradients/ReverseV2_grad/ReverseV2/ReverseV2/axis' with dtype int32 and shape [1]\n",
            "\t [[{{node gradients/ReverseV2_grad/ReverseV2/ReverseV2/axis}}]]\n",
            "2023-07-09 16:41:26.391204: I tensorflow/core/common_runtime/executor.cc:1197] [/device:CPU:0] (DEBUG INFO) Executor start aborting (this does not indicate an error and you can ignore this message): INVALID_ARGUMENT: You must feed a value for placeholder tensor 'gradients/split_2_grad/concat/split_2/split_dim' with dtype int32\n",
            "\t [[{{node gradients/split_2_grad/concat/split_2/split_dim}}]]\n",
            "2023-07-09 16:41:26.392126: I tensorflow/core/common_runtime/executor.cc:1197] [/device:CPU:0] (DEBUG INFO) Executor start aborting (this does not indicate an error and you can ignore this message): INVALID_ARGUMENT: You must feed a value for placeholder tensor 'gradients/split_grad/concat/split/split_dim' with dtype int32\n",
            "\t [[{{node gradients/split_grad/concat/split/split_dim}}]]\n",
            "2023-07-09 16:41:26.392695: I tensorflow/core/common_runtime/executor.cc:1197] [/device:CPU:0] (DEBUG INFO) Executor start aborting (this does not indicate an error and you can ignore this message): INVALID_ARGUMENT: You must feed a value for placeholder tensor 'gradients/split_1_grad/concat/split_1/split_dim' with dtype int32\n",
            "\t [[{{node gradients/split_1_grad/concat/split_1/split_dim}}]]\n",
            "2023-07-09 16:41:26.451727: I tensorflow/core/common_runtime/executor.cc:1197] [/device:CPU:0] (DEBUG INFO) Executor start aborting (this does not indicate an error and you can ignore this message): INVALID_ARGUMENT: You must feed a value for placeholder tensor 'gradients/ReverseV2_grad/ReverseV2/ReverseV2/axis' with dtype int32 and shape [1]\n",
            "\t [[{{node gradients/ReverseV2_grad/ReverseV2/ReverseV2/axis}}]]\n",
            "2023-07-09 16:41:26.472846: I tensorflow/core/common_runtime/executor.cc:1197] [/device:CPU:0] (DEBUG INFO) Executor start aborting (this does not indicate an error and you can ignore this message): INVALID_ARGUMENT: You must feed a value for placeholder tensor 'gradients/split_2_grad/concat/split_2/split_dim' with dtype int32\n",
            "\t [[{{node gradients/split_2_grad/concat/split_2/split_dim}}]]\n",
            "2023-07-09 16:41:26.473476: I tensorflow/core/common_runtime/executor.cc:1197] [/device:CPU:0] (DEBUG INFO) Executor start aborting (this does not indicate an error and you can ignore this message): INVALID_ARGUMENT: You must feed a value for placeholder tensor 'gradients/split_grad/concat/split/split_dim' with dtype int32\n",
            "\t [[{{node gradients/split_grad/concat/split/split_dim}}]]\n",
            "2023-07-09 16:41:26.474058: I tensorflow/core/common_runtime/executor.cc:1197] [/device:CPU:0] (DEBUG INFO) Executor start aborting (this does not indicate an error and you can ignore this message): INVALID_ARGUMENT: You must feed a value for placeholder tensor 'gradients/split_1_grad/concat/split_1/split_dim' with dtype int32\n",
            "\t [[{{node gradients/split_1_grad/concat/split_1/split_dim}}]]\n",
            "2023-07-09 16:41:26.641823: I tensorflow/core/common_runtime/executor.cc:1197] [/device:CPU:0] (DEBUG INFO) Executor start aborting (this does not indicate an error and you can ignore this message): INVALID_ARGUMENT: You must feed a value for placeholder tensor 'gradients/split_2_grad/concat/split_2/split_dim' with dtype int32\n",
            "\t [[{{node gradients/split_2_grad/concat/split_2/split_dim}}]]\n",
            "2023-07-09 16:41:26.642831: I tensorflow/core/common_runtime/executor.cc:1197] [/device:CPU:0] (DEBUG INFO) Executor start aborting (this does not indicate an error and you can ignore this message): INVALID_ARGUMENT: You must feed a value for placeholder tensor 'gradients/split_grad/concat/split/split_dim' with dtype int32\n",
            "\t [[{{node gradients/split_grad/concat/split/split_dim}}]]\n",
            "2023-07-09 16:41:26.643453: I tensorflow/core/common_runtime/executor.cc:1197] [/device:CPU:0] (DEBUG INFO) Executor start aborting (this does not indicate an error and you can ignore this message): INVALID_ARGUMENT: You must feed a value for placeholder tensor 'gradients/split_1_grad/concat/split_1/split_dim' with dtype int32\n",
            "\t [[{{node gradients/split_1_grad/concat/split_1/split_dim}}]]\n",
            "2023-07-09 16:41:26.703141: I tensorflow/core/common_runtime/executor.cc:1197] [/device:CPU:0] (DEBUG INFO) Executor start aborting (this does not indicate an error and you can ignore this message): INVALID_ARGUMENT: You must feed a value for placeholder tensor 'gradients/ReverseV2_grad/ReverseV2/ReverseV2/axis' with dtype int32 and shape [1]\n",
            "\t [[{{node gradients/ReverseV2_grad/ReverseV2/ReverseV2/axis}}]]\n",
            "2023-07-09 16:41:26.724019: I tensorflow/core/common_runtime/executor.cc:1197] [/device:CPU:0] (DEBUG INFO) Executor start aborting (this does not indicate an error and you can ignore this message): INVALID_ARGUMENT: You must feed a value for placeholder tensor 'gradients/split_2_grad/concat/split_2/split_dim' with dtype int32\n",
            "\t [[{{node gradients/split_2_grad/concat/split_2/split_dim}}]]\n",
            "2023-07-09 16:41:26.724636: I tensorflow/core/common_runtime/executor.cc:1197] [/device:CPU:0] (DEBUG INFO) Executor start aborting (this does not indicate an error and you can ignore this message): INVALID_ARGUMENT: You must feed a value for placeholder tensor 'gradients/split_grad/concat/split/split_dim' with dtype int32\n",
            "\t [[{{node gradients/split_grad/concat/split/split_dim}}]]\n",
            "2023-07-09 16:41:26.725219: I tensorflow/core/common_runtime/executor.cc:1197] [/device:CPU:0] (DEBUG INFO) Executor start aborting (this does not indicate an error and you can ignore this message): INVALID_ARGUMENT: You must feed a value for placeholder tensor 'gradients/split_1_grad/concat/split_1/split_dim' with dtype int32\n",
            "\t [[{{node gradients/split_1_grad/concat/split_1/split_dim}}]]\n",
            "2023-07-09 16:41:26.759339: I tensorflow/core/common_runtime/executor.cc:1197] [/device:CPU:0] (DEBUG INFO) Executor start aborting (this does not indicate an error and you can ignore this message): INVALID_ARGUMENT: You must feed a value for placeholder tensor 'CTCLoss/scan/while/Fill/CTCLoss/stack_1' with dtype int32 and shape [1]\n",
            "\t [[{{node CTCLoss/scan/while/Fill/CTCLoss/stack_1}}]]\n",
            "2023-07-09 16:41:26.759388: I tensorflow/core/common_runtime/executor.cc:1197] [/device:CPU:0] (DEBUG INFO) Executor start aborting (this does not indicate an error and you can ignore this message): INVALID_ARGUMENT: You must feed a value for placeholder tensor 'CTCLoss/scan/while/Fill/CTCLoss/stack_1' with dtype int32 and shape [1]\n",
            "\t [[{{node CTCLoss/scan/while/Fill/CTCLoss/stack_1}}]]\n",
            "2023-07-09 16:41:26.962404: I tensorflow/core/common_runtime/executor.cc:1197] [/device:CPU:0] (DEBUG INFO) Executor start aborting (this does not indicate an error and you can ignore this message): INVALID_ARGUMENT: You must feed a value for placeholder tensor 'gradients/ReverseV2_grad/ReverseV2/ReverseV2/axis' with dtype int32 and shape [1]\n",
            "\t [[{{node gradients/ReverseV2_grad/ReverseV2/ReverseV2/axis}}]]\n",
            "2023-07-09 16:41:27.133170: I tensorflow/core/common_runtime/executor.cc:1197] [/device:CPU:0] (DEBUG INFO) Executor start aborting (this does not indicate an error and you can ignore this message): INVALID_ARGUMENT: You must feed a value for placeholder tensor 'gradients/ReverseV2_grad/ReverseV2/ReverseV2/axis' with dtype int32 and shape [1]\n",
            "\t [[{{node gradients/ReverseV2_grad/ReverseV2/ReverseV2/axis}}]]\n"
          ]
        },
        {
          "name": "stdout",
          "output_type": "stream",
          "text": [
            " 46/750 [>.............................] - ETA: 9:14 - loss: 21.6837"
          ]
        }
      ],
      "source": [
        "final_model = create_model()\n",
        "final_model.compile(optimizer=optimizer, loss=CTCLoss)\n",
        "final_model.fit(train, validation_data=test, epochs=epochs, callbacks=[checkpoint_callback, schedule_callback])"
      ],
      "id": "D_YovKZhUZ4_"
    },
    {
      "cell_type": "markdown",
      "metadata": {
        "id": "XseL2Ep46kbn"
      },
      "source": [
        "### Plot Predictions and Metrics"
      ],
      "id": "XseL2Ep46kbn"
    },
    {
      "cell_type": "markdown",
      "metadata": {
        "id": "JelX8zJ56kbo"
      },
      "source": [
        "Make a single prediction"
      ],
      "id": "JelX8zJ56kbo"
    },
    {
      "cell_type": "code",
      "execution_count": null,
      "metadata": {
        "id": "u8Rw_R5i6kbp"
      },
      "outputs": [],
      "source": [
        "test_data = test.as_numpy_iterator()\n",
        "final_sample = test_data.next()"
      ],
      "id": "u8Rw_R5i6kbp"
    },
    {
      "cell_type": "code",
      "execution_count": null,
      "metadata": {
        "id": "lPENP9Dn6kbp",
        "colab": {
          "base_uri": "https://localhost:8080/"
        },
        "outputId": "2820d3ca-8dcb-44d1-bb6b-1412904b7bb5"
      },
      "outputs": [
        {
          "output_type": "stream",
          "name": "stdout",
          "text": [
            "~~~~~~~~~~~~~~~~~~~~~~~~~~~~~~~~~~~~~~~~~~~~~~~~~~~~~~~~~~~~~~~~~~~~~~~~~~~~~~~~~~~~~~~~~~~~~~~~~~~~ REAL TEXT\n"
          ]
        }
      ],
      "source": [
        "print('~'*100, 'REAL TEXT')\n",
        "final_y_true = [tf.strings.reduce_join([num_to_char(word) for word in sentence]) for sentence in final_sample[1]]"
      ],
      "id": "lPENP9Dn6kbp"
    },
    {
      "cell_type": "code",
      "execution_count": null,
      "metadata": {
        "id": "pdPJ9W8n6kbq",
        "colab": {
          "base_uri": "https://localhost:8080/"
        },
        "outputId": "22a32f32-f0e2-459a-f902-f2aceb686cf7"
      },
      "outputs": [
        {
          "output_type": "stream",
          "name": "stdout",
          "text": [
            "1/1 [==============================] - 3s 3s/step\n"
          ]
        }
      ],
      "source": [
        "final_yhat = final_model.predict(final_sample[0])\n",
        "final_yhat_decoded = tf.keras.backend.ctc_decode(final_yhat, input_length=[75,75], greedy=True)[0][0].numpy()"
      ],
      "id": "pdPJ9W8n6kbq"
    },
    {
      "cell_type": "code",
      "execution_count": null,
      "metadata": {
        "id": "Ws7bTZxl6kbr",
        "colab": {
          "base_uri": "https://localhost:8080/"
        },
        "outputId": "87b48a43-715a-4922-df2d-b2d9a7550a8d"
      },
      "outputs": [
        {
          "output_type": "stream",
          "name": "stdout",
          "text": [
            "~~~~~~~~~~~~~~~~~~~~~~~~~~~~~~~~~~~~~~~~~~~~~~~~~~~~~~~~~~~~~~~~~~~~~~~~~~~~~~~~~~~~~~~~~~~~~~~~~~~~ PREDICTIONS\n"
          ]
        }
      ],
      "source": [
        "print('~'*100, 'PREDICTIONS')\n",
        "final_y_pred = [tf.strings.reduce_join([num_to_char(word) for word in sentence]) for sentence in final_yhat_decoded]"
      ],
      "id": "Ws7bTZxl6kbr"
    },
    {
      "cell_type": "markdown",
      "metadata": {
        "id": "whozkzvp6kbr"
      },
      "source": [
        "Convert the tensors to string for the accuracy calculations"
      ],
      "id": "whozkzvp6kbr"
    },
    {
      "cell_type": "code",
      "execution_count": null,
      "metadata": {
        "id": "f0vwL3-o6kbr",
        "colab": {
          "base_uri": "https://localhost:8080/"
        },
        "outputId": "fbde8f37-85c0-44ef-e0bd-3f6b2236c14e"
      },
      "outputs": [
        {
          "output_type": "stream",
          "name": "stdout",
          "text": [
            "['lay white in e three now', 'bin red by g zero now']\n",
            "['lay white it g thre now', 'bin red by z zero now']\n"
          ]
        }
      ],
      "source": [
        "final_y_true_string = tensors_to_strings(final_y_true)\n",
        "final_y_pred_string = tensors_to_strings(final_y_pred)\n",
        "print(final_y_true_string)\n",
        "print(final_y_pred_string)"
      ],
      "id": "f0vwL3-o6kbr"
    },
    {
      "cell_type": "markdown",
      "metadata": {
        "id": "DbqJNLzj6kbr"
      },
      "source": [
        "Accuracy using nlp"
      ],
      "id": "DbqJNLzj6kbr"
    },
    {
      "cell_type": "code",
      "execution_count": null,
      "metadata": {
        "id": "O0jg2Aq16kbr",
        "colab": {
          "base_uri": "https://localhost:8080/"
        },
        "outputId": "dd3ae22f-e49d-4e20-8d11-0a3db5412d90"
      },
      "outputs": [
        {
          "output_type": "stream",
          "name": "stdout",
          "text": [
            "0.8337835371494293\n"
          ]
        }
      ],
      "source": [
        "print(nlp_accuracy(final_y_true_string, final_y_pred_string))"
      ],
      "id": "O0jg2Aq16kbr"
    },
    {
      "cell_type": "markdown",
      "metadata": {
        "id": "AJ-D7dmk6kbs"
      },
      "source": [
        "Accuracy using Levenstein"
      ],
      "id": "AJ-D7dmk6kbs"
    },
    {
      "cell_type": "code",
      "execution_count": null,
      "metadata": {
        "id": "n7ZHJgGR6kbs",
        "colab": {
          "base_uri": "https://localhost:8080/"
        },
        "outputId": "926774bb-e7ca-4d41-f70e-6bcd1a8d0202"
      },
      "outputs": [
        {
          "output_type": "stream",
          "name": "stdout",
          "text": [
            "0.9136904761904762\n"
          ]
        }
      ],
      "source": [
        "print(levenstein_accuracy(final_y_true_string, final_y_pred_string))"
      ],
      "id": "n7ZHJgGR6kbs"
    },
    {
      "cell_type": "markdown",
      "metadata": {
        "id": "fvJpeMLo6kbs"
      },
      "source": [
        "Accuracy using wer and cer"
      ],
      "id": "fvJpeMLo6kbs"
    },
    {
      "cell_type": "code",
      "execution_count": null,
      "metadata": {
        "id": "m8OaETw56kbs",
        "colab": {
          "base_uri": "https://localhost:8080/"
        },
        "outputId": "a99501fb-6ad5-41f7-9d56-5f170191b92e"
      },
      "outputs": [
        {
          "output_type": "stream",
          "name": "stdout",
          "text": [
            "WER: 0.3333333333333333\n",
            "CER: 0.08630952380952381\n"
          ]
        }
      ],
      "source": [
        "wer, cer = wer_and_cer_accuracy(final_y_true_string, final_y_pred_string)\n",
        "print(\"WER: \" + str(wer))\n",
        "print(\"CER: \" + str(cer))"
      ],
      "id": "m8OaETw56kbs"
    },
    {
      "cell_type": "markdown",
      "metadata": {
        "id": "4kymxaESTDCX"
      },
      "source": [
        "# Save the Best Model"
      ],
      "id": "4kymxaESTDCX"
    },
    {
      "cell_type": "code",
      "execution_count": null,
      "metadata": {
        "id": "ARPmW5NAupdS"
      },
      "outputs": [],
      "source": [
        "saved_model = final_model"
      ],
      "id": "ARPmW5NAupdS"
    },
    {
      "cell_type": "code",
      "execution_count": null,
      "metadata": {
        "id": "v9XOB1-uNMi0"
      },
      "outputs": [],
      "source": [
        "saved_model.save('model_40e.h5')"
      ],
      "id": "v9XOB1-uNMi0"
    }
  ],
  "metadata": {
    "accelerator": "GPU",
    "colab": {
      "machine_shape": "hm",
      "provenance": [],
      "gpuType": "A100",
      "gpuClass": "premium",
      "toc_visible": true,
      "collapsed_sections": [
        "a3573a47-3689-4668-b62f-5c8451b2b4e9",
        "7a19e88e-c7b9-45c1-ae1e-f2109329c71b",
        "c40a7eb4-0c3e-4eab-9291-5611cb68ce08",
        "0f47733c-83bc-465c-b118-b198b492ad37",
        "Dz0iLM98StJI",
        "9L9R_-ZrSxoW",
        "cV8vJoqi440I",
        "4kymxaESTDCX"
      ]
    },
    "gpuClass": "premium",
    "kernelspec": {
      "display_name": "Python 3",
      "name": "python3"
    },
    "language_info": {
      "codemirror_mode": {
        "name": "ipython",
        "version": 3
      },
      "file_extension": ".py",
      "mimetype": "text/x-python",
      "name": "python",
      "nbconvert_exporter": "python",
      "pygments_lexer": "ipython3",
      "version": "3.8.10"
    }
  },
  "nbformat": 4,
  "nbformat_minor": 5
}
